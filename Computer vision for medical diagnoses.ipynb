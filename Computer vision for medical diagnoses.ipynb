{
 "cells": [
  {
   "cell_type": "markdown",
   "id": "8e9e7e40",
   "metadata": {},
   "source": [
    "# Udacity capstone project - Cancer classification using CNN's"
   ]
  },
  {
   "cell_type": "markdown",
   "id": "8cdfae16",
   "metadata": {},
   "source": [
    "## Project description "
   ]
  },
  {
   "cell_type": "markdown",
   "id": "c8fe789c",
   "metadata": {},
   "source": [
    "#### The aim of this project to build a model that can predict if images show cancerous tissue samples are not. As you will no doubt be aware, cancer is one of the leading causes of mortality in the developed world. Simultaneously, many western societies are facing ageing populations and a shortage of medical professionals. Against this background there are clear benefits to using automated methods of processing diagnostic images - although these should be complements to - and not substitutes for - medical expertise and professional judgement.\n",
    "\n",
    "#### This project will work with data on Invasive Ductal Carcinoma (IDC) -a form of breast cancer-  taken from the kaggle page here: https://www.kaggle.com/datasets/paultimothymooney/breast-histopathology-images. The data consists of images, each showing a 50 x 50 pixel region from a breast scan. I will process the data for analysis and then build a model that can distinguish cancerous sub-samples from non-cancerous ones. \n",
    "\n",
    "#### In this project I use a deep learning model that utilises Convolution Neural Networks (CNN's). A major advantage of working with CNN's is that they are the industry standard for computer vision and thus there are many tools predeicated on this method, with helpful documentation. Furthermore, they are designed specifically for image analysis. However, there are some alternative methods that I decided not to use. \n",
    "- One option is to use Recurrent Neural Networks, however these are more appropriate for sequences of information (i.e. there is a temporal dimension). This is why they are frequently used for tasks such as translation - where the order of the information is crucial to its meaning - and analysing videos whereas my data consists of non-sequential photos. Recurrent Neural Networks are also slower than CNN's, which could be an issue given that my final model will use a lot of data.\n",
    "- Restricted Boltzman models are another option that didn't seem appropriate for this task. This approach appears to be used more for modelling systems using unsupervised learning, although I understand that they can be used for classification tasks. With the data set used in this project labels are available, allowing us to train the model with supervised learning methods, which tend to be more accurate (if interested you can see the discussion here: https://www.ibm.com/cloud/blog/supervised-vs-unsupervised-learning#:~:text=While%20supervised%20learning%20models%20tend,weather%20conditions%20and%20so%20on.)\n",
    "\n",
    "#### In this notebook I will explore the data, prepare it for analysis and build a model. Building CNN's and tuning parameters is a process that requires logic but also some trial and error to find the model that's most appropriate to the data. As such, in this notebook I will work with a small subset of all the data available (around 1200 images). I will then run several models to find the best parameters and model architecture. I will explain my thinking to justify modifications to model hyperparameters as I go through the iterations."
   ]
  },
  {
   "cell_type": "markdown",
   "id": "9f866e20",
   "metadata": {},
   "source": [
    "### Packages\n"
   ]
  },
  {
   "cell_type": "code",
   "execution_count": 1,
   "id": "20de71df",
   "metadata": {},
   "outputs": [],
   "source": [
    "import os\n",
    "import pandas as pd\n",
    "import seaborn as sns\n",
    "import matplotlib.pyplot as plt\n",
    "import numpy as np\n",
    "from PIL import Image\n",
    "import re\n",
    "\n",
    "from sklearn.model_selection import train_test_split\n",
    "\n",
    "import tensorflow as tf\n",
    "from tensorflow.keras import layers\n",
    "from tensorflow.keras.models import Sequential\n",
    "from tensorflow.keras.layers import Dense, Dropout, Conv2D, MaxPool2D, Flatten\n",
    "\n",
    "from sklearn.model_selection import GridSearchCV\n",
    "from keras.wrappers.scikit_learn import KerasClassifier\n",
    "from keras.regularizers import l1\n",
    "\n",
    "from tensorflow.keras.preprocessing import image\n",
    "from sklearn.metrics import f1_score\n",
    "from sklearn.metrics import accuracy_score"
   ]
  },
  {
   "cell_type": "markdown",
   "id": "322315bf",
   "metadata": {},
   "source": [
    "### Read in data \n",
    "\n",
    "#### A point to note here is that the data is organised by its author in a way that makes it easier to manage computationally, however the way this has been done means that each folder ID is not unique to one patient (see this post https://www.kaggle.com/datasets/paultimothymooney/breast-histopathology-images/discussion/137446) . As a result, this notebook contains terms like 'pseudopatient' to reflect the fact the process being carried out would be useful when looking at individual patients, but that we cannot make inferences about individual patients based on this data."
   ]
  },
  {
   "cell_type": "markdown",
   "id": "a0356a59",
   "metadata": {},
   "source": [
    "#### The cells below does a few things, so let's break them down.\n",
    "\n",
    "#### In our data set each pseudopatient has their own folder containing two subfolders - one with non-cancerous samples (class0) and one with cancerous samples (class1). The first loop below uses os.walk() to iterate through the folders and subfolders to create a list of all the file names - called image_paths.\n",
    "\n",
    "#### The second loop goes through all of the filenames in image_path and for each one reads in the corresponding image file and saves it in a list called 'images'"
   ]
  },
  {
   "cell_type": "code",
   "execution_count": 2,
   "id": "4303396c",
   "metadata": {},
   "outputs": [],
   "source": [
    "root_dir = 'D:\\\\lori_python\\\\Udacity_Projects\\\\CNN_Breast_Cancer\\\\Sample_folder'\n",
    "image_paths = []\n",
    "images = []\n",
    "\n",
    "for dirpath, dirnames, filenames in os.walk(root_dir):\n",
    "    for filename in filenames:\n",
    "        full_path = os.path.join(dirpath, filename)\n",
    "        image_paths.append(full_path)"
   ]
  },
  {
   "cell_type": "code",
   "execution_count": 3,
   "id": "c31b5867",
   "metadata": {},
   "outputs": [],
   "source": [
    "for image_path in image_paths:\n",
    "    try:\n",
    "        img = Image.open(image_path)\n",
    "        images.append(img)\n",
    "    except IOError:\n",
    "        print(f\"Error: Could not read image {image_path}\")"
   ]
  },
  {
   "cell_type": "code",
   "execution_count": 137,
   "id": "11a453f1",
   "metadata": {},
   "outputs": [],
   "source": [
    "#images"
   ]
  },
  {
   "cell_type": "code",
   "execution_count": 5,
   "id": "843ebf21",
   "metadata": {},
   "outputs": [
    {
     "data": {
      "text/plain": [
       "1249"
      ]
     },
     "execution_count": 5,
     "metadata": {},
     "output_type": "execute_result"
    }
   ],
   "source": [
    "len(images)"
   ]
  },
  {
   "cell_type": "code",
   "execution_count": 138,
   "id": "4efbff80",
   "metadata": {},
   "outputs": [],
   "source": [
    "#image_paths"
   ]
  },
  {
   "cell_type": "code",
   "execution_count": 7,
   "id": "ef7a78b7",
   "metadata": {},
   "outputs": [
    {
     "data": {
      "text/plain": [
       "1249"
      ]
     },
     "execution_count": 7,
     "metadata": {},
     "output_type": "execute_result"
    }
   ],
   "source": [
    "len(image_paths)"
   ]
  },
  {
   "cell_type": "markdown",
   "id": "043fe5a7",
   "metadata": {},
   "source": [
    "### Preparing the data"
   ]
  },
  {
   "cell_type": "markdown",
   "id": "dc7e59c5",
   "metadata": {},
   "source": [
    "#### In this section we will:\n",
    "- Check if the dimensions of the images are consistent and either resize or drop images as necessary.\n",
    "- Create our classes data\n"
   ]
  },
  {
   "cell_type": "markdown",
   "id": "5968b14e",
   "metadata": {},
   "source": [
    "#### Lets's check out the first image in the dataset as an example"
   ]
  },
  {
   "cell_type": "code",
   "execution_count": 8,
   "id": "53a9a75b",
   "metadata": {},
   "outputs": [
    {
     "name": "stdout",
     "output_type": "stream",
     "text": [
      "image height and width: 50 50\n"
     ]
    }
   ],
   "source": [
    "example_image = images[0]\n",
    "\n",
    "height = example_image.height\n",
    "width = example_image.width\n",
    "\n",
    "print('image height and width:', height, width) # looks good"
   ]
  },
  {
   "cell_type": "markdown",
   "id": "0c5ee0a4",
   "metadata": {},
   "source": [
    "#### Now let's analyse all of the images. Note that the values returned are the index values for the images with dimensions other than 50 x 50. We can use this to see how many images deviate from the 50x50 dimensions.\n"
   ]
  },
  {
   "cell_type": "code",
   "execution_count": 9,
   "id": "7b66929d",
   "metadata": {},
   "outputs": [
    {
     "name": "stdout",
     "output_type": "stream",
     "text": [
      "[325]\n"
     ]
    }
   ],
   "source": [
    "heights_list = []\n",
    "widths_list = []\n",
    "\n",
    "for img in images:\n",
    "    heights_list.append(img.height)\n",
    "    widths_list.append(img.width)\n",
    "\n",
    "deviant_heights = [index for (index, item) in enumerate(heights_list) if item != 50]\n",
    "\n",
    "print(deviant_heights)"
   ]
  },
  {
   "cell_type": "markdown",
   "id": "8ea55032",
   "metadata": {},
   "source": [
    "#### By uncommenting 'images' above and scroling through the list we can see there is one image that has dimensions 50 x 1. This is possibly an error in data generation as the image is only one pixel tall. Now let's check the widths."
   ]
  },
  {
   "cell_type": "code",
   "execution_count": 10,
   "id": "f87907fc",
   "metadata": {},
   "outputs": [
    {
     "name": "stdout",
     "output_type": "stream",
     "text": [
      "[744, 745, 746]\n"
     ]
    }
   ],
   "source": [
    "deviant_widths = [index for (index, item) in enumerate(widths_list) if item != 50]\n",
    "\n",
    "print(deviant_widths)"
   ]
  },
  {
   "cell_type": "markdown",
   "id": "0e304341",
   "metadata": {},
   "source": [
    "#### Scrolling through the images list again these three images have dimensions 42x50 so are likely still useful.\n",
    "\n",
    "#### At this point we want to remove the 50 x 1 and resize the 42 x 50 images. However, thinking ahead if we remove the 50 x 1 image without removing it's corresponding file path in the image_paths list then this will lead to the images and classes data sets being inconsistent with each other. Let's remove the image path corresponding to the 50 x 1 image"
   ]
  },
  {
   "cell_type": "code",
   "execution_count": 11,
   "id": "d0b6e95e",
   "metadata": {},
   "outputs": [],
   "source": [
    "# Create a dictionary mapping images to file paths\n",
    "image_file_dict = dict(zip(map(str, images), image_paths))\n",
    "\n",
    "# Remove images from the data set\n",
    "filtered_images = [img for img in images if img.height >= 40]\n",
    "\n",
    "# Remove the corresponding file paths from the file_paths list\n",
    "filtered_paths = [image_file_dict[str(image)] for image in filtered_images]\n"
   ]
  },
  {
   "cell_type": "code",
   "execution_count": 12,
   "id": "6a55c6d3",
   "metadata": {},
   "outputs": [
    {
     "data": {
      "text/plain": [
       "1248"
      ]
     },
     "execution_count": 12,
     "metadata": {},
     "output_type": "execute_result"
    }
   ],
   "source": [
    "len(filtered_images)"
   ]
  },
  {
   "cell_type": "code",
   "execution_count": 13,
   "id": "5dffd3eb",
   "metadata": {},
   "outputs": [
    {
     "data": {
      "text/plain": [
       "1248"
      ]
     },
     "execution_count": 13,
     "metadata": {},
     "output_type": "execute_result"
    }
   ],
   "source": [
    "len(filtered_paths)"
   ]
  },
  {
   "cell_type": "markdown",
   "id": "54ae9ac2",
   "metadata": {},
   "source": [
    "#### Now to resize the remaining images"
   ]
  },
  {
   "cell_type": "code",
   "execution_count": 14,
   "id": "b4707619",
   "metadata": {},
   "outputs": [],
   "source": [
    "resized_images = []\n",
    "\n",
    "for img in filtered_images:\n",
    "    resz = img.resize((50, 50))\n",
    "    resized_images.append(resz)"
   ]
  },
  {
   "cell_type": "code",
   "execution_count": 15,
   "id": "a7e29c9d",
   "metadata": {},
   "outputs": [
    {
     "data": {
      "text/plain": [
       "1248"
      ]
     },
     "execution_count": 15,
     "metadata": {},
     "output_type": "execute_result"
    }
   ],
   "source": [
    "len(resized_images)"
   ]
  },
  {
   "cell_type": "markdown",
   "id": "c31e1515",
   "metadata": {},
   "source": [
    "#### We can repeat the process above to see if we have any images that aren't 50 x50"
   ]
  },
  {
   "cell_type": "code",
   "execution_count": 16,
   "id": "68cc8666",
   "metadata": {},
   "outputs": [
    {
     "name": "stdout",
     "output_type": "stream",
     "text": [
      "[]\n"
     ]
    }
   ],
   "source": [
    "heights_list = []\n",
    "widths_list = []\n",
    "\n",
    "for img in resized_images:\n",
    "    heights_list.append(img.height)\n",
    "    widths_list.append(img.width)\n",
    "\n",
    "deviant_heights = [index for (index, item) in enumerate(heights_list) if item != 50]\n",
    "\n",
    "print(deviant_heights)"
   ]
  },
  {
   "cell_type": "code",
   "execution_count": 17,
   "id": "e4848df2",
   "metadata": {},
   "outputs": [
    {
     "name": "stdout",
     "output_type": "stream",
     "text": [
      "[]\n"
     ]
    }
   ],
   "source": [
    "deviant_widths = [index for (index, item) in enumerate(widths_list) if item != 50]\n",
    "\n",
    "print(deviant_widths)"
   ]
  },
  {
   "cell_type": "markdown",
   "id": "45706ab9",
   "metadata": {},
   "source": [
    "#### Great! Now we're ready to create the classes data which will provide our labels in the CNN model.\n",
    "\n",
    "#### For each image we want to know the class; 0 for non-cancerous or 1 for cancerous. As this information is in the file names, we can get this by iterating through the strings in the file names and extracting the fifth-from-last digit. The data is then saved in a list called 'classes'"
   ]
  },
  {
   "cell_type": "code",
   "execution_count": 18,
   "id": "6fc237a5",
   "metadata": {},
   "outputs": [],
   "source": [
    "classes = []\n",
    "\n",
    "for name in filtered_paths:\n",
    "    diagnosis = name[-5]\n",
    "    classes.append(diagnosis)"
   ]
  },
  {
   "cell_type": "code",
   "execution_count": 20,
   "id": "c179bc84",
   "metadata": {},
   "outputs": [
    {
     "data": {
      "text/plain": [
       "1248"
      ]
     },
     "execution_count": 20,
     "metadata": {},
     "output_type": "execute_result"
    }
   ],
   "source": [
    "len(classes)"
   ]
  },
  {
   "cell_type": "markdown",
   "id": "4dc550cd",
   "metadata": {},
   "source": [
    "### Understanding the data"
   ]
  },
  {
   "cell_type": "markdown",
   "id": "53db4af3",
   "metadata": {},
   "source": [
    "#### Now let's try to understand the data a bit better. In this section I will:\n",
    "- Compare the number of cancerous and non-cancerous samples in our data set and check the data is a balanced.\n",
    "- See if the number of samples is consistent across pseudopatients. If this code ever gets applied to data with individual patient ID's then this would be a nice check to include.\n",
    "- Actually look at the images we have to get an idea of distinguishes cancerous and non-cancerous samples"
   ]
  },
  {
   "cell_type": "markdown",
   "id": "afd30abf",
   "metadata": {},
   "source": [
    "#### To see if the labels data is balanced, I will make the classes variable into a pandas dataframe and use the value_counts method."
   ]
  },
  {
   "cell_type": "code",
   "execution_count": 21,
   "id": "454b8225",
   "metadata": {},
   "outputs": [],
   "source": [
    "diagnosis_df= pd.DataFrame({'class': classes})"
   ]
  },
  {
   "cell_type": "code",
   "execution_count": 22,
   "id": "dc9e2ba3",
   "metadata": {},
   "outputs": [
    {
     "data": {
      "text/html": [
       "<div>\n",
       "<style scoped>\n",
       "    .dataframe tbody tr th:only-of-type {\n",
       "        vertical-align: middle;\n",
       "    }\n",
       "\n",
       "    .dataframe tbody tr th {\n",
       "        vertical-align: top;\n",
       "    }\n",
       "\n",
       "    .dataframe thead th {\n",
       "        text-align: right;\n",
       "    }\n",
       "</style>\n",
       "<table border=\"1\" class=\"dataframe\">\n",
       "  <thead>\n",
       "    <tr style=\"text-align: right;\">\n",
       "      <th></th>\n",
       "      <th>class</th>\n",
       "    </tr>\n",
       "  </thead>\n",
       "  <tbody>\n",
       "    <tr>\n",
       "      <th>0</th>\n",
       "      <td>0</td>\n",
       "    </tr>\n",
       "    <tr>\n",
       "      <th>1</th>\n",
       "      <td>0</td>\n",
       "    </tr>\n",
       "    <tr>\n",
       "      <th>2</th>\n",
       "      <td>0</td>\n",
       "    </tr>\n",
       "    <tr>\n",
       "      <th>3</th>\n",
       "      <td>0</td>\n",
       "    </tr>\n",
       "    <tr>\n",
       "      <th>4</th>\n",
       "      <td>0</td>\n",
       "    </tr>\n",
       "  </tbody>\n",
       "</table>\n",
       "</div>"
      ],
      "text/plain": [
       "  class\n",
       "0     0\n",
       "1     0\n",
       "2     0\n",
       "3     0\n",
       "4     0"
      ]
     },
     "execution_count": 22,
     "metadata": {},
     "output_type": "execute_result"
    }
   ],
   "source": [
    "diagnosis_df.head()"
   ]
  },
  {
   "cell_type": "code",
   "execution_count": 23,
   "id": "ca279c3d",
   "metadata": {},
   "outputs": [
    {
     "data": {
      "text/plain": [
       "1248"
      ]
     },
     "execution_count": 23,
     "metadata": {},
     "output_type": "execute_result"
    }
   ],
   "source": [
    "len(diagnosis_df)"
   ]
  },
  {
   "cell_type": "code",
   "execution_count": 24,
   "id": "3fb75450",
   "metadata": {},
   "outputs": [
    {
     "data": {
      "text/plain": [
       "<AxesSubplot:xlabel='class'>"
      ]
     },
     "execution_count": 24,
     "metadata": {},
     "output_type": "execute_result"
    },
    {
     "data": {
      "image/png": "[encoded data removed]",
      "text/plain": [
       "<Figure size 432x288 with 1 Axes>"
      ]
     },
     "metadata": {
      "needs_background": "light"
     },
     "output_type": "display_data"
    }
   ],
   "source": [
    "colors = ['orange', 'steelblue']\n",
    "diagnosis_df.value_counts().plot(kind='bar', color=colors)"
   ]
  },
  {
   "cell_type": "code",
   "execution_count": 25,
   "id": "863a120c",
   "metadata": {},
   "outputs": [
    {
     "data": {
      "text/plain": [
       "class\n",
       "0        704\n",
       "1        544\n",
       "dtype: int64"
      ]
     },
     "execution_count": 25,
     "metadata": {},
     "output_type": "execute_result"
    }
   ],
   "source": [
    "diagnosis_df.value_counts()"
   ]
  },
  {
   "cell_type": "markdown",
   "id": "c383d44b",
   "metadata": {},
   "source": [
    "#### In our data we have a small majority of non-cancerous samples, though this looks like there are enough observations in each class for a model to be trained on the data. Now as a quick QA, let's see if the number of samples is similar for each 'patient'. Given the previous discussion about how each ID doesn't reflect a unique patient in this data set we don't need to worry if there is an imbalance, but in reality this could provide a useful check that health practitioners have carried out the data generating process correctly."
   ]
  },
  {
   "cell_type": "markdown",
   "id": "2854b7d8",
   "metadata": {},
   "source": [
    "#### Originally I intended to extract ID numbers from the file names using slicing again. However the file names are of different lengths, meaning that using regular expressions was a better approach here"
   ]
  },
  {
   "cell_type": "code",
   "execution_count": 26,
   "id": "30c61a04",
   "metadata": {},
   "outputs": [],
   "source": [
    "pattern = r\"\\\\(\\d+)_\"\n",
    "id = []\n",
    "\n",
    "for name in image_paths:\n",
    "    match = re.search(pattern, name)\n",
    "    if match:\n",
    "        id_number = match.group(1)\n",
    "        id.append(id_number)\n"
   ]
  },
  {
   "cell_type": "code",
   "execution_count": 28,
   "id": "fd1b454e",
   "metadata": {},
   "outputs": [],
   "source": [
    "id = pd.DataFrame({'id_no': id})"
   ]
  },
  {
   "cell_type": "code",
   "execution_count": 29,
   "id": "9a9f72d1",
   "metadata": {},
   "outputs": [
    {
     "data": {
      "text/html": [
       "<div>\n",
       "<style scoped>\n",
       "    .dataframe tbody tr th:only-of-type {\n",
       "        vertical-align: middle;\n",
       "    }\n",
       "\n",
       "    .dataframe tbody tr th {\n",
       "        vertical-align: top;\n",
       "    }\n",
       "\n",
       "    .dataframe thead th {\n",
       "        text-align: right;\n",
       "    }\n",
       "</style>\n",
       "<table border=\"1\" class=\"dataframe\">\n",
       "  <thead>\n",
       "    <tr style=\"text-align: right;\">\n",
       "      <th></th>\n",
       "      <th>id_no</th>\n",
       "    </tr>\n",
       "  </thead>\n",
       "  <tbody>\n",
       "    <tr>\n",
       "      <th>0</th>\n",
       "      <td>12241</td>\n",
       "    </tr>\n",
       "    <tr>\n",
       "      <th>1</th>\n",
       "      <td>12241</td>\n",
       "    </tr>\n",
       "    <tr>\n",
       "      <th>2</th>\n",
       "      <td>12241</td>\n",
       "    </tr>\n",
       "    <tr>\n",
       "      <th>3</th>\n",
       "      <td>12241</td>\n",
       "    </tr>\n",
       "    <tr>\n",
       "      <th>4</th>\n",
       "      <td>12241</td>\n",
       "    </tr>\n",
       "    <tr>\n",
       "      <th>...</th>\n",
       "      <td>...</td>\n",
       "    </tr>\n",
       "    <tr>\n",
       "      <th>1244</th>\n",
       "      <td>12242</td>\n",
       "    </tr>\n",
       "    <tr>\n",
       "      <th>1245</th>\n",
       "      <td>12242</td>\n",
       "    </tr>\n",
       "    <tr>\n",
       "      <th>1246</th>\n",
       "      <td>12242</td>\n",
       "    </tr>\n",
       "    <tr>\n",
       "      <th>1247</th>\n",
       "      <td>12242</td>\n",
       "    </tr>\n",
       "    <tr>\n",
       "      <th>1248</th>\n",
       "      <td>12242</td>\n",
       "    </tr>\n",
       "  </tbody>\n",
       "</table>\n",
       "<p>1249 rows × 1 columns</p>\n",
       "</div>"
      ],
      "text/plain": [
       "      id_no\n",
       "0     12241\n",
       "1     12241\n",
       "2     12241\n",
       "3     12241\n",
       "4     12241\n",
       "...     ...\n",
       "1244  12242\n",
       "1245  12242\n",
       "1246  12242\n",
       "1247  12242\n",
       "1248  12242\n",
       "\n",
       "[1249 rows x 1 columns]"
      ]
     },
     "execution_count": 29,
     "metadata": {},
     "output_type": "execute_result"
    }
   ],
   "source": [
    "id"
   ]
  },
  {
   "cell_type": "code",
   "execution_count": 30,
   "id": "cc6fb90d",
   "metadata": {},
   "outputs": [
    {
     "data": {
      "text/plain": [
       "id_no\n",
       "12242    1097\n",
       "12241     152\n",
       "dtype: int64"
      ]
     },
     "execution_count": 30,
     "metadata": {},
     "output_type": "execute_result"
    }
   ],
   "source": [
    "id.value_counts()"
   ]
  },
  {
   "cell_type": "markdown",
   "id": "20feaea5",
   "metadata": {},
   "source": [
    "#### To get an idea of what kind of images we're dealing with, let's plot a few. Below we have 4 non-cancerous samples and 4 cancerous ones. At a glance there are some differences - for example the cancerous samples tend to have denser blocks of darker pixels, whereas the non-cancerous ones tend to have swirls or abstract patterns to them. However, looking at the right-most non-cancerous sample, this has some characteristics of a cancerous sample. For a experienced professional it might be possible to reliably distinguish between the classes by looking at the images, though I doubt many other people could."
   ]
  },
  {
   "cell_type": "code",
   "execution_count": 31,
   "id": "c0f38b83",
   "metadata": {},
   "outputs": [
    {
     "data": {
      "image/png": "[encoded data removed]",
      "text/plain": [
       "<Figure size 1296x1296 with 4 Axes>"
      ]
     },
     "metadata": {},
     "output_type": "display_data"
    }
   ],
   "source": [
    "fig = plt.figure(figsize=(18,18))\n",
    "for i in range(4):\n",
    "    ax = fig.add_subplot(1, 4, i + 1, xticks=[], yticks=[])\n",
    "    ax.imshow(resized_images[i])\n",
    "    ax.set_title('class {}'.format(classes[i]))"
   ]
  },
  {
   "cell_type": "code",
   "execution_count": 32,
   "id": "e2274bde",
   "metadata": {},
   "outputs": [
    {
     "data": {
      "image/png": "[encoded data removed]",
      "text/plain": [
       "<Figure size 1296x1296 with 4 Axes>"
      ]
     },
     "metadata": {},
     "output_type": "display_data"
    }
   ],
   "source": [
    "fig = plt.figure(figsize=(18,18))\n",
    "for i in range(51, 55):\n",
    "    ax = fig.add_subplot(1, 4, i - 50, xticks=[], yticks=[])\n",
    "    ax.imshow(resized_images[i])\n",
    "    ax.set_title('class {}'.format(classes[i]))"
   ]
  },
  {
   "cell_type": "markdown",
   "id": "15d37be2",
   "metadata": {},
   "source": [
    "## Modelling"
   ]
  },
  {
   "cell_type": "markdown",
   "id": "164fb704",
   "metadata": {},
   "source": [
    "#### In this section I will:\n",
    "- Perform some final checks on my data\n",
    "- Create my training and test data sets\n",
    "- Run a simple model which I will then refine to find the best performing interation of the model"
   ]
  },
  {
   "cell_type": "markdown",
   "id": "d9215f8a",
   "metadata": {},
   "source": [
    "#### Both inputs need to be defined as np arrays"
   ]
  },
  {
   "cell_type": "code",
   "execution_count": 33,
   "id": "7a6e3dbb",
   "metadata": {},
   "outputs": [],
   "source": [
    "classes = np.array(classes)\n",
    "classes= classes.astype(int)"
   ]
  },
  {
   "cell_type": "code",
   "execution_count": 34,
   "id": "e5b5488c",
   "metadata": {},
   "outputs": [],
   "source": [
    "image_data = np.array([image.img_to_array(img) for img in resized_images])"
   ]
  },
  {
   "cell_type": "code",
   "execution_count": 35,
   "id": "641cdd74",
   "metadata": {},
   "outputs": [
    {
     "data": {
      "text/plain": [
       "numpy.ndarray"
      ]
     },
     "execution_count": 35,
     "metadata": {},
     "output_type": "execute_result"
    }
   ],
   "source": [
    "type(classes)"
   ]
  },
  {
   "cell_type": "code",
   "execution_count": 36,
   "id": "81b62767",
   "metadata": {},
   "outputs": [
    {
     "data": {
      "text/plain": [
       "array([0, 0, 0, ..., 1, 1, 1])"
      ]
     },
     "execution_count": 36,
     "metadata": {},
     "output_type": "execute_result"
    }
   ],
   "source": [
    "classes"
   ]
  },
  {
   "cell_type": "code",
   "execution_count": 37,
   "id": "4ab7192f",
   "metadata": {},
   "outputs": [
    {
     "data": {
      "text/plain": [
       "dtype('int32')"
      ]
     },
     "execution_count": 37,
     "metadata": {},
     "output_type": "execute_result"
    }
   ],
   "source": [
    "classes.dtype"
   ]
  },
  {
   "cell_type": "code",
   "execution_count": 38,
   "id": "db2d49ab",
   "metadata": {},
   "outputs": [
    {
     "data": {
      "text/plain": [
       "array([0, 1])"
      ]
     },
     "execution_count": 38,
     "metadata": {},
     "output_type": "execute_result"
    }
   ],
   "source": [
    "np.unique(classes)"
   ]
  },
  {
   "cell_type": "code",
   "execution_count": 39,
   "id": "bbf7a377",
   "metadata": {},
   "outputs": [],
   "source": [
    "# Vanishing gradients need to be considered"
   ]
  },
  {
   "cell_type": "markdown",
   "id": "2c1c7b18",
   "metadata": {},
   "source": [
    "#### Create training, validation and test datasets. Note that I am using train_test_split twice here. Once to create the train and test data, then a second time to allocate some of the training data to a validation set that can be used to monitor how well the model generalises to unseen data in each training epoch. I have used the random_state parameter to ensure the same images are allocated to each dataset whenever this code is run."
   ]
  },
  {
   "cell_type": "code",
   "execution_count": 40,
   "id": "b6a4912a",
   "metadata": {},
   "outputs": [],
   "source": [
    "X_train, X_test, Y_train, Y_test = train_test_split (image_data, classes, test_size = 0.3, random_state=101)"
   ]
  },
  {
   "cell_type": "code",
   "execution_count": 41,
   "id": "dfc80580",
   "metadata": {},
   "outputs": [],
   "source": [
    "X_train, X_val, Y_train, Y_val = train_test_split(X_train, Y_train, test_size=0.2, random_state=101)"
   ]
  },
  {
   "cell_type": "code",
   "execution_count": 42,
   "id": "632ef476",
   "metadata": {},
   "outputs": [
    {
     "data": {
      "text/plain": [
       "1248"
      ]
     },
     "execution_count": 42,
     "metadata": {},
     "output_type": "execute_result"
    }
   ],
   "source": [
    "len(image_data)"
   ]
  },
  {
   "cell_type": "code",
   "execution_count": 43,
   "id": "5c171652",
   "metadata": {},
   "outputs": [
    {
     "data": {
      "text/plain": [
       "375"
      ]
     },
     "execution_count": 43,
     "metadata": {},
     "output_type": "execute_result"
    }
   ],
   "source": [
    "len(X_test)"
   ]
  },
  {
   "cell_type": "code",
   "execution_count": 44,
   "id": "d17c2672",
   "metadata": {},
   "outputs": [
    {
     "data": {
      "text/plain": [
       "698"
      ]
     },
     "execution_count": 44,
     "metadata": {},
     "output_type": "execute_result"
    }
   ],
   "source": [
    "len(X_train)"
   ]
  },
  {
   "cell_type": "code",
   "execution_count": 45,
   "id": "bf6a6f98",
   "metadata": {},
   "outputs": [
    {
     "data": {
      "text/plain": [
       "175"
      ]
     },
     "execution_count": 45,
     "metadata": {},
     "output_type": "execute_result"
    }
   ],
   "source": [
    "len(X_val)"
   ]
  },
  {
   "cell_type": "code",
   "execution_count": 46,
   "id": "9c53554b",
   "metadata": {},
   "outputs": [
    {
     "data": {
      "text/plain": [
       "698"
      ]
     },
     "execution_count": 46,
     "metadata": {},
     "output_type": "execute_result"
    }
   ],
   "source": [
    "len(Y_train)"
   ]
  },
  {
   "cell_type": "code",
   "execution_count": 47,
   "id": "e95b22ae",
   "metadata": {},
   "outputs": [
    {
     "data": {
      "text/plain": [
       "375"
      ]
     },
     "execution_count": 47,
     "metadata": {},
     "output_type": "execute_result"
    }
   ],
   "source": [
    "len(Y_test)"
   ]
  },
  {
   "cell_type": "code",
   "execution_count": 48,
   "id": "2d2043ec",
   "metadata": {},
   "outputs": [
    {
     "data": {
      "text/plain": [
       "175"
      ]
     },
     "execution_count": 48,
     "metadata": {},
     "output_type": "execute_result"
    }
   ],
   "source": [
    "len(Y_val)"
   ]
  },
  {
   "cell_type": "code",
   "execution_count": null,
   "id": "56c1cf19",
   "metadata": {},
   "outputs": [],
   "source": []
  },
  {
   "cell_type": "code",
   "execution_count": 49,
   "id": "9176683a",
   "metadata": {},
   "outputs": [],
   "source": [
    "X_shape = X_train.shape"
   ]
  },
  {
   "cell_type": "markdown",
   "id": "7f578bb7",
   "metadata": {},
   "source": [
    "#### Build model - below is about the most basic model that can be used for this problem. Maybe its also the most appropriate, but that needs to be tested.\n",
    "\n",
    "#### A note on some of the hyperparameters chosen. A heuristic that I came across for size of the filter in the convolutional layer is that if you think model needs to learn small details then you need smaller filters. However if identifying broader features will do the trick then can use a larger filter. In this case the images are relatively low res, plus the difference  between a cancerous and non-cancerous sample seems to be a matter of broad patterns, thus I have selected a relatively large window size.\n",
    "#### I've also started with 16 filters as these should cover most basic shapes and blob detection, however I will experiment with this hyperparameter later."
   ]
  },
  {
   "cell_type": "code",
   "execution_count": 50,
   "id": "ba200736",
   "metadata": {},
   "outputs": [],
   "source": [
    "model = Sequential()\n",
    "model.add(Conv2D(filters = 16,  \n",
    "                 kernel_size = 5, \n",
    "                 strides = (2, 2), \n",
    "                 padding = 'same', \n",
    "                 activation = 'relu')) \n",
    "model.add(MaxPool2D (pool_size = 2,\n",
    "                    strides = (2,2),\n",
    "                    padding = 'same'))\n",
    "model.add(Flatten())\n",
    "model.add(Dense(250, activation = 'relu', input_shape = X_shape))\n",
    "model.add(Dropout(0.3))\n",
    "model.add(Dense(1, activation = 'sigmoid'))"
   ]
  },
  {
   "cell_type": "markdown",
   "id": "9502a2b3",
   "metadata": {},
   "source": [
    "#### Compiling the model\n",
    "#### I have selected binary cross entropy as this is the appropriate loss function for binary classification tasks. 'Adam' is a decent all-purpose optimizer so worth trying initially. It is possible to have sparse data from our images so can then compare to using rmsprop, which is well suited to such data"
   ]
  },
  {
   "cell_type": "code",
   "execution_count": 51,
   "id": "6ed1a72d",
   "metadata": {},
   "outputs": [],
   "source": [
    "model.compile(loss='binary_crossentropy', optimizer ='adam', metrics=['accuracy'] )"
   ]
  },
  {
   "cell_type": "markdown",
   "id": "9012d774",
   "metadata": {},
   "source": [
    "#### Fit model"
   ]
  },
  {
   "cell_type": "code",
   "execution_count": 52,
   "id": "4c3fcf37",
   "metadata": {},
   "outputs": [
    {
     "name": "stdout",
     "output_type": "stream",
     "text": [
      "Epoch 1/50\n",
      "22/22 [==============================] - 1s 22ms/step - loss: 41.2213 - accuracy: 0.5401 - val_loss: 2.3884 - val_accuracy: 0.5371\n",
      "Epoch 2/50\n",
      "22/22 [==============================] - 0s 13ms/step - loss: 1.2642 - accuracy: 0.5415 - val_loss: 0.6815 - val_accuracy: 0.5486\n",
      "Epoch 3/50\n",
      "22/22 [==============================] - 0s 12ms/step - loss: 0.7269 - accuracy: 0.5516 - val_loss: 0.6482 - val_accuracy: 0.6000\n",
      "Epoch 4/50\n",
      "22/22 [==============================] - 0s 12ms/step - loss: 0.6810 - accuracy: 0.5874 - val_loss: 0.6320 - val_accuracy: 0.6286\n",
      "Epoch 5/50\n",
      "22/22 [==============================] - 0s 12ms/step - loss: 0.6294 - accuracy: 0.6203 - val_loss: 0.5908 - val_accuracy: 0.6629\n",
      "Epoch 6/50\n",
      "22/22 [==============================] - 0s 13ms/step - loss: 0.5994 - accuracy: 0.6289 - val_loss: 0.6148 - val_accuracy: 0.6629\n",
      "Epoch 7/50\n",
      "22/22 [==============================] - 0s 12ms/step - loss: 0.5839 - accuracy: 0.6461 - val_loss: 0.6275 - val_accuracy: 0.6286\n",
      "Epoch 8/50\n",
      "22/22 [==============================] - 0s 13ms/step - loss: 0.5701 - accuracy: 0.6920 - val_loss: 0.5793 - val_accuracy: 0.6686\n",
      "Epoch 9/50\n",
      "22/22 [==============================] - 0s 13ms/step - loss: 0.5078 - accuracy: 0.7221 - val_loss: 0.5648 - val_accuracy: 0.6686\n",
      "Epoch 10/50\n",
      "22/22 [==============================] - 0s 13ms/step - loss: 0.5194 - accuracy: 0.7350 - val_loss: 0.6261 - val_accuracy: 0.6286\n",
      "Epoch 11/50\n",
      "22/22 [==============================] - 0s 13ms/step - loss: 0.5334 - accuracy: 0.7120 - val_loss: 0.6838 - val_accuracy: 0.5543\n",
      "Epoch 12/50\n",
      "22/22 [==============================] - 0s 12ms/step - loss: 0.5396 - accuracy: 0.7006 - val_loss: 0.6596 - val_accuracy: 0.5943\n",
      "Epoch 13/50\n",
      "22/22 [==============================] - 0s 13ms/step - loss: 0.5343 - accuracy: 0.7264 - val_loss: 0.6286 - val_accuracy: 0.6114\n",
      "Epoch 14/50\n",
      "22/22 [==============================] - 0s 12ms/step - loss: 0.5121 - accuracy: 0.7249 - val_loss: 0.6206 - val_accuracy: 0.6343\n",
      "Epoch 15/50\n",
      "22/22 [==============================] - 0s 13ms/step - loss: 0.4849 - accuracy: 0.7650 - val_loss: 0.6486 - val_accuracy: 0.6686\n",
      "Epoch 16/50\n",
      "22/22 [==============================] - 0s 12ms/step - loss: 0.4739 - accuracy: 0.7822 - val_loss: 0.7498 - val_accuracy: 0.5429\n",
      "Epoch 17/50\n",
      "22/22 [==============================] - 0s 13ms/step - loss: 0.3802 - accuracy: 0.8252 - val_loss: 0.6708 - val_accuracy: 0.6229\n",
      "Epoch 18/50\n",
      "22/22 [==============================] - 0s 12ms/step - loss: 0.3937 - accuracy: 0.8266 - val_loss: 0.7063 - val_accuracy: 0.6171\n",
      "Epoch 19/50\n",
      "22/22 [==============================] - 0s 13ms/step - loss: 0.3520 - accuracy: 0.8510 - val_loss: 0.7338 - val_accuracy: 0.6000\n",
      "Epoch 20/50\n",
      "22/22 [==============================] - 0s 12ms/step - loss: 0.3851 - accuracy: 0.8309 - val_loss: 0.6946 - val_accuracy: 0.6229\n",
      "Epoch 21/50\n",
      "22/22 [==============================] - 0s 13ms/step - loss: 0.3388 - accuracy: 0.8496 - val_loss: 0.7024 - val_accuracy: 0.6171\n",
      "Epoch 22/50\n",
      "22/22 [==============================] - 0s 12ms/step - loss: 0.3631 - accuracy: 0.8438 - val_loss: 0.7059 - val_accuracy: 0.6229\n",
      "Epoch 23/50\n",
      "22/22 [==============================] - 0s 13ms/step - loss: 0.3483 - accuracy: 0.8510 - val_loss: 0.7324 - val_accuracy: 0.6114\n",
      "Epoch 24/50\n",
      "22/22 [==============================] - 0s 14ms/step - loss: 0.4284 - accuracy: 0.7808 - val_loss: 0.6970 - val_accuracy: 0.6400\n",
      "Epoch 25/50\n",
      "22/22 [==============================] - 0s 13ms/step - loss: 0.3831 - accuracy: 0.8410 - val_loss: 0.8051 - val_accuracy: 0.6286\n",
      "Epoch 26/50\n",
      "22/22 [==============================] - 0s 13ms/step - loss: 0.3648 - accuracy: 0.8424 - val_loss: 0.7925 - val_accuracy: 0.6514\n",
      "Epoch 27/50\n",
      "22/22 [==============================] - 0s 13ms/step - loss: 0.3246 - accuracy: 0.8596 - val_loss: 0.7871 - val_accuracy: 0.6343\n",
      "Epoch 28/50\n",
      "22/22 [==============================] - 0s 14ms/step - loss: 0.3235 - accuracy: 0.8625 - val_loss: 0.9755 - val_accuracy: 0.6057\n",
      "Epoch 29/50\n",
      "22/22 [==============================] - 0s 13ms/step - loss: 0.3139 - accuracy: 0.8625 - val_loss: 0.9665 - val_accuracy: 0.5943\n",
      "Epoch 30/50\n",
      "22/22 [==============================] - 0s 12ms/step - loss: 0.3155 - accuracy: 0.8739 - val_loss: 0.8863 - val_accuracy: 0.6171\n",
      "Epoch 31/50\n",
      "22/22 [==============================] - 0s 13ms/step - loss: 0.2489 - accuracy: 0.9126 - val_loss: 1.0685 - val_accuracy: 0.6000\n",
      "Epoch 32/50\n",
      "22/22 [==============================] - 0s 13ms/step - loss: 0.2530 - accuracy: 0.8926 - val_loss: 0.9391 - val_accuracy: 0.6057\n",
      "Epoch 33/50\n",
      "22/22 [==============================] - 0s 12ms/step - loss: 0.2652 - accuracy: 0.9054 - val_loss: 1.0191 - val_accuracy: 0.6057\n",
      "Epoch 34/50\n",
      "22/22 [==============================] - 0s 12ms/step - loss: 0.2269 - accuracy: 0.9112 - val_loss: 1.0857 - val_accuracy: 0.5943\n",
      "Epoch 35/50\n",
      "22/22 [==============================] - 0s 13ms/step - loss: 0.2056 - accuracy: 0.9341 - val_loss: 1.0556 - val_accuracy: 0.6229\n",
      "Epoch 36/50\n",
      "22/22 [==============================] - 0s 12ms/step - loss: 0.2047 - accuracy: 0.9226 - val_loss: 0.9619 - val_accuracy: 0.6286\n",
      "Epoch 37/50\n",
      "22/22 [==============================] - 0s 12ms/step - loss: 0.1764 - accuracy: 0.9398 - val_loss: 1.2708 - val_accuracy: 0.5886\n",
      "Epoch 38/50\n",
      "22/22 [==============================] - 0s 12ms/step - loss: 0.1499 - accuracy: 0.9527 - val_loss: 1.4956 - val_accuracy: 0.6000\n",
      "Epoch 39/50\n",
      "22/22 [==============================] - 0s 12ms/step - loss: 0.1480 - accuracy: 0.9570 - val_loss: 1.4071 - val_accuracy: 0.6229\n",
      "Epoch 40/50\n",
      "22/22 [==============================] - 0s 12ms/step - loss: 0.1630 - accuracy: 0.9441 - val_loss: 1.0215 - val_accuracy: 0.6286\n",
      "Epoch 41/50\n",
      "22/22 [==============================] - 0s 12ms/step - loss: 0.1737 - accuracy: 0.9456 - val_loss: 1.4612 - val_accuracy: 0.6114\n",
      "Epoch 42/50\n",
      "22/22 [==============================] - 0s 12ms/step - loss: 0.1500 - accuracy: 0.9427 - val_loss: 1.6070 - val_accuracy: 0.6057\n",
      "Epoch 43/50\n",
      "22/22 [==============================] - 0s 12ms/step - loss: 0.1274 - accuracy: 0.9628 - val_loss: 1.3655 - val_accuracy: 0.6286\n",
      "Epoch 44/50\n",
      "22/22 [==============================] - 0s 12ms/step - loss: 0.1096 - accuracy: 0.9713 - val_loss: 1.5270 - val_accuracy: 0.6457\n",
      "Epoch 45/50\n",
      "22/22 [==============================] - 0s 12ms/step - loss: 0.1085 - accuracy: 0.9642 - val_loss: 1.6455 - val_accuracy: 0.6229\n",
      "Epoch 46/50\n",
      "22/22 [==============================] - 0s 12ms/step - loss: 0.1521 - accuracy: 0.9513 - val_loss: 1.0488 - val_accuracy: 0.6400\n",
      "Epoch 47/50\n",
      "22/22 [==============================] - 0s 12ms/step - loss: 0.1127 - accuracy: 0.9742 - val_loss: 2.1500 - val_accuracy: 0.6000\n",
      "Epoch 48/50\n",
      "22/22 [==============================] - 0s 12ms/step - loss: 0.0765 - accuracy: 0.9785 - val_loss: 1.9338 - val_accuracy: 0.6114\n",
      "Epoch 49/50\n",
      "22/22 [==============================] - 0s 12ms/step - loss: 0.1177 - accuracy: 0.9527 - val_loss: 1.0909 - val_accuracy: 0.6229\n",
      "Epoch 50/50\n",
      "22/22 [==============================] - 0s 12ms/step - loss: 0.1028 - accuracy: 0.9685 - val_loss: 1.5171 - val_accuracy: 0.6514\n"
     ]
    },
    {
     "data": {
      "text/plain": [
       "<keras.callbacks.History at 0x22a5978cc70>"
      ]
     },
     "execution_count": 52,
     "metadata": {},
     "output_type": "execute_result"
    }
   ],
   "source": [
    "model.fit(X_train, Y_train, epochs = 50, validation_data=(X_val, Y_val))"
   ]
  },
  {
   "cell_type": "markdown",
   "id": "b6f638b3",
   "metadata": {},
   "source": [
    "#### Below I have plotted out metric for model performance in each epoch of training. In the top diagram we have the training loss and validation loss for each epoch. Below that is a similar figure for accuracy."
   ]
  },
  {
   "cell_type": "code",
   "execution_count": 53,
   "id": "3bc478a7",
   "metadata": {},
   "outputs": [
    {
     "data": {
      "image/png": "[encoded data removed]",
      "text/plain": [
       "<Figure size 432x288 with 1 Axes>"
      ]
     },
     "metadata": {
      "needs_background": "light"
     },
     "output_type": "display_data"
    }
   ],
   "source": [
    "plt.plot(model.history.history['loss'])\n",
    "plt.plot(model.history.history['val_loss'])\n",
    "plt.legend(['loss', 'val_loss'], loc='upper right')\n",
    "plt.xlabel('Epoch')\n",
    "plt.ylabel('Loss')\n",
    "plt.show()"
   ]
  },
  {
   "cell_type": "code",
   "execution_count": 54,
   "id": "76fb70db",
   "metadata": {},
   "outputs": [
    {
     "data": {
      "image/png": "[encoded data removed]",
      "text/plain": [
       "<Figure size 432x288 with 1 Axes>"
      ]
     },
     "metadata": {
      "needs_background": "light"
     },
     "output_type": "display_data"
    }
   ],
   "source": [
    "plt.plot(model.history.history['accuracy'])\n",
    "plt.plot(model.history.history['val_accuracy'])\n",
    "plt.legend(['accuracy', 'val_accuracy'], loc='upper left')\n",
    "#plt.xlabel('Epoch')\n",
    "#plt.ylabel('Accuracy')\n",
    "plt.show()"
   ]
  },
  {
   "cell_type": "code",
   "execution_count": 55,
   "id": "b25c301e",
   "metadata": {},
   "outputs": [
    {
     "name": "stdout",
     "output_type": "stream",
     "text": [
      "0.7066666483879089\n"
     ]
    }
   ],
   "source": [
    "score_1 = model.evaluate(X_test, Y_test, verbose = 0)\n",
    "print(score_1[1])"
   ]
  },
  {
   "cell_type": "markdown",
   "id": "3018d894",
   "metadata": {},
   "source": [
    "#### The accuracy score is decent ,however for use in a clincal setting we would want something higher than this. Furthermore the behaviour of the loss and validation loss aren't ideal. Really we would want to see them both track downwards with each epoch, showing that the model is learning. Instead the loss crashes then stagnates, while the validation loss actually rises towards the end of training. This suggests that the model is not learning well and may be using noise / irrelevant features to predict values. Below I explore some ways of trying to improve the models performance."
   ]
  },
  {
   "cell_type": "markdown",
   "id": "f154023e",
   "metadata": {},
   "source": [
    "## Improving the model"
   ]
  },
  {
   "cell_type": "markdown",
   "id": "4befee9f",
   "metadata": {},
   "source": [
    "#### So far we have a model, but it isn't an awful lot better than a coin flip. In this section look at two ways to improve the accuracy of the model:\n",
    "- 1) Add variation (and hence information) to our data set using data augmentation\n",
    "- 2) Play around with various parameters in the architecture and see if this improves performance\n",
    " "
   ]
  },
  {
   "cell_type": "markdown",
   "id": "4d15603a",
   "metadata": {},
   "source": [
    "### Data augmentation"
   ]
  },
  {
   "cell_type": "markdown",
   "id": "78e73fa9",
   "metadata": {},
   "source": [
    "#### Let's look at doing data augmentation then adjusting the model hyperparameters. Data Augmentation is a process where the image data has things done to it like zooming in/out, random rotations or random flips. The idea is to create more variation in the data, thus creating learning opportunities for the model. I'd like to note that I use a different approach to that shown in the course. Official tensorflow documentation (see link below) states that ImageDataGenerator is not recommended for new code, and that instead preprocessing layers are recommended.  \n",
    "- https://www.tensorflow.org/api_docs/python/tf/keras/preprocessing/image/ImageDataGenerator\n",
    "\n",
    "#### I have followed the preprocessing layers approach, and found the documentation below pretty helpful\n",
    "- https://www.tensorflow.org/tutorials/images/data_augmentation\n",
    "\n",
    "#### This site gives a useful list of the different layers available - including the augmentations that you can do:\n",
    "- https://www.tensorflow.org/api_docs/python/tf/keras/layers"
   ]
  },
  {
   "cell_type": "markdown",
   "id": "74319bad",
   "metadata": {},
   "source": [
    "#### In the cell below I define the manipulations that I want done on the images. Here I have chosen to start simple and use random horizontal and vertical flips, as well as rescaling."
   ]
  },
  {
   "cell_type": "code",
   "execution_count": 56,
   "id": "80b668db",
   "metadata": {},
   "outputs": [],
   "source": [
    "# This function takes in an 1 x n array of images and applies random flips and rescaling to them.\n",
    "# The output from this function is a 1 x n array of augmented images\n",
    "\n",
    "augmentation = tf.keras.Sequential([\n",
    "    layers.RandomFlip(\"horizontal_and_vertical\", seed= 1),\n",
    "layers.Rescaling( 1/255)])"
   ]
  },
  {
   "cell_type": "markdown",
   "id": "b3c455aa",
   "metadata": {},
   "source": [
    "#### Let's apply the augmentation to each image in turn and save the new image in the 'augmented_images' variable"
   ]
  },
  {
   "cell_type": "code",
   "execution_count": 57,
   "id": "d264d40c",
   "metadata": {},
   "outputs": [
    {
     "name": "stdout",
     "output_type": "stream",
     "text": [
      "WARNING:tensorflow:Layers in a Sequential model should only have a single input tensor. Received: inputs=<PIL.Image.Image image mode=RGB size=50x50 at 0x22A42C1E640>. Consider rewriting this model with the Functional API.\n",
      "WARNING:tensorflow:Layers in a Sequential model should only have a single input tensor. Received: inputs=<PIL.Image.Image image mode=RGB size=50x50 at 0x22A42C1EA60>. Consider rewriting this model with the Functional API.\n",
      "WARNING:tensorflow:Layers in a Sequential model should only have a single input tensor. Received: inputs=<PIL.Image.Image image mode=RGB size=50x50 at 0x22A51599610>. Consider rewriting this model with the Functional API.\n",
      "WARNING:tensorflow:Layers in a Sequential model should only have a single input tensor. Received: inputs=<PIL.Image.Image image mode=RGB size=50x50 at 0x22A51599670>. Consider rewriting this model with the Functional API.\n",
      "WARNING:tensorflow:Layers in a Sequential model should only have a single input tensor. Received: inputs=<PIL.Image.Image image mode=RGB size=50x50 at 0x22A515996D0>. Consider rewriting this model with the Functional API.\n",
      "WARNING:tensorflow:Layers in a Sequential model should only have a single input tensor. Received: inputs=<PIL.Image.Image image mode=RGB size=50x50 at 0x22A51599730>. Consider rewriting this model with the Functional API.\n",
      "WARNING:tensorflow:Layers in a Sequential model should only have a single input tensor. Received: inputs=<PIL.Image.Image image mode=RGB size=50x50 at 0x22A51599790>. Consider rewriting this model with the Functional API.\n",
      "WARNING:tensorflow:Layers in a Sequential model should only have a single input tensor. Received: inputs=<PIL.Image.Image image mode=RGB size=50x50 at 0x22A515997F0>. Consider rewriting this model with the Functional API.\n",
      "WARNING:tensorflow:Layers in a Sequential model should only have a single input tensor. Received: inputs=<PIL.Image.Image image mode=RGB size=50x50 at 0x22A51599850>. Consider rewriting this model with the Functional API.\n",
      "WARNING:tensorflow:Layers in a Sequential model should only have a single input tensor. Received: inputs=<PIL.Image.Image image mode=RGB size=50x50 at 0x22A515998B0>. Consider rewriting this model with the Functional API.\n",
      "WARNING:tensorflow:Layers in a Sequential model should only have a single input tensor. Received: inputs=<PIL.Image.Image image mode=RGB size=50x50 at 0x22A51599910>. Consider rewriting this model with the Functional API.\n",
      "WARNING:tensorflow:Layers in a Sequential model should only have a single input tensor. Received: inputs=<PIL.Image.Image image mode=RGB size=50x50 at 0x22A51599970>. Consider rewriting this model with the Functional API.\n",
      "WARNING:tensorflow:Layers in a Sequential model should only have a single input tensor. Received: inputs=<PIL.Image.Image image mode=RGB size=50x50 at 0x22A515999D0>. Consider rewriting this model with the Functional API.\n",
      "WARNING:tensorflow:Layers in a Sequential model should only have a single input tensor. Received: inputs=<PIL.Image.Image image mode=RGB size=50x50 at 0x22A51599A30>. Consider rewriting this model with the Functional API.\n",
      "WARNING:tensorflow:Layers in a Sequential model should only have a single input tensor. Received: inputs=<PIL.Image.Image image mode=RGB size=50x50 at 0x22A51599A90>. Consider rewriting this model with the Functional API.\n",
      "WARNING:tensorflow:Layers in a Sequential model should only have a single input tensor. Received: inputs=<PIL.Image.Image image mode=RGB size=50x50 at 0x22A51599AF0>. Consider rewriting this model with the Functional API.\n",
      "WARNING:tensorflow:Layers in a Sequential model should only have a single input tensor. Received: inputs=<PIL.Image.Image image mode=RGB size=50x50 at 0x22A51599B50>. Consider rewriting this model with the Functional API.\n",
      "WARNING:tensorflow:Layers in a Sequential model should only have a single input tensor. Received: inputs=<PIL.Image.Image image mode=RGB size=50x50 at 0x22A51599BB0>. Consider rewriting this model with the Functional API.\n",
      "WARNING:tensorflow:Layers in a Sequential model should only have a single input tensor. Received: inputs=<PIL.Image.Image image mode=RGB size=50x50 at 0x22A51599C10>. Consider rewriting this model with the Functional API.\n",
      "WARNING:tensorflow:Layers in a Sequential model should only have a single input tensor. Received: inputs=<PIL.Image.Image image mode=RGB size=50x50 at 0x22A51599C70>. Consider rewriting this model with the Functional API.\n",
      "WARNING:tensorflow:Layers in a Sequential model should only have a single input tensor. Received: inputs=<PIL.Image.Image image mode=RGB size=50x50 at 0x22A51599D00>. Consider rewriting this model with the Functional API.\n",
      "WARNING:tensorflow:Layers in a Sequential model should only have a single input tensor. Received: inputs=<PIL.Image.Image image mode=RGB size=50x50 at 0x22A51599D60>. Consider rewriting this model with the Functional API.\n",
      "WARNING:tensorflow:Layers in a Sequential model should only have a single input tensor. Received: inputs=<PIL.Image.Image image mode=RGB size=50x50 at 0x22A51599DC0>. Consider rewriting this model with the Functional API.\n",
      "WARNING:tensorflow:Layers in a Sequential model should only have a single input tensor. Received: inputs=<PIL.Image.Image image mode=RGB size=50x50 at 0x22A51599E20>. Consider rewriting this model with the Functional API.\n",
      "WARNING:tensorflow:Layers in a Sequential model should only have a single input tensor. Received: inputs=<PIL.Image.Image image mode=RGB size=50x50 at 0x22A51599E80>. Consider rewriting this model with the Functional API.\n",
      "WARNING:tensorflow:Layers in a Sequential model should only have a single input tensor. Received: inputs=<PIL.Image.Image image mode=RGB size=50x50 at 0x22A51599EE0>. Consider rewriting this model with the Functional API.\n",
      "WARNING:tensorflow:Layers in a Sequential model should only have a single input tensor. Received: inputs=<PIL.Image.Image image mode=RGB size=50x50 at 0x22A51599F40>. Consider rewriting this model with the Functional API.\n",
      "WARNING:tensorflow:Layers in a Sequential model should only have a single input tensor. Received: inputs=<PIL.Image.Image image mode=RGB size=50x50 at 0x22A51599FA0>. Consider rewriting this model with the Functional API.\n",
      "WARNING:tensorflow:Layers in a Sequential model should only have a single input tensor. Received: inputs=<PIL.Image.Image image mode=RGB size=50x50 at 0x22A51599FD0>. Consider rewriting this model with the Functional API.\n",
      "WARNING:tensorflow:Layers in a Sequential model should only have a single input tensor. Received: inputs=<PIL.Image.Image image mode=RGB size=50x50 at 0x22A515B20A0>. Consider rewriting this model with the Functional API.\n",
      "WARNING:tensorflow:Layers in a Sequential model should only have a single input tensor. Received: inputs=<PIL.Image.Image image mode=RGB size=50x50 at 0x22A515B2100>. Consider rewriting this model with the Functional API.\n",
      "WARNING:tensorflow:Layers in a Sequential model should only have a single input tensor. Received: inputs=<PIL.Image.Image image mode=RGB size=50x50 at 0x22A515B2160>. Consider rewriting this model with the Functional API.\n",
      "WARNING:tensorflow:Layers in a Sequential model should only have a single input tensor. Received: inputs=<PIL.Image.Image image mode=RGB size=50x50 at 0x22A515B21C0>. Consider rewriting this model with the Functional API.\n",
      "WARNING:tensorflow:Layers in a Sequential model should only have a single input tensor. Received: inputs=<PIL.Image.Image image mode=RGB size=50x50 at 0x22A515B2220>. Consider rewriting this model with the Functional API.\n",
      "WARNING:tensorflow:Layers in a Sequential model should only have a single input tensor. Received: inputs=<PIL.Image.Image image mode=RGB size=50x50 at 0x22A515B2280>. Consider rewriting this model with the Functional API.\n",
      "WARNING:tensorflow:Layers in a Sequential model should only have a single input tensor. Received: inputs=<PIL.Image.Image image mode=RGB size=50x50 at 0x22A515B22E0>. Consider rewriting this model with the Functional API.\n",
      "WARNING:tensorflow:Layers in a Sequential model should only have a single input tensor. Received: inputs=<PIL.Image.Image image mode=RGB size=50x50 at 0x22A515B2340>. Consider rewriting this model with the Functional API.\n"
     ]
    },
    {
     "name": "stdout",
     "output_type": "stream",
     "text": [
      "WARNING:tensorflow:Layers in a Sequential model should only have a single input tensor. Received: inputs=<PIL.Image.Image image mode=RGB size=50x50 at 0x22A515B23A0>. Consider rewriting this model with the Functional API.\n",
      "WARNING:tensorflow:Layers in a Sequential model should only have a single input tensor. Received: inputs=<PIL.Image.Image image mode=RGB size=50x50 at 0x22A515B2400>. Consider rewriting this model with the Functional API.\n",
      "WARNING:tensorflow:Layers in a Sequential model should only have a single input tensor. Received: inputs=<PIL.Image.Image image mode=RGB size=50x50 at 0x22A515B2460>. Consider rewriting this model with the Functional API.\n",
      "WARNING:tensorflow:Layers in a Sequential model should only have a single input tensor. Received: inputs=<PIL.Image.Image image mode=RGB size=50x50 at 0x22A515B24C0>. Consider rewriting this model with the Functional API.\n",
      "WARNING:tensorflow:Layers in a Sequential model should only have a single input tensor. Received: inputs=<PIL.Image.Image image mode=RGB size=50x50 at 0x22A515B2520>. Consider rewriting this model with the Functional API.\n",
      "WARNING:tensorflow:Layers in a Sequential model should only have a single input tensor. Received: inputs=<PIL.Image.Image image mode=RGB size=50x50 at 0x22A515B2580>. Consider rewriting this model with the Functional API.\n",
      "WARNING:tensorflow:Layers in a Sequential model should only have a single input tensor. Received: inputs=<PIL.Image.Image image mode=RGB size=50x50 at 0x22A515B25E0>. Consider rewriting this model with the Functional API.\n",
      "WARNING:tensorflow:Layers in a Sequential model should only have a single input tensor. Received: inputs=<PIL.Image.Image image mode=RGB size=50x50 at 0x22A515B2640>. Consider rewriting this model with the Functional API.\n",
      "WARNING:tensorflow:Layers in a Sequential model should only have a single input tensor. Received: inputs=<PIL.Image.Image image mode=RGB size=50x50 at 0x22A515B26A0>. Consider rewriting this model with the Functional API.\n",
      "WARNING:tensorflow:Layers in a Sequential model should only have a single input tensor. Received: inputs=<PIL.Image.Image image mode=RGB size=50x50 at 0x22A515B2700>. Consider rewriting this model with the Functional API.\n",
      "WARNING:tensorflow:Layers in a Sequential model should only have a single input tensor. Received: inputs=<PIL.Image.Image image mode=RGB size=50x50 at 0x22A515B2760>. Consider rewriting this model with the Functional API.\n",
      "WARNING:tensorflow:Layers in a Sequential model should only have a single input tensor. Received: inputs=<PIL.Image.Image image mode=RGB size=50x50 at 0x22A515B27C0>. Consider rewriting this model with the Functional API.\n",
      "WARNING:tensorflow:Layers in a Sequential model should only have a single input tensor. Received: inputs=<PIL.Image.Image image mode=RGB size=50x50 at 0x22A515B2820>. Consider rewriting this model with the Functional API.\n",
      "WARNING:tensorflow:Layers in a Sequential model should only have a single input tensor. Received: inputs=<PIL.Image.Image image mode=RGB size=50x50 at 0x22A515B2880>. Consider rewriting this model with the Functional API.\n",
      "WARNING:tensorflow:Layers in a Sequential model should only have a single input tensor. Received: inputs=<PIL.Image.Image image mode=RGB size=50x50 at 0x22A515B28E0>. Consider rewriting this model with the Functional API.\n",
      "WARNING:tensorflow:Layers in a Sequential model should only have a single input tensor. Received: inputs=<PIL.Image.Image image mode=RGB size=50x50 at 0x22A515B2940>. Consider rewriting this model with the Functional API.\n",
      "WARNING:tensorflow:Layers in a Sequential model should only have a single input tensor. Received: inputs=<PIL.Image.Image image mode=RGB size=50x50 at 0x22A515B29A0>. Consider rewriting this model with the Functional API.\n",
      "WARNING:tensorflow:Layers in a Sequential model should only have a single input tensor. Received: inputs=<PIL.Image.Image image mode=RGB size=50x50 at 0x22A515B2A00>. Consider rewriting this model with the Functional API.\n",
      "WARNING:tensorflow:Layers in a Sequential model should only have a single input tensor. Received: inputs=<PIL.Image.Image image mode=RGB size=50x50 at 0x22A515B2A60>. Consider rewriting this model with the Functional API.\n",
      "WARNING:tensorflow:Layers in a Sequential model should only have a single input tensor. Received: inputs=<PIL.Image.Image image mode=RGB size=50x50 at 0x22A515B2AC0>. Consider rewriting this model with the Functional API.\n",
      "WARNING:tensorflow:Layers in a Sequential model should only have a single input tensor. Received: inputs=<PIL.Image.Image image mode=RGB size=50x50 at 0x22A515B2B20>. Consider rewriting this model with the Functional API.\n",
      "WARNING:tensorflow:Layers in a Sequential model should only have a single input tensor. Received: inputs=<PIL.Image.Image image mode=RGB size=50x50 at 0x22A515B2B80>. Consider rewriting this model with the Functional API.\n",
      "WARNING:tensorflow:Layers in a Sequential model should only have a single input tensor. Received: inputs=<PIL.Image.Image image mode=RGB size=50x50 at 0x22A515B2BE0>. Consider rewriting this model with the Functional API.\n",
      "WARNING:tensorflow:Layers in a Sequential model should only have a single input tensor. Received: inputs=<PIL.Image.Image image mode=RGB size=50x50 at 0x22A515B2C40>. Consider rewriting this model with the Functional API.\n",
      "WARNING:tensorflow:Layers in a Sequential model should only have a single input tensor. Received: inputs=<PIL.Image.Image image mode=RGB size=50x50 at 0x22A515B2CA0>. Consider rewriting this model with the Functional API.\n",
      "WARNING:tensorflow:Layers in a Sequential model should only have a single input tensor. Received: inputs=<PIL.Image.Image image mode=RGB size=50x50 at 0x22A515B2D00>. Consider rewriting this model with the Functional API.\n",
      "WARNING:tensorflow:Layers in a Sequential model should only have a single input tensor. Received: inputs=<PIL.Image.Image image mode=RGB size=50x50 at 0x22A515B2D60>. Consider rewriting this model with the Functional API.\n",
      "WARNING:tensorflow:Layers in a Sequential model should only have a single input tensor. Received: inputs=<PIL.Image.Image image mode=RGB size=50x50 at 0x22A515B2DC0>. Consider rewriting this model with the Functional API.\n",
      "WARNING:tensorflow:Layers in a Sequential model should only have a single input tensor. Received: inputs=<PIL.Image.Image image mode=RGB size=50x50 at 0x22A515B2E20>. Consider rewriting this model with the Functional API.\n",
      "WARNING:tensorflow:Layers in a Sequential model should only have a single input tensor. Received: inputs=<PIL.Image.Image image mode=RGB size=50x50 at 0x22A515B2E80>. Consider rewriting this model with the Functional API.\n",
      "WARNING:tensorflow:Layers in a Sequential model should only have a single input tensor. Received: inputs=<PIL.Image.Image image mode=RGB size=50x50 at 0x22A515B2EE0>. Consider rewriting this model with the Functional API.\n",
      "WARNING:tensorflow:Layers in a Sequential model should only have a single input tensor. Received: inputs=<PIL.Image.Image image mode=RGB size=50x50 at 0x22A515B2F40>. Consider rewriting this model with the Functional API.\n",
      "WARNING:tensorflow:Layers in a Sequential model should only have a single input tensor. Received: inputs=<PIL.Image.Image image mode=RGB size=50x50 at 0x22A515B2FA0>. Consider rewriting this model with the Functional API.\n",
      "WARNING:tensorflow:Layers in a Sequential model should only have a single input tensor. Received: inputs=<PIL.Image.Image image mode=RGB size=50x50 at 0x22A515B2FD0>. Consider rewriting this model with the Functional API.\n",
      "WARNING:tensorflow:Layers in a Sequential model should only have a single input tensor. Received: inputs=<PIL.Image.Image image mode=RGB size=50x50 at 0x22A515CA0A0>. Consider rewriting this model with the Functional API.\n",
      "WARNING:tensorflow:Layers in a Sequential model should only have a single input tensor. Received: inputs=<PIL.Image.Image image mode=RGB size=50x50 at 0x22A515CA100>. Consider rewriting this model with the Functional API.\n",
      "WARNING:tensorflow:Layers in a Sequential model should only have a single input tensor. Received: inputs=<PIL.Image.Image image mode=RGB size=50x50 at 0x22A515CA160>. Consider rewriting this model with the Functional API.\n"
     ]
    },
    {
     "name": "stdout",
     "output_type": "stream",
     "text": [
      "WARNING:tensorflow:Layers in a Sequential model should only have a single input tensor. Received: inputs=<PIL.Image.Image image mode=RGB size=50x50 at 0x22A515CA1C0>. Consider rewriting this model with the Functional API.\n",
      "WARNING:tensorflow:Layers in a Sequential model should only have a single input tensor. Received: inputs=<PIL.Image.Image image mode=RGB size=50x50 at 0x22A515CA220>. Consider rewriting this model with the Functional API.\n",
      "WARNING:tensorflow:Layers in a Sequential model should only have a single input tensor. Received: inputs=<PIL.Image.Image image mode=RGB size=50x50 at 0x22A515CA280>. Consider rewriting this model with the Functional API.\n",
      "WARNING:tensorflow:Layers in a Sequential model should only have a single input tensor. Received: inputs=<PIL.Image.Image image mode=RGB size=50x50 at 0x22A515CA2E0>. Consider rewriting this model with the Functional API.\n",
      "WARNING:tensorflow:Layers in a Sequential model should only have a single input tensor. Received: inputs=<PIL.Image.Image image mode=RGB size=50x50 at 0x22A515CA340>. Consider rewriting this model with the Functional API.\n",
      "WARNING:tensorflow:Layers in a Sequential model should only have a single input tensor. Received: inputs=<PIL.Image.Image image mode=RGB size=50x50 at 0x22A515CA3A0>. Consider rewriting this model with the Functional API.\n",
      "WARNING:tensorflow:Layers in a Sequential model should only have a single input tensor. Received: inputs=<PIL.Image.Image image mode=RGB size=50x50 at 0x22A515CA400>. Consider rewriting this model with the Functional API.\n",
      "WARNING:tensorflow:Layers in a Sequential model should only have a single input tensor. Received: inputs=<PIL.Image.Image image mode=RGB size=50x50 at 0x22A515CA460>. Consider rewriting this model with the Functional API.\n",
      "WARNING:tensorflow:Layers in a Sequential model should only have a single input tensor. Received: inputs=<PIL.Image.Image image mode=RGB size=50x50 at 0x22A515CA4C0>. Consider rewriting this model with the Functional API.\n",
      "WARNING:tensorflow:Layers in a Sequential model should only have a single input tensor. Received: inputs=<PIL.Image.Image image mode=RGB size=50x50 at 0x22A515CA520>. Consider rewriting this model with the Functional API.\n",
      "WARNING:tensorflow:Layers in a Sequential model should only have a single input tensor. Received: inputs=<PIL.Image.Image image mode=RGB size=50x50 at 0x22A515CA580>. Consider rewriting this model with the Functional API.\n",
      "WARNING:tensorflow:Layers in a Sequential model should only have a single input tensor. Received: inputs=<PIL.Image.Image image mode=RGB size=50x50 at 0x22A515CA5E0>. Consider rewriting this model with the Functional API.\n",
      "WARNING:tensorflow:Layers in a Sequential model should only have a single input tensor. Received: inputs=<PIL.Image.Image image mode=RGB size=50x50 at 0x22A515CA640>. Consider rewriting this model with the Functional API.\n",
      "WARNING:tensorflow:Layers in a Sequential model should only have a single input tensor. Received: inputs=<PIL.Image.Image image mode=RGB size=50x50 at 0x22A515CA6A0>. Consider rewriting this model with the Functional API.\n",
      "WARNING:tensorflow:Layers in a Sequential model should only have a single input tensor. Received: inputs=<PIL.Image.Image image mode=RGB size=50x50 at 0x22A515CA700>. Consider rewriting this model with the Functional API.\n",
      "WARNING:tensorflow:Layers in a Sequential model should only have a single input tensor. Received: inputs=<PIL.Image.Image image mode=RGB size=50x50 at 0x22A515CA760>. Consider rewriting this model with the Functional API.\n",
      "WARNING:tensorflow:Layers in a Sequential model should only have a single input tensor. Received: inputs=<PIL.Image.Image image mode=RGB size=50x50 at 0x22A515CA7C0>. Consider rewriting this model with the Functional API.\n",
      "WARNING:tensorflow:Layers in a Sequential model should only have a single input tensor. Received: inputs=<PIL.Image.Image image mode=RGB size=50x50 at 0x22A515CA820>. Consider rewriting this model with the Functional API.\n",
      "WARNING:tensorflow:Layers in a Sequential model should only have a single input tensor. Received: inputs=<PIL.Image.Image image mode=RGB size=50x50 at 0x22A515CA880>. Consider rewriting this model with the Functional API.\n",
      "WARNING:tensorflow:Layers in a Sequential model should only have a single input tensor. Received: inputs=<PIL.Image.Image image mode=RGB size=50x50 at 0x22A515CA8E0>. Consider rewriting this model with the Functional API.\n",
      "WARNING:tensorflow:Layers in a Sequential model should only have a single input tensor. Received: inputs=<PIL.Image.Image image mode=RGB size=50x50 at 0x22A515CA940>. Consider rewriting this model with the Functional API.\n",
      "WARNING:tensorflow:Layers in a Sequential model should only have a single input tensor. Received: inputs=<PIL.Image.Image image mode=RGB size=50x50 at 0x22A515CA9A0>. Consider rewriting this model with the Functional API.\n",
      "WARNING:tensorflow:Layers in a Sequential model should only have a single input tensor. Received: inputs=<PIL.Image.Image image mode=RGB size=50x50 at 0x22A515CAA00>. Consider rewriting this model with the Functional API.\n",
      "WARNING:tensorflow:Layers in a Sequential model should only have a single input tensor. Received: inputs=<PIL.Image.Image image mode=RGB size=50x50 at 0x22A515CAA60>. Consider rewriting this model with the Functional API.\n",
      "WARNING:tensorflow:Layers in a Sequential model should only have a single input tensor. Received: inputs=<PIL.Image.Image image mode=RGB size=50x50 at 0x22A515CAAC0>. Consider rewriting this model with the Functional API.\n",
      "WARNING:tensorflow:Layers in a Sequential model should only have a single input tensor. Received: inputs=<PIL.Image.Image image mode=RGB size=50x50 at 0x22A515CAB20>. Consider rewriting this model with the Functional API.\n",
      "WARNING:tensorflow:Layers in a Sequential model should only have a single input tensor. Received: inputs=<PIL.Image.Image image mode=RGB size=50x50 at 0x22A515CAB80>. Consider rewriting this model with the Functional API.\n",
      "WARNING:tensorflow:Layers in a Sequential model should only have a single input tensor. Received: inputs=<PIL.Image.Image image mode=RGB size=50x50 at 0x22A515CABE0>. Consider rewriting this model with the Functional API.\n",
      "WARNING:tensorflow:Layers in a Sequential model should only have a single input tensor. Received: inputs=<PIL.Image.Image image mode=RGB size=50x50 at 0x22A515CAC40>. Consider rewriting this model with the Functional API.\n",
      "WARNING:tensorflow:Layers in a Sequential model should only have a single input tensor. Received: inputs=<PIL.Image.Image image mode=RGB size=50x50 at 0x22A515CACA0>. Consider rewriting this model with the Functional API.\n",
      "WARNING:tensorflow:Layers in a Sequential model should only have a single input tensor. Received: inputs=<PIL.Image.Image image mode=RGB size=50x50 at 0x22A515CAD00>. Consider rewriting this model with the Functional API.\n",
      "WARNING:tensorflow:Layers in a Sequential model should only have a single input tensor. Received: inputs=<PIL.Image.Image image mode=RGB size=50x50 at 0x22A515CAD60>. Consider rewriting this model with the Functional API.\n",
      "WARNING:tensorflow:Layers in a Sequential model should only have a single input tensor. Received: inputs=<PIL.Image.Image image mode=RGB size=50x50 at 0x22A515CADC0>. Consider rewriting this model with the Functional API.\n",
      "WARNING:tensorflow:Layers in a Sequential model should only have a single input tensor. Received: inputs=<PIL.Image.Image image mode=RGB size=50x50 at 0x22A515CAE20>. Consider rewriting this model with the Functional API.\n",
      "WARNING:tensorflow:Layers in a Sequential model should only have a single input tensor. Received: inputs=<PIL.Image.Image image mode=RGB size=50x50 at 0x22A515CAE80>. Consider rewriting this model with the Functional API.\n",
      "WARNING:tensorflow:Layers in a Sequential model should only have a single input tensor. Received: inputs=<PIL.Image.Image image mode=RGB size=50x50 at 0x22A515CAEE0>. Consider rewriting this model with the Functional API.\n",
      "WARNING:tensorflow:Layers in a Sequential model should only have a single input tensor. Received: inputs=<PIL.Image.Image image mode=RGB size=50x50 at 0x22A515CAF40>. Consider rewriting this model with the Functional API.\n"
     ]
    },
    {
     "name": "stdout",
     "output_type": "stream",
     "text": [
      "WARNING:tensorflow:Layers in a Sequential model should only have a single input tensor. Received: inputs=<PIL.Image.Image image mode=RGB size=50x50 at 0x22A515CAFA0>. Consider rewriting this model with the Functional API.\n",
      "WARNING:tensorflow:Layers in a Sequential model should only have a single input tensor. Received: inputs=<PIL.Image.Image image mode=RGB size=50x50 at 0x22A515CAFD0>. Consider rewriting this model with the Functional API.\n",
      "WARNING:tensorflow:Layers in a Sequential model should only have a single input tensor. Received: inputs=<PIL.Image.Image image mode=RGB size=50x50 at 0x22A515DF0A0>. Consider rewriting this model with the Functional API.\n",
      "WARNING:tensorflow:Layers in a Sequential model should only have a single input tensor. Received: inputs=<PIL.Image.Image image mode=RGB size=50x50 at 0x22A515DF100>. Consider rewriting this model with the Functional API.\n",
      "WARNING:tensorflow:Layers in a Sequential model should only have a single input tensor. Received: inputs=<PIL.Image.Image image mode=RGB size=50x50 at 0x22A515DF160>. Consider rewriting this model with the Functional API.\n",
      "WARNING:tensorflow:Layers in a Sequential model should only have a single input tensor. Received: inputs=<PIL.Image.Image image mode=RGB size=50x50 at 0x22A515DF1C0>. Consider rewriting this model with the Functional API.\n",
      "WARNING:tensorflow:Layers in a Sequential model should only have a single input tensor. Received: inputs=<PIL.Image.Image image mode=RGB size=50x50 at 0x22A515DF220>. Consider rewriting this model with the Functional API.\n",
      "WARNING:tensorflow:Layers in a Sequential model should only have a single input tensor. Received: inputs=<PIL.Image.Image image mode=RGB size=50x50 at 0x22A515DF280>. Consider rewriting this model with the Functional API.\n",
      "WARNING:tensorflow:Layers in a Sequential model should only have a single input tensor. Received: inputs=<PIL.Image.Image image mode=RGB size=50x50 at 0x22A515DF2E0>. Consider rewriting this model with the Functional API.\n",
      "WARNING:tensorflow:Layers in a Sequential model should only have a single input tensor. Received: inputs=<PIL.Image.Image image mode=RGB size=50x50 at 0x22A515DF340>. Consider rewriting this model with the Functional API.\n",
      "WARNING:tensorflow:Layers in a Sequential model should only have a single input tensor. Received: inputs=<PIL.Image.Image image mode=RGB size=50x50 at 0x22A515DF3A0>. Consider rewriting this model with the Functional API.\n",
      "WARNING:tensorflow:Layers in a Sequential model should only have a single input tensor. Received: inputs=<PIL.Image.Image image mode=RGB size=50x50 at 0x22A515DF400>. Consider rewriting this model with the Functional API.\n",
      "WARNING:tensorflow:Layers in a Sequential model should only have a single input tensor. Received: inputs=<PIL.Image.Image image mode=RGB size=50x50 at 0x22A515DF460>. Consider rewriting this model with the Functional API.\n",
      "WARNING:tensorflow:Layers in a Sequential model should only have a single input tensor. Received: inputs=<PIL.Image.Image image mode=RGB size=50x50 at 0x22A515DF4C0>. Consider rewriting this model with the Functional API.\n",
      "WARNING:tensorflow:Layers in a Sequential model should only have a single input tensor. Received: inputs=<PIL.Image.Image image mode=RGB size=50x50 at 0x22A515DF520>. Consider rewriting this model with the Functional API.\n",
      "WARNING:tensorflow:Layers in a Sequential model should only have a single input tensor. Received: inputs=<PIL.Image.Image image mode=RGB size=50x50 at 0x22A515DF580>. Consider rewriting this model with the Functional API.\n",
      "WARNING:tensorflow:Layers in a Sequential model should only have a single input tensor. Received: inputs=<PIL.Image.Image image mode=RGB size=50x50 at 0x22A515DF5E0>. Consider rewriting this model with the Functional API.\n",
      "WARNING:tensorflow:Layers in a Sequential model should only have a single input tensor. Received: inputs=<PIL.Image.Image image mode=RGB size=50x50 at 0x22A515DF640>. Consider rewriting this model with the Functional API.\n",
      "WARNING:tensorflow:Layers in a Sequential model should only have a single input tensor. Received: inputs=<PIL.Image.Image image mode=RGB size=50x50 at 0x22A515DF6A0>. Consider rewriting this model with the Functional API.\n",
      "WARNING:tensorflow:Layers in a Sequential model should only have a single input tensor. Received: inputs=<PIL.Image.Image image mode=RGB size=50x50 at 0x22A515DF700>. Consider rewriting this model with the Functional API.\n",
      "WARNING:tensorflow:Layers in a Sequential model should only have a single input tensor. Received: inputs=<PIL.Image.Image image mode=RGB size=50x50 at 0x22A515DF760>. Consider rewriting this model with the Functional API.\n",
      "WARNING:tensorflow:Layers in a Sequential model should only have a single input tensor. Received: inputs=<PIL.Image.Image image mode=RGB size=50x50 at 0x22A515DF7C0>. Consider rewriting this model with the Functional API.\n",
      "WARNING:tensorflow:Layers in a Sequential model should only have a single input tensor. Received: inputs=<PIL.Image.Image image mode=RGB size=50x50 at 0x22A515DF820>. Consider rewriting this model with the Functional API.\n",
      "WARNING:tensorflow:Layers in a Sequential model should only have a single input tensor. Received: inputs=<PIL.Image.Image image mode=RGB size=50x50 at 0x22A515DF880>. Consider rewriting this model with the Functional API.\n",
      "WARNING:tensorflow:Layers in a Sequential model should only have a single input tensor. Received: inputs=<PIL.Image.Image image mode=RGB size=50x50 at 0x22A515DF8E0>. Consider rewriting this model with the Functional API.\n",
      "WARNING:tensorflow:Layers in a Sequential model should only have a single input tensor. Received: inputs=<PIL.Image.Image image mode=RGB size=50x50 at 0x22A515DF940>. Consider rewriting this model with the Functional API.\n",
      "WARNING:tensorflow:Layers in a Sequential model should only have a single input tensor. Received: inputs=<PIL.Image.Image image mode=RGB size=50x50 at 0x22A515DF9A0>. Consider rewriting this model with the Functional API.\n",
      "WARNING:tensorflow:Layers in a Sequential model should only have a single input tensor. Received: inputs=<PIL.Image.Image image mode=RGB size=50x50 at 0x22A515DFA00>. Consider rewriting this model with the Functional API.\n",
      "WARNING:tensorflow:Layers in a Sequential model should only have a single input tensor. Received: inputs=<PIL.Image.Image image mode=RGB size=50x50 at 0x22A515DFA60>. Consider rewriting this model with the Functional API.\n",
      "WARNING:tensorflow:Layers in a Sequential model should only have a single input tensor. Received: inputs=<PIL.Image.Image image mode=RGB size=50x50 at 0x22A515DFAC0>. Consider rewriting this model with the Functional API.\n",
      "WARNING:tensorflow:Layers in a Sequential model should only have a single input tensor. Received: inputs=<PIL.Image.Image image mode=RGB size=50x50 at 0x22A515DFB20>. Consider rewriting this model with the Functional API.\n",
      "WARNING:tensorflow:Layers in a Sequential model should only have a single input tensor. Received: inputs=<PIL.Image.Image image mode=RGB size=50x50 at 0x22A515DFB80>. Consider rewriting this model with the Functional API.\n",
      "WARNING:tensorflow:Layers in a Sequential model should only have a single input tensor. Received: inputs=<PIL.Image.Image image mode=RGB size=50x50 at 0x22A515DFBE0>. Consider rewriting this model with the Functional API.\n",
      "WARNING:tensorflow:Layers in a Sequential model should only have a single input tensor. Received: inputs=<PIL.Image.Image image mode=RGB size=50x50 at 0x22A515DFC40>. Consider rewriting this model with the Functional API.\n",
      "WARNING:tensorflow:Layers in a Sequential model should only have a single input tensor. Received: inputs=<PIL.Image.Image image mode=RGB size=50x50 at 0x22A515DFCA0>. Consider rewriting this model with the Functional API.\n",
      "WARNING:tensorflow:Layers in a Sequential model should only have a single input tensor. Received: inputs=<PIL.Image.Image image mode=RGB size=50x50 at 0x22A515DFD00>. Consider rewriting this model with the Functional API.\n",
      "WARNING:tensorflow:Layers in a Sequential model should only have a single input tensor. Received: inputs=<PIL.Image.Image image mode=RGB size=50x50 at 0x22A515DFD60>. Consider rewriting this model with the Functional API.\n"
     ]
    },
    {
     "name": "stdout",
     "output_type": "stream",
     "text": [
      "WARNING:tensorflow:Layers in a Sequential model should only have a single input tensor. Received: inputs=<PIL.Image.Image image mode=RGB size=50x50 at 0x22A515DFDC0>. Consider rewriting this model with the Functional API.\n",
      "WARNING:tensorflow:Layers in a Sequential model should only have a single input tensor. Received: inputs=<PIL.Image.Image image mode=RGB size=50x50 at 0x22A515DFE20>. Consider rewriting this model with the Functional API.\n",
      "WARNING:tensorflow:Layers in a Sequential model should only have a single input tensor. Received: inputs=<PIL.Image.Image image mode=RGB size=50x50 at 0x22A515DFE80>. Consider rewriting this model with the Functional API.\n",
      "WARNING:tensorflow:Layers in a Sequential model should only have a single input tensor. Received: inputs=<PIL.Image.Image image mode=RGB size=50x50 at 0x22A515DFEE0>. Consider rewriting this model with the Functional API.\n",
      "WARNING:tensorflow:Layers in a Sequential model should only have a single input tensor. Received: inputs=<PIL.Image.Image image mode=RGB size=50x50 at 0x22A515DFF40>. Consider rewriting this model with the Functional API.\n",
      "WARNING:tensorflow:Layers in a Sequential model should only have a single input tensor. Received: inputs=<PIL.Image.Image image mode=RGB size=50x50 at 0x22A515DFFA0>. Consider rewriting this model with the Functional API.\n",
      "WARNING:tensorflow:Layers in a Sequential model should only have a single input tensor. Received: inputs=<PIL.Image.Image image mode=RGB size=50x50 at 0x22A515DFFD0>. Consider rewriting this model with the Functional API.\n",
      "WARNING:tensorflow:Layers in a Sequential model should only have a single input tensor. Received: inputs=<PIL.Image.Image image mode=RGB size=50x50 at 0x22A515F4070>. Consider rewriting this model with the Functional API.\n",
      "WARNING:tensorflow:Layers in a Sequential model should only have a single input tensor. Received: inputs=<PIL.Image.Image image mode=RGB size=50x50 at 0x22A515F4100>. Consider rewriting this model with the Functional API.\n",
      "WARNING:tensorflow:Layers in a Sequential model should only have a single input tensor. Received: inputs=<PIL.Image.Image image mode=RGB size=50x50 at 0x22A515F4160>. Consider rewriting this model with the Functional API.\n",
      "WARNING:tensorflow:Layers in a Sequential model should only have a single input tensor. Received: inputs=<PIL.Image.Image image mode=RGB size=50x50 at 0x22A515F41C0>. Consider rewriting this model with the Functional API.\n",
      "WARNING:tensorflow:Layers in a Sequential model should only have a single input tensor. Received: inputs=<PIL.Image.Image image mode=RGB size=50x50 at 0x22A515F4220>. Consider rewriting this model with the Functional API.\n",
      "WARNING:tensorflow:Layers in a Sequential model should only have a single input tensor. Received: inputs=<PIL.Image.Image image mode=RGB size=50x50 at 0x22A515F4280>. Consider rewriting this model with the Functional API.\n",
      "WARNING:tensorflow:Layers in a Sequential model should only have a single input tensor. Received: inputs=<PIL.Image.Image image mode=RGB size=50x50 at 0x22A515F42E0>. Consider rewriting this model with the Functional API.\n",
      "WARNING:tensorflow:Layers in a Sequential model should only have a single input tensor. Received: inputs=<PIL.Image.Image image mode=RGB size=50x50 at 0x22A515F4340>. Consider rewriting this model with the Functional API.\n",
      "WARNING:tensorflow:Layers in a Sequential model should only have a single input tensor. Received: inputs=<PIL.Image.Image image mode=RGB size=50x50 at 0x22A515F43A0>. Consider rewriting this model with the Functional API.\n",
      "WARNING:tensorflow:Layers in a Sequential model should only have a single input tensor. Received: inputs=<PIL.Image.Image image mode=RGB size=50x50 at 0x22A515F4400>. Consider rewriting this model with the Functional API.\n",
      "WARNING:tensorflow:Layers in a Sequential model should only have a single input tensor. Received: inputs=<PIL.Image.Image image mode=RGB size=50x50 at 0x22A515F4460>. Consider rewriting this model with the Functional API.\n",
      "WARNING:tensorflow:Layers in a Sequential model should only have a single input tensor. Received: inputs=<PIL.Image.Image image mode=RGB size=50x50 at 0x22A515F44C0>. Consider rewriting this model with the Functional API.\n",
      "WARNING:tensorflow:Layers in a Sequential model should only have a single input tensor. Received: inputs=<PIL.Image.Image image mode=RGB size=50x50 at 0x22A515F4520>. Consider rewriting this model with the Functional API.\n",
      "WARNING:tensorflow:Layers in a Sequential model should only have a single input tensor. Received: inputs=<PIL.Image.Image image mode=RGB size=50x50 at 0x22A515F4580>. Consider rewriting this model with the Functional API.\n",
      "WARNING:tensorflow:Layers in a Sequential model should only have a single input tensor. Received: inputs=<PIL.Image.Image image mode=RGB size=50x50 at 0x22A515F45E0>. Consider rewriting this model with the Functional API.\n",
      "WARNING:tensorflow:Layers in a Sequential model should only have a single input tensor. Received: inputs=<PIL.Image.Image image mode=RGB size=50x50 at 0x22A515F4640>. Consider rewriting this model with the Functional API.\n",
      "WARNING:tensorflow:Layers in a Sequential model should only have a single input tensor. Received: inputs=<PIL.Image.Image image mode=RGB size=50x50 at 0x22A515F46A0>. Consider rewriting this model with the Functional API.\n",
      "WARNING:tensorflow:Layers in a Sequential model should only have a single input tensor. Received: inputs=<PIL.Image.Image image mode=RGB size=50x50 at 0x22A515F4700>. Consider rewriting this model with the Functional API.\n",
      "WARNING:tensorflow:Layers in a Sequential model should only have a single input tensor. Received: inputs=<PIL.Image.Image image mode=RGB size=50x50 at 0x22A515F4760>. Consider rewriting this model with the Functional API.\n",
      "WARNING:tensorflow:Layers in a Sequential model should only have a single input tensor. Received: inputs=<PIL.Image.Image image mode=RGB size=50x50 at 0x22A515F47C0>. Consider rewriting this model with the Functional API.\n",
      "WARNING:tensorflow:Layers in a Sequential model should only have a single input tensor. Received: inputs=<PIL.Image.Image image mode=RGB size=50x50 at 0x22A515F4820>. Consider rewriting this model with the Functional API.\n",
      "WARNING:tensorflow:Layers in a Sequential model should only have a single input tensor. Received: inputs=<PIL.Image.Image image mode=RGB size=50x50 at 0x22A515F4880>. Consider rewriting this model with the Functional API.\n",
      "WARNING:tensorflow:Layers in a Sequential model should only have a single input tensor. Received: inputs=<PIL.Image.Image image mode=RGB size=50x50 at 0x22A515F48E0>. Consider rewriting this model with the Functional API.\n",
      "WARNING:tensorflow:Layers in a Sequential model should only have a single input tensor. Received: inputs=<PIL.Image.Image image mode=RGB size=50x50 at 0x22A515F4940>. Consider rewriting this model with the Functional API.\n",
      "WARNING:tensorflow:Layers in a Sequential model should only have a single input tensor. Received: inputs=<PIL.Image.Image image mode=RGB size=50x50 at 0x22A515F49A0>. Consider rewriting this model with the Functional API.\n",
      "WARNING:tensorflow:Layers in a Sequential model should only have a single input tensor. Received: inputs=<PIL.Image.Image image mode=RGB size=50x50 at 0x22A515F4A00>. Consider rewriting this model with the Functional API.\n",
      "WARNING:tensorflow:Layers in a Sequential model should only have a single input tensor. Received: inputs=<PIL.Image.Image image mode=RGB size=50x50 at 0x22A515F4A60>. Consider rewriting this model with the Functional API.\n",
      "WARNING:tensorflow:Layers in a Sequential model should only have a single input tensor. Received: inputs=<PIL.Image.Image image mode=RGB size=50x50 at 0x22A515F4AC0>. Consider rewriting this model with the Functional API.\n",
      "WARNING:tensorflow:Layers in a Sequential model should only have a single input tensor. Received: inputs=<PIL.Image.Image image mode=RGB size=50x50 at 0x22A515F4B20>. Consider rewriting this model with the Functional API.\n",
      "WARNING:tensorflow:Layers in a Sequential model should only have a single input tensor. Received: inputs=<PIL.Image.Image image mode=RGB size=50x50 at 0x22A515F4B80>. Consider rewriting this model with the Functional API.\n"
     ]
    },
    {
     "name": "stdout",
     "output_type": "stream",
     "text": [
      "WARNING:tensorflow:Layers in a Sequential model should only have a single input tensor. Received: inputs=<PIL.Image.Image image mode=RGB size=50x50 at 0x22A515F4BE0>. Consider rewriting this model with the Functional API.\n",
      "WARNING:tensorflow:Layers in a Sequential model should only have a single input tensor. Received: inputs=<PIL.Image.Image image mode=RGB size=50x50 at 0x22A515F4C40>. Consider rewriting this model with the Functional API.\n",
      "WARNING:tensorflow:Layers in a Sequential model should only have a single input tensor. Received: inputs=<PIL.Image.Image image mode=RGB size=50x50 at 0x22A515F4CA0>. Consider rewriting this model with the Functional API.\n",
      "WARNING:tensorflow:Layers in a Sequential model should only have a single input tensor. Received: inputs=<PIL.Image.Image image mode=RGB size=50x50 at 0x22A515F4D00>. Consider rewriting this model with the Functional API.\n",
      "WARNING:tensorflow:Layers in a Sequential model should only have a single input tensor. Received: inputs=<PIL.Image.Image image mode=RGB size=50x50 at 0x22A515F4D60>. Consider rewriting this model with the Functional API.\n",
      "WARNING:tensorflow:Layers in a Sequential model should only have a single input tensor. Received: inputs=<PIL.Image.Image image mode=RGB size=50x50 at 0x22A515F4DC0>. Consider rewriting this model with the Functional API.\n",
      "WARNING:tensorflow:Layers in a Sequential model should only have a single input tensor. Received: inputs=<PIL.Image.Image image mode=RGB size=50x50 at 0x22A515F4E20>. Consider rewriting this model with the Functional API.\n",
      "WARNING:tensorflow:Layers in a Sequential model should only have a single input tensor. Received: inputs=<PIL.Image.Image image mode=RGB size=50x50 at 0x22A515F4E80>. Consider rewriting this model with the Functional API.\n",
      "WARNING:tensorflow:Layers in a Sequential model should only have a single input tensor. Received: inputs=<PIL.Image.Image image mode=RGB size=50x50 at 0x22A515F4EE0>. Consider rewriting this model with the Functional API.\n",
      "WARNING:tensorflow:Layers in a Sequential model should only have a single input tensor. Received: inputs=<PIL.Image.Image image mode=RGB size=50x50 at 0x22A515F4F40>. Consider rewriting this model with the Functional API.\n",
      "WARNING:tensorflow:Layers in a Sequential model should only have a single input tensor. Received: inputs=<PIL.Image.Image image mode=RGB size=50x50 at 0x22A515F4FA0>. Consider rewriting this model with the Functional API.\n",
      "WARNING:tensorflow:Layers in a Sequential model should only have a single input tensor. Received: inputs=<PIL.Image.Image image mode=RGB size=50x50 at 0x22A515F4FD0>. Consider rewriting this model with the Functional API.\n",
      "WARNING:tensorflow:Layers in a Sequential model should only have a single input tensor. Received: inputs=<PIL.Image.Image image mode=RGB size=50x50 at 0x22A516090A0>. Consider rewriting this model with the Functional API.\n",
      "WARNING:tensorflow:Layers in a Sequential model should only have a single input tensor. Received: inputs=<PIL.Image.Image image mode=RGB size=50x50 at 0x22A51609100>. Consider rewriting this model with the Functional API.\n",
      "WARNING:tensorflow:Layers in a Sequential model should only have a single input tensor. Received: inputs=<PIL.Image.Image image mode=RGB size=50x50 at 0x22A51609160>. Consider rewriting this model with the Functional API.\n",
      "WARNING:tensorflow:Layers in a Sequential model should only have a single input tensor. Received: inputs=<PIL.Image.Image image mode=RGB size=50x50 at 0x22A516091C0>. Consider rewriting this model with the Functional API.\n",
      "WARNING:tensorflow:Layers in a Sequential model should only have a single input tensor. Received: inputs=<PIL.Image.Image image mode=RGB size=50x50 at 0x22A51609220>. Consider rewriting this model with the Functional API.\n",
      "WARNING:tensorflow:Layers in a Sequential model should only have a single input tensor. Received: inputs=<PIL.Image.Image image mode=RGB size=50x50 at 0x22A51609280>. Consider rewriting this model with the Functional API.\n",
      "WARNING:tensorflow:Layers in a Sequential model should only have a single input tensor. Received: inputs=<PIL.Image.Image image mode=RGB size=50x50 at 0x22A516092E0>. Consider rewriting this model with the Functional API.\n",
      "WARNING:tensorflow:Layers in a Sequential model should only have a single input tensor. Received: inputs=<PIL.Image.Image image mode=RGB size=50x50 at 0x22A51609340>. Consider rewriting this model with the Functional API.\n",
      "WARNING:tensorflow:Layers in a Sequential model should only have a single input tensor. Received: inputs=<PIL.Image.Image image mode=RGB size=50x50 at 0x22A516093A0>. Consider rewriting this model with the Functional API.\n",
      "WARNING:tensorflow:Layers in a Sequential model should only have a single input tensor. Received: inputs=<PIL.Image.Image image mode=RGB size=50x50 at 0x22A51609400>. Consider rewriting this model with the Functional API.\n",
      "WARNING:tensorflow:Layers in a Sequential model should only have a single input tensor. Received: inputs=<PIL.Image.Image image mode=RGB size=50x50 at 0x22A51609460>. Consider rewriting this model with the Functional API.\n",
      "WARNING:tensorflow:Layers in a Sequential model should only have a single input tensor. Received: inputs=<PIL.Image.Image image mode=RGB size=50x50 at 0x22A516094C0>. Consider rewriting this model with the Functional API.\n",
      "WARNING:tensorflow:Layers in a Sequential model should only have a single input tensor. Received: inputs=<PIL.Image.Image image mode=RGB size=50x50 at 0x22A51609520>. Consider rewriting this model with the Functional API.\n",
      "WARNING:tensorflow:Layers in a Sequential model should only have a single input tensor. Received: inputs=<PIL.Image.Image image mode=RGB size=50x50 at 0x22A51609580>. Consider rewriting this model with the Functional API.\n",
      "WARNING:tensorflow:Layers in a Sequential model should only have a single input tensor. Received: inputs=<PIL.Image.Image image mode=RGB size=50x50 at 0x22A516095E0>. Consider rewriting this model with the Functional API.\n",
      "WARNING:tensorflow:Layers in a Sequential model should only have a single input tensor. Received: inputs=<PIL.Image.Image image mode=RGB size=50x50 at 0x22A51609640>. Consider rewriting this model with the Functional API.\n",
      "WARNING:tensorflow:Layers in a Sequential model should only have a single input tensor. Received: inputs=<PIL.Image.Image image mode=RGB size=50x50 at 0x22A516096A0>. Consider rewriting this model with the Functional API.\n",
      "WARNING:tensorflow:Layers in a Sequential model should only have a single input tensor. Received: inputs=<PIL.Image.Image image mode=RGB size=50x50 at 0x22A51609700>. Consider rewriting this model with the Functional API.\n",
      "WARNING:tensorflow:Layers in a Sequential model should only have a single input tensor. Received: inputs=<PIL.Image.Image image mode=RGB size=50x50 at 0x22A51609760>. Consider rewriting this model with the Functional API.\n",
      "WARNING:tensorflow:Layers in a Sequential model should only have a single input tensor. Received: inputs=<PIL.Image.Image image mode=RGB size=50x50 at 0x22A516097C0>. Consider rewriting this model with the Functional API.\n",
      "WARNING:tensorflow:Layers in a Sequential model should only have a single input tensor. Received: inputs=<PIL.Image.Image image mode=RGB size=50x50 at 0x22A51609820>. Consider rewriting this model with the Functional API.\n",
      "WARNING:tensorflow:Layers in a Sequential model should only have a single input tensor. Received: inputs=<PIL.Image.Image image mode=RGB size=50x50 at 0x22A51609880>. Consider rewriting this model with the Functional API.\n",
      "WARNING:tensorflow:Layers in a Sequential model should only have a single input tensor. Received: inputs=<PIL.Image.Image image mode=RGB size=50x50 at 0x22A516098E0>. Consider rewriting this model with the Functional API.\n",
      "WARNING:tensorflow:Layers in a Sequential model should only have a single input tensor. Received: inputs=<PIL.Image.Image image mode=RGB size=50x50 at 0x22A51609940>. Consider rewriting this model with the Functional API.\n",
      "WARNING:tensorflow:Layers in a Sequential model should only have a single input tensor. Received: inputs=<PIL.Image.Image image mode=RGB size=50x50 at 0x22A516099A0>. Consider rewriting this model with the Functional API.\n"
     ]
    },
    {
     "name": "stdout",
     "output_type": "stream",
     "text": [
      "WARNING:tensorflow:Layers in a Sequential model should only have a single input tensor. Received: inputs=<PIL.Image.Image image mode=RGB size=50x50 at 0x22A51609A00>. Consider rewriting this model with the Functional API.\n",
      "WARNING:tensorflow:Layers in a Sequential model should only have a single input tensor. Received: inputs=<PIL.Image.Image image mode=RGB size=50x50 at 0x22A51609A60>. Consider rewriting this model with the Functional API.\n",
      "WARNING:tensorflow:Layers in a Sequential model should only have a single input tensor. Received: inputs=<PIL.Image.Image image mode=RGB size=50x50 at 0x22A51609AC0>. Consider rewriting this model with the Functional API.\n",
      "WARNING:tensorflow:Layers in a Sequential model should only have a single input tensor. Received: inputs=<PIL.Image.Image image mode=RGB size=50x50 at 0x22A51609B20>. Consider rewriting this model with the Functional API.\n",
      "WARNING:tensorflow:Layers in a Sequential model should only have a single input tensor. Received: inputs=<PIL.Image.Image image mode=RGB size=50x50 at 0x22A51609B80>. Consider rewriting this model with the Functional API.\n",
      "WARNING:tensorflow:Layers in a Sequential model should only have a single input tensor. Received: inputs=<PIL.Image.Image image mode=RGB size=50x50 at 0x22A51609BE0>. Consider rewriting this model with the Functional API.\n",
      "WARNING:tensorflow:Layers in a Sequential model should only have a single input tensor. Received: inputs=<PIL.Image.Image image mode=RGB size=50x50 at 0x22A51609C40>. Consider rewriting this model with the Functional API.\n",
      "WARNING:tensorflow:Layers in a Sequential model should only have a single input tensor. Received: inputs=<PIL.Image.Image image mode=RGB size=50x50 at 0x22A51609CA0>. Consider rewriting this model with the Functional API.\n",
      "WARNING:tensorflow:Layers in a Sequential model should only have a single input tensor. Received: inputs=<PIL.Image.Image image mode=RGB size=50x50 at 0x22A51609D00>. Consider rewriting this model with the Functional API.\n",
      "WARNING:tensorflow:Layers in a Sequential model should only have a single input tensor. Received: inputs=<PIL.Image.Image image mode=RGB size=50x50 at 0x22A51609D60>. Consider rewriting this model with the Functional API.\n",
      "WARNING:tensorflow:Layers in a Sequential model should only have a single input tensor. Received: inputs=<PIL.Image.Image image mode=RGB size=50x50 at 0x22A51609DC0>. Consider rewriting this model with the Functional API.\n",
      "WARNING:tensorflow:Layers in a Sequential model should only have a single input tensor. Received: inputs=<PIL.Image.Image image mode=RGB size=50x50 at 0x22A51609E20>. Consider rewriting this model with the Functional API.\n",
      "WARNING:tensorflow:Layers in a Sequential model should only have a single input tensor. Received: inputs=<PIL.Image.Image image mode=RGB size=50x50 at 0x22A51609E80>. Consider rewriting this model with the Functional API.\n",
      "WARNING:tensorflow:Layers in a Sequential model should only have a single input tensor. Received: inputs=<PIL.Image.Image image mode=RGB size=50x50 at 0x22A51609EE0>. Consider rewriting this model with the Functional API.\n",
      "WARNING:tensorflow:Layers in a Sequential model should only have a single input tensor. Received: inputs=<PIL.Image.Image image mode=RGB size=50x50 at 0x22A51609F40>. Consider rewriting this model with the Functional API.\n",
      "WARNING:tensorflow:Layers in a Sequential model should only have a single input tensor. Received: inputs=<PIL.Image.Image image mode=RGB size=50x50 at 0x22A51609FA0>. Consider rewriting this model with the Functional API.\n",
      "WARNING:tensorflow:Layers in a Sequential model should only have a single input tensor. Received: inputs=<PIL.Image.Image image mode=RGB size=50x50 at 0x22A51609FD0>. Consider rewriting this model with the Functional API.\n",
      "WARNING:tensorflow:Layers in a Sequential model should only have a single input tensor. Received: inputs=<PIL.Image.Image image mode=RGB size=50x50 at 0x22A5161E0A0>. Consider rewriting this model with the Functional API.\n",
      "WARNING:tensorflow:Layers in a Sequential model should only have a single input tensor. Received: inputs=<PIL.Image.Image image mode=RGB size=50x50 at 0x22A5161E100>. Consider rewriting this model with the Functional API.\n",
      "WARNING:tensorflow:Layers in a Sequential model should only have a single input tensor. Received: inputs=<PIL.Image.Image image mode=RGB size=50x50 at 0x22A5161E160>. Consider rewriting this model with the Functional API.\n",
      "WARNING:tensorflow:Layers in a Sequential model should only have a single input tensor. Received: inputs=<PIL.Image.Image image mode=RGB size=50x50 at 0x22A5161E1C0>. Consider rewriting this model with the Functional API.\n",
      "WARNING:tensorflow:Layers in a Sequential model should only have a single input tensor. Received: inputs=<PIL.Image.Image image mode=RGB size=50x50 at 0x22A5161E220>. Consider rewriting this model with the Functional API.\n",
      "WARNING:tensorflow:Layers in a Sequential model should only have a single input tensor. Received: inputs=<PIL.Image.Image image mode=RGB size=50x50 at 0x22A5161E280>. Consider rewriting this model with the Functional API.\n",
      "WARNING:tensorflow:Layers in a Sequential model should only have a single input tensor. Received: inputs=<PIL.Image.Image image mode=RGB size=50x50 at 0x22A5161E2E0>. Consider rewriting this model with the Functional API.\n",
      "WARNING:tensorflow:Layers in a Sequential model should only have a single input tensor. Received: inputs=<PIL.Image.Image image mode=RGB size=50x50 at 0x22A5161E340>. Consider rewriting this model with the Functional API.\n",
      "WARNING:tensorflow:Layers in a Sequential model should only have a single input tensor. Received: inputs=<PIL.Image.Image image mode=RGB size=50x50 at 0x22A5161E3A0>. Consider rewriting this model with the Functional API.\n",
      "WARNING:tensorflow:Layers in a Sequential model should only have a single input tensor. Received: inputs=<PIL.Image.Image image mode=RGB size=50x50 at 0x22A5161E400>. Consider rewriting this model with the Functional API.\n",
      "WARNING:tensorflow:Layers in a Sequential model should only have a single input tensor. Received: inputs=<PIL.Image.Image image mode=RGB size=50x50 at 0x22A5161E460>. Consider rewriting this model with the Functional API.\n",
      "WARNING:tensorflow:Layers in a Sequential model should only have a single input tensor. Received: inputs=<PIL.Image.Image image mode=RGB size=50x50 at 0x22A5161E4C0>. Consider rewriting this model with the Functional API.\n",
      "WARNING:tensorflow:Layers in a Sequential model should only have a single input tensor. Received: inputs=<PIL.Image.Image image mode=RGB size=50x50 at 0x22A5161E520>. Consider rewriting this model with the Functional API.\n",
      "WARNING:tensorflow:Layers in a Sequential model should only have a single input tensor. Received: inputs=<PIL.Image.Image image mode=RGB size=50x50 at 0x22A5161E580>. Consider rewriting this model with the Functional API.\n",
      "WARNING:tensorflow:Layers in a Sequential model should only have a single input tensor. Received: inputs=<PIL.Image.Image image mode=RGB size=50x50 at 0x22A5161E5E0>. Consider rewriting this model with the Functional API.\n",
      "WARNING:tensorflow:Layers in a Sequential model should only have a single input tensor. Received: inputs=<PIL.Image.Image image mode=RGB size=50x50 at 0x22A5161E640>. Consider rewriting this model with the Functional API.\n",
      "WARNING:tensorflow:Layers in a Sequential model should only have a single input tensor. Received: inputs=<PIL.Image.Image image mode=RGB size=50x50 at 0x22A5161E6A0>. Consider rewriting this model with the Functional API.\n",
      "WARNING:tensorflow:Layers in a Sequential model should only have a single input tensor. Received: inputs=<PIL.Image.Image image mode=RGB size=50x50 at 0x22A5161E700>. Consider rewriting this model with the Functional API.\n",
      "WARNING:tensorflow:Layers in a Sequential model should only have a single input tensor. Received: inputs=<PIL.Image.Image image mode=RGB size=50x50 at 0x22A5161E760>. Consider rewriting this model with the Functional API.\n",
      "WARNING:tensorflow:Layers in a Sequential model should only have a single input tensor. Received: inputs=<PIL.Image.Image image mode=RGB size=50x50 at 0x22A5161E7C0>. Consider rewriting this model with the Functional API.\n"
     ]
    },
    {
     "name": "stdout",
     "output_type": "stream",
     "text": [
      "WARNING:tensorflow:Layers in a Sequential model should only have a single input tensor. Received: inputs=<PIL.Image.Image image mode=RGB size=50x50 at 0x22A5161E820>. Consider rewriting this model with the Functional API.\n",
      "WARNING:tensorflow:Layers in a Sequential model should only have a single input tensor. Received: inputs=<PIL.Image.Image image mode=RGB size=50x50 at 0x22A5161E880>. Consider rewriting this model with the Functional API.\n",
      "WARNING:tensorflow:Layers in a Sequential model should only have a single input tensor. Received: inputs=<PIL.Image.Image image mode=RGB size=50x50 at 0x22A5161E8E0>. Consider rewriting this model with the Functional API.\n",
      "WARNING:tensorflow:Layers in a Sequential model should only have a single input tensor. Received: inputs=<PIL.Image.Image image mode=RGB size=50x50 at 0x22A5161E940>. Consider rewriting this model with the Functional API.\n",
      "WARNING:tensorflow:Layers in a Sequential model should only have a single input tensor. Received: inputs=<PIL.Image.Image image mode=RGB size=50x50 at 0x22A5161E9A0>. Consider rewriting this model with the Functional API.\n",
      "WARNING:tensorflow:Layers in a Sequential model should only have a single input tensor. Received: inputs=<PIL.Image.Image image mode=RGB size=50x50 at 0x22A5161EA00>. Consider rewriting this model with the Functional API.\n",
      "WARNING:tensorflow:Layers in a Sequential model should only have a single input tensor. Received: inputs=<PIL.Image.Image image mode=RGB size=50x50 at 0x22A5161EA60>. Consider rewriting this model with the Functional API.\n",
      "WARNING:tensorflow:Layers in a Sequential model should only have a single input tensor. Received: inputs=<PIL.Image.Image image mode=RGB size=50x50 at 0x22A5161EAC0>. Consider rewriting this model with the Functional API.\n",
      "WARNING:tensorflow:Layers in a Sequential model should only have a single input tensor. Received: inputs=<PIL.Image.Image image mode=RGB size=50x50 at 0x22A5161EB20>. Consider rewriting this model with the Functional API.\n",
      "WARNING:tensorflow:Layers in a Sequential model should only have a single input tensor. Received: inputs=<PIL.Image.Image image mode=RGB size=50x50 at 0x22A5161EB80>. Consider rewriting this model with the Functional API.\n",
      "WARNING:tensorflow:Layers in a Sequential model should only have a single input tensor. Received: inputs=<PIL.Image.Image image mode=RGB size=50x50 at 0x22A5161EBE0>. Consider rewriting this model with the Functional API.\n",
      "WARNING:tensorflow:Layers in a Sequential model should only have a single input tensor. Received: inputs=<PIL.Image.Image image mode=RGB size=50x50 at 0x22A5161EC40>. Consider rewriting this model with the Functional API.\n",
      "WARNING:tensorflow:Layers in a Sequential model should only have a single input tensor. Received: inputs=<PIL.Image.Image image mode=RGB size=50x50 at 0x22A5161ECA0>. Consider rewriting this model with the Functional API.\n",
      "WARNING:tensorflow:Layers in a Sequential model should only have a single input tensor. Received: inputs=<PIL.Image.Image image mode=RGB size=50x50 at 0x22A5161ED00>. Consider rewriting this model with the Functional API.\n",
      "WARNING:tensorflow:Layers in a Sequential model should only have a single input tensor. Received: inputs=<PIL.Image.Image image mode=RGB size=50x50 at 0x22A5161ED60>. Consider rewriting this model with the Functional API.\n",
      "WARNING:tensorflow:Layers in a Sequential model should only have a single input tensor. Received: inputs=<PIL.Image.Image image mode=RGB size=50x50 at 0x22A5161EDC0>. Consider rewriting this model with the Functional API.\n",
      "WARNING:tensorflow:Layers in a Sequential model should only have a single input tensor. Received: inputs=<PIL.Image.Image image mode=RGB size=50x50 at 0x22A5161EE20>. Consider rewriting this model with the Functional API.\n",
      "WARNING:tensorflow:Layers in a Sequential model should only have a single input tensor. Received: inputs=<PIL.Image.Image image mode=RGB size=50x50 at 0x22A5161EE80>. Consider rewriting this model with the Functional API.\n",
      "WARNING:tensorflow:Layers in a Sequential model should only have a single input tensor. Received: inputs=<PIL.Image.Image image mode=RGB size=50x50 at 0x22A5161EEE0>. Consider rewriting this model with the Functional API.\n",
      "WARNING:tensorflow:Layers in a Sequential model should only have a single input tensor. Received: inputs=<PIL.Image.Image image mode=RGB size=50x50 at 0x22A5161EF40>. Consider rewriting this model with the Functional API.\n",
      "WARNING:tensorflow:Layers in a Sequential model should only have a single input tensor. Received: inputs=<PIL.Image.Image image mode=RGB size=50x50 at 0x22A5161EFA0>. Consider rewriting this model with the Functional API.\n",
      "WARNING:tensorflow:Layers in a Sequential model should only have a single input tensor. Received: inputs=<PIL.Image.Image image mode=RGB size=50x50 at 0x22A5161EFD0>. Consider rewriting this model with the Functional API.\n",
      "WARNING:tensorflow:Layers in a Sequential model should only have a single input tensor. Received: inputs=<PIL.Image.Image image mode=RGB size=50x50 at 0x22A516310A0>. Consider rewriting this model with the Functional API.\n",
      "WARNING:tensorflow:Layers in a Sequential model should only have a single input tensor. Received: inputs=<PIL.Image.Image image mode=RGB size=50x50 at 0x22A51631100>. Consider rewriting this model with the Functional API.\n",
      "WARNING:tensorflow:Layers in a Sequential model should only have a single input tensor. Received: inputs=<PIL.Image.Image image mode=RGB size=50x50 at 0x22A51631160>. Consider rewriting this model with the Functional API.\n",
      "WARNING:tensorflow:Layers in a Sequential model should only have a single input tensor. Received: inputs=<PIL.Image.Image image mode=RGB size=50x50 at 0x22A516311C0>. Consider rewriting this model with the Functional API.\n",
      "WARNING:tensorflow:Layers in a Sequential model should only have a single input tensor. Received: inputs=<PIL.Image.Image image mode=RGB size=50x50 at 0x22A51631220>. Consider rewriting this model with the Functional API.\n",
      "WARNING:tensorflow:Layers in a Sequential model should only have a single input tensor. Received: inputs=<PIL.Image.Image image mode=RGB size=50x50 at 0x22A51631280>. Consider rewriting this model with the Functional API.\n",
      "WARNING:tensorflow:Layers in a Sequential model should only have a single input tensor. Received: inputs=<PIL.Image.Image image mode=RGB size=50x50 at 0x22A516312E0>. Consider rewriting this model with the Functional API.\n",
      "WARNING:tensorflow:Layers in a Sequential model should only have a single input tensor. Received: inputs=<PIL.Image.Image image mode=RGB size=50x50 at 0x22A51631340>. Consider rewriting this model with the Functional API.\n",
      "WARNING:tensorflow:Layers in a Sequential model should only have a single input tensor. Received: inputs=<PIL.Image.Image image mode=RGB size=50x50 at 0x22A516313A0>. Consider rewriting this model with the Functional API.\n",
      "WARNING:tensorflow:Layers in a Sequential model should only have a single input tensor. Received: inputs=<PIL.Image.Image image mode=RGB size=50x50 at 0x22A51631400>. Consider rewriting this model with the Functional API.\n",
      "WARNING:tensorflow:Layers in a Sequential model should only have a single input tensor. Received: inputs=<PIL.Image.Image image mode=RGB size=50x50 at 0x22A51631460>. Consider rewriting this model with the Functional API.\n",
      "WARNING:tensorflow:Layers in a Sequential model should only have a single input tensor. Received: inputs=<PIL.Image.Image image mode=RGB size=50x50 at 0x22A516314C0>. Consider rewriting this model with the Functional API.\n",
      "WARNING:tensorflow:Layers in a Sequential model should only have a single input tensor. Received: inputs=<PIL.Image.Image image mode=RGB size=50x50 at 0x22A51631520>. Consider rewriting this model with the Functional API.\n",
      "WARNING:tensorflow:Layers in a Sequential model should only have a single input tensor. Received: inputs=<PIL.Image.Image image mode=RGB size=50x50 at 0x22A51631580>. Consider rewriting this model with the Functional API.\n",
      "WARNING:tensorflow:Layers in a Sequential model should only have a single input tensor. Received: inputs=<PIL.Image.Image image mode=RGB size=50x50 at 0x22A516315E0>. Consider rewriting this model with the Functional API.\n"
     ]
    },
    {
     "name": "stdout",
     "output_type": "stream",
     "text": [
      "WARNING:tensorflow:Layers in a Sequential model should only have a single input tensor. Received: inputs=<PIL.Image.Image image mode=RGB size=50x50 at 0x22A51631640>. Consider rewriting this model with the Functional API.\n",
      "WARNING:tensorflow:Layers in a Sequential model should only have a single input tensor. Received: inputs=<PIL.Image.Image image mode=RGB size=50x50 at 0x22A516316A0>. Consider rewriting this model with the Functional API.\n",
      "WARNING:tensorflow:Layers in a Sequential model should only have a single input tensor. Received: inputs=<PIL.Image.Image image mode=RGB size=50x50 at 0x22A51631700>. Consider rewriting this model with the Functional API.\n",
      "WARNING:tensorflow:Layers in a Sequential model should only have a single input tensor. Received: inputs=<PIL.Image.Image image mode=RGB size=50x50 at 0x22A51631760>. Consider rewriting this model with the Functional API.\n",
      "WARNING:tensorflow:Layers in a Sequential model should only have a single input tensor. Received: inputs=<PIL.Image.Image image mode=RGB size=50x50 at 0x22A516317C0>. Consider rewriting this model with the Functional API.\n",
      "WARNING:tensorflow:Layers in a Sequential model should only have a single input tensor. Received: inputs=<PIL.Image.Image image mode=RGB size=50x50 at 0x22A51631820>. Consider rewriting this model with the Functional API.\n",
      "WARNING:tensorflow:Layers in a Sequential model should only have a single input tensor. Received: inputs=<PIL.Image.Image image mode=RGB size=50x50 at 0x22A51631880>. Consider rewriting this model with the Functional API.\n",
      "WARNING:tensorflow:Layers in a Sequential model should only have a single input tensor. Received: inputs=<PIL.Image.Image image mode=RGB size=50x50 at 0x22A516318E0>. Consider rewriting this model with the Functional API.\n",
      "WARNING:tensorflow:Layers in a Sequential model should only have a single input tensor. Received: inputs=<PIL.Image.Image image mode=RGB size=50x50 at 0x22A51631940>. Consider rewriting this model with the Functional API.\n",
      "WARNING:tensorflow:Layers in a Sequential model should only have a single input tensor. Received: inputs=<PIL.Image.Image image mode=RGB size=50x50 at 0x22A516319A0>. Consider rewriting this model with the Functional API.\n",
      "WARNING:tensorflow:Layers in a Sequential model should only have a single input tensor. Received: inputs=<PIL.Image.Image image mode=RGB size=50x50 at 0x22A51631A00>. Consider rewriting this model with the Functional API.\n",
      "WARNING:tensorflow:Layers in a Sequential model should only have a single input tensor. Received: inputs=<PIL.Image.Image image mode=RGB size=50x50 at 0x22A51631A60>. Consider rewriting this model with the Functional API.\n",
      "WARNING:tensorflow:Layers in a Sequential model should only have a single input tensor. Received: inputs=<PIL.Image.Image image mode=RGB size=50x50 at 0x22A51631AC0>. Consider rewriting this model with the Functional API.\n",
      "WARNING:tensorflow:Layers in a Sequential model should only have a single input tensor. Received: inputs=<PIL.Image.Image image mode=RGB size=50x50 at 0x22A51631B20>. Consider rewriting this model with the Functional API.\n",
      "WARNING:tensorflow:Layers in a Sequential model should only have a single input tensor. Received: inputs=<PIL.Image.Image image mode=RGB size=50x50 at 0x22A51631B80>. Consider rewriting this model with the Functional API.\n",
      "WARNING:tensorflow:Layers in a Sequential model should only have a single input tensor. Received: inputs=<PIL.Image.Image image mode=RGB size=50x50 at 0x22A51631BE0>. Consider rewriting this model with the Functional API.\n",
      "WARNING:tensorflow:Layers in a Sequential model should only have a single input tensor. Received: inputs=<PIL.Image.Image image mode=RGB size=50x50 at 0x22A51631C40>. Consider rewriting this model with the Functional API.\n",
      "WARNING:tensorflow:Layers in a Sequential model should only have a single input tensor. Received: inputs=<PIL.Image.Image image mode=RGB size=50x50 at 0x22A51631CA0>. Consider rewriting this model with the Functional API.\n",
      "WARNING:tensorflow:Layers in a Sequential model should only have a single input tensor. Received: inputs=<PIL.Image.Image image mode=RGB size=50x50 at 0x22A51631D00>. Consider rewriting this model with the Functional API.\n",
      "WARNING:tensorflow:Layers in a Sequential model should only have a single input tensor. Received: inputs=<PIL.Image.Image image mode=RGB size=50x50 at 0x22A51631D60>. Consider rewriting this model with the Functional API.\n",
      "WARNING:tensorflow:Layers in a Sequential model should only have a single input tensor. Received: inputs=<PIL.Image.Image image mode=RGB size=50x50 at 0x22A51631DC0>. Consider rewriting this model with the Functional API.\n",
      "WARNING:tensorflow:Layers in a Sequential model should only have a single input tensor. Received: inputs=<PIL.Image.Image image mode=RGB size=50x50 at 0x22A51631E20>. Consider rewriting this model with the Functional API.\n",
      "WARNING:tensorflow:Layers in a Sequential model should only have a single input tensor. Received: inputs=<PIL.Image.Image image mode=RGB size=50x50 at 0x22A51631E80>. Consider rewriting this model with the Functional API.\n",
      "WARNING:tensorflow:Layers in a Sequential model should only have a single input tensor. Received: inputs=<PIL.Image.Image image mode=RGB size=50x50 at 0x22A51631EE0>. Consider rewriting this model with the Functional API.\n",
      "WARNING:tensorflow:Layers in a Sequential model should only have a single input tensor. Received: inputs=<PIL.Image.Image image mode=RGB size=50x50 at 0x22A51631F40>. Consider rewriting this model with the Functional API.\n",
      "WARNING:tensorflow:Layers in a Sequential model should only have a single input tensor. Received: inputs=<PIL.Image.Image image mode=RGB size=50x50 at 0x22A51631FA0>. Consider rewriting this model with the Functional API.\n",
      "WARNING:tensorflow:Layers in a Sequential model should only have a single input tensor. Received: inputs=<PIL.Image.Image image mode=RGB size=50x50 at 0x22A51631FD0>. Consider rewriting this model with the Functional API.\n",
      "WARNING:tensorflow:Layers in a Sequential model should only have a single input tensor. Received: inputs=<PIL.Image.Image image mode=RGB size=50x50 at 0x22A5164A0A0>. Consider rewriting this model with the Functional API.\n",
      "WARNING:tensorflow:Layers in a Sequential model should only have a single input tensor. Received: inputs=<PIL.Image.Image image mode=RGB size=50x50 at 0x22A5164A100>. Consider rewriting this model with the Functional API.\n",
      "WARNING:tensorflow:Layers in a Sequential model should only have a single input tensor. Received: inputs=<PIL.Image.Image image mode=RGB size=50x50 at 0x22A5164A1C0>. Consider rewriting this model with the Functional API.\n",
      "WARNING:tensorflow:Layers in a Sequential model should only have a single input tensor. Received: inputs=<PIL.Image.Image image mode=RGB size=50x50 at 0x22A5164A220>. Consider rewriting this model with the Functional API.\n",
      "WARNING:tensorflow:Layers in a Sequential model should only have a single input tensor. Received: inputs=<PIL.Image.Image image mode=RGB size=50x50 at 0x22A5164A280>. Consider rewriting this model with the Functional API.\n",
      "WARNING:tensorflow:Layers in a Sequential model should only have a single input tensor. Received: inputs=<PIL.Image.Image image mode=RGB size=50x50 at 0x22A5164A2E0>. Consider rewriting this model with the Functional API.\n",
      "WARNING:tensorflow:Layers in a Sequential model should only have a single input tensor. Received: inputs=<PIL.Image.Image image mode=RGB size=50x50 at 0x22A5164A340>. Consider rewriting this model with the Functional API.\n",
      "WARNING:tensorflow:Layers in a Sequential model should only have a single input tensor. Received: inputs=<PIL.Image.Image image mode=RGB size=50x50 at 0x22A5164A3A0>. Consider rewriting this model with the Functional API.\n",
      "WARNING:tensorflow:Layers in a Sequential model should only have a single input tensor. Received: inputs=<PIL.Image.Image image mode=RGB size=50x50 at 0x22A5164A400>. Consider rewriting this model with the Functional API.\n",
      "WARNING:tensorflow:Layers in a Sequential model should only have a single input tensor. Received: inputs=<PIL.Image.Image image mode=RGB size=50x50 at 0x22A5164A460>. Consider rewriting this model with the Functional API.\n"
     ]
    },
    {
     "name": "stdout",
     "output_type": "stream",
     "text": [
      "WARNING:tensorflow:Layers in a Sequential model should only have a single input tensor. Received: inputs=<PIL.Image.Image image mode=RGB size=50x50 at 0x22A5164A4C0>. Consider rewriting this model with the Functional API.\n",
      "WARNING:tensorflow:Layers in a Sequential model should only have a single input tensor. Received: inputs=<PIL.Image.Image image mode=RGB size=50x50 at 0x22A5164A520>. Consider rewriting this model with the Functional API.\n",
      "WARNING:tensorflow:Layers in a Sequential model should only have a single input tensor. Received: inputs=<PIL.Image.Image image mode=RGB size=50x50 at 0x22A5164A580>. Consider rewriting this model with the Functional API.\n",
      "WARNING:tensorflow:Layers in a Sequential model should only have a single input tensor. Received: inputs=<PIL.Image.Image image mode=RGB size=50x50 at 0x22A5164A5E0>. Consider rewriting this model with the Functional API.\n",
      "WARNING:tensorflow:Layers in a Sequential model should only have a single input tensor. Received: inputs=<PIL.Image.Image image mode=RGB size=50x50 at 0x22A5164A640>. Consider rewriting this model with the Functional API.\n",
      "WARNING:tensorflow:Layers in a Sequential model should only have a single input tensor. Received: inputs=<PIL.Image.Image image mode=RGB size=50x50 at 0x22A5164A6A0>. Consider rewriting this model with the Functional API.\n",
      "WARNING:tensorflow:Layers in a Sequential model should only have a single input tensor. Received: inputs=<PIL.Image.Image image mode=RGB size=50x50 at 0x22A5164A700>. Consider rewriting this model with the Functional API.\n",
      "WARNING:tensorflow:Layers in a Sequential model should only have a single input tensor. Received: inputs=<PIL.Image.Image image mode=RGB size=50x50 at 0x22A5164A760>. Consider rewriting this model with the Functional API.\n",
      "WARNING:tensorflow:Layers in a Sequential model should only have a single input tensor. Received: inputs=<PIL.Image.Image image mode=RGB size=50x50 at 0x22A5164A7C0>. Consider rewriting this model with the Functional API.\n",
      "WARNING:tensorflow:Layers in a Sequential model should only have a single input tensor. Received: inputs=<PIL.Image.Image image mode=RGB size=50x50 at 0x22A5164A820>. Consider rewriting this model with the Functional API.\n",
      "WARNING:tensorflow:Layers in a Sequential model should only have a single input tensor. Received: inputs=<PIL.Image.Image image mode=RGB size=50x50 at 0x22A5164A880>. Consider rewriting this model with the Functional API.\n",
      "WARNING:tensorflow:Layers in a Sequential model should only have a single input tensor. Received: inputs=<PIL.Image.Image image mode=RGB size=50x50 at 0x22A5164A8E0>. Consider rewriting this model with the Functional API.\n",
      "WARNING:tensorflow:Layers in a Sequential model should only have a single input tensor. Received: inputs=<PIL.Image.Image image mode=RGB size=50x50 at 0x22A5164A940>. Consider rewriting this model with the Functional API.\n",
      "WARNING:tensorflow:Layers in a Sequential model should only have a single input tensor. Received: inputs=<PIL.Image.Image image mode=RGB size=50x50 at 0x22A5164A9A0>. Consider rewriting this model with the Functional API.\n",
      "WARNING:tensorflow:Layers in a Sequential model should only have a single input tensor. Received: inputs=<PIL.Image.Image image mode=RGB size=50x50 at 0x22A5164AA00>. Consider rewriting this model with the Functional API.\n",
      "WARNING:tensorflow:Layers in a Sequential model should only have a single input tensor. Received: inputs=<PIL.Image.Image image mode=RGB size=50x50 at 0x22A5164AA60>. Consider rewriting this model with the Functional API.\n",
      "WARNING:tensorflow:Layers in a Sequential model should only have a single input tensor. Received: inputs=<PIL.Image.Image image mode=RGB size=50x50 at 0x22A5164AAC0>. Consider rewriting this model with the Functional API.\n",
      "WARNING:tensorflow:Layers in a Sequential model should only have a single input tensor. Received: inputs=<PIL.Image.Image image mode=RGB size=50x50 at 0x22A5164AB20>. Consider rewriting this model with the Functional API.\n",
      "WARNING:tensorflow:Layers in a Sequential model should only have a single input tensor. Received: inputs=<PIL.Image.Image image mode=RGB size=50x50 at 0x22A5164AB80>. Consider rewriting this model with the Functional API.\n",
      "WARNING:tensorflow:Layers in a Sequential model should only have a single input tensor. Received: inputs=<PIL.Image.Image image mode=RGB size=50x50 at 0x22A5164ABE0>. Consider rewriting this model with the Functional API.\n",
      "WARNING:tensorflow:Layers in a Sequential model should only have a single input tensor. Received: inputs=<PIL.Image.Image image mode=RGB size=50x50 at 0x22A5164AC40>. Consider rewriting this model with the Functional API.\n",
      "WARNING:tensorflow:Layers in a Sequential model should only have a single input tensor. Received: inputs=<PIL.Image.Image image mode=RGB size=50x50 at 0x22A5164ACA0>. Consider rewriting this model with the Functional API.\n",
      "WARNING:tensorflow:Layers in a Sequential model should only have a single input tensor. Received: inputs=<PIL.Image.Image image mode=RGB size=50x50 at 0x22A5164AD00>. Consider rewriting this model with the Functional API.\n",
      "WARNING:tensorflow:Layers in a Sequential model should only have a single input tensor. Received: inputs=<PIL.Image.Image image mode=RGB size=50x50 at 0x22A5164AD60>. Consider rewriting this model with the Functional API.\n",
      "WARNING:tensorflow:Layers in a Sequential model should only have a single input tensor. Received: inputs=<PIL.Image.Image image mode=RGB size=50x50 at 0x22A5164ADC0>. Consider rewriting this model with the Functional API.\n",
      "WARNING:tensorflow:Layers in a Sequential model should only have a single input tensor. Received: inputs=<PIL.Image.Image image mode=RGB size=50x50 at 0x22A5164AE20>. Consider rewriting this model with the Functional API.\n",
      "WARNING:tensorflow:Layers in a Sequential model should only have a single input tensor. Received: inputs=<PIL.Image.Image image mode=RGB size=50x50 at 0x22A5164AE80>. Consider rewriting this model with the Functional API.\n",
      "WARNING:tensorflow:Layers in a Sequential model should only have a single input tensor. Received: inputs=<PIL.Image.Image image mode=RGB size=50x50 at 0x22A5164AEE0>. Consider rewriting this model with the Functional API.\n",
      "WARNING:tensorflow:Layers in a Sequential model should only have a single input tensor. Received: inputs=<PIL.Image.Image image mode=RGB size=50x50 at 0x22A5164AF40>. Consider rewriting this model with the Functional API.\n",
      "WARNING:tensorflow:Layers in a Sequential model should only have a single input tensor. Received: inputs=<PIL.Image.Image image mode=RGB size=50x50 at 0x22A5164AFA0>. Consider rewriting this model with the Functional API.\n",
      "WARNING:tensorflow:Layers in a Sequential model should only have a single input tensor. Received: inputs=<PIL.Image.Image image mode=RGB size=50x50 at 0x22A5164AFD0>. Consider rewriting this model with the Functional API.\n",
      "WARNING:tensorflow:Layers in a Sequential model should only have a single input tensor. Received: inputs=<PIL.Image.Image image mode=RGB size=50x50 at 0x22A5165D0A0>. Consider rewriting this model with the Functional API.\n",
      "WARNING:tensorflow:Layers in a Sequential model should only have a single input tensor. Received: inputs=<PIL.Image.Image image mode=RGB size=50x50 at 0x22A5165D100>. Consider rewriting this model with the Functional API.\n",
      "WARNING:tensorflow:Layers in a Sequential model should only have a single input tensor. Received: inputs=<PIL.Image.Image image mode=RGB size=50x50 at 0x22A5165D160>. Consider rewriting this model with the Functional API.\n",
      "WARNING:tensorflow:Layers in a Sequential model should only have a single input tensor. Received: inputs=<PIL.Image.Image image mode=RGB size=50x50 at 0x22A5165D1C0>. Consider rewriting this model with the Functional API.\n",
      "WARNING:tensorflow:Layers in a Sequential model should only have a single input tensor. Received: inputs=<PIL.Image.Image image mode=RGB size=50x50 at 0x22A5165D220>. Consider rewriting this model with the Functional API.\n",
      "WARNING:tensorflow:Layers in a Sequential model should only have a single input tensor. Received: inputs=<PIL.Image.Image image mode=RGB size=50x50 at 0x22A5165D280>. Consider rewriting this model with the Functional API.\n"
     ]
    },
    {
     "name": "stdout",
     "output_type": "stream",
     "text": [
      "WARNING:tensorflow:Layers in a Sequential model should only have a single input tensor. Received: inputs=<PIL.Image.Image image mode=RGB size=50x50 at 0x22A5165D2E0>. Consider rewriting this model with the Functional API.\n",
      "WARNING:tensorflow:Layers in a Sequential model should only have a single input tensor. Received: inputs=<PIL.Image.Image image mode=RGB size=50x50 at 0x22A5165D340>. Consider rewriting this model with the Functional API.\n",
      "WARNING:tensorflow:Layers in a Sequential model should only have a single input tensor. Received: inputs=<PIL.Image.Image image mode=RGB size=50x50 at 0x22A5165D3A0>. Consider rewriting this model with the Functional API.\n",
      "WARNING:tensorflow:Layers in a Sequential model should only have a single input tensor. Received: inputs=<PIL.Image.Image image mode=RGB size=50x50 at 0x22A5165D400>. Consider rewriting this model with the Functional API.\n",
      "WARNING:tensorflow:Layers in a Sequential model should only have a single input tensor. Received: inputs=<PIL.Image.Image image mode=RGB size=50x50 at 0x22A5165D460>. Consider rewriting this model with the Functional API.\n",
      "WARNING:tensorflow:Layers in a Sequential model should only have a single input tensor. Received: inputs=<PIL.Image.Image image mode=RGB size=50x50 at 0x22A5165D4C0>. Consider rewriting this model with the Functional API.\n",
      "WARNING:tensorflow:Layers in a Sequential model should only have a single input tensor. Received: inputs=<PIL.Image.Image image mode=RGB size=50x50 at 0x22A5165D520>. Consider rewriting this model with the Functional API.\n",
      "WARNING:tensorflow:Layers in a Sequential model should only have a single input tensor. Received: inputs=<PIL.Image.Image image mode=RGB size=50x50 at 0x22A5165D580>. Consider rewriting this model with the Functional API.\n",
      "WARNING:tensorflow:Layers in a Sequential model should only have a single input tensor. Received: inputs=<PIL.Image.Image image mode=RGB size=50x50 at 0x22A5165D5E0>. Consider rewriting this model with the Functional API.\n",
      "WARNING:tensorflow:Layers in a Sequential model should only have a single input tensor. Received: inputs=<PIL.Image.Image image mode=RGB size=50x50 at 0x22A5165D640>. Consider rewriting this model with the Functional API.\n",
      "WARNING:tensorflow:Layers in a Sequential model should only have a single input tensor. Received: inputs=<PIL.Image.Image image mode=RGB size=50x50 at 0x22A5165D6A0>. Consider rewriting this model with the Functional API.\n",
      "WARNING:tensorflow:Layers in a Sequential model should only have a single input tensor. Received: inputs=<PIL.Image.Image image mode=RGB size=50x50 at 0x22A5165D700>. Consider rewriting this model with the Functional API.\n",
      "WARNING:tensorflow:Layers in a Sequential model should only have a single input tensor. Received: inputs=<PIL.Image.Image image mode=RGB size=50x50 at 0x22A5165D760>. Consider rewriting this model with the Functional API.\n",
      "WARNING:tensorflow:Layers in a Sequential model should only have a single input tensor. Received: inputs=<PIL.Image.Image image mode=RGB size=50x50 at 0x22A5165D7C0>. Consider rewriting this model with the Functional API.\n",
      "WARNING:tensorflow:Layers in a Sequential model should only have a single input tensor. Received: inputs=<PIL.Image.Image image mode=RGB size=50x50 at 0x22A5165D820>. Consider rewriting this model with the Functional API.\n",
      "WARNING:tensorflow:Layers in a Sequential model should only have a single input tensor. Received: inputs=<PIL.Image.Image image mode=RGB size=50x50 at 0x22A5165D880>. Consider rewriting this model with the Functional API.\n",
      "WARNING:tensorflow:Layers in a Sequential model should only have a single input tensor. Received: inputs=<PIL.Image.Image image mode=RGB size=50x50 at 0x22A5165D8E0>. Consider rewriting this model with the Functional API.\n",
      "WARNING:tensorflow:Layers in a Sequential model should only have a single input tensor. Received: inputs=<PIL.Image.Image image mode=RGB size=50x50 at 0x22A5165D940>. Consider rewriting this model with the Functional API.\n",
      "WARNING:tensorflow:Layers in a Sequential model should only have a single input tensor. Received: inputs=<PIL.Image.Image image mode=RGB size=50x50 at 0x22A5165D9A0>. Consider rewriting this model with the Functional API.\n",
      "WARNING:tensorflow:Layers in a Sequential model should only have a single input tensor. Received: inputs=<PIL.Image.Image image mode=RGB size=50x50 at 0x22A5165DA00>. Consider rewriting this model with the Functional API.\n",
      "WARNING:tensorflow:Layers in a Sequential model should only have a single input tensor. Received: inputs=<PIL.Image.Image image mode=RGB size=50x50 at 0x22A5165DA60>. Consider rewriting this model with the Functional API.\n",
      "WARNING:tensorflow:Layers in a Sequential model should only have a single input tensor. Received: inputs=<PIL.Image.Image image mode=RGB size=50x50 at 0x22A5165DAC0>. Consider rewriting this model with the Functional API.\n",
      "WARNING:tensorflow:Layers in a Sequential model should only have a single input tensor. Received: inputs=<PIL.Image.Image image mode=RGB size=50x50 at 0x22A5165DB20>. Consider rewriting this model with the Functional API.\n",
      "WARNING:tensorflow:Layers in a Sequential model should only have a single input tensor. Received: inputs=<PIL.Image.Image image mode=RGB size=50x50 at 0x22A5165DB80>. Consider rewriting this model with the Functional API.\n",
      "WARNING:tensorflow:Layers in a Sequential model should only have a single input tensor. Received: inputs=<PIL.Image.Image image mode=RGB size=50x50 at 0x22A5165DBE0>. Consider rewriting this model with the Functional API.\n",
      "WARNING:tensorflow:Layers in a Sequential model should only have a single input tensor. Received: inputs=<PIL.Image.Image image mode=RGB size=50x50 at 0x22A5165DC40>. Consider rewriting this model with the Functional API.\n",
      "WARNING:tensorflow:Layers in a Sequential model should only have a single input tensor. Received: inputs=<PIL.Image.Image image mode=RGB size=50x50 at 0x22A5165DCA0>. Consider rewriting this model with the Functional API.\n",
      "WARNING:tensorflow:Layers in a Sequential model should only have a single input tensor. Received: inputs=<PIL.Image.Image image mode=RGB size=50x50 at 0x22A5165DD00>. Consider rewriting this model with the Functional API.\n",
      "WARNING:tensorflow:Layers in a Sequential model should only have a single input tensor. Received: inputs=<PIL.Image.Image image mode=RGB size=50x50 at 0x22A5165DD60>. Consider rewriting this model with the Functional API.\n",
      "WARNING:tensorflow:Layers in a Sequential model should only have a single input tensor. Received: inputs=<PIL.Image.Image image mode=RGB size=50x50 at 0x22A5165DDC0>. Consider rewriting this model with the Functional API.\n",
      "WARNING:tensorflow:Layers in a Sequential model should only have a single input tensor. Received: inputs=<PIL.Image.Image image mode=RGB size=50x50 at 0x22A5165DE20>. Consider rewriting this model with the Functional API.\n",
      "WARNING:tensorflow:Layers in a Sequential model should only have a single input tensor. Received: inputs=<PIL.Image.Image image mode=RGB size=50x50 at 0x22A5165DE80>. Consider rewriting this model with the Functional API.\n",
      "WARNING:tensorflow:Layers in a Sequential model should only have a single input tensor. Received: inputs=<PIL.Image.Image image mode=RGB size=50x50 at 0x22A5165DEE0>. Consider rewriting this model with the Functional API.\n",
      "WARNING:tensorflow:Layers in a Sequential model should only have a single input tensor. Received: inputs=<PIL.Image.Image image mode=RGB size=50x50 at 0x22A5165DF40>. Consider rewriting this model with the Functional API.\n",
      "WARNING:tensorflow:Layers in a Sequential model should only have a single input tensor. Received: inputs=<PIL.Image.Image image mode=RGB size=50x50 at 0x22A5165DFA0>. Consider rewriting this model with the Functional API.\n",
      "WARNING:tensorflow:Layers in a Sequential model should only have a single input tensor. Received: inputs=<PIL.Image.Image image mode=RGB size=50x50 at 0x22A5165DFD0>. Consider rewriting this model with the Functional API.\n",
      "WARNING:tensorflow:Layers in a Sequential model should only have a single input tensor. Received: inputs=<PIL.Image.Image image mode=RGB size=50x50 at 0x22A516720A0>. Consider rewriting this model with the Functional API.\n"
     ]
    },
    {
     "name": "stdout",
     "output_type": "stream",
     "text": [
      "WARNING:tensorflow:Layers in a Sequential model should only have a single input tensor. Received: inputs=<PIL.Image.Image image mode=RGB size=50x50 at 0x22A51672100>. Consider rewriting this model with the Functional API.\n",
      "WARNING:tensorflow:Layers in a Sequential model should only have a single input tensor. Received: inputs=<PIL.Image.Image image mode=RGB size=50x50 at 0x22A51672160>. Consider rewriting this model with the Functional API.\n",
      "WARNING:tensorflow:Layers in a Sequential model should only have a single input tensor. Received: inputs=<PIL.Image.Image image mode=RGB size=50x50 at 0x22A516721C0>. Consider rewriting this model with the Functional API.\n",
      "WARNING:tensorflow:Layers in a Sequential model should only have a single input tensor. Received: inputs=<PIL.Image.Image image mode=RGB size=50x50 at 0x22A51672220>. Consider rewriting this model with the Functional API.\n",
      "WARNING:tensorflow:Layers in a Sequential model should only have a single input tensor. Received: inputs=<PIL.Image.Image image mode=RGB size=50x50 at 0x22A51672280>. Consider rewriting this model with the Functional API.\n",
      "WARNING:tensorflow:Layers in a Sequential model should only have a single input tensor. Received: inputs=<PIL.Image.Image image mode=RGB size=50x50 at 0x22A516722E0>. Consider rewriting this model with the Functional API.\n",
      "WARNING:tensorflow:Layers in a Sequential model should only have a single input tensor. Received: inputs=<PIL.Image.Image image mode=RGB size=50x50 at 0x22A51672340>. Consider rewriting this model with the Functional API.\n",
      "WARNING:tensorflow:Layers in a Sequential model should only have a single input tensor. Received: inputs=<PIL.Image.Image image mode=RGB size=50x50 at 0x22A516723A0>. Consider rewriting this model with the Functional API.\n",
      "WARNING:tensorflow:Layers in a Sequential model should only have a single input tensor. Received: inputs=<PIL.Image.Image image mode=RGB size=50x50 at 0x22A51672400>. Consider rewriting this model with the Functional API.\n",
      "WARNING:tensorflow:Layers in a Sequential model should only have a single input tensor. Received: inputs=<PIL.Image.Image image mode=RGB size=50x50 at 0x22A51672460>. Consider rewriting this model with the Functional API.\n",
      "WARNING:tensorflow:Layers in a Sequential model should only have a single input tensor. Received: inputs=<PIL.Image.Image image mode=RGB size=50x50 at 0x22A516724C0>. Consider rewriting this model with the Functional API.\n",
      "WARNING:tensorflow:Layers in a Sequential model should only have a single input tensor. Received: inputs=<PIL.Image.Image image mode=RGB size=50x50 at 0x22A51672520>. Consider rewriting this model with the Functional API.\n",
      "WARNING:tensorflow:Layers in a Sequential model should only have a single input tensor. Received: inputs=<PIL.Image.Image image mode=RGB size=50x50 at 0x22A51672580>. Consider rewriting this model with the Functional API.\n",
      "WARNING:tensorflow:Layers in a Sequential model should only have a single input tensor. Received: inputs=<PIL.Image.Image image mode=RGB size=50x50 at 0x22A516725E0>. Consider rewriting this model with the Functional API.\n",
      "WARNING:tensorflow:Layers in a Sequential model should only have a single input tensor. Received: inputs=<PIL.Image.Image image mode=RGB size=50x50 at 0x22A51672640>. Consider rewriting this model with the Functional API.\n",
      "WARNING:tensorflow:Layers in a Sequential model should only have a single input tensor. Received: inputs=<PIL.Image.Image image mode=RGB size=50x50 at 0x22A516726A0>. Consider rewriting this model with the Functional API.\n",
      "WARNING:tensorflow:Layers in a Sequential model should only have a single input tensor. Received: inputs=<PIL.Image.Image image mode=RGB size=50x50 at 0x22A51672700>. Consider rewriting this model with the Functional API.\n",
      "WARNING:tensorflow:Layers in a Sequential model should only have a single input tensor. Received: inputs=<PIL.Image.Image image mode=RGB size=50x50 at 0x22A51672760>. Consider rewriting this model with the Functional API.\n",
      "WARNING:tensorflow:Layers in a Sequential model should only have a single input tensor. Received: inputs=<PIL.Image.Image image mode=RGB size=50x50 at 0x22A516727C0>. Consider rewriting this model with the Functional API.\n",
      "WARNING:tensorflow:Layers in a Sequential model should only have a single input tensor. Received: inputs=<PIL.Image.Image image mode=RGB size=50x50 at 0x22A51672820>. Consider rewriting this model with the Functional API.\n",
      "WARNING:tensorflow:Layers in a Sequential model should only have a single input tensor. Received: inputs=<PIL.Image.Image image mode=RGB size=50x50 at 0x22A51672880>. Consider rewriting this model with the Functional API.\n",
      "WARNING:tensorflow:Layers in a Sequential model should only have a single input tensor. Received: inputs=<PIL.Image.Image image mode=RGB size=50x50 at 0x22A516728E0>. Consider rewriting this model with the Functional API.\n",
      "WARNING:tensorflow:Layers in a Sequential model should only have a single input tensor. Received: inputs=<PIL.Image.Image image mode=RGB size=50x50 at 0x22A51672940>. Consider rewriting this model with the Functional API.\n",
      "WARNING:tensorflow:Layers in a Sequential model should only have a single input tensor. Received: inputs=<PIL.Image.Image image mode=RGB size=50x50 at 0x22A516729A0>. Consider rewriting this model with the Functional API.\n",
      "WARNING:tensorflow:Layers in a Sequential model should only have a single input tensor. Received: inputs=<PIL.Image.Image image mode=RGB size=50x50 at 0x22A51672A00>. Consider rewriting this model with the Functional API.\n",
      "WARNING:tensorflow:Layers in a Sequential model should only have a single input tensor. Received: inputs=<PIL.Image.Image image mode=RGB size=50x50 at 0x22A51672A60>. Consider rewriting this model with the Functional API.\n",
      "WARNING:tensorflow:Layers in a Sequential model should only have a single input tensor. Received: inputs=<PIL.Image.Image image mode=RGB size=50x50 at 0x22A51672AC0>. Consider rewriting this model with the Functional API.\n",
      "WARNING:tensorflow:Layers in a Sequential model should only have a single input tensor. Received: inputs=<PIL.Image.Image image mode=RGB size=50x50 at 0x22A51672B20>. Consider rewriting this model with the Functional API.\n",
      "WARNING:tensorflow:Layers in a Sequential model should only have a single input tensor. Received: inputs=<PIL.Image.Image image mode=RGB size=50x50 at 0x22A51672B80>. Consider rewriting this model with the Functional API.\n",
      "WARNING:tensorflow:Layers in a Sequential model should only have a single input tensor. Received: inputs=<PIL.Image.Image image mode=RGB size=50x50 at 0x22A51672BE0>. Consider rewriting this model with the Functional API.\n",
      "WARNING:tensorflow:Layers in a Sequential model should only have a single input tensor. Received: inputs=<PIL.Image.Image image mode=RGB size=50x50 at 0x22A51672C40>. Consider rewriting this model with the Functional API.\n",
      "WARNING:tensorflow:Layers in a Sequential model should only have a single input tensor. Received: inputs=<PIL.Image.Image image mode=RGB size=50x50 at 0x22A51672CA0>. Consider rewriting this model with the Functional API.\n",
      "WARNING:tensorflow:Layers in a Sequential model should only have a single input tensor. Received: inputs=<PIL.Image.Image image mode=RGB size=50x50 at 0x22A51672D00>. Consider rewriting this model with the Functional API.\n",
      "WARNING:tensorflow:Layers in a Sequential model should only have a single input tensor. Received: inputs=<PIL.Image.Image image mode=RGB size=50x50 at 0x22A51672D60>. Consider rewriting this model with the Functional API.\n",
      "WARNING:tensorflow:Layers in a Sequential model should only have a single input tensor. Received: inputs=<PIL.Image.Image image mode=RGB size=50x50 at 0x22A51672DC0>. Consider rewriting this model with the Functional API.\n",
      "WARNING:tensorflow:Layers in a Sequential model should only have a single input tensor. Received: inputs=<PIL.Image.Image image mode=RGB size=50x50 at 0x22A51672E20>. Consider rewriting this model with the Functional API.\n",
      "WARNING:tensorflow:Layers in a Sequential model should only have a single input tensor. Received: inputs=<PIL.Image.Image image mode=RGB size=50x50 at 0x22A51672E80>. Consider rewriting this model with the Functional API.\n"
     ]
    },
    {
     "name": "stdout",
     "output_type": "stream",
     "text": [
      "WARNING:tensorflow:Layers in a Sequential model should only have a single input tensor. Received: inputs=<PIL.Image.Image image mode=RGB size=50x50 at 0x22A51672EE0>. Consider rewriting this model with the Functional API.\n",
      "WARNING:tensorflow:Layers in a Sequential model should only have a single input tensor. Received: inputs=<PIL.Image.Image image mode=RGB size=50x50 at 0x22A51672F40>. Consider rewriting this model with the Functional API.\n",
      "WARNING:tensorflow:Layers in a Sequential model should only have a single input tensor. Received: inputs=<PIL.Image.Image image mode=RGB size=50x50 at 0x22A51672FA0>. Consider rewriting this model with the Functional API.\n",
      "WARNING:tensorflow:Layers in a Sequential model should only have a single input tensor. Received: inputs=<PIL.Image.Image image mode=RGB size=50x50 at 0x22A51672FD0>. Consider rewriting this model with the Functional API.\n",
      "WARNING:tensorflow:Layers in a Sequential model should only have a single input tensor. Received: inputs=<PIL.Image.Image image mode=RGB size=50x50 at 0x22A516870A0>. Consider rewriting this model with the Functional API.\n",
      "WARNING:tensorflow:Layers in a Sequential model should only have a single input tensor. Received: inputs=<PIL.Image.Image image mode=RGB size=50x50 at 0x22A51687100>. Consider rewriting this model with the Functional API.\n",
      "WARNING:tensorflow:Layers in a Sequential model should only have a single input tensor. Received: inputs=<PIL.Image.Image image mode=RGB size=50x50 at 0x22A51687160>. Consider rewriting this model with the Functional API.\n",
      "WARNING:tensorflow:Layers in a Sequential model should only have a single input tensor. Received: inputs=<PIL.Image.Image image mode=RGB size=50x50 at 0x22A516871C0>. Consider rewriting this model with the Functional API.\n",
      "WARNING:tensorflow:Layers in a Sequential model should only have a single input tensor. Received: inputs=<PIL.Image.Image image mode=RGB size=50x50 at 0x22A51687220>. Consider rewriting this model with the Functional API.\n",
      "WARNING:tensorflow:Layers in a Sequential model should only have a single input tensor. Received: inputs=<PIL.Image.Image image mode=RGB size=50x50 at 0x22A51687280>. Consider rewriting this model with the Functional API.\n",
      "WARNING:tensorflow:Layers in a Sequential model should only have a single input tensor. Received: inputs=<PIL.Image.Image image mode=RGB size=50x50 at 0x22A516872E0>. Consider rewriting this model with the Functional API.\n",
      "WARNING:tensorflow:Layers in a Sequential model should only have a single input tensor. Received: inputs=<PIL.Image.Image image mode=RGB size=50x50 at 0x22A51687340>. Consider rewriting this model with the Functional API.\n",
      "WARNING:tensorflow:Layers in a Sequential model should only have a single input tensor. Received: inputs=<PIL.Image.Image image mode=RGB size=50x50 at 0x22A516873A0>. Consider rewriting this model with the Functional API.\n",
      "WARNING:tensorflow:Layers in a Sequential model should only have a single input tensor. Received: inputs=<PIL.Image.Image image mode=RGB size=50x50 at 0x22A51687400>. Consider rewriting this model with the Functional API.\n",
      "WARNING:tensorflow:Layers in a Sequential model should only have a single input tensor. Received: inputs=<PIL.Image.Image image mode=RGB size=50x50 at 0x22A51687460>. Consider rewriting this model with the Functional API.\n",
      "WARNING:tensorflow:Layers in a Sequential model should only have a single input tensor. Received: inputs=<PIL.Image.Image image mode=RGB size=50x50 at 0x22A516874C0>. Consider rewriting this model with the Functional API.\n",
      "WARNING:tensorflow:Layers in a Sequential model should only have a single input tensor. Received: inputs=<PIL.Image.Image image mode=RGB size=50x50 at 0x22A51687520>. Consider rewriting this model with the Functional API.\n",
      "WARNING:tensorflow:Layers in a Sequential model should only have a single input tensor. Received: inputs=<PIL.Image.Image image mode=RGB size=50x50 at 0x22A51687580>. Consider rewriting this model with the Functional API.\n",
      "WARNING:tensorflow:Layers in a Sequential model should only have a single input tensor. Received: inputs=<PIL.Image.Image image mode=RGB size=50x50 at 0x22A516875E0>. Consider rewriting this model with the Functional API.\n",
      "WARNING:tensorflow:Layers in a Sequential model should only have a single input tensor. Received: inputs=<PIL.Image.Image image mode=RGB size=50x50 at 0x22A51687640>. Consider rewriting this model with the Functional API.\n",
      "WARNING:tensorflow:Layers in a Sequential model should only have a single input tensor. Received: inputs=<PIL.Image.Image image mode=RGB size=50x50 at 0x22A516876A0>. Consider rewriting this model with the Functional API.\n",
      "WARNING:tensorflow:Layers in a Sequential model should only have a single input tensor. Received: inputs=<PIL.Image.Image image mode=RGB size=50x50 at 0x22A51687700>. Consider rewriting this model with the Functional API.\n",
      "WARNING:tensorflow:Layers in a Sequential model should only have a single input tensor. Received: inputs=<PIL.Image.Image image mode=RGB size=50x50 at 0x22A51687760>. Consider rewriting this model with the Functional API.\n",
      "WARNING:tensorflow:Layers in a Sequential model should only have a single input tensor. Received: inputs=<PIL.Image.Image image mode=RGB size=50x50 at 0x22A516877C0>. Consider rewriting this model with the Functional API.\n",
      "WARNING:tensorflow:Layers in a Sequential model should only have a single input tensor. Received: inputs=<PIL.Image.Image image mode=RGB size=50x50 at 0x22A51687820>. Consider rewriting this model with the Functional API.\n",
      "WARNING:tensorflow:Layers in a Sequential model should only have a single input tensor. Received: inputs=<PIL.Image.Image image mode=RGB size=50x50 at 0x22A51687880>. Consider rewriting this model with the Functional API.\n",
      "WARNING:tensorflow:Layers in a Sequential model should only have a single input tensor. Received: inputs=<PIL.Image.Image image mode=RGB size=50x50 at 0x22A516878E0>. Consider rewriting this model with the Functional API.\n",
      "WARNING:tensorflow:Layers in a Sequential model should only have a single input tensor. Received: inputs=<PIL.Image.Image image mode=RGB size=50x50 at 0x22A51687940>. Consider rewriting this model with the Functional API.\n",
      "WARNING:tensorflow:Layers in a Sequential model should only have a single input tensor. Received: inputs=<PIL.Image.Image image mode=RGB size=50x50 at 0x22A516879A0>. Consider rewriting this model with the Functional API.\n",
      "WARNING:tensorflow:Layers in a Sequential model should only have a single input tensor. Received: inputs=<PIL.Image.Image image mode=RGB size=50x50 at 0x22A51687A00>. Consider rewriting this model with the Functional API.\n",
      "WARNING:tensorflow:Layers in a Sequential model should only have a single input tensor. Received: inputs=<PIL.Image.Image image mode=RGB size=50x50 at 0x22A51687A60>. Consider rewriting this model with the Functional API.\n",
      "WARNING:tensorflow:Layers in a Sequential model should only have a single input tensor. Received: inputs=<PIL.Image.Image image mode=RGB size=50x50 at 0x22A51687AC0>. Consider rewriting this model with the Functional API.\n",
      "WARNING:tensorflow:Layers in a Sequential model should only have a single input tensor. Received: inputs=<PIL.Image.Image image mode=RGB size=50x50 at 0x22A51687B20>. Consider rewriting this model with the Functional API.\n",
      "WARNING:tensorflow:Layers in a Sequential model should only have a single input tensor. Received: inputs=<PIL.Image.Image image mode=RGB size=50x50 at 0x22A51687B80>. Consider rewriting this model with the Functional API.\n",
      "WARNING:tensorflow:Layers in a Sequential model should only have a single input tensor. Received: inputs=<PIL.Image.Image image mode=RGB size=50x50 at 0x22A51687BE0>. Consider rewriting this model with the Functional API.\n",
      "WARNING:tensorflow:Layers in a Sequential model should only have a single input tensor. Received: inputs=<PIL.Image.Image image mode=RGB size=50x50 at 0x22A51687C40>. Consider rewriting this model with the Functional API.\n",
      "WARNING:tensorflow:Layers in a Sequential model should only have a single input tensor. Received: inputs=<PIL.Image.Image image mode=RGB size=50x50 at 0x22A51687CA0>. Consider rewriting this model with the Functional API.\n"
     ]
    },
    {
     "name": "stdout",
     "output_type": "stream",
     "text": [
      "WARNING:tensorflow:Layers in a Sequential model should only have a single input tensor. Received: inputs=<PIL.Image.Image image mode=RGB size=50x50 at 0x22A51687D00>. Consider rewriting this model with the Functional API.\n",
      "WARNING:tensorflow:Layers in a Sequential model should only have a single input tensor. Received: inputs=<PIL.Image.Image image mode=RGB size=50x50 at 0x22A51687D60>. Consider rewriting this model with the Functional API.\n",
      "WARNING:tensorflow:Layers in a Sequential model should only have a single input tensor. Received: inputs=<PIL.Image.Image image mode=RGB size=50x50 at 0x22A51687DC0>. Consider rewriting this model with the Functional API.\n",
      "WARNING:tensorflow:Layers in a Sequential model should only have a single input tensor. Received: inputs=<PIL.Image.Image image mode=RGB size=50x50 at 0x22A51687E20>. Consider rewriting this model with the Functional API.\n",
      "WARNING:tensorflow:Layers in a Sequential model should only have a single input tensor. Received: inputs=<PIL.Image.Image image mode=RGB size=50x50 at 0x22A51687E80>. Consider rewriting this model with the Functional API.\n",
      "WARNING:tensorflow:Layers in a Sequential model should only have a single input tensor. Received: inputs=<PIL.Image.Image image mode=RGB size=50x50 at 0x22A51687EE0>. Consider rewriting this model with the Functional API.\n",
      "WARNING:tensorflow:Layers in a Sequential model should only have a single input tensor. Received: inputs=<PIL.Image.Image image mode=RGB size=50x50 at 0x22A51687F40>. Consider rewriting this model with the Functional API.\n",
      "WARNING:tensorflow:Layers in a Sequential model should only have a single input tensor. Received: inputs=<PIL.Image.Image image mode=RGB size=50x50 at 0x22A51687FA0>. Consider rewriting this model with the Functional API.\n",
      "WARNING:tensorflow:Layers in a Sequential model should only have a single input tensor. Received: inputs=<PIL.Image.Image image mode=RGB size=50x50 at 0x22A51687FD0>. Consider rewriting this model with the Functional API.\n",
      "WARNING:tensorflow:Layers in a Sequential model should only have a single input tensor. Received: inputs=<PIL.Image.Image image mode=RGB size=50x50 at 0x22A5169D0A0>. Consider rewriting this model with the Functional API.\n",
      "WARNING:tensorflow:Layers in a Sequential model should only have a single input tensor. Received: inputs=<PIL.Image.Image image mode=RGB size=50x50 at 0x22A5169D100>. Consider rewriting this model with the Functional API.\n",
      "WARNING:tensorflow:Layers in a Sequential model should only have a single input tensor. Received: inputs=<PIL.Image.Image image mode=RGB size=50x50 at 0x22A5169D160>. Consider rewriting this model with the Functional API.\n",
      "WARNING:tensorflow:Layers in a Sequential model should only have a single input tensor. Received: inputs=<PIL.Image.Image image mode=RGB size=50x50 at 0x22A5169D1C0>. Consider rewriting this model with the Functional API.\n",
      "WARNING:tensorflow:Layers in a Sequential model should only have a single input tensor. Received: inputs=<PIL.Image.Image image mode=RGB size=50x50 at 0x22A5169D220>. Consider rewriting this model with the Functional API.\n",
      "WARNING:tensorflow:Layers in a Sequential model should only have a single input tensor. Received: inputs=<PIL.Image.Image image mode=RGB size=50x50 at 0x22A5169D280>. Consider rewriting this model with the Functional API.\n",
      "WARNING:tensorflow:Layers in a Sequential model should only have a single input tensor. Received: inputs=<PIL.Image.Image image mode=RGB size=50x50 at 0x22A5169D2E0>. Consider rewriting this model with the Functional API.\n",
      "WARNING:tensorflow:Layers in a Sequential model should only have a single input tensor. Received: inputs=<PIL.Image.Image image mode=RGB size=50x50 at 0x22A5169D340>. Consider rewriting this model with the Functional API.\n",
      "WARNING:tensorflow:Layers in a Sequential model should only have a single input tensor. Received: inputs=<PIL.Image.Image image mode=RGB size=50x50 at 0x22A5169D3A0>. Consider rewriting this model with the Functional API.\n",
      "WARNING:tensorflow:Layers in a Sequential model should only have a single input tensor. Received: inputs=<PIL.Image.Image image mode=RGB size=50x50 at 0x22A5169D400>. Consider rewriting this model with the Functional API.\n",
      "WARNING:tensorflow:Layers in a Sequential model should only have a single input tensor. Received: inputs=<PIL.Image.Image image mode=RGB size=50x50 at 0x22A5169D460>. Consider rewriting this model with the Functional API.\n",
      "WARNING:tensorflow:Layers in a Sequential model should only have a single input tensor. Received: inputs=<PIL.Image.Image image mode=RGB size=50x50 at 0x22A5169D4C0>. Consider rewriting this model with the Functional API.\n",
      "WARNING:tensorflow:Layers in a Sequential model should only have a single input tensor. Received: inputs=<PIL.Image.Image image mode=RGB size=50x50 at 0x22A5169D520>. Consider rewriting this model with the Functional API.\n",
      "WARNING:tensorflow:Layers in a Sequential model should only have a single input tensor. Received: inputs=<PIL.Image.Image image mode=RGB size=50x50 at 0x22A5169D580>. Consider rewriting this model with the Functional API.\n",
      "WARNING:tensorflow:Layers in a Sequential model should only have a single input tensor. Received: inputs=<PIL.Image.Image image mode=RGB size=50x50 at 0x22A5169D5E0>. Consider rewriting this model with the Functional API.\n",
      "WARNING:tensorflow:Layers in a Sequential model should only have a single input tensor. Received: inputs=<PIL.Image.Image image mode=RGB size=50x50 at 0x22A5169D640>. Consider rewriting this model with the Functional API.\n",
      "WARNING:tensorflow:Layers in a Sequential model should only have a single input tensor. Received: inputs=<PIL.Image.Image image mode=RGB size=50x50 at 0x22A5169D6A0>. Consider rewriting this model with the Functional API.\n",
      "WARNING:tensorflow:Layers in a Sequential model should only have a single input tensor. Received: inputs=<PIL.Image.Image image mode=RGB size=50x50 at 0x22A5169D700>. Consider rewriting this model with the Functional API.\n",
      "WARNING:tensorflow:Layers in a Sequential model should only have a single input tensor. Received: inputs=<PIL.Image.Image image mode=RGB size=50x50 at 0x22A5169D760>. Consider rewriting this model with the Functional API.\n",
      "WARNING:tensorflow:Layers in a Sequential model should only have a single input tensor. Received: inputs=<PIL.Image.Image image mode=RGB size=50x50 at 0x22A5169D7C0>. Consider rewriting this model with the Functional API.\n",
      "WARNING:tensorflow:Layers in a Sequential model should only have a single input tensor. Received: inputs=<PIL.Image.Image image mode=RGB size=50x50 at 0x22A5169D820>. Consider rewriting this model with the Functional API.\n",
      "WARNING:tensorflow:Layers in a Sequential model should only have a single input tensor. Received: inputs=<PIL.Image.Image image mode=RGB size=50x50 at 0x22A5169D880>. Consider rewriting this model with the Functional API.\n",
      "WARNING:tensorflow:Layers in a Sequential model should only have a single input tensor. Received: inputs=<PIL.Image.Image image mode=RGB size=50x50 at 0x22A5169D8E0>. Consider rewriting this model with the Functional API.\n",
      "WARNING:tensorflow:Layers in a Sequential model should only have a single input tensor. Received: inputs=<PIL.Image.Image image mode=RGB size=50x50 at 0x22A5169D940>. Consider rewriting this model with the Functional API.\n",
      "WARNING:tensorflow:Layers in a Sequential model should only have a single input tensor. Received: inputs=<PIL.Image.Image image mode=RGB size=50x50 at 0x22A5169D9A0>. Consider rewriting this model with the Functional API.\n",
      "WARNING:tensorflow:Layers in a Sequential model should only have a single input tensor. Received: inputs=<PIL.Image.Image image mode=RGB size=50x50 at 0x22A5169DA00>. Consider rewriting this model with the Functional API.\n",
      "WARNING:tensorflow:Layers in a Sequential model should only have a single input tensor. Received: inputs=<PIL.Image.Image image mode=RGB size=50x50 at 0x22A5169DA60>. Consider rewriting this model with the Functional API.\n",
      "WARNING:tensorflow:Layers in a Sequential model should only have a single input tensor. Received: inputs=<PIL.Image.Image image mode=RGB size=50x50 at 0x22A5169DAC0>. Consider rewriting this model with the Functional API.\n"
     ]
    },
    {
     "name": "stdout",
     "output_type": "stream",
     "text": [
      "WARNING:tensorflow:Layers in a Sequential model should only have a single input tensor. Received: inputs=<PIL.Image.Image image mode=RGB size=50x50 at 0x22A5169DB20>. Consider rewriting this model with the Functional API.\n",
      "WARNING:tensorflow:Layers in a Sequential model should only have a single input tensor. Received: inputs=<PIL.Image.Image image mode=RGB size=50x50 at 0x22A5169DB80>. Consider rewriting this model with the Functional API.\n",
      "WARNING:tensorflow:Layers in a Sequential model should only have a single input tensor. Received: inputs=<PIL.Image.Image image mode=RGB size=50x50 at 0x22A5169DBE0>. Consider rewriting this model with the Functional API.\n",
      "WARNING:tensorflow:Layers in a Sequential model should only have a single input tensor. Received: inputs=<PIL.Image.Image image mode=RGB size=50x50 at 0x22A5169DC40>. Consider rewriting this model with the Functional API.\n",
      "WARNING:tensorflow:Layers in a Sequential model should only have a single input tensor. Received: inputs=<PIL.Image.Image image mode=RGB size=50x50 at 0x22A5169DCA0>. Consider rewriting this model with the Functional API.\n",
      "WARNING:tensorflow:Layers in a Sequential model should only have a single input tensor. Received: inputs=<PIL.Image.Image image mode=RGB size=50x50 at 0x22A5169DD00>. Consider rewriting this model with the Functional API.\n",
      "WARNING:tensorflow:Layers in a Sequential model should only have a single input tensor. Received: inputs=<PIL.Image.Image image mode=RGB size=50x50 at 0x22A5169DD60>. Consider rewriting this model with the Functional API.\n",
      "WARNING:tensorflow:Layers in a Sequential model should only have a single input tensor. Received: inputs=<PIL.Image.Image image mode=RGB size=50x50 at 0x22A5169DDC0>. Consider rewriting this model with the Functional API.\n",
      "WARNING:tensorflow:Layers in a Sequential model should only have a single input tensor. Received: inputs=<PIL.Image.Image image mode=RGB size=50x50 at 0x22A5169DE20>. Consider rewriting this model with the Functional API.\n",
      "WARNING:tensorflow:Layers in a Sequential model should only have a single input tensor. Received: inputs=<PIL.Image.Image image mode=RGB size=50x50 at 0x22A5169DE80>. Consider rewriting this model with the Functional API.\n",
      "WARNING:tensorflow:Layers in a Sequential model should only have a single input tensor. Received: inputs=<PIL.Image.Image image mode=RGB size=50x50 at 0x22A5169DEE0>. Consider rewriting this model with the Functional API.\n",
      "WARNING:tensorflow:Layers in a Sequential model should only have a single input tensor. Received: inputs=<PIL.Image.Image image mode=RGB size=50x50 at 0x22A5169DF40>. Consider rewriting this model with the Functional API.\n",
      "WARNING:tensorflow:Layers in a Sequential model should only have a single input tensor. Received: inputs=<PIL.Image.Image image mode=RGB size=50x50 at 0x22A5169DFA0>. Consider rewriting this model with the Functional API.\n",
      "WARNING:tensorflow:Layers in a Sequential model should only have a single input tensor. Received: inputs=<PIL.Image.Image image mode=RGB size=50x50 at 0x22A5169DFD0>. Consider rewriting this model with the Functional API.\n",
      "WARNING:tensorflow:Layers in a Sequential model should only have a single input tensor. Received: inputs=<PIL.Image.Image image mode=RGB size=50x50 at 0x22A516B00A0>. Consider rewriting this model with the Functional API.\n",
      "WARNING:tensorflow:Layers in a Sequential model should only have a single input tensor. Received: inputs=<PIL.Image.Image image mode=RGB size=50x50 at 0x22A516B0100>. Consider rewriting this model with the Functional API.\n",
      "WARNING:tensorflow:Layers in a Sequential model should only have a single input tensor. Received: inputs=<PIL.Image.Image image mode=RGB size=50x50 at 0x22A516B0160>. Consider rewriting this model with the Functional API.\n",
      "WARNING:tensorflow:Layers in a Sequential model should only have a single input tensor. Received: inputs=<PIL.Image.Image image mode=RGB size=50x50 at 0x22A516B01C0>. Consider rewriting this model with the Functional API.\n",
      "WARNING:tensorflow:Layers in a Sequential model should only have a single input tensor. Received: inputs=<PIL.Image.Image image mode=RGB size=50x50 at 0x22A516B0220>. Consider rewriting this model with the Functional API.\n",
      "WARNING:tensorflow:Layers in a Sequential model should only have a single input tensor. Received: inputs=<PIL.Image.Image image mode=RGB size=50x50 at 0x22A516B0280>. Consider rewriting this model with the Functional API.\n",
      "WARNING:tensorflow:Layers in a Sequential model should only have a single input tensor. Received: inputs=<PIL.Image.Image image mode=RGB size=50x50 at 0x22A516B02E0>. Consider rewriting this model with the Functional API.\n",
      "WARNING:tensorflow:Layers in a Sequential model should only have a single input tensor. Received: inputs=<PIL.Image.Image image mode=RGB size=50x50 at 0x22A516B0340>. Consider rewriting this model with the Functional API.\n",
      "WARNING:tensorflow:Layers in a Sequential model should only have a single input tensor. Received: inputs=<PIL.Image.Image image mode=RGB size=50x50 at 0x22A516B03A0>. Consider rewriting this model with the Functional API.\n",
      "WARNING:tensorflow:Layers in a Sequential model should only have a single input tensor. Received: inputs=<PIL.Image.Image image mode=RGB size=50x50 at 0x22A516B0400>. Consider rewriting this model with the Functional API.\n",
      "WARNING:tensorflow:Layers in a Sequential model should only have a single input tensor. Received: inputs=<PIL.Image.Image image mode=RGB size=50x50 at 0x22A516B0460>. Consider rewriting this model with the Functional API.\n",
      "WARNING:tensorflow:Layers in a Sequential model should only have a single input tensor. Received: inputs=<PIL.Image.Image image mode=RGB size=50x50 at 0x22A516B04C0>. Consider rewriting this model with the Functional API.\n",
      "WARNING:tensorflow:Layers in a Sequential model should only have a single input tensor. Received: inputs=<PIL.Image.Image image mode=RGB size=50x50 at 0x22A516B0520>. Consider rewriting this model with the Functional API.\n",
      "WARNING:tensorflow:Layers in a Sequential model should only have a single input tensor. Received: inputs=<PIL.Image.Image image mode=RGB size=50x50 at 0x22A516B0580>. Consider rewriting this model with the Functional API.\n",
      "WARNING:tensorflow:Layers in a Sequential model should only have a single input tensor. Received: inputs=<PIL.Image.Image image mode=RGB size=50x50 at 0x22A516B05E0>. Consider rewriting this model with the Functional API.\n",
      "WARNING:tensorflow:Layers in a Sequential model should only have a single input tensor. Received: inputs=<PIL.Image.Image image mode=RGB size=50x50 at 0x22A516B0640>. Consider rewriting this model with the Functional API.\n",
      "WARNING:tensorflow:Layers in a Sequential model should only have a single input tensor. Received: inputs=<PIL.Image.Image image mode=RGB size=50x50 at 0x22A516B06A0>. Consider rewriting this model with the Functional API.\n",
      "WARNING:tensorflow:Layers in a Sequential model should only have a single input tensor. Received: inputs=<PIL.Image.Image image mode=RGB size=50x50 at 0x22A516B0700>. Consider rewriting this model with the Functional API.\n",
      "WARNING:tensorflow:Layers in a Sequential model should only have a single input tensor. Received: inputs=<PIL.Image.Image image mode=RGB size=50x50 at 0x22A516B0760>. Consider rewriting this model with the Functional API.\n",
      "WARNING:tensorflow:Layers in a Sequential model should only have a single input tensor. Received: inputs=<PIL.Image.Image image mode=RGB size=50x50 at 0x22A516B07C0>. Consider rewriting this model with the Functional API.\n",
      "WARNING:tensorflow:Layers in a Sequential model should only have a single input tensor. Received: inputs=<PIL.Image.Image image mode=RGB size=50x50 at 0x22A516B0820>. Consider rewriting this model with the Functional API.\n",
      "WARNING:tensorflow:Layers in a Sequential model should only have a single input tensor. Received: inputs=<PIL.Image.Image image mode=RGB size=50x50 at 0x22A516B0880>. Consider rewriting this model with the Functional API.\n",
      "WARNING:tensorflow:Layers in a Sequential model should only have a single input tensor. Received: inputs=<PIL.Image.Image image mode=RGB size=50x50 at 0x22A516B08E0>. Consider rewriting this model with the Functional API.\n"
     ]
    },
    {
     "name": "stdout",
     "output_type": "stream",
     "text": [
      "WARNING:tensorflow:Layers in a Sequential model should only have a single input tensor. Received: inputs=<PIL.Image.Image image mode=RGB size=50x50 at 0x22A516B0940>. Consider rewriting this model with the Functional API.\n",
      "WARNING:tensorflow:Layers in a Sequential model should only have a single input tensor. Received: inputs=<PIL.Image.Image image mode=RGB size=50x50 at 0x22A516B09A0>. Consider rewriting this model with the Functional API.\n",
      "WARNING:tensorflow:Layers in a Sequential model should only have a single input tensor. Received: inputs=<PIL.Image.Image image mode=RGB size=50x50 at 0x22A516B0A00>. Consider rewriting this model with the Functional API.\n",
      "WARNING:tensorflow:Layers in a Sequential model should only have a single input tensor. Received: inputs=<PIL.Image.Image image mode=RGB size=50x50 at 0x22A516B0A60>. Consider rewriting this model with the Functional API.\n",
      "WARNING:tensorflow:Layers in a Sequential model should only have a single input tensor. Received: inputs=<PIL.Image.Image image mode=RGB size=50x50 at 0x22A516B0AC0>. Consider rewriting this model with the Functional API.\n",
      "WARNING:tensorflow:Layers in a Sequential model should only have a single input tensor. Received: inputs=<PIL.Image.Image image mode=RGB size=50x50 at 0x22A516B0B20>. Consider rewriting this model with the Functional API.\n",
      "WARNING:tensorflow:Layers in a Sequential model should only have a single input tensor. Received: inputs=<PIL.Image.Image image mode=RGB size=50x50 at 0x22A516B0B80>. Consider rewriting this model with the Functional API.\n",
      "WARNING:tensorflow:Layers in a Sequential model should only have a single input tensor. Received: inputs=<PIL.Image.Image image mode=RGB size=50x50 at 0x22A516B0BE0>. Consider rewriting this model with the Functional API.\n",
      "WARNING:tensorflow:Layers in a Sequential model should only have a single input tensor. Received: inputs=<PIL.Image.Image image mode=RGB size=50x50 at 0x22A516B0C40>. Consider rewriting this model with the Functional API.\n",
      "WARNING:tensorflow:Layers in a Sequential model should only have a single input tensor. Received: inputs=<PIL.Image.Image image mode=RGB size=50x50 at 0x22A516B0CA0>. Consider rewriting this model with the Functional API.\n",
      "WARNING:tensorflow:Layers in a Sequential model should only have a single input tensor. Received: inputs=<PIL.Image.Image image mode=RGB size=50x50 at 0x22A516B0D00>. Consider rewriting this model with the Functional API.\n",
      "WARNING:tensorflow:Layers in a Sequential model should only have a single input tensor. Received: inputs=<PIL.Image.Image image mode=RGB size=50x50 at 0x22A516B0D60>. Consider rewriting this model with the Functional API.\n",
      "WARNING:tensorflow:Layers in a Sequential model should only have a single input tensor. Received: inputs=<PIL.Image.Image image mode=RGB size=50x50 at 0x22A516B0DC0>. Consider rewriting this model with the Functional API.\n",
      "WARNING:tensorflow:Layers in a Sequential model should only have a single input tensor. Received: inputs=<PIL.Image.Image image mode=RGB size=50x50 at 0x22A516B0E20>. Consider rewriting this model with the Functional API.\n",
      "WARNING:tensorflow:Layers in a Sequential model should only have a single input tensor. Received: inputs=<PIL.Image.Image image mode=RGB size=50x50 at 0x22A516B0E80>. Consider rewriting this model with the Functional API.\n",
      "WARNING:tensorflow:Layers in a Sequential model should only have a single input tensor. Received: inputs=<PIL.Image.Image image mode=RGB size=50x50 at 0x22A516B0EE0>. Consider rewriting this model with the Functional API.\n",
      "WARNING:tensorflow:Layers in a Sequential model should only have a single input tensor. Received: inputs=<PIL.Image.Image image mode=RGB size=50x50 at 0x22A516B0F40>. Consider rewriting this model with the Functional API.\n",
      "WARNING:tensorflow:Layers in a Sequential model should only have a single input tensor. Received: inputs=<PIL.Image.Image image mode=RGB size=50x50 at 0x22A516B0FA0>. Consider rewriting this model with the Functional API.\n",
      "WARNING:tensorflow:Layers in a Sequential model should only have a single input tensor. Received: inputs=<PIL.Image.Image image mode=RGB size=50x50 at 0x22A516B0FD0>. Consider rewriting this model with the Functional API.\n",
      "WARNING:tensorflow:Layers in a Sequential model should only have a single input tensor. Received: inputs=<PIL.Image.Image image mode=RGB size=50x50 at 0x22A516C80A0>. Consider rewriting this model with the Functional API.\n",
      "WARNING:tensorflow:Layers in a Sequential model should only have a single input tensor. Received: inputs=<PIL.Image.Image image mode=RGB size=50x50 at 0x22A516C8100>. Consider rewriting this model with the Functional API.\n",
      "WARNING:tensorflow:Layers in a Sequential model should only have a single input tensor. Received: inputs=<PIL.Image.Image image mode=RGB size=50x50 at 0x22A516C8160>. Consider rewriting this model with the Functional API.\n",
      "WARNING:tensorflow:Layers in a Sequential model should only have a single input tensor. Received: inputs=<PIL.Image.Image image mode=RGB size=50x50 at 0x22A516C81C0>. Consider rewriting this model with the Functional API.\n",
      "WARNING:tensorflow:Layers in a Sequential model should only have a single input tensor. Received: inputs=<PIL.Image.Image image mode=RGB size=50x50 at 0x22A516C8220>. Consider rewriting this model with the Functional API.\n",
      "WARNING:tensorflow:Layers in a Sequential model should only have a single input tensor. Received: inputs=<PIL.Image.Image image mode=RGB size=50x50 at 0x22A516C8280>. Consider rewriting this model with the Functional API.\n",
      "WARNING:tensorflow:Layers in a Sequential model should only have a single input tensor. Received: inputs=<PIL.Image.Image image mode=RGB size=50x50 at 0x22A516C82E0>. Consider rewriting this model with the Functional API.\n",
      "WARNING:tensorflow:Layers in a Sequential model should only have a single input tensor. Received: inputs=<PIL.Image.Image image mode=RGB size=50x50 at 0x22A516C8340>. Consider rewriting this model with the Functional API.\n",
      "WARNING:tensorflow:Layers in a Sequential model should only have a single input tensor. Received: inputs=<PIL.Image.Image image mode=RGB size=50x50 at 0x22A516C83A0>. Consider rewriting this model with the Functional API.\n",
      "WARNING:tensorflow:Layers in a Sequential model should only have a single input tensor. Received: inputs=<PIL.Image.Image image mode=RGB size=50x50 at 0x22A516C8400>. Consider rewriting this model with the Functional API.\n",
      "WARNING:tensorflow:Layers in a Sequential model should only have a single input tensor. Received: inputs=<PIL.Image.Image image mode=RGB size=50x50 at 0x22A516C8460>. Consider rewriting this model with the Functional API.\n",
      "WARNING:tensorflow:Layers in a Sequential model should only have a single input tensor. Received: inputs=<PIL.Image.Image image mode=RGB size=50x50 at 0x22A516C84C0>. Consider rewriting this model with the Functional API.\n",
      "WARNING:tensorflow:Layers in a Sequential model should only have a single input tensor. Received: inputs=<PIL.Image.Image image mode=RGB size=50x50 at 0x22A516C8520>. Consider rewriting this model with the Functional API.\n",
      "WARNING:tensorflow:Layers in a Sequential model should only have a single input tensor. Received: inputs=<PIL.Image.Image image mode=RGB size=50x50 at 0x22A516C8580>. Consider rewriting this model with the Functional API.\n",
      "WARNING:tensorflow:Layers in a Sequential model should only have a single input tensor. Received: inputs=<PIL.Image.Image image mode=RGB size=50x50 at 0x22A516C85E0>. Consider rewriting this model with the Functional API.\n",
      "WARNING:tensorflow:Layers in a Sequential model should only have a single input tensor. Received: inputs=<PIL.Image.Image image mode=RGB size=50x50 at 0x22A516C8640>. Consider rewriting this model with the Functional API.\n",
      "WARNING:tensorflow:Layers in a Sequential model should only have a single input tensor. Received: inputs=<PIL.Image.Image image mode=RGB size=50x50 at 0x22A516C86A0>. Consider rewriting this model with the Functional API.\n",
      "WARNING:tensorflow:Layers in a Sequential model should only have a single input tensor. Received: inputs=<PIL.Image.Image image mode=RGB size=50x50 at 0x22A516C8700>. Consider rewriting this model with the Functional API.\n"
     ]
    },
    {
     "name": "stdout",
     "output_type": "stream",
     "text": [
      "WARNING:tensorflow:Layers in a Sequential model should only have a single input tensor. Received: inputs=<PIL.Image.Image image mode=RGB size=50x50 at 0x22A516C8760>. Consider rewriting this model with the Functional API.\n",
      "WARNING:tensorflow:Layers in a Sequential model should only have a single input tensor. Received: inputs=<PIL.Image.Image image mode=RGB size=50x50 at 0x22A516C87C0>. Consider rewriting this model with the Functional API.\n",
      "WARNING:tensorflow:Layers in a Sequential model should only have a single input tensor. Received: inputs=<PIL.Image.Image image mode=RGB size=50x50 at 0x22A516C8820>. Consider rewriting this model with the Functional API.\n",
      "WARNING:tensorflow:Layers in a Sequential model should only have a single input tensor. Received: inputs=<PIL.Image.Image image mode=RGB size=50x50 at 0x22A516C8880>. Consider rewriting this model with the Functional API.\n",
      "WARNING:tensorflow:Layers in a Sequential model should only have a single input tensor. Received: inputs=<PIL.Image.Image image mode=RGB size=50x50 at 0x22A516C88E0>. Consider rewriting this model with the Functional API.\n",
      "WARNING:tensorflow:Layers in a Sequential model should only have a single input tensor. Received: inputs=<PIL.Image.Image image mode=RGB size=50x50 at 0x22A516C8940>. Consider rewriting this model with the Functional API.\n",
      "WARNING:tensorflow:Layers in a Sequential model should only have a single input tensor. Received: inputs=<PIL.Image.Image image mode=RGB size=50x50 at 0x22A516C89A0>. Consider rewriting this model with the Functional API.\n",
      "WARNING:tensorflow:Layers in a Sequential model should only have a single input tensor. Received: inputs=<PIL.Image.Image image mode=RGB size=50x50 at 0x22A516C8A00>. Consider rewriting this model with the Functional API.\n",
      "WARNING:tensorflow:Layers in a Sequential model should only have a single input tensor. Received: inputs=<PIL.Image.Image image mode=RGB size=50x50 at 0x22A516C8A60>. Consider rewriting this model with the Functional API.\n",
      "WARNING:tensorflow:Layers in a Sequential model should only have a single input tensor. Received: inputs=<PIL.Image.Image image mode=RGB size=50x50 at 0x22A516C8AC0>. Consider rewriting this model with the Functional API.\n",
      "WARNING:tensorflow:Layers in a Sequential model should only have a single input tensor. Received: inputs=<PIL.Image.Image image mode=RGB size=50x50 at 0x22A516C8B20>. Consider rewriting this model with the Functional API.\n",
      "WARNING:tensorflow:Layers in a Sequential model should only have a single input tensor. Received: inputs=<PIL.Image.Image image mode=RGB size=50x50 at 0x22A516C8B80>. Consider rewriting this model with the Functional API.\n",
      "WARNING:tensorflow:Layers in a Sequential model should only have a single input tensor. Received: inputs=<PIL.Image.Image image mode=RGB size=50x50 at 0x22A516C8BE0>. Consider rewriting this model with the Functional API.\n",
      "WARNING:tensorflow:Layers in a Sequential model should only have a single input tensor. Received: inputs=<PIL.Image.Image image mode=RGB size=50x50 at 0x22A516C8C40>. Consider rewriting this model with the Functional API.\n",
      "WARNING:tensorflow:Layers in a Sequential model should only have a single input tensor. Received: inputs=<PIL.Image.Image image mode=RGB size=50x50 at 0x22A516C8CA0>. Consider rewriting this model with the Functional API.\n",
      "WARNING:tensorflow:Layers in a Sequential model should only have a single input tensor. Received: inputs=<PIL.Image.Image image mode=RGB size=50x50 at 0x22A516C8D00>. Consider rewriting this model with the Functional API.\n",
      "WARNING:tensorflow:Layers in a Sequential model should only have a single input tensor. Received: inputs=<PIL.Image.Image image mode=RGB size=50x50 at 0x22A516C8D60>. Consider rewriting this model with the Functional API.\n",
      "WARNING:tensorflow:Layers in a Sequential model should only have a single input tensor. Received: inputs=<PIL.Image.Image image mode=RGB size=50x50 at 0x22A516C8DC0>. Consider rewriting this model with the Functional API.\n",
      "WARNING:tensorflow:Layers in a Sequential model should only have a single input tensor. Received: inputs=<PIL.Image.Image image mode=RGB size=50x50 at 0x22A516C8E20>. Consider rewriting this model with the Functional API.\n",
      "WARNING:tensorflow:Layers in a Sequential model should only have a single input tensor. Received: inputs=<PIL.Image.Image image mode=RGB size=50x50 at 0x22A516C8E80>. Consider rewriting this model with the Functional API.\n",
      "WARNING:tensorflow:Layers in a Sequential model should only have a single input tensor. Received: inputs=<PIL.Image.Image image mode=RGB size=50x50 at 0x22A516C8EE0>. Consider rewriting this model with the Functional API.\n",
      "WARNING:tensorflow:Layers in a Sequential model should only have a single input tensor. Received: inputs=<PIL.Image.Image image mode=RGB size=50x50 at 0x22A516C8F40>. Consider rewriting this model with the Functional API.\n",
      "WARNING:tensorflow:Layers in a Sequential model should only have a single input tensor. Received: inputs=<PIL.Image.Image image mode=RGB size=50x50 at 0x22A516C8FA0>. Consider rewriting this model with the Functional API.\n",
      "WARNING:tensorflow:Layers in a Sequential model should only have a single input tensor. Received: inputs=<PIL.Image.Image image mode=RGB size=50x50 at 0x22A516C8FD0>. Consider rewriting this model with the Functional API.\n",
      "WARNING:tensorflow:Layers in a Sequential model should only have a single input tensor. Received: inputs=<PIL.Image.Image image mode=RGB size=50x50 at 0x22A516DC0A0>. Consider rewriting this model with the Functional API.\n",
      "WARNING:tensorflow:Layers in a Sequential model should only have a single input tensor. Received: inputs=<PIL.Image.Image image mode=RGB size=50x50 at 0x22A516DC100>. Consider rewriting this model with the Functional API.\n",
      "WARNING:tensorflow:Layers in a Sequential model should only have a single input tensor. Received: inputs=<PIL.Image.Image image mode=RGB size=50x50 at 0x22A516DC160>. Consider rewriting this model with the Functional API.\n",
      "WARNING:tensorflow:Layers in a Sequential model should only have a single input tensor. Received: inputs=<PIL.Image.Image image mode=RGB size=50x50 at 0x22A516DC1C0>. Consider rewriting this model with the Functional API.\n",
      "WARNING:tensorflow:Layers in a Sequential model should only have a single input tensor. Received: inputs=<PIL.Image.Image image mode=RGB size=50x50 at 0x22A516DC220>. Consider rewriting this model with the Functional API.\n",
      "WARNING:tensorflow:Layers in a Sequential model should only have a single input tensor. Received: inputs=<PIL.Image.Image image mode=RGB size=50x50 at 0x22A516DC280>. Consider rewriting this model with the Functional API.\n",
      "WARNING:tensorflow:Layers in a Sequential model should only have a single input tensor. Received: inputs=<PIL.Image.Image image mode=RGB size=50x50 at 0x22A516DC2E0>. Consider rewriting this model with the Functional API.\n",
      "WARNING:tensorflow:Layers in a Sequential model should only have a single input tensor. Received: inputs=<PIL.Image.Image image mode=RGB size=50x50 at 0x22A516DC340>. Consider rewriting this model with the Functional API.\n",
      "WARNING:tensorflow:Layers in a Sequential model should only have a single input tensor. Received: inputs=<PIL.Image.Image image mode=RGB size=50x50 at 0x22A516DC3A0>. Consider rewriting this model with the Functional API.\n",
      "WARNING:tensorflow:Layers in a Sequential model should only have a single input tensor. Received: inputs=<PIL.Image.Image image mode=RGB size=50x50 at 0x22A516DC400>. Consider rewriting this model with the Functional API.\n",
      "WARNING:tensorflow:Layers in a Sequential model should only have a single input tensor. Received: inputs=<PIL.Image.Image image mode=RGB size=50x50 at 0x22A516DC460>. Consider rewriting this model with the Functional API.\n",
      "WARNING:tensorflow:Layers in a Sequential model should only have a single input tensor. Received: inputs=<PIL.Image.Image image mode=RGB size=50x50 at 0x22A516DC4C0>. Consider rewriting this model with the Functional API.\n",
      "WARNING:tensorflow:Layers in a Sequential model should only have a single input tensor. Received: inputs=<PIL.Image.Image image mode=RGB size=50x50 at 0x22A516DC520>. Consider rewriting this model with the Functional API.\n"
     ]
    },
    {
     "name": "stdout",
     "output_type": "stream",
     "text": [
      "WARNING:tensorflow:Layers in a Sequential model should only have a single input tensor. Received: inputs=<PIL.Image.Image image mode=RGB size=50x50 at 0x22A516DC580>. Consider rewriting this model with the Functional API.\n",
      "WARNING:tensorflow:Layers in a Sequential model should only have a single input tensor. Received: inputs=<PIL.Image.Image image mode=RGB size=50x50 at 0x22A516DC5E0>. Consider rewriting this model with the Functional API.\n",
      "WARNING:tensorflow:Layers in a Sequential model should only have a single input tensor. Received: inputs=<PIL.Image.Image image mode=RGB size=50x50 at 0x22A516DC640>. Consider rewriting this model with the Functional API.\n",
      "WARNING:tensorflow:Layers in a Sequential model should only have a single input tensor. Received: inputs=<PIL.Image.Image image mode=RGB size=50x50 at 0x22A516DC6A0>. Consider rewriting this model with the Functional API.\n",
      "WARNING:tensorflow:Layers in a Sequential model should only have a single input tensor. Received: inputs=<PIL.Image.Image image mode=RGB size=50x50 at 0x22A516DC700>. Consider rewriting this model with the Functional API.\n",
      "WARNING:tensorflow:Layers in a Sequential model should only have a single input tensor. Received: inputs=<PIL.Image.Image image mode=RGB size=50x50 at 0x22A516DC760>. Consider rewriting this model with the Functional API.\n",
      "WARNING:tensorflow:Layers in a Sequential model should only have a single input tensor. Received: inputs=<PIL.Image.Image image mode=RGB size=50x50 at 0x22A516DC7C0>. Consider rewriting this model with the Functional API.\n",
      "WARNING:tensorflow:Layers in a Sequential model should only have a single input tensor. Received: inputs=<PIL.Image.Image image mode=RGB size=50x50 at 0x22A516DC820>. Consider rewriting this model with the Functional API.\n",
      "WARNING:tensorflow:Layers in a Sequential model should only have a single input tensor. Received: inputs=<PIL.Image.Image image mode=RGB size=50x50 at 0x22A516DC880>. Consider rewriting this model with the Functional API.\n",
      "WARNING:tensorflow:Layers in a Sequential model should only have a single input tensor. Received: inputs=<PIL.Image.Image image mode=RGB size=50x50 at 0x22A516DC8E0>. Consider rewriting this model with the Functional API.\n",
      "WARNING:tensorflow:Layers in a Sequential model should only have a single input tensor. Received: inputs=<PIL.Image.Image image mode=RGB size=50x50 at 0x22A516DC940>. Consider rewriting this model with the Functional API.\n",
      "WARNING:tensorflow:Layers in a Sequential model should only have a single input tensor. Received: inputs=<PIL.Image.Image image mode=RGB size=50x50 at 0x22A516DC9A0>. Consider rewriting this model with the Functional API.\n",
      "WARNING:tensorflow:Layers in a Sequential model should only have a single input tensor. Received: inputs=<PIL.Image.Image image mode=RGB size=50x50 at 0x22A516DCA00>. Consider rewriting this model with the Functional API.\n",
      "WARNING:tensorflow:Layers in a Sequential model should only have a single input tensor. Received: inputs=<PIL.Image.Image image mode=RGB size=50x50 at 0x22A516DCA60>. Consider rewriting this model with the Functional API.\n",
      "WARNING:tensorflow:Layers in a Sequential model should only have a single input tensor. Received: inputs=<PIL.Image.Image image mode=RGB size=50x50 at 0x22A516DCAC0>. Consider rewriting this model with the Functional API.\n",
      "WARNING:tensorflow:Layers in a Sequential model should only have a single input tensor. Received: inputs=<PIL.Image.Image image mode=RGB size=50x50 at 0x22A516DCB20>. Consider rewriting this model with the Functional API.\n",
      "WARNING:tensorflow:Layers in a Sequential model should only have a single input tensor. Received: inputs=<PIL.Image.Image image mode=RGB size=50x50 at 0x22A516DCB80>. Consider rewriting this model with the Functional API.\n",
      "WARNING:tensorflow:Layers in a Sequential model should only have a single input tensor. Received: inputs=<PIL.Image.Image image mode=RGB size=50x50 at 0x22A516DCBE0>. Consider rewriting this model with the Functional API.\n",
      "WARNING:tensorflow:Layers in a Sequential model should only have a single input tensor. Received: inputs=<PIL.Image.Image image mode=RGB size=50x50 at 0x22A516DCC40>. Consider rewriting this model with the Functional API.\n",
      "WARNING:tensorflow:Layers in a Sequential model should only have a single input tensor. Received: inputs=<PIL.Image.Image image mode=RGB size=50x50 at 0x22A516DCCA0>. Consider rewriting this model with the Functional API.\n",
      "WARNING:tensorflow:Layers in a Sequential model should only have a single input tensor. Received: inputs=<PIL.Image.Image image mode=RGB size=50x50 at 0x22A516DCD00>. Consider rewriting this model with the Functional API.\n",
      "WARNING:tensorflow:Layers in a Sequential model should only have a single input tensor. Received: inputs=<PIL.Image.Image image mode=RGB size=50x50 at 0x22A516DCD60>. Consider rewriting this model with the Functional API.\n",
      "WARNING:tensorflow:Layers in a Sequential model should only have a single input tensor. Received: inputs=<PIL.Image.Image image mode=RGB size=50x50 at 0x22A516DCDC0>. Consider rewriting this model with the Functional API.\n",
      "WARNING:tensorflow:Layers in a Sequential model should only have a single input tensor. Received: inputs=<PIL.Image.Image image mode=RGB size=50x50 at 0x22A516DCE20>. Consider rewriting this model with the Functional API.\n",
      "WARNING:tensorflow:Layers in a Sequential model should only have a single input tensor. Received: inputs=<PIL.Image.Image image mode=RGB size=50x50 at 0x22A516DCE80>. Consider rewriting this model with the Functional API.\n",
      "WARNING:tensorflow:Layers in a Sequential model should only have a single input tensor. Received: inputs=<PIL.Image.Image image mode=RGB size=50x50 at 0x22A516DCEE0>. Consider rewriting this model with the Functional API.\n",
      "WARNING:tensorflow:Layers in a Sequential model should only have a single input tensor. Received: inputs=<PIL.Image.Image image mode=RGB size=50x50 at 0x22A516DCF40>. Consider rewriting this model with the Functional API.\n",
      "WARNING:tensorflow:Layers in a Sequential model should only have a single input tensor. Received: inputs=<PIL.Image.Image image mode=RGB size=50x50 at 0x22A516DCFA0>. Consider rewriting this model with the Functional API.\n",
      "WARNING:tensorflow:Layers in a Sequential model should only have a single input tensor. Received: inputs=<PIL.Image.Image image mode=RGB size=50x50 at 0x22A516DCFD0>. Consider rewriting this model with the Functional API.\n",
      "WARNING:tensorflow:Layers in a Sequential model should only have a single input tensor. Received: inputs=<PIL.Image.Image image mode=RGB size=50x50 at 0x22A516F3070>. Consider rewriting this model with the Functional API.\n",
      "WARNING:tensorflow:Layers in a Sequential model should only have a single input tensor. Received: inputs=<PIL.Image.Image image mode=RGB size=50x50 at 0x22A516F3100>. Consider rewriting this model with the Functional API.\n",
      "WARNING:tensorflow:Layers in a Sequential model should only have a single input tensor. Received: inputs=<PIL.Image.Image image mode=RGB size=50x50 at 0x22A516F3160>. Consider rewriting this model with the Functional API.\n",
      "WARNING:tensorflow:Layers in a Sequential model should only have a single input tensor. Received: inputs=<PIL.Image.Image image mode=RGB size=50x50 at 0x22A516F31C0>. Consider rewriting this model with the Functional API.\n",
      "WARNING:tensorflow:Layers in a Sequential model should only have a single input tensor. Received: inputs=<PIL.Image.Image image mode=RGB size=50x50 at 0x22A516F3220>. Consider rewriting this model with the Functional API.\n",
      "WARNING:tensorflow:Layers in a Sequential model should only have a single input tensor. Received: inputs=<PIL.Image.Image image mode=RGB size=50x50 at 0x22A516F3280>. Consider rewriting this model with the Functional API.\n",
      "WARNING:tensorflow:Layers in a Sequential model should only have a single input tensor. Received: inputs=<PIL.Image.Image image mode=RGB size=50x50 at 0x22A516F32E0>. Consider rewriting this model with the Functional API.\n",
      "WARNING:tensorflow:Layers in a Sequential model should only have a single input tensor. Received: inputs=<PIL.Image.Image image mode=RGB size=50x50 at 0x22A516F3340>. Consider rewriting this model with the Functional API.\n"
     ]
    },
    {
     "name": "stdout",
     "output_type": "stream",
     "text": [
      "WARNING:tensorflow:Layers in a Sequential model should only have a single input tensor. Received: inputs=<PIL.Image.Image image mode=RGB size=50x50 at 0x22A516F33A0>. Consider rewriting this model with the Functional API.\n",
      "WARNING:tensorflow:Layers in a Sequential model should only have a single input tensor. Received: inputs=<PIL.Image.Image image mode=RGB size=50x50 at 0x22A516F3400>. Consider rewriting this model with the Functional API.\n",
      "WARNING:tensorflow:Layers in a Sequential model should only have a single input tensor. Received: inputs=<PIL.Image.Image image mode=RGB size=50x50 at 0x22A516F3460>. Consider rewriting this model with the Functional API.\n",
      "WARNING:tensorflow:Layers in a Sequential model should only have a single input tensor. Received: inputs=<PIL.Image.Image image mode=RGB size=50x50 at 0x22A516F34C0>. Consider rewriting this model with the Functional API.\n",
      "WARNING:tensorflow:Layers in a Sequential model should only have a single input tensor. Received: inputs=<PIL.Image.Image image mode=RGB size=50x50 at 0x22A516F3520>. Consider rewriting this model with the Functional API.\n",
      "WARNING:tensorflow:Layers in a Sequential model should only have a single input tensor. Received: inputs=<PIL.Image.Image image mode=RGB size=50x50 at 0x22A516F3580>. Consider rewriting this model with the Functional API.\n",
      "WARNING:tensorflow:Layers in a Sequential model should only have a single input tensor. Received: inputs=<PIL.Image.Image image mode=RGB size=50x50 at 0x22A516F35E0>. Consider rewriting this model with the Functional API.\n",
      "WARNING:tensorflow:Layers in a Sequential model should only have a single input tensor. Received: inputs=<PIL.Image.Image image mode=RGB size=50x50 at 0x22A516F3640>. Consider rewriting this model with the Functional API.\n",
      "WARNING:tensorflow:Layers in a Sequential model should only have a single input tensor. Received: inputs=<PIL.Image.Image image mode=RGB size=50x50 at 0x22A516F36A0>. Consider rewriting this model with the Functional API.\n",
      "WARNING:tensorflow:Layers in a Sequential model should only have a single input tensor. Received: inputs=<PIL.Image.Image image mode=RGB size=50x50 at 0x22A516F3700>. Consider rewriting this model with the Functional API.\n",
      "WARNING:tensorflow:Layers in a Sequential model should only have a single input tensor. Received: inputs=<PIL.Image.Image image mode=RGB size=50x50 at 0x22A516F3760>. Consider rewriting this model with the Functional API.\n",
      "WARNING:tensorflow:Layers in a Sequential model should only have a single input tensor. Received: inputs=<PIL.Image.Image image mode=RGB size=50x50 at 0x22A516F37C0>. Consider rewriting this model with the Functional API.\n",
      "WARNING:tensorflow:Layers in a Sequential model should only have a single input tensor. Received: inputs=<PIL.Image.Image image mode=RGB size=50x50 at 0x22A516F3820>. Consider rewriting this model with the Functional API.\n",
      "WARNING:tensorflow:Layers in a Sequential model should only have a single input tensor. Received: inputs=<PIL.Image.Image image mode=RGB size=50x50 at 0x22A516F3880>. Consider rewriting this model with the Functional API.\n",
      "WARNING:tensorflow:Layers in a Sequential model should only have a single input tensor. Received: inputs=<PIL.Image.Image image mode=RGB size=50x50 at 0x22A516F38E0>. Consider rewriting this model with the Functional API.\n",
      "WARNING:tensorflow:Layers in a Sequential model should only have a single input tensor. Received: inputs=<PIL.Image.Image image mode=RGB size=50x50 at 0x22A516F3940>. Consider rewriting this model with the Functional API.\n",
      "WARNING:tensorflow:Layers in a Sequential model should only have a single input tensor. Received: inputs=<PIL.Image.Image image mode=RGB size=50x50 at 0x22A516F39A0>. Consider rewriting this model with the Functional API.\n",
      "WARNING:tensorflow:Layers in a Sequential model should only have a single input tensor. Received: inputs=<PIL.Image.Image image mode=RGB size=50x50 at 0x22A516F3A00>. Consider rewriting this model with the Functional API.\n",
      "WARNING:tensorflow:Layers in a Sequential model should only have a single input tensor. Received: inputs=<PIL.Image.Image image mode=RGB size=50x50 at 0x22A516F3A60>. Consider rewriting this model with the Functional API.\n",
      "WARNING:tensorflow:Layers in a Sequential model should only have a single input tensor. Received: inputs=<PIL.Image.Image image mode=RGB size=50x50 at 0x22A516F3AC0>. Consider rewriting this model with the Functional API.\n",
      "WARNING:tensorflow:Layers in a Sequential model should only have a single input tensor. Received: inputs=<PIL.Image.Image image mode=RGB size=50x50 at 0x22A516F3B20>. Consider rewriting this model with the Functional API.\n",
      "WARNING:tensorflow:Layers in a Sequential model should only have a single input tensor. Received: inputs=<PIL.Image.Image image mode=RGB size=50x50 at 0x22A516F3B80>. Consider rewriting this model with the Functional API.\n",
      "WARNING:tensorflow:Layers in a Sequential model should only have a single input tensor. Received: inputs=<PIL.Image.Image image mode=RGB size=50x50 at 0x22A516F3BE0>. Consider rewriting this model with the Functional API.\n",
      "WARNING:tensorflow:Layers in a Sequential model should only have a single input tensor. Received: inputs=<PIL.Image.Image image mode=RGB size=50x50 at 0x22A516F3C40>. Consider rewriting this model with the Functional API.\n",
      "WARNING:tensorflow:Layers in a Sequential model should only have a single input tensor. Received: inputs=<PIL.Image.Image image mode=RGB size=50x50 at 0x22A516F3CA0>. Consider rewriting this model with the Functional API.\n",
      "WARNING:tensorflow:Layers in a Sequential model should only have a single input tensor. Received: inputs=<PIL.Image.Image image mode=RGB size=50x50 at 0x22A516F3D00>. Consider rewriting this model with the Functional API.\n",
      "WARNING:tensorflow:Layers in a Sequential model should only have a single input tensor. Received: inputs=<PIL.Image.Image image mode=RGB size=50x50 at 0x22A516F3D60>. Consider rewriting this model with the Functional API.\n",
      "WARNING:tensorflow:Layers in a Sequential model should only have a single input tensor. Received: inputs=<PIL.Image.Image image mode=RGB size=50x50 at 0x22A516F3DC0>. Consider rewriting this model with the Functional API.\n",
      "WARNING:tensorflow:Layers in a Sequential model should only have a single input tensor. Received: inputs=<PIL.Image.Image image mode=RGB size=50x50 at 0x22A516F3E20>. Consider rewriting this model with the Functional API.\n",
      "WARNING:tensorflow:Layers in a Sequential model should only have a single input tensor. Received: inputs=<PIL.Image.Image image mode=RGB size=50x50 at 0x22A516F3E80>. Consider rewriting this model with the Functional API.\n",
      "WARNING:tensorflow:Layers in a Sequential model should only have a single input tensor. Received: inputs=<PIL.Image.Image image mode=RGB size=50x50 at 0x22A516F3EE0>. Consider rewriting this model with the Functional API.\n",
      "WARNING:tensorflow:Layers in a Sequential model should only have a single input tensor. Received: inputs=<PIL.Image.Image image mode=RGB size=50x50 at 0x22A516F3F40>. Consider rewriting this model with the Functional API.\n",
      "WARNING:tensorflow:Layers in a Sequential model should only have a single input tensor. Received: inputs=<PIL.Image.Image image mode=RGB size=50x50 at 0x22A516F3FA0>. Consider rewriting this model with the Functional API.\n",
      "WARNING:tensorflow:Layers in a Sequential model should only have a single input tensor. Received: inputs=<PIL.Image.Image image mode=RGB size=50x50 at 0x22A516F3FD0>. Consider rewriting this model with the Functional API.\n",
      "WARNING:tensorflow:Layers in a Sequential model should only have a single input tensor. Received: inputs=<PIL.Image.Image image mode=RGB size=50x50 at 0x22A517060A0>. Consider rewriting this model with the Functional API.\n",
      "WARNING:tensorflow:Layers in a Sequential model should only have a single input tensor. Received: inputs=<PIL.Image.Image image mode=RGB size=50x50 at 0x22A51706100>. Consider rewriting this model with the Functional API.\n",
      "WARNING:tensorflow:Layers in a Sequential model should only have a single input tensor. Received: inputs=<PIL.Image.Image image mode=RGB size=50x50 at 0x22A51706160>. Consider rewriting this model with the Functional API.\n"
     ]
    },
    {
     "name": "stdout",
     "output_type": "stream",
     "text": [
      "WARNING:tensorflow:Layers in a Sequential model should only have a single input tensor. Received: inputs=<PIL.Image.Image image mode=RGB size=50x50 at 0x22A517061C0>. Consider rewriting this model with the Functional API.\n",
      "WARNING:tensorflow:Layers in a Sequential model should only have a single input tensor. Received: inputs=<PIL.Image.Image image mode=RGB size=50x50 at 0x22A51706220>. Consider rewriting this model with the Functional API.\n",
      "WARNING:tensorflow:Layers in a Sequential model should only have a single input tensor. Received: inputs=<PIL.Image.Image image mode=RGB size=50x50 at 0x22A51706280>. Consider rewriting this model with the Functional API.\n",
      "WARNING:tensorflow:Layers in a Sequential model should only have a single input tensor. Received: inputs=<PIL.Image.Image image mode=RGB size=50x50 at 0x22A517062E0>. Consider rewriting this model with the Functional API.\n",
      "WARNING:tensorflow:Layers in a Sequential model should only have a single input tensor. Received: inputs=<PIL.Image.Image image mode=RGB size=50x50 at 0x22A51706340>. Consider rewriting this model with the Functional API.\n",
      "WARNING:tensorflow:Layers in a Sequential model should only have a single input tensor. Received: inputs=<PIL.Image.Image image mode=RGB size=50x50 at 0x22A517063A0>. Consider rewriting this model with the Functional API.\n",
      "WARNING:tensorflow:Layers in a Sequential model should only have a single input tensor. Received: inputs=<PIL.Image.Image image mode=RGB size=50x50 at 0x22A51706400>. Consider rewriting this model with the Functional API.\n",
      "WARNING:tensorflow:Layers in a Sequential model should only have a single input tensor. Received: inputs=<PIL.Image.Image image mode=RGB size=50x50 at 0x22A51706460>. Consider rewriting this model with the Functional API.\n",
      "WARNING:tensorflow:Layers in a Sequential model should only have a single input tensor. Received: inputs=<PIL.Image.Image image mode=RGB size=50x50 at 0x22A517064C0>. Consider rewriting this model with the Functional API.\n",
      "WARNING:tensorflow:Layers in a Sequential model should only have a single input tensor. Received: inputs=<PIL.Image.Image image mode=RGB size=50x50 at 0x22A51706520>. Consider rewriting this model with the Functional API.\n",
      "WARNING:tensorflow:Layers in a Sequential model should only have a single input tensor. Received: inputs=<PIL.Image.Image image mode=RGB size=50x50 at 0x22A51706580>. Consider rewriting this model with the Functional API.\n",
      "WARNING:tensorflow:Layers in a Sequential model should only have a single input tensor. Received: inputs=<PIL.Image.Image image mode=RGB size=50x50 at 0x22A517065E0>. Consider rewriting this model with the Functional API.\n",
      "WARNING:tensorflow:Layers in a Sequential model should only have a single input tensor. Received: inputs=<PIL.Image.Image image mode=RGB size=50x50 at 0x22A51706640>. Consider rewriting this model with the Functional API.\n",
      "WARNING:tensorflow:Layers in a Sequential model should only have a single input tensor. Received: inputs=<PIL.Image.Image image mode=RGB size=50x50 at 0x22A517066A0>. Consider rewriting this model with the Functional API.\n",
      "WARNING:tensorflow:Layers in a Sequential model should only have a single input tensor. Received: inputs=<PIL.Image.Image image mode=RGB size=50x50 at 0x22A51706700>. Consider rewriting this model with the Functional API.\n",
      "WARNING:tensorflow:Layers in a Sequential model should only have a single input tensor. Received: inputs=<PIL.Image.Image image mode=RGB size=50x50 at 0x22A51706760>. Consider rewriting this model with the Functional API.\n",
      "WARNING:tensorflow:Layers in a Sequential model should only have a single input tensor. Received: inputs=<PIL.Image.Image image mode=RGB size=50x50 at 0x22A517067C0>. Consider rewriting this model with the Functional API.\n",
      "WARNING:tensorflow:Layers in a Sequential model should only have a single input tensor. Received: inputs=<PIL.Image.Image image mode=RGB size=50x50 at 0x22A51706820>. Consider rewriting this model with the Functional API.\n",
      "WARNING:tensorflow:Layers in a Sequential model should only have a single input tensor. Received: inputs=<PIL.Image.Image image mode=RGB size=50x50 at 0x22A51706880>. Consider rewriting this model with the Functional API.\n",
      "WARNING:tensorflow:Layers in a Sequential model should only have a single input tensor. Received: inputs=<PIL.Image.Image image mode=RGB size=50x50 at 0x22A517068E0>. Consider rewriting this model with the Functional API.\n",
      "WARNING:tensorflow:Layers in a Sequential model should only have a single input tensor. Received: inputs=<PIL.Image.Image image mode=RGB size=50x50 at 0x22A51706940>. Consider rewriting this model with the Functional API.\n",
      "WARNING:tensorflow:Layers in a Sequential model should only have a single input tensor. Received: inputs=<PIL.Image.Image image mode=RGB size=50x50 at 0x22A517069A0>. Consider rewriting this model with the Functional API.\n",
      "WARNING:tensorflow:Layers in a Sequential model should only have a single input tensor. Received: inputs=<PIL.Image.Image image mode=RGB size=50x50 at 0x22A51706A00>. Consider rewriting this model with the Functional API.\n",
      "WARNING:tensorflow:Layers in a Sequential model should only have a single input tensor. Received: inputs=<PIL.Image.Image image mode=RGB size=50x50 at 0x22A51706A60>. Consider rewriting this model with the Functional API.\n",
      "WARNING:tensorflow:Layers in a Sequential model should only have a single input tensor. Received: inputs=<PIL.Image.Image image mode=RGB size=50x50 at 0x22A51706AC0>. Consider rewriting this model with the Functional API.\n",
      "WARNING:tensorflow:Layers in a Sequential model should only have a single input tensor. Received: inputs=<PIL.Image.Image image mode=RGB size=50x50 at 0x22A51706B20>. Consider rewriting this model with the Functional API.\n",
      "WARNING:tensorflow:Layers in a Sequential model should only have a single input tensor. Received: inputs=<PIL.Image.Image image mode=RGB size=50x50 at 0x22A51706B80>. Consider rewriting this model with the Functional API.\n",
      "WARNING:tensorflow:Layers in a Sequential model should only have a single input tensor. Received: inputs=<PIL.Image.Image image mode=RGB size=50x50 at 0x22A51706BE0>. Consider rewriting this model with the Functional API.\n",
      "WARNING:tensorflow:Layers in a Sequential model should only have a single input tensor. Received: inputs=<PIL.Image.Image image mode=RGB size=50x50 at 0x22A51706C40>. Consider rewriting this model with the Functional API.\n",
      "WARNING:tensorflow:Layers in a Sequential model should only have a single input tensor. Received: inputs=<PIL.Image.Image image mode=RGB size=50x50 at 0x22A51706CA0>. Consider rewriting this model with the Functional API.\n",
      "WARNING:tensorflow:Layers in a Sequential model should only have a single input tensor. Received: inputs=<PIL.Image.Image image mode=RGB size=50x50 at 0x22A51706D00>. Consider rewriting this model with the Functional API.\n",
      "WARNING:tensorflow:Layers in a Sequential model should only have a single input tensor. Received: inputs=<PIL.Image.Image image mode=RGB size=50x50 at 0x22A51706D60>. Consider rewriting this model with the Functional API.\n",
      "WARNING:tensorflow:Layers in a Sequential model should only have a single input tensor. Received: inputs=<PIL.Image.Image image mode=RGB size=50x50 at 0x22A51706DC0>. Consider rewriting this model with the Functional API.\n",
      "WARNING:tensorflow:Layers in a Sequential model should only have a single input tensor. Received: inputs=<PIL.Image.Image image mode=RGB size=50x50 at 0x22A51706E20>. Consider rewriting this model with the Functional API.\n",
      "WARNING:tensorflow:Layers in a Sequential model should only have a single input tensor. Received: inputs=<PIL.Image.Image image mode=RGB size=50x50 at 0x22A51706E80>. Consider rewriting this model with the Functional API.\n",
      "WARNING:tensorflow:Layers in a Sequential model should only have a single input tensor. Received: inputs=<PIL.Image.Image image mode=RGB size=50x50 at 0x22A51706EE0>. Consider rewriting this model with the Functional API.\n",
      "WARNING:tensorflow:Layers in a Sequential model should only have a single input tensor. Received: inputs=<PIL.Image.Image image mode=RGB size=50x50 at 0x22A51706F40>. Consider rewriting this model with the Functional API.\n"
     ]
    },
    {
     "name": "stdout",
     "output_type": "stream",
     "text": [
      "WARNING:tensorflow:Layers in a Sequential model should only have a single input tensor. Received: inputs=<PIL.Image.Image image mode=RGB size=50x50 at 0x22A51706FA0>. Consider rewriting this model with the Functional API.\n",
      "WARNING:tensorflow:Layers in a Sequential model should only have a single input tensor. Received: inputs=<PIL.Image.Image image mode=RGB size=50x50 at 0x22A51706FD0>. Consider rewriting this model with the Functional API.\n",
      "WARNING:tensorflow:Layers in a Sequential model should only have a single input tensor. Received: inputs=<PIL.Image.Image image mode=RGB size=50x50 at 0x22A5171C070>. Consider rewriting this model with the Functional API.\n",
      "WARNING:tensorflow:Layers in a Sequential model should only have a single input tensor. Received: inputs=<PIL.Image.Image image mode=RGB size=50x50 at 0x22A5171C100>. Consider rewriting this model with the Functional API.\n",
      "WARNING:tensorflow:Layers in a Sequential model should only have a single input tensor. Received: inputs=<PIL.Image.Image image mode=RGB size=50x50 at 0x22A5171C160>. Consider rewriting this model with the Functional API.\n",
      "WARNING:tensorflow:Layers in a Sequential model should only have a single input tensor. Received: inputs=<PIL.Image.Image image mode=RGB size=50x50 at 0x22A5171C1C0>. Consider rewriting this model with the Functional API.\n",
      "WARNING:tensorflow:Layers in a Sequential model should only have a single input tensor. Received: inputs=<PIL.Image.Image image mode=RGB size=50x50 at 0x22A5171C220>. Consider rewriting this model with the Functional API.\n",
      "WARNING:tensorflow:Layers in a Sequential model should only have a single input tensor. Received: inputs=<PIL.Image.Image image mode=RGB size=50x50 at 0x22A5171C280>. Consider rewriting this model with the Functional API.\n",
      "WARNING:tensorflow:Layers in a Sequential model should only have a single input tensor. Received: inputs=<PIL.Image.Image image mode=RGB size=50x50 at 0x22A5171C2E0>. Consider rewriting this model with the Functional API.\n",
      "WARNING:tensorflow:Layers in a Sequential model should only have a single input tensor. Received: inputs=<PIL.Image.Image image mode=RGB size=50x50 at 0x22A5171C340>. Consider rewriting this model with the Functional API.\n",
      "WARNING:tensorflow:Layers in a Sequential model should only have a single input tensor. Received: inputs=<PIL.Image.Image image mode=RGB size=50x50 at 0x22A5171C3A0>. Consider rewriting this model with the Functional API.\n",
      "WARNING:tensorflow:Layers in a Sequential model should only have a single input tensor. Received: inputs=<PIL.Image.Image image mode=RGB size=50x50 at 0x22A5171C400>. Consider rewriting this model with the Functional API.\n",
      "WARNING:tensorflow:Layers in a Sequential model should only have a single input tensor. Received: inputs=<PIL.Image.Image image mode=RGB size=50x50 at 0x22A5171C460>. Consider rewriting this model with the Functional API.\n",
      "WARNING:tensorflow:Layers in a Sequential model should only have a single input tensor. Received: inputs=<PIL.Image.Image image mode=RGB size=50x50 at 0x22A5171C4C0>. Consider rewriting this model with the Functional API.\n",
      "WARNING:tensorflow:Layers in a Sequential model should only have a single input tensor. Received: inputs=<PIL.Image.Image image mode=RGB size=50x50 at 0x22A5171C520>. Consider rewriting this model with the Functional API.\n",
      "WARNING:tensorflow:Layers in a Sequential model should only have a single input tensor. Received: inputs=<PIL.Image.Image image mode=RGB size=50x50 at 0x22A5171C580>. Consider rewriting this model with the Functional API.\n",
      "WARNING:tensorflow:Layers in a Sequential model should only have a single input tensor. Received: inputs=<PIL.Image.Image image mode=RGB size=50x50 at 0x22A5171C5E0>. Consider rewriting this model with the Functional API.\n",
      "WARNING:tensorflow:Layers in a Sequential model should only have a single input tensor. Received: inputs=<PIL.Image.Image image mode=RGB size=50x50 at 0x22A5171C640>. Consider rewriting this model with the Functional API.\n",
      "WARNING:tensorflow:Layers in a Sequential model should only have a single input tensor. Received: inputs=<PIL.Image.Image image mode=RGB size=50x50 at 0x22A5171C6A0>. Consider rewriting this model with the Functional API.\n",
      "WARNING:tensorflow:Layers in a Sequential model should only have a single input tensor. Received: inputs=<PIL.Image.Image image mode=RGB size=50x50 at 0x22A5171C700>. Consider rewriting this model with the Functional API.\n",
      "WARNING:tensorflow:Layers in a Sequential model should only have a single input tensor. Received: inputs=<PIL.Image.Image image mode=RGB size=50x50 at 0x22A5171C760>. Consider rewriting this model with the Functional API.\n",
      "WARNING:tensorflow:Layers in a Sequential model should only have a single input tensor. Received: inputs=<PIL.Image.Image image mode=RGB size=50x50 at 0x22A5171C7C0>. Consider rewriting this model with the Functional API.\n",
      "WARNING:tensorflow:Layers in a Sequential model should only have a single input tensor. Received: inputs=<PIL.Image.Image image mode=RGB size=50x50 at 0x22A5171C820>. Consider rewriting this model with the Functional API.\n",
      "WARNING:tensorflow:Layers in a Sequential model should only have a single input tensor. Received: inputs=<PIL.Image.Image image mode=RGB size=50x50 at 0x22A5171C880>. Consider rewriting this model with the Functional API.\n",
      "WARNING:tensorflow:Layers in a Sequential model should only have a single input tensor. Received: inputs=<PIL.Image.Image image mode=RGB size=50x50 at 0x22A5171C8E0>. Consider rewriting this model with the Functional API.\n",
      "WARNING:tensorflow:Layers in a Sequential model should only have a single input tensor. Received: inputs=<PIL.Image.Image image mode=RGB size=50x50 at 0x22A5171C940>. Consider rewriting this model with the Functional API.\n",
      "WARNING:tensorflow:Layers in a Sequential model should only have a single input tensor. Received: inputs=<PIL.Image.Image image mode=RGB size=50x50 at 0x22A5171C9A0>. Consider rewriting this model with the Functional API.\n",
      "WARNING:tensorflow:Layers in a Sequential model should only have a single input tensor. Received: inputs=<PIL.Image.Image image mode=RGB size=50x50 at 0x22A5171CA00>. Consider rewriting this model with the Functional API.\n",
      "WARNING:tensorflow:Layers in a Sequential model should only have a single input tensor. Received: inputs=<PIL.Image.Image image mode=RGB size=50x50 at 0x22A5171CA60>. Consider rewriting this model with the Functional API.\n",
      "WARNING:tensorflow:Layers in a Sequential model should only have a single input tensor. Received: inputs=<PIL.Image.Image image mode=RGB size=50x50 at 0x22A5171CAC0>. Consider rewriting this model with the Functional API.\n",
      "WARNING:tensorflow:Layers in a Sequential model should only have a single input tensor. Received: inputs=<PIL.Image.Image image mode=RGB size=50x50 at 0x22A5171CB20>. Consider rewriting this model with the Functional API.\n",
      "WARNING:tensorflow:Layers in a Sequential model should only have a single input tensor. Received: inputs=<PIL.Image.Image image mode=RGB size=50x50 at 0x22A5171CB80>. Consider rewriting this model with the Functional API.\n",
      "WARNING:tensorflow:Layers in a Sequential model should only have a single input tensor. Received: inputs=<PIL.Image.Image image mode=RGB size=50x50 at 0x22A5171CBE0>. Consider rewriting this model with the Functional API.\n",
      "WARNING:tensorflow:Layers in a Sequential model should only have a single input tensor. Received: inputs=<PIL.Image.Image image mode=RGB size=50x50 at 0x22A5171CC40>. Consider rewriting this model with the Functional API.\n",
      "WARNING:tensorflow:Layers in a Sequential model should only have a single input tensor. Received: inputs=<PIL.Image.Image image mode=RGB size=50x50 at 0x22A5171CCA0>. Consider rewriting this model with the Functional API.\n",
      "WARNING:tensorflow:Layers in a Sequential model should only have a single input tensor. Received: inputs=<PIL.Image.Image image mode=RGB size=50x50 at 0x22A5171CD00>. Consider rewriting this model with the Functional API.\n",
      "WARNING:tensorflow:Layers in a Sequential model should only have a single input tensor. Received: inputs=<PIL.Image.Image image mode=RGB size=50x50 at 0x22A5171CD60>. Consider rewriting this model with the Functional API.\n"
     ]
    },
    {
     "name": "stdout",
     "output_type": "stream",
     "text": [
      "WARNING:tensorflow:Layers in a Sequential model should only have a single input tensor. Received: inputs=<PIL.Image.Image image mode=RGB size=50x50 at 0x22A5171CDC0>. Consider rewriting this model with the Functional API.\n",
      "WARNING:tensorflow:Layers in a Sequential model should only have a single input tensor. Received: inputs=<PIL.Image.Image image mode=RGB size=50x50 at 0x22A5171CE20>. Consider rewriting this model with the Functional API.\n",
      "WARNING:tensorflow:Layers in a Sequential model should only have a single input tensor. Received: inputs=<PIL.Image.Image image mode=RGB size=50x50 at 0x22A5171CE80>. Consider rewriting this model with the Functional API.\n",
      "WARNING:tensorflow:Layers in a Sequential model should only have a single input tensor. Received: inputs=<PIL.Image.Image image mode=RGB size=50x50 at 0x22A5171CEE0>. Consider rewriting this model with the Functional API.\n",
      "WARNING:tensorflow:Layers in a Sequential model should only have a single input tensor. Received: inputs=<PIL.Image.Image image mode=RGB size=50x50 at 0x22A5171CF40>. Consider rewriting this model with the Functional API.\n",
      "WARNING:tensorflow:Layers in a Sequential model should only have a single input tensor. Received: inputs=<PIL.Image.Image image mode=RGB size=50x50 at 0x22A5171CFA0>. Consider rewriting this model with the Functional API.\n",
      "WARNING:tensorflow:Layers in a Sequential model should only have a single input tensor. Received: inputs=<PIL.Image.Image image mode=RGB size=50x50 at 0x22A5171CFD0>. Consider rewriting this model with the Functional API.\n",
      "WARNING:tensorflow:Layers in a Sequential model should only have a single input tensor. Received: inputs=<PIL.Image.Image image mode=RGB size=50x50 at 0x22A517310A0>. Consider rewriting this model with the Functional API.\n",
      "WARNING:tensorflow:Layers in a Sequential model should only have a single input tensor. Received: inputs=<PIL.Image.Image image mode=RGB size=50x50 at 0x22A51731100>. Consider rewriting this model with the Functional API.\n",
      "WARNING:tensorflow:Layers in a Sequential model should only have a single input tensor. Received: inputs=<PIL.Image.Image image mode=RGB size=50x50 at 0x22A51731160>. Consider rewriting this model with the Functional API.\n",
      "WARNING:tensorflow:Layers in a Sequential model should only have a single input tensor. Received: inputs=<PIL.Image.Image image mode=RGB size=50x50 at 0x22A517311C0>. Consider rewriting this model with the Functional API.\n",
      "WARNING:tensorflow:Layers in a Sequential model should only have a single input tensor. Received: inputs=<PIL.Image.Image image mode=RGB size=50x50 at 0x22A51731220>. Consider rewriting this model with the Functional API.\n",
      "WARNING:tensorflow:Layers in a Sequential model should only have a single input tensor. Received: inputs=<PIL.Image.Image image mode=RGB size=50x50 at 0x22A51731280>. Consider rewriting this model with the Functional API.\n",
      "WARNING:tensorflow:Layers in a Sequential model should only have a single input tensor. Received: inputs=<PIL.Image.Image image mode=RGB size=50x50 at 0x22A517312E0>. Consider rewriting this model with the Functional API.\n",
      "WARNING:tensorflow:Layers in a Sequential model should only have a single input tensor. Received: inputs=<PIL.Image.Image image mode=RGB size=50x50 at 0x22A51731340>. Consider rewriting this model with the Functional API.\n",
      "WARNING:tensorflow:Layers in a Sequential model should only have a single input tensor. Received: inputs=<PIL.Image.Image image mode=RGB size=50x50 at 0x22A517313A0>. Consider rewriting this model with the Functional API.\n",
      "WARNING:tensorflow:Layers in a Sequential model should only have a single input tensor. Received: inputs=<PIL.Image.Image image mode=RGB size=50x50 at 0x22A51731400>. Consider rewriting this model with the Functional API.\n",
      "WARNING:tensorflow:Layers in a Sequential model should only have a single input tensor. Received: inputs=<PIL.Image.Image image mode=RGB size=50x50 at 0x22A51731460>. Consider rewriting this model with the Functional API.\n",
      "WARNING:tensorflow:Layers in a Sequential model should only have a single input tensor. Received: inputs=<PIL.Image.Image image mode=RGB size=50x50 at 0x22A517314C0>. Consider rewriting this model with the Functional API.\n",
      "WARNING:tensorflow:Layers in a Sequential model should only have a single input tensor. Received: inputs=<PIL.Image.Image image mode=RGB size=50x50 at 0x22A51731520>. Consider rewriting this model with the Functional API.\n",
      "WARNING:tensorflow:Layers in a Sequential model should only have a single input tensor. Received: inputs=<PIL.Image.Image image mode=RGB size=50x50 at 0x22A51731580>. Consider rewriting this model with the Functional API.\n",
      "WARNING:tensorflow:Layers in a Sequential model should only have a single input tensor. Received: inputs=<PIL.Image.Image image mode=RGB size=50x50 at 0x22A517315E0>. Consider rewriting this model with the Functional API.\n",
      "WARNING:tensorflow:Layers in a Sequential model should only have a single input tensor. Received: inputs=<PIL.Image.Image image mode=RGB size=50x50 at 0x22A51731640>. Consider rewriting this model with the Functional API.\n",
      "WARNING:tensorflow:Layers in a Sequential model should only have a single input tensor. Received: inputs=<PIL.Image.Image image mode=RGB size=50x50 at 0x22A517316A0>. Consider rewriting this model with the Functional API.\n",
      "WARNING:tensorflow:Layers in a Sequential model should only have a single input tensor. Received: inputs=<PIL.Image.Image image mode=RGB size=50x50 at 0x22A51731700>. Consider rewriting this model with the Functional API.\n",
      "WARNING:tensorflow:Layers in a Sequential model should only have a single input tensor. Received: inputs=<PIL.Image.Image image mode=RGB size=50x50 at 0x22A51731760>. Consider rewriting this model with the Functional API.\n",
      "WARNING:tensorflow:Layers in a Sequential model should only have a single input tensor. Received: inputs=<PIL.Image.Image image mode=RGB size=50x50 at 0x22A517317C0>. Consider rewriting this model with the Functional API.\n",
      "WARNING:tensorflow:Layers in a Sequential model should only have a single input tensor. Received: inputs=<PIL.Image.Image image mode=RGB size=50x50 at 0x22A51731820>. Consider rewriting this model with the Functional API.\n",
      "WARNING:tensorflow:Layers in a Sequential model should only have a single input tensor. Received: inputs=<PIL.Image.Image image mode=RGB size=50x50 at 0x22A51731880>. Consider rewriting this model with the Functional API.\n",
      "WARNING:tensorflow:Layers in a Sequential model should only have a single input tensor. Received: inputs=<PIL.Image.Image image mode=RGB size=50x50 at 0x22A517318E0>. Consider rewriting this model with the Functional API.\n",
      "WARNING:tensorflow:Layers in a Sequential model should only have a single input tensor. Received: inputs=<PIL.Image.Image image mode=RGB size=50x50 at 0x22A51731940>. Consider rewriting this model with the Functional API.\n",
      "WARNING:tensorflow:Layers in a Sequential model should only have a single input tensor. Received: inputs=<PIL.Image.Image image mode=RGB size=50x50 at 0x22A517319A0>. Consider rewriting this model with the Functional API.\n",
      "WARNING:tensorflow:Layers in a Sequential model should only have a single input tensor. Received: inputs=<PIL.Image.Image image mode=RGB size=50x50 at 0x22A51731A00>. Consider rewriting this model with the Functional API.\n",
      "WARNING:tensorflow:Layers in a Sequential model should only have a single input tensor. Received: inputs=<PIL.Image.Image image mode=RGB size=50x50 at 0x22A51731A60>. Consider rewriting this model with the Functional API.\n",
      "WARNING:tensorflow:Layers in a Sequential model should only have a single input tensor. Received: inputs=<PIL.Image.Image image mode=RGB size=50x50 at 0x22A51731AC0>. Consider rewriting this model with the Functional API.\n",
      "WARNING:tensorflow:Layers in a Sequential model should only have a single input tensor. Received: inputs=<PIL.Image.Image image mode=RGB size=50x50 at 0x22A51731B20>. Consider rewriting this model with the Functional API.\n",
      "WARNING:tensorflow:Layers in a Sequential model should only have a single input tensor. Received: inputs=<PIL.Image.Image image mode=RGB size=50x50 at 0x22A51731B80>. Consider rewriting this model with the Functional API.\n"
     ]
    },
    {
     "name": "stdout",
     "output_type": "stream",
     "text": [
      "WARNING:tensorflow:Layers in a Sequential model should only have a single input tensor. Received: inputs=<PIL.Image.Image image mode=RGB size=50x50 at 0x22A51731BE0>. Consider rewriting this model with the Functional API.\n",
      "WARNING:tensorflow:Layers in a Sequential model should only have a single input tensor. Received: inputs=<PIL.Image.Image image mode=RGB size=50x50 at 0x22A51731C40>. Consider rewriting this model with the Functional API.\n",
      "WARNING:tensorflow:Layers in a Sequential model should only have a single input tensor. Received: inputs=<PIL.Image.Image image mode=RGB size=50x50 at 0x22A51731CA0>. Consider rewriting this model with the Functional API.\n",
      "WARNING:tensorflow:Layers in a Sequential model should only have a single input tensor. Received: inputs=<PIL.Image.Image image mode=RGB size=50x50 at 0x22A51731D00>. Consider rewriting this model with the Functional API.\n",
      "WARNING:tensorflow:Layers in a Sequential model should only have a single input tensor. Received: inputs=<PIL.Image.Image image mode=RGB size=50x50 at 0x22A51731D60>. Consider rewriting this model with the Functional API.\n",
      "WARNING:tensorflow:Layers in a Sequential model should only have a single input tensor. Received: inputs=<PIL.Image.Image image mode=RGB size=50x50 at 0x22A51731DC0>. Consider rewriting this model with the Functional API.\n",
      "WARNING:tensorflow:Layers in a Sequential model should only have a single input tensor. Received: inputs=<PIL.Image.Image image mode=RGB size=50x50 at 0x22A51731E20>. Consider rewriting this model with the Functional API.\n",
      "WARNING:tensorflow:Layers in a Sequential model should only have a single input tensor. Received: inputs=<PIL.Image.Image image mode=RGB size=50x50 at 0x22A51731E80>. Consider rewriting this model with the Functional API.\n",
      "WARNING:tensorflow:Layers in a Sequential model should only have a single input tensor. Received: inputs=<PIL.Image.Image image mode=RGB size=50x50 at 0x22A51731EE0>. Consider rewriting this model with the Functional API.\n",
      "WARNING:tensorflow:Layers in a Sequential model should only have a single input tensor. Received: inputs=<PIL.Image.Image image mode=RGB size=50x50 at 0x22A51731F40>. Consider rewriting this model with the Functional API.\n",
      "WARNING:tensorflow:Layers in a Sequential model should only have a single input tensor. Received: inputs=<PIL.Image.Image image mode=RGB size=50x50 at 0x22A51731FA0>. Consider rewriting this model with the Functional API.\n",
      "WARNING:tensorflow:Layers in a Sequential model should only have a single input tensor. Received: inputs=<PIL.Image.Image image mode=RGB size=50x50 at 0x22A51731FD0>. Consider rewriting this model with the Functional API.\n",
      "WARNING:tensorflow:Layers in a Sequential model should only have a single input tensor. Received: inputs=<PIL.Image.Image image mode=RGB size=50x50 at 0x22A51748070>. Consider rewriting this model with the Functional API.\n",
      "WARNING:tensorflow:Layers in a Sequential model should only have a single input tensor. Received: inputs=<PIL.Image.Image image mode=RGB size=50x50 at 0x22A51748100>. Consider rewriting this model with the Functional API.\n",
      "WARNING:tensorflow:Layers in a Sequential model should only have a single input tensor. Received: inputs=<PIL.Image.Image image mode=RGB size=50x50 at 0x22A51748160>. Consider rewriting this model with the Functional API.\n",
      "WARNING:tensorflow:Layers in a Sequential model should only have a single input tensor. Received: inputs=<PIL.Image.Image image mode=RGB size=50x50 at 0x22A517481C0>. Consider rewriting this model with the Functional API.\n",
      "WARNING:tensorflow:Layers in a Sequential model should only have a single input tensor. Received: inputs=<PIL.Image.Image image mode=RGB size=50x50 at 0x22A51748220>. Consider rewriting this model with the Functional API.\n",
      "WARNING:tensorflow:Layers in a Sequential model should only have a single input tensor. Received: inputs=<PIL.Image.Image image mode=RGB size=50x50 at 0x22A51748280>. Consider rewriting this model with the Functional API.\n",
      "WARNING:tensorflow:Layers in a Sequential model should only have a single input tensor. Received: inputs=<PIL.Image.Image image mode=RGB size=50x50 at 0x22A517482E0>. Consider rewriting this model with the Functional API.\n",
      "WARNING:tensorflow:Layers in a Sequential model should only have a single input tensor. Received: inputs=<PIL.Image.Image image mode=RGB size=50x50 at 0x22A51748340>. Consider rewriting this model with the Functional API.\n",
      "WARNING:tensorflow:Layers in a Sequential model should only have a single input tensor. Received: inputs=<PIL.Image.Image image mode=RGB size=50x50 at 0x22A517483A0>. Consider rewriting this model with the Functional API.\n",
      "WARNING:tensorflow:Layers in a Sequential model should only have a single input tensor. Received: inputs=<PIL.Image.Image image mode=RGB size=50x50 at 0x22A51748400>. Consider rewriting this model with the Functional API.\n",
      "WARNING:tensorflow:Layers in a Sequential model should only have a single input tensor. Received: inputs=<PIL.Image.Image image mode=RGB size=50x50 at 0x22A51748460>. Consider rewriting this model with the Functional API.\n",
      "WARNING:tensorflow:Layers in a Sequential model should only have a single input tensor. Received: inputs=<PIL.Image.Image image mode=RGB size=50x50 at 0x22A517484C0>. Consider rewriting this model with the Functional API.\n",
      "WARNING:tensorflow:Layers in a Sequential model should only have a single input tensor. Received: inputs=<PIL.Image.Image image mode=RGB size=50x50 at 0x22A51748520>. Consider rewriting this model with the Functional API.\n",
      "WARNING:tensorflow:Layers in a Sequential model should only have a single input tensor. Received: inputs=<PIL.Image.Image image mode=RGB size=50x50 at 0x22A51748580>. Consider rewriting this model with the Functional API.\n",
      "WARNING:tensorflow:Layers in a Sequential model should only have a single input tensor. Received: inputs=<PIL.Image.Image image mode=RGB size=50x50 at 0x22A517485E0>. Consider rewriting this model with the Functional API.\n",
      "WARNING:tensorflow:Layers in a Sequential model should only have a single input tensor. Received: inputs=<PIL.Image.Image image mode=RGB size=50x50 at 0x22A51748640>. Consider rewriting this model with the Functional API.\n",
      "WARNING:tensorflow:Layers in a Sequential model should only have a single input tensor. Received: inputs=<PIL.Image.Image image mode=RGB size=50x50 at 0x22A517486A0>. Consider rewriting this model with the Functional API.\n",
      "WARNING:tensorflow:Layers in a Sequential model should only have a single input tensor. Received: inputs=<PIL.Image.Image image mode=RGB size=50x50 at 0x22A51748700>. Consider rewriting this model with the Functional API.\n",
      "WARNING:tensorflow:Layers in a Sequential model should only have a single input tensor. Received: inputs=<PIL.Image.Image image mode=RGB size=50x50 at 0x22A51748760>. Consider rewriting this model with the Functional API.\n",
      "WARNING:tensorflow:Layers in a Sequential model should only have a single input tensor. Received: inputs=<PIL.Image.Image image mode=RGB size=50x50 at 0x22A517487C0>. Consider rewriting this model with the Functional API.\n",
      "WARNING:tensorflow:Layers in a Sequential model should only have a single input tensor. Received: inputs=<PIL.Image.Image image mode=RGB size=50x50 at 0x22A51748820>. Consider rewriting this model with the Functional API.\n",
      "WARNING:tensorflow:Layers in a Sequential model should only have a single input tensor. Received: inputs=<PIL.Image.Image image mode=RGB size=50x50 at 0x22A51748880>. Consider rewriting this model with the Functional API.\n",
      "WARNING:tensorflow:Layers in a Sequential model should only have a single input tensor. Received: inputs=<PIL.Image.Image image mode=RGB size=50x50 at 0x22A517488E0>. Consider rewriting this model with the Functional API.\n",
      "WARNING:tensorflow:Layers in a Sequential model should only have a single input tensor. Received: inputs=<PIL.Image.Image image mode=RGB size=50x50 at 0x22A51748940>. Consider rewriting this model with the Functional API.\n",
      "WARNING:tensorflow:Layers in a Sequential model should only have a single input tensor. Received: inputs=<PIL.Image.Image image mode=RGB size=50x50 at 0x22A517489A0>. Consider rewriting this model with the Functional API.\n"
     ]
    },
    {
     "name": "stdout",
     "output_type": "stream",
     "text": [
      "WARNING:tensorflow:Layers in a Sequential model should only have a single input tensor. Received: inputs=<PIL.Image.Image image mode=RGB size=50x50 at 0x22A51748A00>. Consider rewriting this model with the Functional API.\n",
      "WARNING:tensorflow:Layers in a Sequential model should only have a single input tensor. Received: inputs=<PIL.Image.Image image mode=RGB size=50x50 at 0x22A51748A60>. Consider rewriting this model with the Functional API.\n",
      "WARNING:tensorflow:Layers in a Sequential model should only have a single input tensor. Received: inputs=<PIL.Image.Image image mode=RGB size=50x50 at 0x22A51748AC0>. Consider rewriting this model with the Functional API.\n",
      "WARNING:tensorflow:Layers in a Sequential model should only have a single input tensor. Received: inputs=<PIL.Image.Image image mode=RGB size=50x50 at 0x22A51748B20>. Consider rewriting this model with the Functional API.\n",
      "WARNING:tensorflow:Layers in a Sequential model should only have a single input tensor. Received: inputs=<PIL.Image.Image image mode=RGB size=50x50 at 0x22A51748B80>. Consider rewriting this model with the Functional API.\n",
      "WARNING:tensorflow:Layers in a Sequential model should only have a single input tensor. Received: inputs=<PIL.Image.Image image mode=RGB size=50x50 at 0x22A51748BE0>. Consider rewriting this model with the Functional API.\n",
      "WARNING:tensorflow:Layers in a Sequential model should only have a single input tensor. Received: inputs=<PIL.Image.Image image mode=RGB size=50x50 at 0x22A51748C40>. Consider rewriting this model with the Functional API.\n",
      "WARNING:tensorflow:Layers in a Sequential model should only have a single input tensor. Received: inputs=<PIL.Image.Image image mode=RGB size=50x50 at 0x22A51748CA0>. Consider rewriting this model with the Functional API.\n",
      "WARNING:tensorflow:Layers in a Sequential model should only have a single input tensor. Received: inputs=<PIL.Image.Image image mode=RGB size=50x50 at 0x22A51748D00>. Consider rewriting this model with the Functional API.\n",
      "WARNING:tensorflow:Layers in a Sequential model should only have a single input tensor. Received: inputs=<PIL.Image.Image image mode=RGB size=50x50 at 0x22A51748D60>. Consider rewriting this model with the Functional API.\n",
      "WARNING:tensorflow:Layers in a Sequential model should only have a single input tensor. Received: inputs=<PIL.Image.Image image mode=RGB size=50x50 at 0x22A51748DC0>. Consider rewriting this model with the Functional API.\n",
      "WARNING:tensorflow:Layers in a Sequential model should only have a single input tensor. Received: inputs=<PIL.Image.Image image mode=RGB size=50x50 at 0x22A51748E20>. Consider rewriting this model with the Functional API.\n",
      "WARNING:tensorflow:Layers in a Sequential model should only have a single input tensor. Received: inputs=<PIL.Image.Image image mode=RGB size=50x50 at 0x22A51748E80>. Consider rewriting this model with the Functional API.\n",
      "WARNING:tensorflow:Layers in a Sequential model should only have a single input tensor. Received: inputs=<PIL.Image.Image image mode=RGB size=50x50 at 0x22A51748EE0>. Consider rewriting this model with the Functional API.\n",
      "WARNING:tensorflow:Layers in a Sequential model should only have a single input tensor. Received: inputs=<PIL.Image.Image image mode=RGB size=50x50 at 0x22A51748F40>. Consider rewriting this model with the Functional API.\n",
      "WARNING:tensorflow:Layers in a Sequential model should only have a single input tensor. Received: inputs=<PIL.Image.Image image mode=RGB size=50x50 at 0x22A51748FA0>. Consider rewriting this model with the Functional API.\n",
      "WARNING:tensorflow:Layers in a Sequential model should only have a single input tensor. Received: inputs=<PIL.Image.Image image mode=RGB size=50x50 at 0x22A51748FD0>. Consider rewriting this model with the Functional API.\n",
      "WARNING:tensorflow:Layers in a Sequential model should only have a single input tensor. Received: inputs=<PIL.Image.Image image mode=RGB size=50x50 at 0x22A5175B0A0>. Consider rewriting this model with the Functional API.\n",
      "WARNING:tensorflow:Layers in a Sequential model should only have a single input tensor. Received: inputs=<PIL.Image.Image image mode=RGB size=50x50 at 0x22A5175B100>. Consider rewriting this model with the Functional API.\n",
      "WARNING:tensorflow:Layers in a Sequential model should only have a single input tensor. Received: inputs=<PIL.Image.Image image mode=RGB size=50x50 at 0x22A5175B160>. Consider rewriting this model with the Functional API.\n",
      "WARNING:tensorflow:Layers in a Sequential model should only have a single input tensor. Received: inputs=<PIL.Image.Image image mode=RGB size=50x50 at 0x22A5175B1C0>. Consider rewriting this model with the Functional API.\n",
      "WARNING:tensorflow:Layers in a Sequential model should only have a single input tensor. Received: inputs=<PIL.Image.Image image mode=RGB size=50x50 at 0x22A5175B220>. Consider rewriting this model with the Functional API.\n",
      "WARNING:tensorflow:Layers in a Sequential model should only have a single input tensor. Received: inputs=<PIL.Image.Image image mode=RGB size=50x50 at 0x22A5175B280>. Consider rewriting this model with the Functional API.\n",
      "WARNING:tensorflow:Layers in a Sequential model should only have a single input tensor. Received: inputs=<PIL.Image.Image image mode=RGB size=50x50 at 0x22A5175B2E0>. Consider rewriting this model with the Functional API.\n",
      "WARNING:tensorflow:Layers in a Sequential model should only have a single input tensor. Received: inputs=<PIL.Image.Image image mode=RGB size=50x50 at 0x22A5175B340>. Consider rewriting this model with the Functional API.\n",
      "WARNING:tensorflow:Layers in a Sequential model should only have a single input tensor. Received: inputs=<PIL.Image.Image image mode=RGB size=50x50 at 0x22A5175B3A0>. Consider rewriting this model with the Functional API.\n",
      "WARNING:tensorflow:Layers in a Sequential model should only have a single input tensor. Received: inputs=<PIL.Image.Image image mode=RGB size=50x50 at 0x22A5175B400>. Consider rewriting this model with the Functional API.\n",
      "WARNING:tensorflow:Layers in a Sequential model should only have a single input tensor. Received: inputs=<PIL.Image.Image image mode=RGB size=50x50 at 0x22A5175B460>. Consider rewriting this model with the Functional API.\n",
      "WARNING:tensorflow:Layers in a Sequential model should only have a single input tensor. Received: inputs=<PIL.Image.Image image mode=RGB size=50x50 at 0x22A5175B4C0>. Consider rewriting this model with the Functional API.\n",
      "WARNING:tensorflow:Layers in a Sequential model should only have a single input tensor. Received: inputs=<PIL.Image.Image image mode=RGB size=50x50 at 0x22A5175B520>. Consider rewriting this model with the Functional API.\n",
      "WARNING:tensorflow:Layers in a Sequential model should only have a single input tensor. Received: inputs=<PIL.Image.Image image mode=RGB size=50x50 at 0x22A5175B580>. Consider rewriting this model with the Functional API.\n",
      "WARNING:tensorflow:Layers in a Sequential model should only have a single input tensor. Received: inputs=<PIL.Image.Image image mode=RGB size=50x50 at 0x22A5175B5E0>. Consider rewriting this model with the Functional API.\n",
      "WARNING:tensorflow:Layers in a Sequential model should only have a single input tensor. Received: inputs=<PIL.Image.Image image mode=RGB size=50x50 at 0x22A5175B640>. Consider rewriting this model with the Functional API.\n",
      "WARNING:tensorflow:Layers in a Sequential model should only have a single input tensor. Received: inputs=<PIL.Image.Image image mode=RGB size=50x50 at 0x22A5175B6A0>. Consider rewriting this model with the Functional API.\n",
      "WARNING:tensorflow:Layers in a Sequential model should only have a single input tensor. Received: inputs=<PIL.Image.Image image mode=RGB size=50x50 at 0x22A5175B700>. Consider rewriting this model with the Functional API.\n",
      "WARNING:tensorflow:Layers in a Sequential model should only have a single input tensor. Received: inputs=<PIL.Image.Image image mode=RGB size=50x50 at 0x22A5175B760>. Consider rewriting this model with the Functional API.\n",
      "WARNING:tensorflow:Layers in a Sequential model should only have a single input tensor. Received: inputs=<PIL.Image.Image image mode=RGB size=50x50 at 0x22A5175B7C0>. Consider rewriting this model with the Functional API.\n"
     ]
    },
    {
     "name": "stdout",
     "output_type": "stream",
     "text": [
      "WARNING:tensorflow:Layers in a Sequential model should only have a single input tensor. Received: inputs=<PIL.Image.Image image mode=RGB size=50x50 at 0x22A5175B820>. Consider rewriting this model with the Functional API.\n",
      "WARNING:tensorflow:Layers in a Sequential model should only have a single input tensor. Received: inputs=<PIL.Image.Image image mode=RGB size=50x50 at 0x22A5175B880>. Consider rewriting this model with the Functional API.\n",
      "WARNING:tensorflow:Layers in a Sequential model should only have a single input tensor. Received: inputs=<PIL.Image.Image image mode=RGB size=50x50 at 0x22A5175B8E0>. Consider rewriting this model with the Functional API.\n",
      "WARNING:tensorflow:Layers in a Sequential model should only have a single input tensor. Received: inputs=<PIL.Image.Image image mode=RGB size=50x50 at 0x22A5175B940>. Consider rewriting this model with the Functional API.\n",
      "WARNING:tensorflow:Layers in a Sequential model should only have a single input tensor. Received: inputs=<PIL.Image.Image image mode=RGB size=50x50 at 0x22A5175B9A0>. Consider rewriting this model with the Functional API.\n",
      "WARNING:tensorflow:Layers in a Sequential model should only have a single input tensor. Received: inputs=<PIL.Image.Image image mode=RGB size=50x50 at 0x22A5175BA00>. Consider rewriting this model with the Functional API.\n",
      "WARNING:tensorflow:Layers in a Sequential model should only have a single input tensor. Received: inputs=<PIL.Image.Image image mode=RGB size=50x50 at 0x22A5175BA60>. Consider rewriting this model with the Functional API.\n",
      "WARNING:tensorflow:Layers in a Sequential model should only have a single input tensor. Received: inputs=<PIL.Image.Image image mode=RGB size=50x50 at 0x22A5175BAC0>. Consider rewriting this model with the Functional API.\n",
      "WARNING:tensorflow:Layers in a Sequential model should only have a single input tensor. Received: inputs=<PIL.Image.Image image mode=RGB size=50x50 at 0x22A5175BB20>. Consider rewriting this model with the Functional API.\n",
      "WARNING:tensorflow:Layers in a Sequential model should only have a single input tensor. Received: inputs=<PIL.Image.Image image mode=RGB size=50x50 at 0x22A5175BB80>. Consider rewriting this model with the Functional API.\n",
      "WARNING:tensorflow:Layers in a Sequential model should only have a single input tensor. Received: inputs=<PIL.Image.Image image mode=RGB size=50x50 at 0x22A5175BBE0>. Consider rewriting this model with the Functional API.\n",
      "WARNING:tensorflow:Layers in a Sequential model should only have a single input tensor. Received: inputs=<PIL.Image.Image image mode=RGB size=50x50 at 0x22A5175BC40>. Consider rewriting this model with the Functional API.\n",
      "WARNING:tensorflow:Layers in a Sequential model should only have a single input tensor. Received: inputs=<PIL.Image.Image image mode=RGB size=50x50 at 0x22A5175BCA0>. Consider rewriting this model with the Functional API.\n",
      "WARNING:tensorflow:Layers in a Sequential model should only have a single input tensor. Received: inputs=<PIL.Image.Image image mode=RGB size=50x50 at 0x22A5175BD00>. Consider rewriting this model with the Functional API.\n",
      "WARNING:tensorflow:Layers in a Sequential model should only have a single input tensor. Received: inputs=<PIL.Image.Image image mode=RGB size=50x50 at 0x22A5175BD60>. Consider rewriting this model with the Functional API.\n",
      "WARNING:tensorflow:Layers in a Sequential model should only have a single input tensor. Received: inputs=<PIL.Image.Image image mode=RGB size=50x50 at 0x22A5175BDC0>. Consider rewriting this model with the Functional API.\n",
      "WARNING:tensorflow:Layers in a Sequential model should only have a single input tensor. Received: inputs=<PIL.Image.Image image mode=RGB size=50x50 at 0x22A5175BE20>. Consider rewriting this model with the Functional API.\n",
      "WARNING:tensorflow:Layers in a Sequential model should only have a single input tensor. Received: inputs=<PIL.Image.Image image mode=RGB size=50x50 at 0x22A5175BE80>. Consider rewriting this model with the Functional API.\n",
      "WARNING:tensorflow:Layers in a Sequential model should only have a single input tensor. Received: inputs=<PIL.Image.Image image mode=RGB size=50x50 at 0x22A5175BEE0>. Consider rewriting this model with the Functional API.\n",
      "WARNING:tensorflow:Layers in a Sequential model should only have a single input tensor. Received: inputs=<PIL.Image.Image image mode=RGB size=50x50 at 0x22A5175BF40>. Consider rewriting this model with the Functional API.\n",
      "WARNING:tensorflow:Layers in a Sequential model should only have a single input tensor. Received: inputs=<PIL.Image.Image image mode=RGB size=50x50 at 0x22A5175BFA0>. Consider rewriting this model with the Functional API.\n",
      "WARNING:tensorflow:Layers in a Sequential model should only have a single input tensor. Received: inputs=<PIL.Image.Image image mode=RGB size=50x50 at 0x22A5175BFD0>. Consider rewriting this model with the Functional API.\n",
      "WARNING:tensorflow:Layers in a Sequential model should only have a single input tensor. Received: inputs=<PIL.Image.Image image mode=RGB size=50x50 at 0x22A517700A0>. Consider rewriting this model with the Functional API.\n",
      "WARNING:tensorflow:Layers in a Sequential model should only have a single input tensor. Received: inputs=<PIL.Image.Image image mode=RGB size=50x50 at 0x22A51770100>. Consider rewriting this model with the Functional API.\n",
      "WARNING:tensorflow:Layers in a Sequential model should only have a single input tensor. Received: inputs=<PIL.Image.Image image mode=RGB size=50x50 at 0x22A51770160>. Consider rewriting this model with the Functional API.\n",
      "WARNING:tensorflow:Layers in a Sequential model should only have a single input tensor. Received: inputs=<PIL.Image.Image image mode=RGB size=50x50 at 0x22A517701C0>. Consider rewriting this model with the Functional API.\n",
      "WARNING:tensorflow:Layers in a Sequential model should only have a single input tensor. Received: inputs=<PIL.Image.Image image mode=RGB size=50x50 at 0x22A51770220>. Consider rewriting this model with the Functional API.\n",
      "WARNING:tensorflow:Layers in a Sequential model should only have a single input tensor. Received: inputs=<PIL.Image.Image image mode=RGB size=50x50 at 0x22A51770280>. Consider rewriting this model with the Functional API.\n",
      "WARNING:tensorflow:Layers in a Sequential model should only have a single input tensor. Received: inputs=<PIL.Image.Image image mode=RGB size=50x50 at 0x22A517702E0>. Consider rewriting this model with the Functional API.\n",
      "WARNING:tensorflow:Layers in a Sequential model should only have a single input tensor. Received: inputs=<PIL.Image.Image image mode=RGB size=50x50 at 0x22A51770340>. Consider rewriting this model with the Functional API.\n",
      "WARNING:tensorflow:Layers in a Sequential model should only have a single input tensor. Received: inputs=<PIL.Image.Image image mode=RGB size=50x50 at 0x22A517703A0>. Consider rewriting this model with the Functional API.\n",
      "WARNING:tensorflow:Layers in a Sequential model should only have a single input tensor. Received: inputs=<PIL.Image.Image image mode=RGB size=50x50 at 0x22A51770400>. Consider rewriting this model with the Functional API.\n",
      "WARNING:tensorflow:Layers in a Sequential model should only have a single input tensor. Received: inputs=<PIL.Image.Image image mode=RGB size=50x50 at 0x22A51770460>. Consider rewriting this model with the Functional API.\n",
      "WARNING:tensorflow:Layers in a Sequential model should only have a single input tensor. Received: inputs=<PIL.Image.Image image mode=RGB size=50x50 at 0x22A517704C0>. Consider rewriting this model with the Functional API.\n",
      "WARNING:tensorflow:Layers in a Sequential model should only have a single input tensor. Received: inputs=<PIL.Image.Image image mode=RGB size=50x50 at 0x22A51770520>. Consider rewriting this model with the Functional API.\n",
      "WARNING:tensorflow:Layers in a Sequential model should only have a single input tensor. Received: inputs=<PIL.Image.Image image mode=RGB size=50x50 at 0x22A51770580>. Consider rewriting this model with the Functional API.\n",
      "WARNING:tensorflow:Layers in a Sequential model should only have a single input tensor. Received: inputs=<PIL.Image.Image image mode=RGB size=50x50 at 0x22A517705E0>. Consider rewriting this model with the Functional API.\n"
     ]
    },
    {
     "name": "stdout",
     "output_type": "stream",
     "text": [
      "WARNING:tensorflow:Layers in a Sequential model should only have a single input tensor. Received: inputs=<PIL.Image.Image image mode=RGB size=50x50 at 0x22A51770640>. Consider rewriting this model with the Functional API.\n",
      "WARNING:tensorflow:Layers in a Sequential model should only have a single input tensor. Received: inputs=<PIL.Image.Image image mode=RGB size=50x50 at 0x22A517706A0>. Consider rewriting this model with the Functional API.\n",
      "WARNING:tensorflow:Layers in a Sequential model should only have a single input tensor. Received: inputs=<PIL.Image.Image image mode=RGB size=50x50 at 0x22A51770700>. Consider rewriting this model with the Functional API.\n",
      "WARNING:tensorflow:Layers in a Sequential model should only have a single input tensor. Received: inputs=<PIL.Image.Image image mode=RGB size=50x50 at 0x22A51770760>. Consider rewriting this model with the Functional API.\n",
      "WARNING:tensorflow:Layers in a Sequential model should only have a single input tensor. Received: inputs=<PIL.Image.Image image mode=RGB size=50x50 at 0x22A517707C0>. Consider rewriting this model with the Functional API.\n",
      "WARNING:tensorflow:Layers in a Sequential model should only have a single input tensor. Received: inputs=<PIL.Image.Image image mode=RGB size=50x50 at 0x22A51770820>. Consider rewriting this model with the Functional API.\n",
      "WARNING:tensorflow:Layers in a Sequential model should only have a single input tensor. Received: inputs=<PIL.Image.Image image mode=RGB size=50x50 at 0x22A51770880>. Consider rewriting this model with the Functional API.\n",
      "WARNING:tensorflow:Layers in a Sequential model should only have a single input tensor. Received: inputs=<PIL.Image.Image image mode=RGB size=50x50 at 0x22A517708E0>. Consider rewriting this model with the Functional API.\n",
      "WARNING:tensorflow:Layers in a Sequential model should only have a single input tensor. Received: inputs=<PIL.Image.Image image mode=RGB size=50x50 at 0x22A51770940>. Consider rewriting this model with the Functional API.\n",
      "WARNING:tensorflow:Layers in a Sequential model should only have a single input tensor. Received: inputs=<PIL.Image.Image image mode=RGB size=50x50 at 0x22A517709A0>. Consider rewriting this model with the Functional API.\n",
      "WARNING:tensorflow:Layers in a Sequential model should only have a single input tensor. Received: inputs=<PIL.Image.Image image mode=RGB size=50x50 at 0x22A51770A00>. Consider rewriting this model with the Functional API.\n",
      "WARNING:tensorflow:Layers in a Sequential model should only have a single input tensor. Received: inputs=<PIL.Image.Image image mode=RGB size=50x50 at 0x22A51770A60>. Consider rewriting this model with the Functional API.\n",
      "WARNING:tensorflow:Layers in a Sequential model should only have a single input tensor. Received: inputs=<PIL.Image.Image image mode=RGB size=50x50 at 0x22A51770AC0>. Consider rewriting this model with the Functional API.\n",
      "WARNING:tensorflow:Layers in a Sequential model should only have a single input tensor. Received: inputs=<PIL.Image.Image image mode=RGB size=50x50 at 0x22A51770B20>. Consider rewriting this model with the Functional API.\n",
      "WARNING:tensorflow:Layers in a Sequential model should only have a single input tensor. Received: inputs=<PIL.Image.Image image mode=RGB size=50x50 at 0x22A51770B80>. Consider rewriting this model with the Functional API.\n",
      "WARNING:tensorflow:Layers in a Sequential model should only have a single input tensor. Received: inputs=<PIL.Image.Image image mode=RGB size=50x50 at 0x22A51770BE0>. Consider rewriting this model with the Functional API.\n",
      "WARNING:tensorflow:Layers in a Sequential model should only have a single input tensor. Received: inputs=<PIL.Image.Image image mode=RGB size=50x50 at 0x22A51770C40>. Consider rewriting this model with the Functional API.\n",
      "WARNING:tensorflow:Layers in a Sequential model should only have a single input tensor. Received: inputs=<PIL.Image.Image image mode=RGB size=50x50 at 0x22A51770CA0>. Consider rewriting this model with the Functional API.\n",
      "WARNING:tensorflow:Layers in a Sequential model should only have a single input tensor. Received: inputs=<PIL.Image.Image image mode=RGB size=50x50 at 0x22A51770D00>. Consider rewriting this model with the Functional API.\n",
      "WARNING:tensorflow:Layers in a Sequential model should only have a single input tensor. Received: inputs=<PIL.Image.Image image mode=RGB size=50x50 at 0x22A51770D60>. Consider rewriting this model with the Functional API.\n",
      "WARNING:tensorflow:Layers in a Sequential model should only have a single input tensor. Received: inputs=<PIL.Image.Image image mode=RGB size=50x50 at 0x22A51770DC0>. Consider rewriting this model with the Functional API.\n",
      "WARNING:tensorflow:Layers in a Sequential model should only have a single input tensor. Received: inputs=<PIL.Image.Image image mode=RGB size=50x50 at 0x22A51770E20>. Consider rewriting this model with the Functional API.\n",
      "WARNING:tensorflow:Layers in a Sequential model should only have a single input tensor. Received: inputs=<PIL.Image.Image image mode=RGB size=50x50 at 0x22A51770E80>. Consider rewriting this model with the Functional API.\n",
      "WARNING:tensorflow:Layers in a Sequential model should only have a single input tensor. Received: inputs=<PIL.Image.Image image mode=RGB size=50x50 at 0x22A51770EE0>. Consider rewriting this model with the Functional API.\n",
      "WARNING:tensorflow:Layers in a Sequential model should only have a single input tensor. Received: inputs=<PIL.Image.Image image mode=RGB size=50x50 at 0x22A51770F40>. Consider rewriting this model with the Functional API.\n",
      "WARNING:tensorflow:Layers in a Sequential model should only have a single input tensor. Received: inputs=<PIL.Image.Image image mode=RGB size=50x50 at 0x22A51770FA0>. Consider rewriting this model with the Functional API.\n",
      "WARNING:tensorflow:Layers in a Sequential model should only have a single input tensor. Received: inputs=<PIL.Image.Image image mode=RGB size=50x50 at 0x22A51770FD0>. Consider rewriting this model with the Functional API.\n",
      "WARNING:tensorflow:Layers in a Sequential model should only have a single input tensor. Received: inputs=<PIL.Image.Image image mode=RGB size=50x50 at 0x22A517860A0>. Consider rewriting this model with the Functional API.\n",
      "WARNING:tensorflow:Layers in a Sequential model should only have a single input tensor. Received: inputs=<PIL.Image.Image image mode=RGB size=50x50 at 0x22A51786100>. Consider rewriting this model with the Functional API.\n",
      "WARNING:tensorflow:Layers in a Sequential model should only have a single input tensor. Received: inputs=<PIL.Image.Image image mode=RGB size=50x50 at 0x22A51786160>. Consider rewriting this model with the Functional API.\n",
      "WARNING:tensorflow:Layers in a Sequential model should only have a single input tensor. Received: inputs=<PIL.Image.Image image mode=RGB size=50x50 at 0x22A517861C0>. Consider rewriting this model with the Functional API.\n",
      "WARNING:tensorflow:Layers in a Sequential model should only have a single input tensor. Received: inputs=<PIL.Image.Image image mode=RGB size=50x50 at 0x22A51786220>. Consider rewriting this model with the Functional API.\n",
      "WARNING:tensorflow:Layers in a Sequential model should only have a single input tensor. Received: inputs=<PIL.Image.Image image mode=RGB size=50x50 at 0x22A51786280>. Consider rewriting this model with the Functional API.\n",
      "WARNING:tensorflow:Layers in a Sequential model should only have a single input tensor. Received: inputs=<PIL.Image.Image image mode=RGB size=50x50 at 0x22A517862E0>. Consider rewriting this model with the Functional API.\n",
      "WARNING:tensorflow:Layers in a Sequential model should only have a single input tensor. Received: inputs=<PIL.Image.Image image mode=RGB size=50x50 at 0x22A51786340>. Consider rewriting this model with the Functional API.\n",
      "WARNING:tensorflow:Layers in a Sequential model should only have a single input tensor. Received: inputs=<PIL.Image.Image image mode=RGB size=50x50 at 0x22A517863A0>. Consider rewriting this model with the Functional API.\n",
      "WARNING:tensorflow:Layers in a Sequential model should only have a single input tensor. Received: inputs=<PIL.Image.Image image mode=RGB size=50x50 at 0x22A51786400>. Consider rewriting this model with the Functional API.\n"
     ]
    },
    {
     "name": "stdout",
     "output_type": "stream",
     "text": [
      "WARNING:tensorflow:Layers in a Sequential model should only have a single input tensor. Received: inputs=<PIL.Image.Image image mode=RGB size=50x50 at 0x22A51786460>. Consider rewriting this model with the Functional API.\n",
      "WARNING:tensorflow:Layers in a Sequential model should only have a single input tensor. Received: inputs=<PIL.Image.Image image mode=RGB size=50x50 at 0x22A517864C0>. Consider rewriting this model with the Functional API.\n",
      "WARNING:tensorflow:Layers in a Sequential model should only have a single input tensor. Received: inputs=<PIL.Image.Image image mode=RGB size=50x50 at 0x22A51786520>. Consider rewriting this model with the Functional API.\n",
      "WARNING:tensorflow:Layers in a Sequential model should only have a single input tensor. Received: inputs=<PIL.Image.Image image mode=RGB size=50x50 at 0x22A51786580>. Consider rewriting this model with the Functional API.\n",
      "WARNING:tensorflow:Layers in a Sequential model should only have a single input tensor. Received: inputs=<PIL.Image.Image image mode=RGB size=50x50 at 0x22A517865E0>. Consider rewriting this model with the Functional API.\n",
      "WARNING:tensorflow:Layers in a Sequential model should only have a single input tensor. Received: inputs=<PIL.Image.Image image mode=RGB size=50x50 at 0x22A51786640>. Consider rewriting this model with the Functional API.\n",
      "WARNING:tensorflow:Layers in a Sequential model should only have a single input tensor. Received: inputs=<PIL.Image.Image image mode=RGB size=50x50 at 0x22A517866A0>. Consider rewriting this model with the Functional API.\n",
      "WARNING:tensorflow:Layers in a Sequential model should only have a single input tensor. Received: inputs=<PIL.Image.Image image mode=RGB size=50x50 at 0x22A51786700>. Consider rewriting this model with the Functional API.\n",
      "WARNING:tensorflow:Layers in a Sequential model should only have a single input tensor. Received: inputs=<PIL.Image.Image image mode=RGB size=50x50 at 0x22A51786760>. Consider rewriting this model with the Functional API.\n",
      "WARNING:tensorflow:Layers in a Sequential model should only have a single input tensor. Received: inputs=<PIL.Image.Image image mode=RGB size=50x50 at 0x22A517867C0>. Consider rewriting this model with the Functional API.\n",
      "WARNING:tensorflow:Layers in a Sequential model should only have a single input tensor. Received: inputs=<PIL.Image.Image image mode=RGB size=50x50 at 0x22A51786820>. Consider rewriting this model with the Functional API.\n",
      "WARNING:tensorflow:Layers in a Sequential model should only have a single input tensor. Received: inputs=<PIL.Image.Image image mode=RGB size=50x50 at 0x22A51786880>. Consider rewriting this model with the Functional API.\n",
      "WARNING:tensorflow:Layers in a Sequential model should only have a single input tensor. Received: inputs=<PIL.Image.Image image mode=RGB size=50x50 at 0x22A517868E0>. Consider rewriting this model with the Functional API.\n",
      "WARNING:tensorflow:Layers in a Sequential model should only have a single input tensor. Received: inputs=<PIL.Image.Image image mode=RGB size=50x50 at 0x22A51786940>. Consider rewriting this model with the Functional API.\n",
      "WARNING:tensorflow:Layers in a Sequential model should only have a single input tensor. Received: inputs=<PIL.Image.Image image mode=RGB size=50x50 at 0x22A517869A0>. Consider rewriting this model with the Functional API.\n",
      "WARNING:tensorflow:Layers in a Sequential model should only have a single input tensor. Received: inputs=<PIL.Image.Image image mode=RGB size=50x50 at 0x22A51786A00>. Consider rewriting this model with the Functional API.\n",
      "WARNING:tensorflow:Layers in a Sequential model should only have a single input tensor. Received: inputs=<PIL.Image.Image image mode=RGB size=50x50 at 0x22A51786A60>. Consider rewriting this model with the Functional API.\n",
      "WARNING:tensorflow:Layers in a Sequential model should only have a single input tensor. Received: inputs=<PIL.Image.Image image mode=RGB size=50x50 at 0x22A51786AC0>. Consider rewriting this model with the Functional API.\n",
      "WARNING:tensorflow:Layers in a Sequential model should only have a single input tensor. Received: inputs=<PIL.Image.Image image mode=RGB size=50x50 at 0x22A51786B20>. Consider rewriting this model with the Functional API.\n",
      "WARNING:tensorflow:Layers in a Sequential model should only have a single input tensor. Received: inputs=<PIL.Image.Image image mode=RGB size=50x50 at 0x22A51786B80>. Consider rewriting this model with the Functional API.\n",
      "WARNING:tensorflow:Layers in a Sequential model should only have a single input tensor. Received: inputs=<PIL.Image.Image image mode=RGB size=50x50 at 0x22A51786BE0>. Consider rewriting this model with the Functional API.\n",
      "WARNING:tensorflow:Layers in a Sequential model should only have a single input tensor. Received: inputs=<PIL.Image.Image image mode=RGB size=50x50 at 0x22A51786C40>. Consider rewriting this model with the Functional API.\n",
      "WARNING:tensorflow:Layers in a Sequential model should only have a single input tensor. Received: inputs=<PIL.Image.Image image mode=RGB size=50x50 at 0x22A51786CA0>. Consider rewriting this model with the Functional API.\n",
      "WARNING:tensorflow:Layers in a Sequential model should only have a single input tensor. Received: inputs=<PIL.Image.Image image mode=RGB size=50x50 at 0x22A51786D00>. Consider rewriting this model with the Functional API.\n",
      "WARNING:tensorflow:Layers in a Sequential model should only have a single input tensor. Received: inputs=<PIL.Image.Image image mode=RGB size=50x50 at 0x22A51786D60>. Consider rewriting this model with the Functional API.\n",
      "WARNING:tensorflow:Layers in a Sequential model should only have a single input tensor. Received: inputs=<PIL.Image.Image image mode=RGB size=50x50 at 0x22A51786DC0>. Consider rewriting this model with the Functional API.\n",
      "WARNING:tensorflow:Layers in a Sequential model should only have a single input tensor. Received: inputs=<PIL.Image.Image image mode=RGB size=50x50 at 0x22A51786E20>. Consider rewriting this model with the Functional API.\n",
      "WARNING:tensorflow:Layers in a Sequential model should only have a single input tensor. Received: inputs=<PIL.Image.Image image mode=RGB size=50x50 at 0x22A51786E80>. Consider rewriting this model with the Functional API.\n",
      "WARNING:tensorflow:Layers in a Sequential model should only have a single input tensor. Received: inputs=<PIL.Image.Image image mode=RGB size=50x50 at 0x22A51786EE0>. Consider rewriting this model with the Functional API.\n",
      "WARNING:tensorflow:Layers in a Sequential model should only have a single input tensor. Received: inputs=<PIL.Image.Image image mode=RGB size=50x50 at 0x22A51786F40>. Consider rewriting this model with the Functional API.\n",
      "WARNING:tensorflow:Layers in a Sequential model should only have a single input tensor. Received: inputs=<PIL.Image.Image image mode=RGB size=50x50 at 0x22A51786FA0>. Consider rewriting this model with the Functional API.\n",
      "WARNING:tensorflow:Layers in a Sequential model should only have a single input tensor. Received: inputs=<PIL.Image.Image image mode=RGB size=50x50 at 0x22A51786FD0>. Consider rewriting this model with the Functional API.\n",
      "WARNING:tensorflow:Layers in a Sequential model should only have a single input tensor. Received: inputs=<PIL.Image.Image image mode=RGB size=50x50 at 0x22A5179A0A0>. Consider rewriting this model with the Functional API.\n",
      "WARNING:tensorflow:Layers in a Sequential model should only have a single input tensor. Received: inputs=<PIL.Image.Image image mode=RGB size=50x50 at 0x22A5179A100>. Consider rewriting this model with the Functional API.\n",
      "WARNING:tensorflow:Layers in a Sequential model should only have a single input tensor. Received: inputs=<PIL.Image.Image image mode=RGB size=50x50 at 0x22A5179A160>. Consider rewriting this model with the Functional API.\n",
      "WARNING:tensorflow:Layers in a Sequential model should only have a single input tensor. Received: inputs=<PIL.Image.Image image mode=RGB size=50x50 at 0x22A5179A1C0>. Consider rewriting this model with the Functional API.\n",
      "WARNING:tensorflow:Layers in a Sequential model should only have a single input tensor. Received: inputs=<PIL.Image.Image image mode=RGB size=50x50 at 0x22A5179A220>. Consider rewriting this model with the Functional API.\n"
     ]
    },
    {
     "name": "stdout",
     "output_type": "stream",
     "text": [
      "WARNING:tensorflow:Layers in a Sequential model should only have a single input tensor. Received: inputs=<PIL.Image.Image image mode=RGB size=50x50 at 0x22A5179A280>. Consider rewriting this model with the Functional API.\n",
      "WARNING:tensorflow:Layers in a Sequential model should only have a single input tensor. Received: inputs=<PIL.Image.Image image mode=RGB size=50x50 at 0x22A5179A2E0>. Consider rewriting this model with the Functional API.\n",
      "WARNING:tensorflow:Layers in a Sequential model should only have a single input tensor. Received: inputs=<PIL.Image.Image image mode=RGB size=50x50 at 0x22A5179A340>. Consider rewriting this model with the Functional API.\n",
      "WARNING:tensorflow:Layers in a Sequential model should only have a single input tensor. Received: inputs=<PIL.Image.Image image mode=RGB size=50x50 at 0x22A5179A3A0>. Consider rewriting this model with the Functional API.\n",
      "WARNING:tensorflow:Layers in a Sequential model should only have a single input tensor. Received: inputs=<PIL.Image.Image image mode=RGB size=50x50 at 0x22A5179A400>. Consider rewriting this model with the Functional API.\n",
      "WARNING:tensorflow:Layers in a Sequential model should only have a single input tensor. Received: inputs=<PIL.Image.Image image mode=RGB size=50x50 at 0x22A5179A460>. Consider rewriting this model with the Functional API.\n",
      "WARNING:tensorflow:Layers in a Sequential model should only have a single input tensor. Received: inputs=<PIL.Image.Image image mode=RGB size=50x50 at 0x22A5179A4C0>. Consider rewriting this model with the Functional API.\n",
      "WARNING:tensorflow:Layers in a Sequential model should only have a single input tensor. Received: inputs=<PIL.Image.Image image mode=RGB size=50x50 at 0x22A5179A520>. Consider rewriting this model with the Functional API.\n",
      "WARNING:tensorflow:Layers in a Sequential model should only have a single input tensor. Received: inputs=<PIL.Image.Image image mode=RGB size=50x50 at 0x22A5179A580>. Consider rewriting this model with the Functional API.\n",
      "WARNING:tensorflow:Layers in a Sequential model should only have a single input tensor. Received: inputs=<PIL.Image.Image image mode=RGB size=50x50 at 0x22A5179A5E0>. Consider rewriting this model with the Functional API.\n",
      "WARNING:tensorflow:Layers in a Sequential model should only have a single input tensor. Received: inputs=<PIL.Image.Image image mode=RGB size=50x50 at 0x22A5179A640>. Consider rewriting this model with the Functional API.\n",
      "WARNING:tensorflow:Layers in a Sequential model should only have a single input tensor. Received: inputs=<PIL.Image.Image image mode=RGB size=50x50 at 0x22A5179A6A0>. Consider rewriting this model with the Functional API.\n",
      "WARNING:tensorflow:Layers in a Sequential model should only have a single input tensor. Received: inputs=<PIL.Image.Image image mode=RGB size=50x50 at 0x22A5179A700>. Consider rewriting this model with the Functional API.\n",
      "WARNING:tensorflow:Layers in a Sequential model should only have a single input tensor. Received: inputs=<PIL.Image.Image image mode=RGB size=50x50 at 0x22A5179A760>. Consider rewriting this model with the Functional API.\n",
      "WARNING:tensorflow:Layers in a Sequential model should only have a single input tensor. Received: inputs=<PIL.Image.Image image mode=RGB size=50x50 at 0x22A5179A7C0>. Consider rewriting this model with the Functional API.\n",
      "WARNING:tensorflow:Layers in a Sequential model should only have a single input tensor. Received: inputs=<PIL.Image.Image image mode=RGB size=50x50 at 0x22A5179A820>. Consider rewriting this model with the Functional API.\n",
      "WARNING:tensorflow:Layers in a Sequential model should only have a single input tensor. Received: inputs=<PIL.Image.Image image mode=RGB size=50x50 at 0x22A5179A880>. Consider rewriting this model with the Functional API.\n",
      "WARNING:tensorflow:Layers in a Sequential model should only have a single input tensor. Received: inputs=<PIL.Image.Image image mode=RGB size=50x50 at 0x22A5179A8E0>. Consider rewriting this model with the Functional API.\n",
      "WARNING:tensorflow:Layers in a Sequential model should only have a single input tensor. Received: inputs=<PIL.Image.Image image mode=RGB size=50x50 at 0x22A5179A940>. Consider rewriting this model with the Functional API.\n",
      "WARNING:tensorflow:Layers in a Sequential model should only have a single input tensor. Received: inputs=<PIL.Image.Image image mode=RGB size=50x50 at 0x22A5179A9A0>. Consider rewriting this model with the Functional API.\n",
      "WARNING:tensorflow:Layers in a Sequential model should only have a single input tensor. Received: inputs=<PIL.Image.Image image mode=RGB size=50x50 at 0x22A5179AA00>. Consider rewriting this model with the Functional API.\n",
      "WARNING:tensorflow:Layers in a Sequential model should only have a single input tensor. Received: inputs=<PIL.Image.Image image mode=RGB size=50x50 at 0x22A5179AA60>. Consider rewriting this model with the Functional API.\n",
      "WARNING:tensorflow:Layers in a Sequential model should only have a single input tensor. Received: inputs=<PIL.Image.Image image mode=RGB size=50x50 at 0x22A5179AAC0>. Consider rewriting this model with the Functional API.\n",
      "WARNING:tensorflow:Layers in a Sequential model should only have a single input tensor. Received: inputs=<PIL.Image.Image image mode=RGB size=50x50 at 0x22A5179AB20>. Consider rewriting this model with the Functional API.\n",
      "WARNING:tensorflow:Layers in a Sequential model should only have a single input tensor. Received: inputs=<PIL.Image.Image image mode=RGB size=50x50 at 0x22A51842CA0>. Consider rewriting this model with the Functional API.\n",
      "WARNING:tensorflow:Layers in a Sequential model should only have a single input tensor. Received: inputs=<PIL.Image.Image image mode=RGB size=50x50 at 0x22A5179AC40>. Consider rewriting this model with the Functional API.\n",
      "WARNING:tensorflow:Layers in a Sequential model should only have a single input tensor. Received: inputs=<PIL.Image.Image image mode=RGB size=50x50 at 0x22A5179ACA0>. Consider rewriting this model with the Functional API.\n",
      "WARNING:tensorflow:Layers in a Sequential model should only have a single input tensor. Received: inputs=<PIL.Image.Image image mode=RGB size=50x50 at 0x22A5179AD00>. Consider rewriting this model with the Functional API.\n",
      "WARNING:tensorflow:Layers in a Sequential model should only have a single input tensor. Received: inputs=<PIL.Image.Image image mode=RGB size=50x50 at 0x22A5179AD60>. Consider rewriting this model with the Functional API.\n",
      "WARNING:tensorflow:Layers in a Sequential model should only have a single input tensor. Received: inputs=<PIL.Image.Image image mode=RGB size=50x50 at 0x22A5179ADC0>. Consider rewriting this model with the Functional API.\n",
      "WARNING:tensorflow:Layers in a Sequential model should only have a single input tensor. Received: inputs=<PIL.Image.Image image mode=RGB size=50x50 at 0x22A5179AE20>. Consider rewriting this model with the Functional API.\n",
      "WARNING:tensorflow:Layers in a Sequential model should only have a single input tensor. Received: inputs=<PIL.Image.Image image mode=RGB size=50x50 at 0x22A5179AE80>. Consider rewriting this model with the Functional API.\n",
      "WARNING:tensorflow:Layers in a Sequential model should only have a single input tensor. Received: inputs=<PIL.Image.Image image mode=RGB size=50x50 at 0x22A5179AEE0>. Consider rewriting this model with the Functional API.\n",
      "WARNING:tensorflow:Layers in a Sequential model should only have a single input tensor. Received: inputs=<PIL.Image.Image image mode=RGB size=50x50 at 0x22A5179AF40>. Consider rewriting this model with the Functional API.\n",
      "WARNING:tensorflow:Layers in a Sequential model should only have a single input tensor. Received: inputs=<PIL.Image.Image image mode=RGB size=50x50 at 0x22A5179AFA0>. Consider rewriting this model with the Functional API.\n",
      "WARNING:tensorflow:Layers in a Sequential model should only have a single input tensor. Received: inputs=<PIL.Image.Image image mode=RGB size=50x50 at 0x22A5179AFD0>. Consider rewriting this model with the Functional API.\n",
      "WARNING:tensorflow:Layers in a Sequential model should only have a single input tensor. Received: inputs=<PIL.Image.Image image mode=RGB size=50x50 at 0x22A517B1070>. Consider rewriting this model with the Functional API.\n"
     ]
    },
    {
     "name": "stdout",
     "output_type": "stream",
     "text": [
      "WARNING:tensorflow:Layers in a Sequential model should only have a single input tensor. Received: inputs=<PIL.Image.Image image mode=RGB size=50x50 at 0x22A517B1100>. Consider rewriting this model with the Functional API.\n",
      "WARNING:tensorflow:Layers in a Sequential model should only have a single input tensor. Received: inputs=<PIL.Image.Image image mode=RGB size=50x50 at 0x22A517B1160>. Consider rewriting this model with the Functional API.\n",
      "WARNING:tensorflow:Layers in a Sequential model should only have a single input tensor. Received: inputs=<PIL.Image.Image image mode=RGB size=50x50 at 0x22A517B11C0>. Consider rewriting this model with the Functional API.\n",
      "WARNING:tensorflow:Layers in a Sequential model should only have a single input tensor. Received: inputs=<PIL.Image.Image image mode=RGB size=50x50 at 0x22A517B1220>. Consider rewriting this model with the Functional API.\n",
      "WARNING:tensorflow:Layers in a Sequential model should only have a single input tensor. Received: inputs=<PIL.Image.Image image mode=RGB size=50x50 at 0x22A517B1280>. Consider rewriting this model with the Functional API.\n",
      "WARNING:tensorflow:Layers in a Sequential model should only have a single input tensor. Received: inputs=<PIL.Image.Image image mode=RGB size=50x50 at 0x22A517B12E0>. Consider rewriting this model with the Functional API.\n",
      "WARNING:tensorflow:Layers in a Sequential model should only have a single input tensor. Received: inputs=<PIL.Image.Image image mode=RGB size=50x50 at 0x22A517B1340>. Consider rewriting this model with the Functional API.\n",
      "WARNING:tensorflow:Layers in a Sequential model should only have a single input tensor. Received: inputs=<PIL.Image.Image image mode=RGB size=50x50 at 0x22A517B13A0>. Consider rewriting this model with the Functional API.\n",
      "WARNING:tensorflow:Layers in a Sequential model should only have a single input tensor. Received: inputs=<PIL.Image.Image image mode=RGB size=50x50 at 0x22A517B1400>. Consider rewriting this model with the Functional API.\n",
      "WARNING:tensorflow:Layers in a Sequential model should only have a single input tensor. Received: inputs=<PIL.Image.Image image mode=RGB size=50x50 at 0x22A517B1460>. Consider rewriting this model with the Functional API.\n",
      "WARNING:tensorflow:Layers in a Sequential model should only have a single input tensor. Received: inputs=<PIL.Image.Image image mode=RGB size=50x50 at 0x22A517B14C0>. Consider rewriting this model with the Functional API.\n",
      "WARNING:tensorflow:Layers in a Sequential model should only have a single input tensor. Received: inputs=<PIL.Image.Image image mode=RGB size=50x50 at 0x22A517B1520>. Consider rewriting this model with the Functional API.\n",
      "WARNING:tensorflow:Layers in a Sequential model should only have a single input tensor. Received: inputs=<PIL.Image.Image image mode=RGB size=50x50 at 0x22A517B1580>. Consider rewriting this model with the Functional API.\n",
      "WARNING:tensorflow:Layers in a Sequential model should only have a single input tensor. Received: inputs=<PIL.Image.Image image mode=RGB size=50x50 at 0x22A517B15E0>. Consider rewriting this model with the Functional API.\n",
      "WARNING:tensorflow:Layers in a Sequential model should only have a single input tensor. Received: inputs=<PIL.Image.Image image mode=RGB size=50x50 at 0x22A517B1640>. Consider rewriting this model with the Functional API.\n",
      "WARNING:tensorflow:Layers in a Sequential model should only have a single input tensor. Received: inputs=<PIL.Image.Image image mode=RGB size=50x50 at 0x22A517B16A0>. Consider rewriting this model with the Functional API.\n",
      "WARNING:tensorflow:Layers in a Sequential model should only have a single input tensor. Received: inputs=<PIL.Image.Image image mode=RGB size=50x50 at 0x22A517B1700>. Consider rewriting this model with the Functional API.\n",
      "WARNING:tensorflow:Layers in a Sequential model should only have a single input tensor. Received: inputs=<PIL.Image.Image image mode=RGB size=50x50 at 0x22A517B1760>. Consider rewriting this model with the Functional API.\n",
      "WARNING:tensorflow:Layers in a Sequential model should only have a single input tensor. Received: inputs=<PIL.Image.Image image mode=RGB size=50x50 at 0x22A517B17C0>. Consider rewriting this model with the Functional API.\n",
      "WARNING:tensorflow:Layers in a Sequential model should only have a single input tensor. Received: inputs=<PIL.Image.Image image mode=RGB size=50x50 at 0x22A517B1820>. Consider rewriting this model with the Functional API.\n",
      "WARNING:tensorflow:Layers in a Sequential model should only have a single input tensor. Received: inputs=<PIL.Image.Image image mode=RGB size=50x50 at 0x22A517B1880>. Consider rewriting this model with the Functional API.\n",
      "WARNING:tensorflow:Layers in a Sequential model should only have a single input tensor. Received: inputs=<PIL.Image.Image image mode=RGB size=50x50 at 0x22A517B18E0>. Consider rewriting this model with the Functional API.\n",
      "WARNING:tensorflow:Layers in a Sequential model should only have a single input tensor. Received: inputs=<PIL.Image.Image image mode=RGB size=50x50 at 0x22A517B1940>. Consider rewriting this model with the Functional API.\n",
      "WARNING:tensorflow:Layers in a Sequential model should only have a single input tensor. Received: inputs=<PIL.Image.Image image mode=RGB size=50x50 at 0x22A517B19A0>. Consider rewriting this model with the Functional API.\n",
      "WARNING:tensorflow:Layers in a Sequential model should only have a single input tensor. Received: inputs=<PIL.Image.Image image mode=RGB size=50x50 at 0x22A517B1A00>. Consider rewriting this model with the Functional API.\n",
      "WARNING:tensorflow:Layers in a Sequential model should only have a single input tensor. Received: inputs=<PIL.Image.Image image mode=RGB size=50x50 at 0x22A517B1A60>. Consider rewriting this model with the Functional API.\n",
      "WARNING:tensorflow:Layers in a Sequential model should only have a single input tensor. Received: inputs=<PIL.Image.Image image mode=RGB size=50x50 at 0x22A517B1AC0>. Consider rewriting this model with the Functional API.\n",
      "WARNING:tensorflow:Layers in a Sequential model should only have a single input tensor. Received: inputs=<PIL.Image.Image image mode=RGB size=50x50 at 0x22A517B1B20>. Consider rewriting this model with the Functional API.\n",
      "WARNING:tensorflow:Layers in a Sequential model should only have a single input tensor. Received: inputs=<PIL.Image.Image image mode=RGB size=50x50 at 0x22A517B1B80>. Consider rewriting this model with the Functional API.\n",
      "WARNING:tensorflow:Layers in a Sequential model should only have a single input tensor. Received: inputs=<PIL.Image.Image image mode=RGB size=50x50 at 0x22A517B1BE0>. Consider rewriting this model with the Functional API.\n",
      "WARNING:tensorflow:Layers in a Sequential model should only have a single input tensor. Received: inputs=<PIL.Image.Image image mode=RGB size=50x50 at 0x22A517B1C40>. Consider rewriting this model with the Functional API.\n",
      "WARNING:tensorflow:Layers in a Sequential model should only have a single input tensor. Received: inputs=<PIL.Image.Image image mode=RGB size=50x50 at 0x22A517B1CA0>. Consider rewriting this model with the Functional API.\n",
      "WARNING:tensorflow:Layers in a Sequential model should only have a single input tensor. Received: inputs=<PIL.Image.Image image mode=RGB size=50x50 at 0x22A517B1D00>. Consider rewriting this model with the Functional API.\n",
      "WARNING:tensorflow:Layers in a Sequential model should only have a single input tensor. Received: inputs=<PIL.Image.Image image mode=RGB size=50x50 at 0x22A517B1D60>. Consider rewriting this model with the Functional API.\n",
      "WARNING:tensorflow:Layers in a Sequential model should only have a single input tensor. Received: inputs=<PIL.Image.Image image mode=RGB size=50x50 at 0x22A517B1DC0>. Consider rewriting this model with the Functional API.\n",
      "WARNING:tensorflow:Layers in a Sequential model should only have a single input tensor. Received: inputs=<PIL.Image.Image image mode=RGB size=50x50 at 0x22A517B1E20>. Consider rewriting this model with the Functional API.\n",
      "WARNING:tensorflow:Layers in a Sequential model should only have a single input tensor. Received: inputs=<PIL.Image.Image image mode=RGB size=50x50 at 0x22A517B1E80>. Consider rewriting this model with the Functional API.\n"
     ]
    },
    {
     "name": "stdout",
     "output_type": "stream",
     "text": [
      "WARNING:tensorflow:Layers in a Sequential model should only have a single input tensor. Received: inputs=<PIL.Image.Image image mode=RGB size=50x50 at 0x22A517B1EE0>. Consider rewriting this model with the Functional API.\n",
      "WARNING:tensorflow:Layers in a Sequential model should only have a single input tensor. Received: inputs=<PIL.Image.Image image mode=RGB size=50x50 at 0x22A517B1F40>. Consider rewriting this model with the Functional API.\n",
      "WARNING:tensorflow:Layers in a Sequential model should only have a single input tensor. Received: inputs=<PIL.Image.Image image mode=RGB size=50x50 at 0x22A517B1FA0>. Consider rewriting this model with the Functional API.\n",
      "WARNING:tensorflow:Layers in a Sequential model should only have a single input tensor. Received: inputs=<PIL.Image.Image image mode=RGB size=50x50 at 0x22A517B1FD0>. Consider rewriting this model with the Functional API.\n",
      "WARNING:tensorflow:Layers in a Sequential model should only have a single input tensor. Received: inputs=<PIL.Image.Image image mode=RGB size=50x50 at 0x22A517C6070>. Consider rewriting this model with the Functional API.\n",
      "WARNING:tensorflow:Layers in a Sequential model should only have a single input tensor. Received: inputs=<PIL.Image.Image image mode=RGB size=50x50 at 0x22A517C6100>. Consider rewriting this model with the Functional API.\n",
      "WARNING:tensorflow:Layers in a Sequential model should only have a single input tensor. Received: inputs=<PIL.Image.Image image mode=RGB size=50x50 at 0x22A517C6160>. Consider rewriting this model with the Functional API.\n",
      "WARNING:tensorflow:Layers in a Sequential model should only have a single input tensor. Received: inputs=<PIL.Image.Image image mode=RGB size=50x50 at 0x22A517C61C0>. Consider rewriting this model with the Functional API.\n",
      "WARNING:tensorflow:Layers in a Sequential model should only have a single input tensor. Received: inputs=<PIL.Image.Image image mode=RGB size=50x50 at 0x22A517C6220>. Consider rewriting this model with the Functional API.\n",
      "WARNING:tensorflow:Layers in a Sequential model should only have a single input tensor. Received: inputs=<PIL.Image.Image image mode=RGB size=50x50 at 0x22A517C6280>. Consider rewriting this model with the Functional API.\n",
      "WARNING:tensorflow:Layers in a Sequential model should only have a single input tensor. Received: inputs=<PIL.Image.Image image mode=RGB size=50x50 at 0x22A517C62E0>. Consider rewriting this model with the Functional API.\n",
      "WARNING:tensorflow:Layers in a Sequential model should only have a single input tensor. Received: inputs=<PIL.Image.Image image mode=RGB size=50x50 at 0x22A517C6340>. Consider rewriting this model with the Functional API.\n",
      "WARNING:tensorflow:Layers in a Sequential model should only have a single input tensor. Received: inputs=<PIL.Image.Image image mode=RGB size=50x50 at 0x22A517C63A0>. Consider rewriting this model with the Functional API.\n",
      "WARNING:tensorflow:Layers in a Sequential model should only have a single input tensor. Received: inputs=<PIL.Image.Image image mode=RGB size=50x50 at 0x22A517C6400>. Consider rewriting this model with the Functional API.\n",
      "WARNING:tensorflow:Layers in a Sequential model should only have a single input tensor. Received: inputs=<PIL.Image.Image image mode=RGB size=50x50 at 0x22A517C6460>. Consider rewriting this model with the Functional API.\n",
      "WARNING:tensorflow:Layers in a Sequential model should only have a single input tensor. Received: inputs=<PIL.Image.Image image mode=RGB size=50x50 at 0x22A517C64C0>. Consider rewriting this model with the Functional API.\n",
      "WARNING:tensorflow:Layers in a Sequential model should only have a single input tensor. Received: inputs=<PIL.Image.Image image mode=RGB size=50x50 at 0x22A517C6520>. Consider rewriting this model with the Functional API.\n",
      "WARNING:tensorflow:Layers in a Sequential model should only have a single input tensor. Received: inputs=<PIL.Image.Image image mode=RGB size=50x50 at 0x22A517C6580>. Consider rewriting this model with the Functional API.\n",
      "WARNING:tensorflow:Layers in a Sequential model should only have a single input tensor. Received: inputs=<PIL.Image.Image image mode=RGB size=50x50 at 0x22A517C65E0>. Consider rewriting this model with the Functional API.\n",
      "WARNING:tensorflow:Layers in a Sequential model should only have a single input tensor. Received: inputs=<PIL.Image.Image image mode=RGB size=50x50 at 0x22A517C6640>. Consider rewriting this model with the Functional API.\n",
      "WARNING:tensorflow:Layers in a Sequential model should only have a single input tensor. Received: inputs=<PIL.Image.Image image mode=RGB size=50x50 at 0x22A517C66A0>. Consider rewriting this model with the Functional API.\n",
      "WARNING:tensorflow:Layers in a Sequential model should only have a single input tensor. Received: inputs=<PIL.Image.Image image mode=RGB size=50x50 at 0x22A517C6700>. Consider rewriting this model with the Functional API.\n",
      "WARNING:tensorflow:Layers in a Sequential model should only have a single input tensor. Received: inputs=<PIL.Image.Image image mode=RGB size=50x50 at 0x22A517C6760>. Consider rewriting this model with the Functional API.\n",
      "WARNING:tensorflow:Layers in a Sequential model should only have a single input tensor. Received: inputs=<PIL.Image.Image image mode=RGB size=50x50 at 0x22A517C67C0>. Consider rewriting this model with the Functional API.\n",
      "WARNING:tensorflow:Layers in a Sequential model should only have a single input tensor. Received: inputs=<PIL.Image.Image image mode=RGB size=50x50 at 0x22A517C6820>. Consider rewriting this model with the Functional API.\n",
      "WARNING:tensorflow:Layers in a Sequential model should only have a single input tensor. Received: inputs=<PIL.Image.Image image mode=RGB size=50x50 at 0x22A517C6880>. Consider rewriting this model with the Functional API.\n",
      "WARNING:tensorflow:Layers in a Sequential model should only have a single input tensor. Received: inputs=<PIL.Image.Image image mode=RGB size=50x50 at 0x22A517C68E0>. Consider rewriting this model with the Functional API.\n",
      "WARNING:tensorflow:Layers in a Sequential model should only have a single input tensor. Received: inputs=<PIL.Image.Image image mode=RGB size=50x50 at 0x22A517C6940>. Consider rewriting this model with the Functional API.\n",
      "WARNING:tensorflow:Layers in a Sequential model should only have a single input tensor. Received: inputs=<PIL.Image.Image image mode=RGB size=50x50 at 0x22A517C69A0>. Consider rewriting this model with the Functional API.\n",
      "WARNING:tensorflow:Layers in a Sequential model should only have a single input tensor. Received: inputs=<PIL.Image.Image image mode=RGB size=50x50 at 0x22A517C6A00>. Consider rewriting this model with the Functional API.\n",
      "WARNING:tensorflow:Layers in a Sequential model should only have a single input tensor. Received: inputs=<PIL.Image.Image image mode=RGB size=50x50 at 0x22A517C6A60>. Consider rewriting this model with the Functional API.\n",
      "WARNING:tensorflow:Layers in a Sequential model should only have a single input tensor. Received: inputs=<PIL.Image.Image image mode=RGB size=50x50 at 0x22A517C6AC0>. Consider rewriting this model with the Functional API.\n",
      "WARNING:tensorflow:Layers in a Sequential model should only have a single input tensor. Received: inputs=<PIL.Image.Image image mode=RGB size=50x50 at 0x22A517C6B20>. Consider rewriting this model with the Functional API.\n",
      "WARNING:tensorflow:Layers in a Sequential model should only have a single input tensor. Received: inputs=<PIL.Image.Image image mode=RGB size=50x50 at 0x22A517C6B80>. Consider rewriting this model with the Functional API.\n",
      "WARNING:tensorflow:Layers in a Sequential model should only have a single input tensor. Received: inputs=<PIL.Image.Image image mode=RGB size=50x50 at 0x22A517C6BE0>. Consider rewriting this model with the Functional API.\n",
      "WARNING:tensorflow:Layers in a Sequential model should only have a single input tensor. Received: inputs=<PIL.Image.Image image mode=RGB size=50x50 at 0x22A517C6C40>. Consider rewriting this model with the Functional API.\n",
      "WARNING:tensorflow:Layers in a Sequential model should only have a single input tensor. Received: inputs=<PIL.Image.Image image mode=RGB size=50x50 at 0x22A517C6CA0>. Consider rewriting this model with the Functional API.\n"
     ]
    },
    {
     "name": "stdout",
     "output_type": "stream",
     "text": [
      "WARNING:tensorflow:Layers in a Sequential model should only have a single input tensor. Received: inputs=<PIL.Image.Image image mode=RGB size=50x50 at 0x22A517C6D00>. Consider rewriting this model with the Functional API.\n",
      "WARNING:tensorflow:Layers in a Sequential model should only have a single input tensor. Received: inputs=<PIL.Image.Image image mode=RGB size=50x50 at 0x22A517C6D60>. Consider rewriting this model with the Functional API.\n",
      "WARNING:tensorflow:Layers in a Sequential model should only have a single input tensor. Received: inputs=<PIL.Image.Image image mode=RGB size=50x50 at 0x22A517C6DC0>. Consider rewriting this model with the Functional API.\n",
      "WARNING:tensorflow:Layers in a Sequential model should only have a single input tensor. Received: inputs=<PIL.Image.Image image mode=RGB size=50x50 at 0x22A517C6E20>. Consider rewriting this model with the Functional API.\n",
      "WARNING:tensorflow:Layers in a Sequential model should only have a single input tensor. Received: inputs=<PIL.Image.Image image mode=RGB size=50x50 at 0x22A517C6E80>. Consider rewriting this model with the Functional API.\n",
      "WARNING:tensorflow:Layers in a Sequential model should only have a single input tensor. Received: inputs=<PIL.Image.Image image mode=RGB size=50x50 at 0x22A517C6EE0>. Consider rewriting this model with the Functional API.\n",
      "WARNING:tensorflow:Layers in a Sequential model should only have a single input tensor. Received: inputs=<PIL.Image.Image image mode=RGB size=50x50 at 0x22A517C6F40>. Consider rewriting this model with the Functional API.\n",
      "WARNING:tensorflow:Layers in a Sequential model should only have a single input tensor. Received: inputs=<PIL.Image.Image image mode=RGB size=50x50 at 0x22A517C6FA0>. Consider rewriting this model with the Functional API.\n",
      "WARNING:tensorflow:Layers in a Sequential model should only have a single input tensor. Received: inputs=<PIL.Image.Image image mode=RGB size=50x50 at 0x22A517C6FD0>. Consider rewriting this model with the Functional API.\n",
      "WARNING:tensorflow:Layers in a Sequential model should only have a single input tensor. Received: inputs=<PIL.Image.Image image mode=RGB size=50x50 at 0x22A517DB070>. Consider rewriting this model with the Functional API.\n",
      "WARNING:tensorflow:Layers in a Sequential model should only have a single input tensor. Received: inputs=<PIL.Image.Image image mode=RGB size=50x50 at 0x22A517DB100>. Consider rewriting this model with the Functional API.\n",
      "WARNING:tensorflow:Layers in a Sequential model should only have a single input tensor. Received: inputs=<PIL.Image.Image image mode=RGB size=50x50 at 0x22A517DB160>. Consider rewriting this model with the Functional API.\n",
      "WARNING:tensorflow:Layers in a Sequential model should only have a single input tensor. Received: inputs=<PIL.Image.Image image mode=RGB size=50x50 at 0x22A517DB1C0>. Consider rewriting this model with the Functional API.\n",
      "WARNING:tensorflow:Layers in a Sequential model should only have a single input tensor. Received: inputs=<PIL.Image.Image image mode=RGB size=50x50 at 0x22A517DB220>. Consider rewriting this model with the Functional API.\n",
      "WARNING:tensorflow:Layers in a Sequential model should only have a single input tensor. Received: inputs=<PIL.Image.Image image mode=RGB size=50x50 at 0x22A517DB280>. Consider rewriting this model with the Functional API.\n",
      "WARNING:tensorflow:Layers in a Sequential model should only have a single input tensor. Received: inputs=<PIL.Image.Image image mode=RGB size=50x50 at 0x22A517DB2E0>. Consider rewriting this model with the Functional API.\n",
      "WARNING:tensorflow:Layers in a Sequential model should only have a single input tensor. Received: inputs=<PIL.Image.Image image mode=RGB size=50x50 at 0x22A517DB340>. Consider rewriting this model with the Functional API.\n",
      "WARNING:tensorflow:Layers in a Sequential model should only have a single input tensor. Received: inputs=<PIL.Image.Image image mode=RGB size=50x50 at 0x22A517DB3A0>. Consider rewriting this model with the Functional API.\n",
      "WARNING:tensorflow:Layers in a Sequential model should only have a single input tensor. Received: inputs=<PIL.Image.Image image mode=RGB size=50x50 at 0x22A517DB400>. Consider rewriting this model with the Functional API.\n",
      "WARNING:tensorflow:Layers in a Sequential model should only have a single input tensor. Received: inputs=<PIL.Image.Image image mode=RGB size=50x50 at 0x22A517DB460>. Consider rewriting this model with the Functional API.\n",
      "WARNING:tensorflow:Layers in a Sequential model should only have a single input tensor. Received: inputs=<PIL.Image.Image image mode=RGB size=50x50 at 0x22A517DB4C0>. Consider rewriting this model with the Functional API.\n",
      "WARNING:tensorflow:Layers in a Sequential model should only have a single input tensor. Received: inputs=<PIL.Image.Image image mode=RGB size=50x50 at 0x22A517DB520>. Consider rewriting this model with the Functional API.\n",
      "WARNING:tensorflow:Layers in a Sequential model should only have a single input tensor. Received: inputs=<PIL.Image.Image image mode=RGB size=50x50 at 0x22A517DB580>. Consider rewriting this model with the Functional API.\n",
      "WARNING:tensorflow:Layers in a Sequential model should only have a single input tensor. Received: inputs=<PIL.Image.Image image mode=RGB size=50x50 at 0x22A517DB5E0>. Consider rewriting this model with the Functional API.\n",
      "WARNING:tensorflow:Layers in a Sequential model should only have a single input tensor. Received: inputs=<PIL.Image.Image image mode=RGB size=50x50 at 0x22A517DB640>. Consider rewriting this model with the Functional API.\n",
      "WARNING:tensorflow:Layers in a Sequential model should only have a single input tensor. Received: inputs=<PIL.Image.Image image mode=RGB size=50x50 at 0x22A517DB6A0>. Consider rewriting this model with the Functional API.\n",
      "WARNING:tensorflow:Layers in a Sequential model should only have a single input tensor. Received: inputs=<PIL.Image.Image image mode=RGB size=50x50 at 0x22A517DB700>. Consider rewriting this model with the Functional API.\n",
      "WARNING:tensorflow:Layers in a Sequential model should only have a single input tensor. Received: inputs=<PIL.Image.Image image mode=RGB size=50x50 at 0x22A517DB760>. Consider rewriting this model with the Functional API.\n",
      "WARNING:tensorflow:Layers in a Sequential model should only have a single input tensor. Received: inputs=<PIL.Image.Image image mode=RGB size=50x50 at 0x22A517DB7C0>. Consider rewriting this model with the Functional API.\n",
      "WARNING:tensorflow:Layers in a Sequential model should only have a single input tensor. Received: inputs=<PIL.Image.Image image mode=RGB size=50x50 at 0x22A517DB820>. Consider rewriting this model with the Functional API.\n",
      "WARNING:tensorflow:Layers in a Sequential model should only have a single input tensor. Received: inputs=<PIL.Image.Image image mode=RGB size=50x50 at 0x22A517DB880>. Consider rewriting this model with the Functional API.\n",
      "WARNING:tensorflow:Layers in a Sequential model should only have a single input tensor. Received: inputs=<PIL.Image.Image image mode=RGB size=50x50 at 0x22A517DB8E0>. Consider rewriting this model with the Functional API.\n",
      "WARNING:tensorflow:Layers in a Sequential model should only have a single input tensor. Received: inputs=<PIL.Image.Image image mode=RGB size=50x50 at 0x22A517DB940>. Consider rewriting this model with the Functional API.\n",
      "WARNING:tensorflow:Layers in a Sequential model should only have a single input tensor. Received: inputs=<PIL.Image.Image image mode=RGB size=50x50 at 0x22A517DB9A0>. Consider rewriting this model with the Functional API.\n",
      "WARNING:tensorflow:Layers in a Sequential model should only have a single input tensor. Received: inputs=<PIL.Image.Image image mode=RGB size=50x50 at 0x22A517DBA00>. Consider rewriting this model with the Functional API.\n",
      "WARNING:tensorflow:Layers in a Sequential model should only have a single input tensor. Received: inputs=<PIL.Image.Image image mode=RGB size=50x50 at 0x22A517DBA60>. Consider rewriting this model with the Functional API.\n",
      "WARNING:tensorflow:Layers in a Sequential model should only have a single input tensor. Received: inputs=<PIL.Image.Image image mode=RGB size=50x50 at 0x22A517DBAC0>. Consider rewriting this model with the Functional API.\n"
     ]
    },
    {
     "name": "stdout",
     "output_type": "stream",
     "text": [
      "WARNING:tensorflow:Layers in a Sequential model should only have a single input tensor. Received: inputs=<PIL.Image.Image image mode=RGB size=50x50 at 0x22A517DBB20>. Consider rewriting this model with the Functional API.\n",
      "WARNING:tensorflow:Layers in a Sequential model should only have a single input tensor. Received: inputs=<PIL.Image.Image image mode=RGB size=50x50 at 0x22A517DBB80>. Consider rewriting this model with the Functional API.\n",
      "WARNING:tensorflow:Layers in a Sequential model should only have a single input tensor. Received: inputs=<PIL.Image.Image image mode=RGB size=50x50 at 0x22A517DBBE0>. Consider rewriting this model with the Functional API.\n",
      "WARNING:tensorflow:Layers in a Sequential model should only have a single input tensor. Received: inputs=<PIL.Image.Image image mode=RGB size=50x50 at 0x22A517DBC40>. Consider rewriting this model with the Functional API.\n",
      "WARNING:tensorflow:Layers in a Sequential model should only have a single input tensor. Received: inputs=<PIL.Image.Image image mode=RGB size=50x50 at 0x22A517DBCA0>. Consider rewriting this model with the Functional API.\n",
      "WARNING:tensorflow:Layers in a Sequential model should only have a single input tensor. Received: inputs=<PIL.Image.Image image mode=RGB size=50x50 at 0x22A517DBD00>. Consider rewriting this model with the Functional API.\n",
      "WARNING:tensorflow:Layers in a Sequential model should only have a single input tensor. Received: inputs=<PIL.Image.Image image mode=RGB size=50x50 at 0x22A517DBD60>. Consider rewriting this model with the Functional API.\n",
      "WARNING:tensorflow:Layers in a Sequential model should only have a single input tensor. Received: inputs=<PIL.Image.Image image mode=RGB size=50x50 at 0x22A517DBDC0>. Consider rewriting this model with the Functional API.\n",
      "WARNING:tensorflow:Layers in a Sequential model should only have a single input tensor. Received: inputs=<PIL.Image.Image image mode=RGB size=50x50 at 0x22A517DBE20>. Consider rewriting this model with the Functional API.\n",
      "WARNING:tensorflow:Layers in a Sequential model should only have a single input tensor. Received: inputs=<PIL.Image.Image image mode=RGB size=50x50 at 0x22A517DBE80>. Consider rewriting this model with the Functional API.\n",
      "WARNING:tensorflow:Layers in a Sequential model should only have a single input tensor. Received: inputs=<PIL.Image.Image image mode=RGB size=50x50 at 0x22A517DBEE0>. Consider rewriting this model with the Functional API.\n",
      "WARNING:tensorflow:Layers in a Sequential model should only have a single input tensor. Received: inputs=<PIL.Image.Image image mode=RGB size=50x50 at 0x22A517DBF40>. Consider rewriting this model with the Functional API.\n",
      "WARNING:tensorflow:Layers in a Sequential model should only have a single input tensor. Received: inputs=<PIL.Image.Image image mode=RGB size=50x50 at 0x22A517DBFA0>. Consider rewriting this model with the Functional API.\n",
      "WARNING:tensorflow:Layers in a Sequential model should only have a single input tensor. Received: inputs=<PIL.Image.Image image mode=RGB size=50x50 at 0x22A517DBFD0>. Consider rewriting this model with the Functional API.\n",
      "WARNING:tensorflow:Layers in a Sequential model should only have a single input tensor. Received: inputs=<PIL.Image.Image image mode=RGB size=50x50 at 0x22A517F1070>. Consider rewriting this model with the Functional API.\n",
      "WARNING:tensorflow:Layers in a Sequential model should only have a single input tensor. Received: inputs=<PIL.Image.Image image mode=RGB size=50x50 at 0x22A517F1100>. Consider rewriting this model with the Functional API.\n",
      "WARNING:tensorflow:Layers in a Sequential model should only have a single input tensor. Received: inputs=<PIL.Image.Image image mode=RGB size=50x50 at 0x22A517F1160>. Consider rewriting this model with the Functional API.\n",
      "WARNING:tensorflow:Layers in a Sequential model should only have a single input tensor. Received: inputs=<PIL.Image.Image image mode=RGB size=50x50 at 0x22A517F11C0>. Consider rewriting this model with the Functional API.\n",
      "WARNING:tensorflow:Layers in a Sequential model should only have a single input tensor. Received: inputs=<PIL.Image.Image image mode=RGB size=50x50 at 0x22A517F1220>. Consider rewriting this model with the Functional API.\n",
      "WARNING:tensorflow:Layers in a Sequential model should only have a single input tensor. Received: inputs=<PIL.Image.Image image mode=RGB size=50x50 at 0x22A517F1280>. Consider rewriting this model with the Functional API.\n",
      "WARNING:tensorflow:Layers in a Sequential model should only have a single input tensor. Received: inputs=<PIL.Image.Image image mode=RGB size=50x50 at 0x22A517F12E0>. Consider rewriting this model with the Functional API.\n",
      "WARNING:tensorflow:Layers in a Sequential model should only have a single input tensor. Received: inputs=<PIL.Image.Image image mode=RGB size=50x50 at 0x22A517F1340>. Consider rewriting this model with the Functional API.\n",
      "WARNING:tensorflow:Layers in a Sequential model should only have a single input tensor. Received: inputs=<PIL.Image.Image image mode=RGB size=50x50 at 0x22A517F13A0>. Consider rewriting this model with the Functional API.\n",
      "WARNING:tensorflow:Layers in a Sequential model should only have a single input tensor. Received: inputs=<PIL.Image.Image image mode=RGB size=50x50 at 0x22A517F1400>. Consider rewriting this model with the Functional API.\n",
      "WARNING:tensorflow:Layers in a Sequential model should only have a single input tensor. Received: inputs=<PIL.Image.Image image mode=RGB size=50x50 at 0x22A517F1460>. Consider rewriting this model with the Functional API.\n",
      "WARNING:tensorflow:Layers in a Sequential model should only have a single input tensor. Received: inputs=<PIL.Image.Image image mode=RGB size=50x50 at 0x22A517F14C0>. Consider rewriting this model with the Functional API.\n",
      "WARNING:tensorflow:Layers in a Sequential model should only have a single input tensor. Received: inputs=<PIL.Image.Image image mode=RGB size=50x50 at 0x22A517F1520>. Consider rewriting this model with the Functional API.\n",
      "WARNING:tensorflow:Layers in a Sequential model should only have a single input tensor. Received: inputs=<PIL.Image.Image image mode=RGB size=50x50 at 0x22A517F1580>. Consider rewriting this model with the Functional API.\n",
      "WARNING:tensorflow:Layers in a Sequential model should only have a single input tensor. Received: inputs=<PIL.Image.Image image mode=RGB size=50x50 at 0x22A517F15E0>. Consider rewriting this model with the Functional API.\n",
      "WARNING:tensorflow:Layers in a Sequential model should only have a single input tensor. Received: inputs=<PIL.Image.Image image mode=RGB size=50x50 at 0x22A517F1640>. Consider rewriting this model with the Functional API.\n",
      "WARNING:tensorflow:Layers in a Sequential model should only have a single input tensor. Received: inputs=<PIL.Image.Image image mode=RGB size=50x50 at 0x22A517F16A0>. Consider rewriting this model with the Functional API.\n",
      "WARNING:tensorflow:Layers in a Sequential model should only have a single input tensor. Received: inputs=<PIL.Image.Image image mode=RGB size=50x50 at 0x22A517F1700>. Consider rewriting this model with the Functional API.\n",
      "WARNING:tensorflow:Layers in a Sequential model should only have a single input tensor. Received: inputs=<PIL.Image.Image image mode=RGB size=50x50 at 0x22A517F1760>. Consider rewriting this model with the Functional API.\n",
      "WARNING:tensorflow:Layers in a Sequential model should only have a single input tensor. Received: inputs=<PIL.Image.Image image mode=RGB size=50x50 at 0x22A517F17C0>. Consider rewriting this model with the Functional API.\n",
      "WARNING:tensorflow:Layers in a Sequential model should only have a single input tensor. Received: inputs=<PIL.Image.Image image mode=RGB size=50x50 at 0x22A517F1820>. Consider rewriting this model with the Functional API.\n",
      "WARNING:tensorflow:Layers in a Sequential model should only have a single input tensor. Received: inputs=<PIL.Image.Image image mode=RGB size=50x50 at 0x22A517F1880>. Consider rewriting this model with the Functional API.\n",
      "WARNING:tensorflow:Layers in a Sequential model should only have a single input tensor. Received: inputs=<PIL.Image.Image image mode=RGB size=50x50 at 0x22A517F18E0>. Consider rewriting this model with the Functional API.\n"
     ]
    },
    {
     "name": "stdout",
     "output_type": "stream",
     "text": [
      "WARNING:tensorflow:Layers in a Sequential model should only have a single input tensor. Received: inputs=<PIL.Image.Image image mode=RGB size=50x50 at 0x22A517F1940>. Consider rewriting this model with the Functional API.\n",
      "WARNING:tensorflow:Layers in a Sequential model should only have a single input tensor. Received: inputs=<PIL.Image.Image image mode=RGB size=50x50 at 0x22A517F19A0>. Consider rewriting this model with the Functional API.\n",
      "WARNING:tensorflow:Layers in a Sequential model should only have a single input tensor. Received: inputs=<PIL.Image.Image image mode=RGB size=50x50 at 0x22A517F1A00>. Consider rewriting this model with the Functional API.\n",
      "WARNING:tensorflow:Layers in a Sequential model should only have a single input tensor. Received: inputs=<PIL.Image.Image image mode=RGB size=50x50 at 0x22A517F1A60>. Consider rewriting this model with the Functional API.\n",
      "WARNING:tensorflow:Layers in a Sequential model should only have a single input tensor. Received: inputs=<PIL.Image.Image image mode=RGB size=50x50 at 0x22A517F1AC0>. Consider rewriting this model with the Functional API.\n",
      "WARNING:tensorflow:Layers in a Sequential model should only have a single input tensor. Received: inputs=<PIL.Image.Image image mode=RGB size=50x50 at 0x22A517F1B20>. Consider rewriting this model with the Functional API.\n",
      "WARNING:tensorflow:Layers in a Sequential model should only have a single input tensor. Received: inputs=<PIL.Image.Image image mode=RGB size=50x50 at 0x22A517F1B80>. Consider rewriting this model with the Functional API.\n",
      "WARNING:tensorflow:Layers in a Sequential model should only have a single input tensor. Received: inputs=<PIL.Image.Image image mode=RGB size=50x50 at 0x22A517F1BE0>. Consider rewriting this model with the Functional API.\n",
      "WARNING:tensorflow:Layers in a Sequential model should only have a single input tensor. Received: inputs=<PIL.Image.Image image mode=RGB size=50x50 at 0x22A517F1C40>. Consider rewriting this model with the Functional API.\n",
      "WARNING:tensorflow:Layers in a Sequential model should only have a single input tensor. Received: inputs=<PIL.Image.Image image mode=RGB size=50x50 at 0x22A517F1CA0>. Consider rewriting this model with the Functional API.\n",
      "WARNING:tensorflow:Layers in a Sequential model should only have a single input tensor. Received: inputs=<PIL.Image.Image image mode=RGB size=50x50 at 0x22A517F1D00>. Consider rewriting this model with the Functional API.\n",
      "WARNING:tensorflow:Layers in a Sequential model should only have a single input tensor. Received: inputs=<PIL.Image.Image image mode=RGB size=50x50 at 0x22A517F1D60>. Consider rewriting this model with the Functional API.\n",
      "WARNING:tensorflow:Layers in a Sequential model should only have a single input tensor. Received: inputs=<PIL.Image.Image image mode=RGB size=50x50 at 0x22A517F1DC0>. Consider rewriting this model with the Functional API.\n",
      "WARNING:tensorflow:Layers in a Sequential model should only have a single input tensor. Received: inputs=<PIL.Image.Image image mode=RGB size=50x50 at 0x22A517F1E20>. Consider rewriting this model with the Functional API.\n",
      "WARNING:tensorflow:Layers in a Sequential model should only have a single input tensor. Received: inputs=<PIL.Image.Image image mode=RGB size=50x50 at 0x22A517F1E80>. Consider rewriting this model with the Functional API.\n",
      "WARNING:tensorflow:Layers in a Sequential model should only have a single input tensor. Received: inputs=<PIL.Image.Image image mode=RGB size=50x50 at 0x22A517F1EE0>. Consider rewriting this model with the Functional API.\n",
      "WARNING:tensorflow:Layers in a Sequential model should only have a single input tensor. Received: inputs=<PIL.Image.Image image mode=RGB size=50x50 at 0x22A517F1F40>. Consider rewriting this model with the Functional API.\n",
      "WARNING:tensorflow:Layers in a Sequential model should only have a single input tensor. Received: inputs=<PIL.Image.Image image mode=RGB size=50x50 at 0x22A517F1FA0>. Consider rewriting this model with the Functional API.\n",
      "WARNING:tensorflow:Layers in a Sequential model should only have a single input tensor. Received: inputs=<PIL.Image.Image image mode=RGB size=50x50 at 0x22A517F1FD0>. Consider rewriting this model with the Functional API.\n",
      "WARNING:tensorflow:Layers in a Sequential model should only have a single input tensor. Received: inputs=<PIL.Image.Image image mode=RGB size=50x50 at 0x22A51805070>. Consider rewriting this model with the Functional API.\n",
      "WARNING:tensorflow:Layers in a Sequential model should only have a single input tensor. Received: inputs=<PIL.Image.Image image mode=RGB size=50x50 at 0x22A51805100>. Consider rewriting this model with the Functional API.\n",
      "WARNING:tensorflow:Layers in a Sequential model should only have a single input tensor. Received: inputs=<PIL.Image.Image image mode=RGB size=50x50 at 0x22A51805160>. Consider rewriting this model with the Functional API.\n",
      "WARNING:tensorflow:Layers in a Sequential model should only have a single input tensor. Received: inputs=<PIL.Image.Image image mode=RGB size=50x50 at 0x22A518051C0>. Consider rewriting this model with the Functional API.\n",
      "WARNING:tensorflow:Layers in a Sequential model should only have a single input tensor. Received: inputs=<PIL.Image.Image image mode=RGB size=50x50 at 0x22A51805220>. Consider rewriting this model with the Functional API.\n",
      "WARNING:tensorflow:Layers in a Sequential model should only have a single input tensor. Received: inputs=<PIL.Image.Image image mode=RGB size=50x50 at 0x22A51805280>. Consider rewriting this model with the Functional API.\n",
      "WARNING:tensorflow:Layers in a Sequential model should only have a single input tensor. Received: inputs=<PIL.Image.Image image mode=RGB size=50x50 at 0x22A518052E0>. Consider rewriting this model with the Functional API.\n",
      "WARNING:tensorflow:Layers in a Sequential model should only have a single input tensor. Received: inputs=<PIL.Image.Image image mode=RGB size=50x50 at 0x22A51805340>. Consider rewriting this model with the Functional API.\n",
      "WARNING:tensorflow:Layers in a Sequential model should only have a single input tensor. Received: inputs=<PIL.Image.Image image mode=RGB size=50x50 at 0x22A518053A0>. Consider rewriting this model with the Functional API.\n",
      "WARNING:tensorflow:Layers in a Sequential model should only have a single input tensor. Received: inputs=<PIL.Image.Image image mode=RGB size=50x50 at 0x22A51805400>. Consider rewriting this model with the Functional API.\n",
      "WARNING:tensorflow:Layers in a Sequential model should only have a single input tensor. Received: inputs=<PIL.Image.Image image mode=RGB size=50x50 at 0x22A51805460>. Consider rewriting this model with the Functional API.\n",
      "WARNING:tensorflow:Layers in a Sequential model should only have a single input tensor. Received: inputs=<PIL.Image.Image image mode=RGB size=50x50 at 0x22A518054C0>. Consider rewriting this model with the Functional API.\n",
      "WARNING:tensorflow:Layers in a Sequential model should only have a single input tensor. Received: inputs=<PIL.Image.Image image mode=RGB size=50x50 at 0x22A51805520>. Consider rewriting this model with the Functional API.\n",
      "WARNING:tensorflow:Layers in a Sequential model should only have a single input tensor. Received: inputs=<PIL.Image.Image image mode=RGB size=50x50 at 0x22A51805580>. Consider rewriting this model with the Functional API.\n",
      "WARNING:tensorflow:Layers in a Sequential model should only have a single input tensor. Received: inputs=<PIL.Image.Image image mode=RGB size=50x50 at 0x22A518055E0>. Consider rewriting this model with the Functional API.\n",
      "WARNING:tensorflow:Layers in a Sequential model should only have a single input tensor. Received: inputs=<PIL.Image.Image image mode=RGB size=50x50 at 0x22A51805640>. Consider rewriting this model with the Functional API.\n",
      "WARNING:tensorflow:Layers in a Sequential model should only have a single input tensor. Received: inputs=<PIL.Image.Image image mode=RGB size=50x50 at 0x22A518056A0>. Consider rewriting this model with the Functional API.\n",
      "WARNING:tensorflow:Layers in a Sequential model should only have a single input tensor. Received: inputs=<PIL.Image.Image image mode=RGB size=50x50 at 0x22A51805700>. Consider rewriting this model with the Functional API.\n"
     ]
    },
    {
     "name": "stdout",
     "output_type": "stream",
     "text": [
      "WARNING:tensorflow:Layers in a Sequential model should only have a single input tensor. Received: inputs=<PIL.Image.Image image mode=RGB size=50x50 at 0x22A51805760>. Consider rewriting this model with the Functional API.\n",
      "WARNING:tensorflow:Layers in a Sequential model should only have a single input tensor. Received: inputs=<PIL.Image.Image image mode=RGB size=50x50 at 0x22A518057C0>. Consider rewriting this model with the Functional API.\n",
      "WARNING:tensorflow:Layers in a Sequential model should only have a single input tensor. Received: inputs=<PIL.Image.Image image mode=RGB size=50x50 at 0x22A51805820>. Consider rewriting this model with the Functional API.\n",
      "WARNING:tensorflow:Layers in a Sequential model should only have a single input tensor. Received: inputs=<PIL.Image.Image image mode=RGB size=50x50 at 0x22A51805880>. Consider rewriting this model with the Functional API.\n",
      "WARNING:tensorflow:Layers in a Sequential model should only have a single input tensor. Received: inputs=<PIL.Image.Image image mode=RGB size=50x50 at 0x22A518058E0>. Consider rewriting this model with the Functional API.\n",
      "WARNING:tensorflow:Layers in a Sequential model should only have a single input tensor. Received: inputs=<PIL.Image.Image image mode=RGB size=50x50 at 0x22A51805940>. Consider rewriting this model with the Functional API.\n",
      "WARNING:tensorflow:Layers in a Sequential model should only have a single input tensor. Received: inputs=<PIL.Image.Image image mode=RGB size=50x50 at 0x22A518059A0>. Consider rewriting this model with the Functional API.\n",
      "WARNING:tensorflow:Layers in a Sequential model should only have a single input tensor. Received: inputs=<PIL.Image.Image image mode=RGB size=50x50 at 0x22A51805A00>. Consider rewriting this model with the Functional API.\n",
      "WARNING:tensorflow:Layers in a Sequential model should only have a single input tensor. Received: inputs=<PIL.Image.Image image mode=RGB size=50x50 at 0x22A51805A60>. Consider rewriting this model with the Functional API.\n",
      "WARNING:tensorflow:Layers in a Sequential model should only have a single input tensor. Received: inputs=<PIL.Image.Image image mode=RGB size=50x50 at 0x22A51805AC0>. Consider rewriting this model with the Functional API.\n",
      "WARNING:tensorflow:Layers in a Sequential model should only have a single input tensor. Received: inputs=<PIL.Image.Image image mode=RGB size=50x50 at 0x22A51805B20>. Consider rewriting this model with the Functional API.\n",
      "WARNING:tensorflow:Layers in a Sequential model should only have a single input tensor. Received: inputs=<PIL.Image.Image image mode=RGB size=50x50 at 0x22A51805B80>. Consider rewriting this model with the Functional API.\n",
      "WARNING:tensorflow:Layers in a Sequential model should only have a single input tensor. Received: inputs=<PIL.Image.Image image mode=RGB size=50x50 at 0x22A51805BE0>. Consider rewriting this model with the Functional API.\n",
      "WARNING:tensorflow:Layers in a Sequential model should only have a single input tensor. Received: inputs=<PIL.Image.Image image mode=RGB size=50x50 at 0x22A51805C40>. Consider rewriting this model with the Functional API.\n",
      "WARNING:tensorflow:Layers in a Sequential model should only have a single input tensor. Received: inputs=<PIL.Image.Image image mode=RGB size=50x50 at 0x22A51805CA0>. Consider rewriting this model with the Functional API.\n",
      "WARNING:tensorflow:Layers in a Sequential model should only have a single input tensor. Received: inputs=<PIL.Image.Image image mode=RGB size=50x50 at 0x22A51805D00>. Consider rewriting this model with the Functional API.\n",
      "WARNING:tensorflow:Layers in a Sequential model should only have a single input tensor. Received: inputs=<PIL.Image.Image image mode=RGB size=50x50 at 0x22A51805D60>. Consider rewriting this model with the Functional API.\n",
      "WARNING:tensorflow:Layers in a Sequential model should only have a single input tensor. Received: inputs=<PIL.Image.Image image mode=RGB size=50x50 at 0x22A51805DC0>. Consider rewriting this model with the Functional API.\n",
      "WARNING:tensorflow:Layers in a Sequential model should only have a single input tensor. Received: inputs=<PIL.Image.Image image mode=RGB size=50x50 at 0x22A51805E20>. Consider rewriting this model with the Functional API.\n",
      "WARNING:tensorflow:Layers in a Sequential model should only have a single input tensor. Received: inputs=<PIL.Image.Image image mode=RGB size=50x50 at 0x22A51805E80>. Consider rewriting this model with the Functional API.\n",
      "WARNING:tensorflow:Layers in a Sequential model should only have a single input tensor. Received: inputs=<PIL.Image.Image image mode=RGB size=50x50 at 0x22A51805EE0>. Consider rewriting this model with the Functional API.\n",
      "WARNING:tensorflow:Layers in a Sequential model should only have a single input tensor. Received: inputs=<PIL.Image.Image image mode=RGB size=50x50 at 0x22A51805F40>. Consider rewriting this model with the Functional API.\n",
      "WARNING:tensorflow:Layers in a Sequential model should only have a single input tensor. Received: inputs=<PIL.Image.Image image mode=RGB size=50x50 at 0x22A51805FA0>. Consider rewriting this model with the Functional API.\n",
      "WARNING:tensorflow:Layers in a Sequential model should only have a single input tensor. Received: inputs=<PIL.Image.Image image mode=RGB size=50x50 at 0x22A51805FD0>. Consider rewriting this model with the Functional API.\n",
      "WARNING:tensorflow:Layers in a Sequential model should only have a single input tensor. Received: inputs=<PIL.Image.Image image mode=RGB size=50x50 at 0x22A5181A070>. Consider rewriting this model with the Functional API.\n",
      "WARNING:tensorflow:Layers in a Sequential model should only have a single input tensor. Received: inputs=<PIL.Image.Image image mode=RGB size=50x50 at 0x22A5181A100>. Consider rewriting this model with the Functional API.\n",
      "WARNING:tensorflow:Layers in a Sequential model should only have a single input tensor. Received: inputs=<PIL.Image.Image image mode=RGB size=50x50 at 0x22A5181A160>. Consider rewriting this model with the Functional API.\n"
     ]
    }
   ],
   "source": [
    "augmented_images = []\n",
    "for image in resized_images:\n",
    "    augmented_image = augmentation(image)\n",
    "    augmented_images.append(augmented_image)"
   ]
  },
  {
   "cell_type": "code",
   "execution_count": 59,
   "id": "7dd0eb06",
   "metadata": {},
   "outputs": [
    {
     "data": {
      "text/plain": [
       "list"
      ]
     },
     "execution_count": 59,
     "metadata": {},
     "output_type": "execute_result"
    }
   ],
   "source": [
    "type(augmented_images)"
   ]
  },
  {
   "cell_type": "markdown",
   "id": "e5051536",
   "metadata": {},
   "source": [
    "#### The augmented_images data is effectively a set of tensors, meaning that we can pass this to a CNN model. However, it would be nice to see what has been done to the images and compare them to the original images. To do this we need to turn the convert our arrays in 'augmented_images' back into image files."
   ]
  },
  {
   "cell_type": "code",
   "execution_count": 60,
   "id": "8044150f",
   "metadata": {},
   "outputs": [],
   "source": [
    "# Convert augmented images back to numpy array if needed\n",
    "augmented_array = [x.numpy() for x in augmented_images]"
   ]
  },
  {
   "cell_type": "code",
   "execution_count": 62,
   "id": "43251096",
   "metadata": {},
   "outputs": [
    {
     "data": {
      "text/plain": [
       "list"
      ]
     },
     "execution_count": 62,
     "metadata": {},
     "output_type": "execute_result"
    }
   ],
   "source": [
    "type(augmented_array)"
   ]
  },
  {
   "cell_type": "code",
   "execution_count": 63,
   "id": "8c10ff62",
   "metadata": {},
   "outputs": [],
   "source": [
    "# Convert back into an image\n",
    "converted_images = []\n",
    "\n",
    "for img in augmented_array:\n",
    "\n",
    " image = tf.keras.preprocessing.image.array_to_img(img) \n",
    " converted_images.append(image)"
   ]
  },
  {
   "cell_type": "code",
   "execution_count": 65,
   "id": "27cb50a0",
   "metadata": {},
   "outputs": [
    {
     "data": {
      "text/plain": [
       "list"
      ]
     },
     "execution_count": 65,
     "metadata": {},
     "output_type": "execute_result"
    }
   ],
   "source": [
    "type(converted_images)"
   ]
  },
  {
   "cell_type": "markdown",
   "id": "3a9171ff",
   "metadata": {},
   "source": [
    "#### Now we can visualise both sets of images!"
   ]
  },
  {
   "cell_type": "code",
   "execution_count": 66,
   "id": "0f2a99ac",
   "metadata": {},
   "outputs": [
    {
     "data": {
      "image/png": "[encoded data removed]",
      "text/plain": [
       "<Figure size 1296x1296 with 4 Axes>"
      ]
     },
     "metadata": {},
     "output_type": "display_data"
    }
   ],
   "source": [
    "#Plot original images\n",
    "fig = plt.figure(figsize=(18,18))\n",
    "for i in range(4):\n",
    "    ax = fig.add_subplot(1, 4, i + 1, xticks=[], yticks=[])\n",
    "    ax.imshow(resized_images[i])\n",
    "    ax.set_title('class {}'.format(classes[i]))"
   ]
  },
  {
   "cell_type": "code",
   "execution_count": 67,
   "id": "89300228",
   "metadata": {
    "scrolled": true
   },
   "outputs": [
    {
     "data": {
      "image/png": "[encoded data removed]",
      "text/plain": [
       "<Figure size 1296x1296 with 4 Axes>"
      ]
     },
     "metadata": {},
     "output_type": "display_data"
    }
   ],
   "source": [
    "# Note that the augmentation process can drastically alter the pixel values, so need to normalise images\n",
    "\n",
    "#Plot the augmented versions of the images above\n",
    "fig = plt.figure(figsize=(18,18))\n",
    "for i in range(4):\n",
    "    ax = fig.add_subplot(1, 4, i + 1, xticks=[], yticks=[])\n",
    "    #normalized_image = exposure.rescale_intensity(augmented_images[i], out_range=(0, 1))\n",
    "    ax.imshow(converted_images[i])\n",
    "    ax.set_title('class {}'.format(classes[i]))"
   ]
  },
  {
   "cell_type": "markdown",
   "id": "e3ce49c2",
   "metadata": {},
   "source": [
    "#### Above we can see our orignal images (top) and the augmented images (below). The augmented images are recognisable as the originals but flipped. The new images also have a sharper contrast between the lighter and darker regions of the image - possibly due to the rescaling. Now it's time to use this data in a model!"
   ]
  },
  {
   "cell_type": "markdown",
   "id": "e730bf9f",
   "metadata": {},
   "source": [
    "#### Define training and test data, input shape and double check data is in np.array format"
   ]
  },
  {
   "cell_type": "code",
   "execution_count": 68,
   "id": "5022184d",
   "metadata": {},
   "outputs": [],
   "source": [
    "X_train, X_test, Y_train, Y_test = train_test_split (augmented_images, classes, test_size = 0.3, random_state=101)"
   ]
  },
  {
   "cell_type": "code",
   "execution_count": 69,
   "id": "d958a903",
   "metadata": {},
   "outputs": [],
   "source": [
    "X_train, X_val, Y_train, Y_val = train_test_split(X_train, Y_train, test_size=0.2, random_state= 101)"
   ]
  },
  {
   "cell_type": "code",
   "execution_count": 70,
   "id": "524e07e2",
   "metadata": {},
   "outputs": [],
   "source": [
    "X_train = np.array(X_train)"
   ]
  },
  {
   "cell_type": "code",
   "execution_count": 71,
   "id": "cc05148f",
   "metadata": {},
   "outputs": [
    {
     "data": {
      "text/plain": [
       "(698, 50, 50, 3)"
      ]
     },
     "execution_count": 71,
     "metadata": {},
     "output_type": "execute_result"
    }
   ],
   "source": [
    "X_train.shape"
   ]
  },
  {
   "cell_type": "code",
   "execution_count": 72,
   "id": "4c79bb8c",
   "metadata": {},
   "outputs": [],
   "source": [
    "X_Shape = X_train.shape"
   ]
  },
  {
   "cell_type": "code",
   "execution_count": 73,
   "id": "c1bb07bf",
   "metadata": {},
   "outputs": [
    {
     "data": {
      "text/plain": [
       "numpy.ndarray"
      ]
     },
     "execution_count": 73,
     "metadata": {},
     "output_type": "execute_result"
    }
   ],
   "source": [
    "type(X_train)"
   ]
  },
  {
   "cell_type": "markdown",
   "id": "169c7538",
   "metadata": {},
   "source": [
    "#### As a a quick QA of the training data, let's see if the labels are reasonably balanced within the training data."
   ]
  },
  {
   "cell_type": "code",
   "execution_count": 74,
   "id": "021bf457",
   "metadata": {},
   "outputs": [],
   "source": [
    "QA_train = pd.DataFrame(Y_train)"
   ]
  },
  {
   "cell_type": "code",
   "execution_count": 75,
   "id": "7347b51e",
   "metadata": {},
   "outputs": [
    {
     "data": {
      "text/plain": [
       "0    394\n",
       "1    304\n",
       "dtype: int64"
      ]
     },
     "execution_count": 75,
     "metadata": {},
     "output_type": "execute_result"
    }
   ],
   "source": [
    "QA_train.value_counts()"
   ]
  },
  {
   "cell_type": "markdown",
   "id": "731d95f7",
   "metadata": {},
   "source": [
    "#### Around 43% of observations are in class 1. This is likely to be balanced enough."
   ]
  },
  {
   "cell_type": "code",
   "execution_count": 76,
   "id": "f7af9977",
   "metadata": {},
   "outputs": [],
   "source": [
    "X_test=np.array(X_test)"
   ]
  },
  {
   "cell_type": "code",
   "execution_count": 77,
   "id": "5910f533",
   "metadata": {},
   "outputs": [
    {
     "data": {
      "text/plain": [
       "(375, 50, 50, 3)"
      ]
     },
     "execution_count": 77,
     "metadata": {},
     "output_type": "execute_result"
    }
   ],
   "source": [
    "X_test.shape"
   ]
  },
  {
   "cell_type": "code",
   "execution_count": 78,
   "id": "76bd1bc5",
   "metadata": {},
   "outputs": [],
   "source": [
    "X_val = np.array(X_val)"
   ]
  },
  {
   "cell_type": "code",
   "execution_count": 79,
   "id": "7af737eb",
   "metadata": {},
   "outputs": [
    {
     "data": {
      "text/plain": [
       "(175, 50, 50, 3)"
      ]
     },
     "execution_count": 79,
     "metadata": {},
     "output_type": "execute_result"
    }
   ],
   "source": [
    "X_val.shape"
   ]
  },
  {
   "cell_type": "markdown",
   "id": "1216e7d4",
   "metadata": {},
   "source": [
    "#### Try out models using the augmented data"
   ]
  },
  {
   "cell_type": "code",
   "execution_count": 80,
   "id": "82b7da78",
   "metadata": {},
   "outputs": [],
   "source": [
    "model2 = Sequential()\n",
    "model2.add(Conv2D(filters = 16,  \n",
    "                 kernel_size = 5, \n",
    "                 strides = (2, 2), \n",
    "                 padding = 'same',\n",
    "                 activation = 'relu'))\n",
    "model2.add(MaxPool2D (pool_size = 2, \n",
    "                    strides = (2,2),\n",
    "                    padding = 'same'))\n",
    "model2.add(Flatten())\n",
    "model2.add(Dense(250, activation = 'relu', input_shape = X_Shape))\n",
    "model2.add(Dropout(0.3))\n",
    "model2.add(Dense(1, activation = 'sigmoid'))"
   ]
  },
  {
   "cell_type": "code",
   "execution_count": 81,
   "id": "53afa355",
   "metadata": {},
   "outputs": [
    {
     "name": "stdout",
     "output_type": "stream",
     "text": [
      "Epoch 1/50\n",
      "22/22 [==============================] - 1s 20ms/step - loss: 0.8717 - accuracy: 0.5244 - val_loss: 0.6859 - val_accuracy: 0.5371\n",
      "Epoch 2/50\n",
      "22/22 [==============================] - 0s 11ms/step - loss: 0.6732 - accuracy: 0.5602 - val_loss: 0.6869 - val_accuracy: 0.5371\n",
      "Epoch 3/50\n",
      "22/22 [==============================] - 0s 11ms/step - loss: 0.6780 - accuracy: 0.6060 - val_loss: 0.6737 - val_accuracy: 0.5371\n",
      "Epoch 4/50\n",
      "22/22 [==============================] - 0s 11ms/step - loss: 0.6632 - accuracy: 0.5788 - val_loss: 0.6739 - val_accuracy: 0.5371\n",
      "Epoch 5/50\n",
      "22/22 [==============================] - 0s 11ms/step - loss: 0.6830 - accuracy: 0.5688 - val_loss: 0.7016 - val_accuracy: 0.5371\n",
      "Epoch 6/50\n",
      "22/22 [==============================] - 0s 11ms/step - loss: 0.6447 - accuracy: 0.5731 - val_loss: 0.6389 - val_accuracy: 0.5086\n",
      "Epoch 7/50\n",
      "22/22 [==============================] - 0s 11ms/step - loss: 0.6445 - accuracy: 0.5931 - val_loss: 0.6359 - val_accuracy: 0.6343\n",
      "Epoch 8/50\n",
      "22/22 [==============================] - 0s 11ms/step - loss: 0.6027 - accuracy: 0.6920 - val_loss: 0.6009 - val_accuracy: 0.6571\n",
      "Epoch 9/50\n",
      "22/22 [==============================] - 0s 11ms/step - loss: 0.5691 - accuracy: 0.7020 - val_loss: 0.5909 - val_accuracy: 0.7029\n",
      "Epoch 10/50\n",
      "22/22 [==============================] - 0s 12ms/step - loss: 0.5771 - accuracy: 0.6977 - val_loss: 0.6082 - val_accuracy: 0.7086\n",
      "Epoch 11/50\n",
      "22/22 [==============================] - 0s 11ms/step - loss: 0.5353 - accuracy: 0.7249 - val_loss: 0.5393 - val_accuracy: 0.7314\n",
      "Epoch 12/50\n",
      "22/22 [==============================] - 0s 11ms/step - loss: 0.4878 - accuracy: 0.7665 - val_loss: 0.5345 - val_accuracy: 0.7429\n",
      "Epoch 13/50\n",
      "22/22 [==============================] - 0s 13ms/step - loss: 0.4829 - accuracy: 0.7679 - val_loss: 0.5551 - val_accuracy: 0.7314\n",
      "Epoch 14/50\n",
      "22/22 [==============================] - 0s 13ms/step - loss: 0.4566 - accuracy: 0.7779 - val_loss: 0.5233 - val_accuracy: 0.7429\n",
      "Epoch 15/50\n",
      "22/22 [==============================] - 0s 12ms/step - loss: 0.4320 - accuracy: 0.8123 - val_loss: 0.5222 - val_accuracy: 0.7143\n",
      "Epoch 16/50\n",
      "22/22 [==============================] - 0s 13ms/step - loss: 0.4184 - accuracy: 0.8080 - val_loss: 0.4922 - val_accuracy: 0.7371\n",
      "Epoch 17/50\n",
      "22/22 [==============================] - 0s 12ms/step - loss: 0.4772 - accuracy: 0.7751 - val_loss: 0.5675 - val_accuracy: 0.6514\n",
      "Epoch 18/50\n",
      "22/22 [==============================] - 0s 12ms/step - loss: 0.4116 - accuracy: 0.8223 - val_loss: 0.5289 - val_accuracy: 0.6971\n",
      "Epoch 19/50\n",
      "22/22 [==============================] - 0s 12ms/step - loss: 0.4323 - accuracy: 0.7880 - val_loss: 0.5133 - val_accuracy: 0.6743\n",
      "Epoch 20/50\n",
      "22/22 [==============================] - 0s 13ms/step - loss: 0.3732 - accuracy: 0.8496 - val_loss: 0.7251 - val_accuracy: 0.7143\n",
      "Epoch 21/50\n",
      "22/22 [==============================] - 0s 12ms/step - loss: 0.4203 - accuracy: 0.7980 - val_loss: 0.5686 - val_accuracy: 0.7029\n",
      "Epoch 22/50\n",
      "22/22 [==============================] - 0s 13ms/step - loss: 0.3689 - accuracy: 0.8582 - val_loss: 0.5466 - val_accuracy: 0.7257\n",
      "Epoch 23/50\n",
      "22/22 [==============================] - 0s 12ms/step - loss: 0.3380 - accuracy: 0.8668 - val_loss: 0.5809 - val_accuracy: 0.7371\n",
      "Epoch 24/50\n",
      "22/22 [==============================] - 0s 12ms/step - loss: 0.3170 - accuracy: 0.8653 - val_loss: 0.5664 - val_accuracy: 0.7086\n",
      "Epoch 25/50\n",
      "22/22 [==============================] - 0s 12ms/step - loss: 0.3171 - accuracy: 0.8725 - val_loss: 0.5528 - val_accuracy: 0.7257\n",
      "Epoch 26/50\n",
      "22/22 [==============================] - 0s 12ms/step - loss: 0.3087 - accuracy: 0.8754 - val_loss: 0.6345 - val_accuracy: 0.7371\n",
      "Epoch 27/50\n",
      "22/22 [==============================] - 0s 13ms/step - loss: 0.2934 - accuracy: 0.8768 - val_loss: 0.6543 - val_accuracy: 0.7429\n",
      "Epoch 28/50\n",
      "22/22 [==============================] - 0s 13ms/step - loss: 0.3122 - accuracy: 0.8854 - val_loss: 0.5783 - val_accuracy: 0.7257\n",
      "Epoch 29/50\n",
      "22/22 [==============================] - 0s 13ms/step - loss: 0.2609 - accuracy: 0.9126 - val_loss: 0.5578 - val_accuracy: 0.7943\n",
      "Epoch 30/50\n",
      "22/22 [==============================] - 0s 13ms/step - loss: 0.2244 - accuracy: 0.9269 - val_loss: 0.5520 - val_accuracy: 0.7714\n",
      "Epoch 31/50\n",
      "22/22 [==============================] - 0s 13ms/step - loss: 0.2362 - accuracy: 0.9140 - val_loss: 0.5281 - val_accuracy: 0.7657\n",
      "Epoch 32/50\n",
      "22/22 [==============================] - 0s 13ms/step - loss: 0.2258 - accuracy: 0.9140 - val_loss: 0.5765 - val_accuracy: 0.7257\n",
      "Epoch 33/50\n",
      "22/22 [==============================] - 0s 12ms/step - loss: 0.1819 - accuracy: 0.9398 - val_loss: 0.5512 - val_accuracy: 0.7371\n",
      "Epoch 34/50\n",
      "22/22 [==============================] - 0s 12ms/step - loss: 0.1593 - accuracy: 0.9556 - val_loss: 0.5940 - val_accuracy: 0.7771\n",
      "Epoch 35/50\n",
      "22/22 [==============================] - 0s 13ms/step - loss: 0.1435 - accuracy: 0.9527 - val_loss: 0.5383 - val_accuracy: 0.7657\n",
      "Epoch 36/50\n",
      "22/22 [==============================] - 0s 13ms/step - loss: 0.1670 - accuracy: 0.9427 - val_loss: 0.5999 - val_accuracy: 0.7600\n",
      "Epoch 37/50\n",
      "22/22 [==============================] - 0s 12ms/step - loss: 0.1241 - accuracy: 0.9685 - val_loss: 0.5743 - val_accuracy: 0.7600\n",
      "Epoch 38/50\n",
      "22/22 [==============================] - 0s 13ms/step - loss: 0.1159 - accuracy: 0.9699 - val_loss: 0.5916 - val_accuracy: 0.7543\n",
      "Epoch 39/50\n",
      "22/22 [==============================] - 0s 12ms/step - loss: 0.1715 - accuracy: 0.9327 - val_loss: 0.7033 - val_accuracy: 0.7486\n",
      "Epoch 40/50\n",
      "22/22 [==============================] - 0s 13ms/step - loss: 0.1172 - accuracy: 0.9799 - val_loss: 0.5984 - val_accuracy: 0.7714\n",
      "Epoch 41/50\n",
      "22/22 [==============================] - 0s 12ms/step - loss: 0.0942 - accuracy: 0.9814 - val_loss: 0.6633 - val_accuracy: 0.7429\n",
      "Epoch 42/50\n",
      "22/22 [==============================] - 0s 13ms/step - loss: 0.1007 - accuracy: 0.9713 - val_loss: 0.6596 - val_accuracy: 0.7371\n",
      "Epoch 43/50\n",
      "22/22 [==============================] - 0s 13ms/step - loss: 0.1068 - accuracy: 0.9742 - val_loss: 0.6505 - val_accuracy: 0.7543\n",
      "Epoch 44/50\n",
      "22/22 [==============================] - 0s 13ms/step - loss: 0.1186 - accuracy: 0.9656 - val_loss: 0.6818 - val_accuracy: 0.7543\n",
      "Epoch 45/50\n",
      "22/22 [==============================] - 0s 13ms/step - loss: 0.0842 - accuracy: 0.9799 - val_loss: 0.7636 - val_accuracy: 0.7371\n",
      "Epoch 46/50\n",
      "22/22 [==============================] - 0s 13ms/step - loss: 0.0806 - accuracy: 0.9756 - val_loss: 0.7907 - val_accuracy: 0.7543\n",
      "Epoch 47/50\n",
      "22/22 [==============================] - 0s 13ms/step - loss: 0.1046 - accuracy: 0.9599 - val_loss: 0.7161 - val_accuracy: 0.7143\n",
      "Epoch 48/50\n",
      "22/22 [==============================] - 0s 13ms/step - loss: 0.0944 - accuracy: 0.9685 - val_loss: 0.6855 - val_accuracy: 0.7600\n",
      "Epoch 49/50\n",
      "22/22 [==============================] - 0s 13ms/step - loss: 0.0542 - accuracy: 0.9928 - val_loss: 0.7675 - val_accuracy: 0.7371\n",
      "Epoch 50/50\n",
      "22/22 [==============================] - 0s 13ms/step - loss: 0.0735 - accuracy: 0.9814 - val_loss: 0.7231 - val_accuracy: 0.7600\n"
     ]
    },
    {
     "data": {
      "text/plain": [
       "<keras.callbacks.History at 0x22a59e7b9d0>"
      ]
     },
     "execution_count": 81,
     "metadata": {},
     "output_type": "execute_result"
    }
   ],
   "source": [
    "model2.compile(loss='binary_crossentropy', optimizer ='adam', metrics=['accuracy'] )\n",
    "model2.fit(X_train, Y_train, epochs = 50, validation_data=(X_val, Y_val))"
   ]
  },
  {
   "cell_type": "code",
   "execution_count": 82,
   "id": "bee80aed",
   "metadata": {},
   "outputs": [
    {
     "data": {
      "image/png": "[encoded data removed]",
      "text/plain": [
       "<Figure size 432x288 with 1 Axes>"
      ]
     },
     "metadata": {
      "needs_background": "light"
     },
     "output_type": "display_data"
    }
   ],
   "source": [
    "plt.plot(model2.history.history['loss'])\n",
    "plt.plot(model2.history.history['val_loss'])\n",
    "plt.legend(['loss', 'val_loss'], loc='upper right')\n",
    "plt.xlabel('Epoch')\n",
    "plt.ylabel('Loss')\n",
    "plt.show()"
   ]
  },
  {
   "cell_type": "code",
   "execution_count": 83,
   "id": "1367a35d",
   "metadata": {},
   "outputs": [
    {
     "data": {
      "image/png": "[encoded data removed]",
      "text/plain": [
       "<Figure size 432x288 with 1 Axes>"
      ]
     },
     "metadata": {
      "needs_background": "light"
     },
     "output_type": "display_data"
    }
   ],
   "source": [
    "plt.plot(model2.history.history['accuracy'])\n",
    "plt.plot(model2.history.history['val_accuracy'])\n",
    "plt.legend(['accuracy', 'val_accuracy'], loc='upper left')\n",
    "plt.xlabel('Epoch')\n",
    "plt.ylabel('Accuracy')\n",
    "plt.show()"
   ]
  },
  {
   "cell_type": "markdown",
   "id": "d53b5393",
   "metadata": {},
   "source": []
  },
  {
   "cell_type": "code",
   "execution_count": 84,
   "id": "b50d2bca",
   "metadata": {},
   "outputs": [
    {
     "name": "stdout",
     "output_type": "stream",
     "text": [
      "0.7440000176429749\n"
     ]
    }
   ],
   "source": [
    "aug_score2  = model2.evaluate(X_test, Y_test, verbose = 0)\n",
    "print(aug_score2[1])"
   ]
  },
  {
   "cell_type": "markdown",
   "id": "898c522c",
   "metadata": {},
   "source": [
    "#### This is clearly an improvement in the behaviour of the model over the course of training, with the loss showing more a a downward trend - although the performance on the validation data plateaus quite early on. The performance on the test data is similar to model 1, though slightly better."
   ]
  },
  {
   "cell_type": "markdown",
   "id": "7e0f1fec",
   "metadata": {},
   "source": [
    "#### Here we want to build up the architecture a bit further by adding the second conv2d layer"
   ]
  },
  {
   "cell_type": "code",
   "execution_count": 93,
   "id": "7096b500",
   "metadata": {},
   "outputs": [],
   "source": [
    "model3 = Sequential()\n",
    "model3.add(Conv2D(filters = 16,  \n",
    "                 kernel_size = 5, \n",
    "                 strides = (2, 2), \n",
    "                 padding = 'same',\n",
    "                 activation = 'relu'))\n",
    "model3.add(Conv2D(filters = 16,  \n",
    "                 kernel_size = 3, \n",
    "                 strides = (2, 2), \n",
    "                 padding = 'same',\n",
    "                 activation = 'relu'))\n",
    "model3.add(MaxPool2D (pool_size = 2, \n",
    "                    strides = (2,2),\n",
    "                    padding = 'same'))\n",
    "model3.add(Flatten())\n",
    "model3.add(Dense(250, activation = 'relu', input_shape = X_Shape))\n",
    "model3.add(Dropout(0.3))\n",
    "model3.add(Dense(1, activation = 'sigmoid'))"
   ]
  },
  {
   "cell_type": "code",
   "execution_count": 94,
   "id": "7559e7ac",
   "metadata": {},
   "outputs": [
    {
     "name": "stdout",
     "output_type": "stream",
     "text": [
      "Epoch 1/50\n",
      "14/14 [==============================] - 1s 29ms/step - loss: 0.7237 - accuracy: 0.5415 - val_loss: 0.6902 - val_accuracy: 0.5371\n",
      "Epoch 2/50\n",
      "14/14 [==============================] - 0s 17ms/step - loss: 0.6774 - accuracy: 0.5716 - val_loss: 0.7061 - val_accuracy: 0.5371\n",
      "Epoch 3/50\n",
      "14/14 [==============================] - 0s 17ms/step - loss: 0.6788 - accuracy: 0.5645 - val_loss: 0.6969 - val_accuracy: 0.5371\n",
      "Epoch 4/50\n",
      "14/14 [==============================] - 0s 17ms/step - loss: 0.6524 - accuracy: 0.5616 - val_loss: 0.6666 - val_accuracy: 0.5543\n",
      "Epoch 5/50\n",
      "14/14 [==============================] - 0s 16ms/step - loss: 0.6296 - accuracy: 0.6246 - val_loss: 0.6601 - val_accuracy: 0.5886\n",
      "Epoch 6/50\n",
      "14/14 [==============================] - 0s 16ms/step - loss: 0.6486 - accuracy: 0.5946 - val_loss: 0.6738 - val_accuracy: 0.5029\n",
      "Epoch 7/50\n",
      "14/14 [==============================] - 0s 16ms/step - loss: 0.6115 - accuracy: 0.6547 - val_loss: 0.6418 - val_accuracy: 0.6686\n",
      "Epoch 8/50\n",
      "14/14 [==============================] - 0s 17ms/step - loss: 0.6113 - accuracy: 0.6748 - val_loss: 0.6307 - val_accuracy: 0.6286\n",
      "Epoch 9/50\n",
      "14/14 [==============================] - 0s 16ms/step - loss: 0.5908 - accuracy: 0.6791 - val_loss: 0.6396 - val_accuracy: 0.5829\n",
      "Epoch 10/50\n",
      "14/14 [==============================] - 0s 17ms/step - loss: 0.5906 - accuracy: 0.6819 - val_loss: 0.6229 - val_accuracy: 0.6571\n",
      "Epoch 11/50\n",
      "14/14 [==============================] - 0s 17ms/step - loss: 0.5782 - accuracy: 0.7006 - val_loss: 0.6366 - val_accuracy: 0.6743\n",
      "Epoch 12/50\n",
      "14/14 [==============================] - 0s 17ms/step - loss: 0.5919 - accuracy: 0.6805 - val_loss: 0.6327 - val_accuracy: 0.6171\n",
      "Epoch 13/50\n",
      "14/14 [==============================] - 0s 17ms/step - loss: 0.5922 - accuracy: 0.6719 - val_loss: 0.6124 - val_accuracy: 0.7086\n",
      "Epoch 14/50\n",
      "14/14 [==============================] - 0s 16ms/step - loss: 0.5702 - accuracy: 0.7006 - val_loss: 0.6059 - val_accuracy: 0.6400\n",
      "Epoch 15/50\n",
      "14/14 [==============================] - 0s 16ms/step - loss: 0.5469 - accuracy: 0.7206 - val_loss: 0.5813 - val_accuracy: 0.7429\n",
      "Epoch 16/50\n",
      "14/14 [==============================] - 0s 16ms/step - loss: 0.5600 - accuracy: 0.7020 - val_loss: 0.6221 - val_accuracy: 0.6800\n",
      "Epoch 17/50\n",
      "14/14 [==============================] - 0s 17ms/step - loss: 0.5443 - accuracy: 0.7292 - val_loss: 0.5668 - val_accuracy: 0.6857\n",
      "Epoch 18/50\n",
      "14/14 [==============================] - 0s 17ms/step - loss: 0.5134 - accuracy: 0.7464 - val_loss: 0.5694 - val_accuracy: 0.7314\n",
      "Epoch 19/50\n",
      "14/14 [==============================] - 0s 17ms/step - loss: 0.4921 - accuracy: 0.7751 - val_loss: 0.5216 - val_accuracy: 0.7200\n",
      "Epoch 20/50\n",
      "14/14 [==============================] - 0s 17ms/step - loss: 0.5318 - accuracy: 0.7292 - val_loss: 0.5555 - val_accuracy: 0.6971\n",
      "Epoch 21/50\n",
      "14/14 [==============================] - 0s 17ms/step - loss: 0.4764 - accuracy: 0.7636 - val_loss: 0.6325 - val_accuracy: 0.6971\n",
      "Epoch 22/50\n",
      "14/14 [==============================] - 0s 17ms/step - loss: 0.4686 - accuracy: 0.7436 - val_loss: 0.5188 - val_accuracy: 0.7429\n",
      "Epoch 23/50\n",
      "14/14 [==============================] - 0s 17ms/step - loss: 0.4557 - accuracy: 0.7779 - val_loss: 0.5243 - val_accuracy: 0.7486\n",
      "Epoch 24/50\n",
      "14/14 [==============================] - 0s 17ms/step - loss: 0.4483 - accuracy: 0.7751 - val_loss: 0.5964 - val_accuracy: 0.7086\n",
      "Epoch 25/50\n",
      "14/14 [==============================] - 0s 17ms/step - loss: 0.4447 - accuracy: 0.8009 - val_loss: 0.4979 - val_accuracy: 0.7543\n",
      "Epoch 26/50\n",
      "14/14 [==============================] - 0s 17ms/step - loss: 0.4112 - accuracy: 0.8095 - val_loss: 0.5443 - val_accuracy: 0.7486\n",
      "Epoch 27/50\n",
      "14/14 [==============================] - 0s 17ms/step - loss: 0.4144 - accuracy: 0.8138 - val_loss: 0.5830 - val_accuracy: 0.7429\n",
      "Epoch 28/50\n",
      "14/14 [==============================] - 0s 17ms/step - loss: 0.4114 - accuracy: 0.8052 - val_loss: 0.5885 - val_accuracy: 0.6629\n",
      "Epoch 29/50\n",
      "14/14 [==============================] - 0s 17ms/step - loss: 0.4224 - accuracy: 0.7966 - val_loss: 0.5559 - val_accuracy: 0.7486\n",
      "Epoch 30/50\n",
      "14/14 [==============================] - 0s 17ms/step - loss: 0.3903 - accuracy: 0.8295 - val_loss: 0.5122 - val_accuracy: 0.7600\n",
      "Epoch 31/50\n",
      "14/14 [==============================] - 0s 17ms/step - loss: 0.4051 - accuracy: 0.8181 - val_loss: 0.5695 - val_accuracy: 0.7543\n",
      "Epoch 32/50\n",
      "14/14 [==============================] - 0s 17ms/step - loss: 0.3236 - accuracy: 0.8897 - val_loss: 0.4870 - val_accuracy: 0.7829\n",
      "Epoch 33/50\n",
      "14/14 [==============================] - 0s 17ms/step - loss: 0.3166 - accuracy: 0.8754 - val_loss: 0.5022 - val_accuracy: 0.7543\n",
      "Epoch 34/50\n",
      "14/14 [==============================] - 0s 17ms/step - loss: 0.3624 - accuracy: 0.8567 - val_loss: 0.5879 - val_accuracy: 0.7771\n",
      "Epoch 35/50\n",
      "14/14 [==============================] - 0s 18ms/step - loss: 0.3488 - accuracy: 0.8553 - val_loss: 0.4752 - val_accuracy: 0.7714\n",
      "Epoch 36/50\n",
      "14/14 [==============================] - 0s 18ms/step - loss: 0.2795 - accuracy: 0.9140 - val_loss: 0.4913 - val_accuracy: 0.7886\n",
      "Epoch 37/50\n",
      "14/14 [==============================] - 0s 17ms/step - loss: 0.2623 - accuracy: 0.9011 - val_loss: 0.4972 - val_accuracy: 0.8000\n",
      "Epoch 38/50\n",
      "14/14 [==============================] - 0s 17ms/step - loss: 0.2574 - accuracy: 0.9054 - val_loss: 0.4646 - val_accuracy: 0.8057\n",
      "Epoch 39/50\n",
      "14/14 [==============================] - 0s 17ms/step - loss: 0.2313 - accuracy: 0.9269 - val_loss: 0.4759 - val_accuracy: 0.8171\n",
      "Epoch 40/50\n",
      "14/14 [==============================] - 0s 17ms/step - loss: 0.2129 - accuracy: 0.9413 - val_loss: 0.4742 - val_accuracy: 0.7829\n",
      "Epoch 41/50\n",
      "14/14 [==============================] - 0s 17ms/step - loss: 0.2007 - accuracy: 0.9355 - val_loss: 0.4590 - val_accuracy: 0.8343\n",
      "Epoch 42/50\n",
      "14/14 [==============================] - 0s 17ms/step - loss: 0.1893 - accuracy: 0.9384 - val_loss: 0.4792 - val_accuracy: 0.8000\n",
      "Epoch 43/50\n",
      "14/14 [==============================] - 0s 17ms/step - loss: 0.1702 - accuracy: 0.9484 - val_loss: 0.4842 - val_accuracy: 0.8171\n",
      "Epoch 44/50\n",
      "14/14 [==============================] - 0s 17ms/step - loss: 0.1905 - accuracy: 0.9413 - val_loss: 0.6998 - val_accuracy: 0.7600\n",
      "Epoch 45/50\n",
      "14/14 [==============================] - 0s 17ms/step - loss: 0.2143 - accuracy: 0.9169 - val_loss: 0.7009 - val_accuracy: 0.7600\n",
      "Epoch 46/50\n",
      "14/14 [==============================] - 0s 17ms/step - loss: 0.2050 - accuracy: 0.9112 - val_loss: 0.6008 - val_accuracy: 0.7829\n",
      "Epoch 47/50\n",
      "14/14 [==============================] - 0s 17ms/step - loss: 0.1656 - accuracy: 0.9470 - val_loss: 0.5350 - val_accuracy: 0.7943\n",
      "Epoch 48/50\n",
      "14/14 [==============================] - 0s 17ms/step - loss: 0.1359 - accuracy: 0.9613 - val_loss: 0.5006 - val_accuracy: 0.7714\n",
      "Epoch 49/50\n",
      "14/14 [==============================] - 0s 17ms/step - loss: 0.1153 - accuracy: 0.9742 - val_loss: 0.5267 - val_accuracy: 0.8286\n",
      "Epoch 50/50\n",
      "14/14 [==============================] - 0s 17ms/step - loss: 0.1372 - accuracy: 0.9513 - val_loss: 0.5490 - val_accuracy: 0.7543\n"
     ]
    },
    {
     "data": {
      "text/plain": [
       "<keras.callbacks.History at 0x22a5aa1fb50>"
      ]
     },
     "execution_count": 94,
     "metadata": {},
     "output_type": "execute_result"
    }
   ],
   "source": [
    "model3.compile(loss='binary_crossentropy', optimizer ='adam', metrics=['accuracy'] )\n",
    "model3.fit(X_train, Y_train, epochs = 50, validation_data=(X_val, Y_val), batch_size=50)"
   ]
  },
  {
   "cell_type": "code",
   "execution_count": 95,
   "id": "a839ae30",
   "metadata": {},
   "outputs": [
    {
     "data": {
      "image/png": "[encoded data removed]",
      "text/plain": [
       "<Figure size 432x288 with 1 Axes>"
      ]
     },
     "metadata": {
      "needs_background": "light"
     },
     "output_type": "display_data"
    }
   ],
   "source": [
    "plt.plot(model3.history.history['loss'])\n",
    "plt.plot(model3.history.history['val_loss'])\n",
    "plt.legend(['loss', 'val_loss'], loc='upper right')\n",
    "plt.xlabel('Epoch')\n",
    "plt.ylabel('Loss')\n",
    "plt.show()"
   ]
  },
  {
   "cell_type": "code",
   "execution_count": 96,
   "id": "b9b5ca63",
   "metadata": {},
   "outputs": [
    {
     "data": {
      "image/png": "[encoded data removed]",
      "text/plain": [
       "<Figure size 432x288 with 1 Axes>"
      ]
     },
     "metadata": {
      "needs_background": "light"
     },
     "output_type": "display_data"
    }
   ],
   "source": [
    "plt.plot(model3.history.history['accuracy'])\n",
    "plt.plot(model3.history.history['val_accuracy'])\n",
    "plt.legend(['accuracy', 'val_accuracy'], loc='upper left')\n",
    "plt.xlabel('Epoch')\n",
    "plt.ylabel('Accuracy')\n",
    "plt.show()"
   ]
  },
  {
   "cell_type": "code",
   "execution_count": 97,
   "id": "89a8b2b8",
   "metadata": {},
   "outputs": [
    {
     "name": "stdout",
     "output_type": "stream",
     "text": [
      "0.7519999742507935\n"
     ]
    }
   ],
   "source": [
    "aug_score3 = model3.evaluate(X_test, Y_test, verbose = 0)\n",
    "print(aug_score3[1])"
   ]
  },
  {
   "cell_type": "markdown",
   "id": "04ead13b",
   "metadata": {},
   "source": [
    "####  This is a slight improvement on model 2.\n",
    "#### Let's add a second Max Pooling layer and see if this further improves the results obtained"
   ]
  },
  {
   "cell_type": "code",
   "execution_count": null,
   "id": "0283555e",
   "metadata": {},
   "outputs": [],
   "source": []
  },
  {
   "cell_type": "code",
   "execution_count": 99,
   "id": "161453be",
   "metadata": {},
   "outputs": [],
   "source": [
    "model4 = Sequential()\n",
    "model4.add(Conv2D(filters = 16,  \n",
    "                 kernel_size = 5, \n",
    "                 strides = (2, 2), \n",
    "                 padding = 'same',\n",
    "                 activation = 'relu'))\n",
    "model4.add(MaxPool2D (pool_size = 2, \n",
    "                    strides = (2,2),\n",
    "                    padding = 'same'))\n",
    "model4.add(Conv2D(filters = 16,  \n",
    "                 kernel_size = 3, #note that the map here is smaller than above \n",
    "                 strides = (2, 2), \n",
    "                 padding = 'same',\n",
    "                 activation = 'relu'))\n",
    "model4.add(MaxPool2D (pool_size = 2, \n",
    "                    strides = (2,2),\n",
    "                    padding = 'same'))\n",
    "model4.add(Flatten())\n",
    "model4.add(Dense(250, activation = 'relu', input_shape = X_Shape))\n",
    "model4.add(Dropout(0.3))\n",
    "model4.add(Dense(1, activation = 'sigmoid'))"
   ]
  },
  {
   "cell_type": "code",
   "execution_count": 100,
   "id": "1e4d362f",
   "metadata": {},
   "outputs": [
    {
     "name": "stdout",
     "output_type": "stream",
     "text": [
      "Epoch 1/50\n",
      "14/14 [==============================] - 1s 29ms/step - loss: 0.6794 - accuracy: 0.5616 - val_loss: 0.6811 - val_accuracy: 0.5371\n",
      "Epoch 2/50\n",
      "14/14 [==============================] - 0s 17ms/step - loss: 0.6704 - accuracy: 0.5659 - val_loss: 0.6736 - val_accuracy: 0.5371\n",
      "Epoch 3/50\n",
      "14/14 [==============================] - 0s 16ms/step - loss: 0.6542 - accuracy: 0.5659 - val_loss: 0.6666 - val_accuracy: 0.5371\n",
      "Epoch 4/50\n",
      "14/14 [==============================] - 0s 16ms/step - loss: 0.6424 - accuracy: 0.5874 - val_loss: 0.7534 - val_accuracy: 0.5371\n",
      "Epoch 5/50\n",
      "14/14 [==============================] - 0s 16ms/step - loss: 0.6476 - accuracy: 0.6203 - val_loss: 0.6650 - val_accuracy: 0.5257\n",
      "Epoch 6/50\n",
      "14/14 [==============================] - 0s 16ms/step - loss: 0.6058 - accuracy: 0.6504 - val_loss: 0.6325 - val_accuracy: 0.5771\n",
      "Epoch 7/50\n",
      "14/14 [==============================] - 0s 16ms/step - loss: 0.5972 - accuracy: 0.7034 - val_loss: 0.6110 - val_accuracy: 0.6686\n",
      "Epoch 8/50\n",
      "14/14 [==============================] - 0s 16ms/step - loss: 0.5962 - accuracy: 0.6576 - val_loss: 0.6137 - val_accuracy: 0.6457\n",
      "Epoch 9/50\n",
      "14/14 [==============================] - 0s 16ms/step - loss: 0.5659 - accuracy: 0.7149 - val_loss: 0.6175 - val_accuracy: 0.6229\n",
      "Epoch 10/50\n",
      "14/14 [==============================] - 0s 16ms/step - loss: 0.5586 - accuracy: 0.7092 - val_loss: 0.5784 - val_accuracy: 0.6914\n",
      "Epoch 11/50\n",
      "14/14 [==============================] - 0s 16ms/step - loss: 0.5462 - accuracy: 0.7206 - val_loss: 0.5402 - val_accuracy: 0.7486\n",
      "Epoch 12/50\n",
      "14/14 [==============================] - 0s 16ms/step - loss: 0.5351 - accuracy: 0.7350 - val_loss: 0.5743 - val_accuracy: 0.7486\n",
      "Epoch 13/50\n",
      "14/14 [==============================] - 0s 16ms/step - loss: 0.5346 - accuracy: 0.7450 - val_loss: 0.5600 - val_accuracy: 0.6686\n",
      "Epoch 14/50\n",
      "14/14 [==============================] - 0s 16ms/step - loss: 0.5053 - accuracy: 0.7450 - val_loss: 0.5824 - val_accuracy: 0.7143\n",
      "Epoch 15/50\n",
      "14/14 [==============================] - 0s 16ms/step - loss: 0.5029 - accuracy: 0.7650 - val_loss: 0.4823 - val_accuracy: 0.7829\n",
      "Epoch 16/50\n",
      "14/14 [==============================] - 0s 16ms/step - loss: 0.5266 - accuracy: 0.7364 - val_loss: 0.5808 - val_accuracy: 0.6400\n",
      "Epoch 17/50\n",
      "14/14 [==============================] - 0s 16ms/step - loss: 0.5131 - accuracy: 0.7521 - val_loss: 0.5645 - val_accuracy: 0.6743\n",
      "Epoch 18/50\n",
      "14/14 [==============================] - 0s 16ms/step - loss: 0.4990 - accuracy: 0.7564 - val_loss: 0.4896 - val_accuracy: 0.7543\n",
      "Epoch 19/50\n",
      "14/14 [==============================] - 0s 16ms/step - loss: 0.4768 - accuracy: 0.7765 - val_loss: 0.4686 - val_accuracy: 0.8229\n",
      "Epoch 20/50\n",
      "14/14 [==============================] - 0s 16ms/step - loss: 0.4633 - accuracy: 0.7794 - val_loss: 0.4603 - val_accuracy: 0.8171\n",
      "Epoch 21/50\n",
      "14/14 [==============================] - 0s 15ms/step - loss: 0.4292 - accuracy: 0.8037 - val_loss: 0.4645 - val_accuracy: 0.7600\n",
      "Epoch 22/50\n",
      "14/14 [==============================] - 0s 16ms/step - loss: 0.4302 - accuracy: 0.8009 - val_loss: 0.4547 - val_accuracy: 0.7714\n",
      "Epoch 23/50\n",
      "14/14 [==============================] - 0s 16ms/step - loss: 0.4695 - accuracy: 0.7779 - val_loss: 0.5731 - val_accuracy: 0.6857\n",
      "Epoch 24/50\n",
      "14/14 [==============================] - 0s 16ms/step - loss: 0.4934 - accuracy: 0.7493 - val_loss: 0.4920 - val_accuracy: 0.7886\n",
      "Epoch 25/50\n",
      "14/14 [==============================] - 0s 16ms/step - loss: 0.4331 - accuracy: 0.8023 - val_loss: 0.4535 - val_accuracy: 0.7886\n",
      "Epoch 26/50\n",
      "14/14 [==============================] - 0s 16ms/step - loss: 0.4642 - accuracy: 0.7679 - val_loss: 0.4534 - val_accuracy: 0.7829\n",
      "Epoch 27/50\n",
      "14/14 [==============================] - 0s 16ms/step - loss: 0.4082 - accuracy: 0.8209 - val_loss: 0.4981 - val_accuracy: 0.7143\n",
      "Epoch 28/50\n",
      "14/14 [==============================] - 0s 16ms/step - loss: 0.4163 - accuracy: 0.8138 - val_loss: 0.4172 - val_accuracy: 0.8514\n",
      "Epoch 29/50\n",
      "14/14 [==============================] - 0s 16ms/step - loss: 0.3865 - accuracy: 0.8324 - val_loss: 0.4087 - val_accuracy: 0.8343\n",
      "Epoch 30/50\n",
      "14/14 [==============================] - 0s 16ms/step - loss: 0.3696 - accuracy: 0.8367 - val_loss: 0.4166 - val_accuracy: 0.8114\n",
      "Epoch 31/50\n",
      "14/14 [==============================] - 0s 16ms/step - loss: 0.3885 - accuracy: 0.8138 - val_loss: 0.4408 - val_accuracy: 0.7886\n",
      "Epoch 32/50\n",
      "14/14 [==============================] - 0s 16ms/step - loss: 0.3769 - accuracy: 0.8367 - val_loss: 0.4406 - val_accuracy: 0.7771\n",
      "Epoch 33/50\n",
      "14/14 [==============================] - 0s 14ms/step - loss: 0.3413 - accuracy: 0.8639 - val_loss: 0.4097 - val_accuracy: 0.8229\n",
      "Epoch 34/50\n",
      "14/14 [==============================] - 0s 16ms/step - loss: 0.3638 - accuracy: 0.8467 - val_loss: 0.4331 - val_accuracy: 0.7886\n",
      "Epoch 35/50\n",
      "14/14 [==============================] - 0s 16ms/step - loss: 0.3520 - accuracy: 0.8395 - val_loss: 0.4908 - val_accuracy: 0.7829\n",
      "Epoch 36/50\n",
      "14/14 [==============================] - 0s 16ms/step - loss: 0.3292 - accuracy: 0.8610 - val_loss: 0.3938 - val_accuracy: 0.8400\n",
      "Epoch 37/50\n",
      "14/14 [==============================] - 0s 14ms/step - loss: 0.2920 - accuracy: 0.8911 - val_loss: 0.4085 - val_accuracy: 0.8171\n",
      "Epoch 38/50\n",
      "14/14 [==============================] - 0s 16ms/step - loss: 0.4013 - accuracy: 0.8223 - val_loss: 0.5741 - val_accuracy: 0.7657\n",
      "Epoch 39/50\n",
      "14/14 [==============================] - 0s 16ms/step - loss: 0.3568 - accuracy: 0.8567 - val_loss: 0.3972 - val_accuracy: 0.8571\n",
      "Epoch 40/50\n",
      "14/14 [==============================] - 0s 16ms/step - loss: 0.2988 - accuracy: 0.8782 - val_loss: 0.3986 - val_accuracy: 0.8400\n",
      "Epoch 41/50\n",
      "14/14 [==============================] - 0s 16ms/step - loss: 0.2862 - accuracy: 0.8782 - val_loss: 0.4393 - val_accuracy: 0.7886\n",
      "Epoch 42/50\n",
      "14/14 [==============================] - 0s 16ms/step - loss: 0.2865 - accuracy: 0.8725 - val_loss: 0.4016 - val_accuracy: 0.8286\n",
      "Epoch 43/50\n",
      "14/14 [==============================] - 0s 15ms/step - loss: 0.2673 - accuracy: 0.9040 - val_loss: 0.3828 - val_accuracy: 0.8286\n",
      "Epoch 44/50\n",
      "14/14 [==============================] - 0s 16ms/step - loss: 0.3332 - accuracy: 0.8524 - val_loss: 0.4394 - val_accuracy: 0.7829\n",
      "Epoch 45/50\n",
      "14/14 [==============================] - 0s 16ms/step - loss: 0.2630 - accuracy: 0.9083 - val_loss: 0.3786 - val_accuracy: 0.8571\n",
      "Epoch 46/50\n",
      "14/14 [==============================] - 0s 16ms/step - loss: 0.2453 - accuracy: 0.8968 - val_loss: 0.3674 - val_accuracy: 0.8343\n",
      "Epoch 47/50\n",
      "14/14 [==============================] - 0s 15ms/step - loss: 0.2578 - accuracy: 0.8840 - val_loss: 0.4091 - val_accuracy: 0.8000\n",
      "Epoch 48/50\n",
      "14/14 [==============================] - 0s 15ms/step - loss: 0.2491 - accuracy: 0.9069 - val_loss: 0.3892 - val_accuracy: 0.8286\n",
      "Epoch 49/50\n",
      "14/14 [==============================] - 0s 16ms/step - loss: 0.2428 - accuracy: 0.9112 - val_loss: 0.4325 - val_accuracy: 0.8171\n",
      "Epoch 50/50\n",
      "14/14 [==============================] - 0s 16ms/step - loss: 0.2832 - accuracy: 0.8754 - val_loss: 0.3830 - val_accuracy: 0.8343\n"
     ]
    },
    {
     "data": {
      "text/plain": [
       "<keras.callbacks.History at 0x22a67d30b80>"
      ]
     },
     "execution_count": 100,
     "metadata": {},
     "output_type": "execute_result"
    }
   ],
   "source": [
    "model4.compile(loss='binary_crossentropy', optimizer ='adam', metrics=['accuracy'] )\n",
    "model4.fit(X_train, Y_train, epochs = 50, validation_data=(X_val, Y_val), batch_size=50)"
   ]
  },
  {
   "cell_type": "code",
   "execution_count": 101,
   "id": "06fe302c",
   "metadata": {},
   "outputs": [
    {
     "data": {
      "image/png": "[encoded data removed]",
      "text/plain": [
       "<Figure size 432x288 with 1 Axes>"
      ]
     },
     "metadata": {
      "needs_background": "light"
     },
     "output_type": "display_data"
    }
   ],
   "source": [
    "plt.plot(model4.history.history['loss'])\n",
    "plt.plot(model4.history.history['val_loss'])\n",
    "plt.legend(['loss', 'val_loss'], loc='upper right')\n",
    "plt.xlabel('Epoch')\n",
    "plt.ylabel('Loss')\n",
    "plt.show()"
   ]
  },
  {
   "cell_type": "code",
   "execution_count": 102,
   "id": "3dae6f5a",
   "metadata": {},
   "outputs": [
    {
     "data": {
      "image/png": "[encoded data removed]",
      "text/plain": [
       "<Figure size 432x288 with 1 Axes>"
      ]
     },
     "metadata": {
      "needs_background": "light"
     },
     "output_type": "display_data"
    }
   ],
   "source": [
    "plt.plot(model4.history.history['accuracy'])\n",
    "plt.plot(model4.history.history['val_accuracy'])\n",
    "plt.legend(['accuracy', 'val_accuracy'], loc='upper left')\n",
    "plt.xlabel('Epoch')\n",
    "plt.ylabel('Accuracy')\n",
    "plt.show()"
   ]
  },
  {
   "cell_type": "code",
   "execution_count": 103,
   "id": "825d0ef6",
   "metadata": {},
   "outputs": [
    {
     "name": "stdout",
     "output_type": "stream",
     "text": [
      "0.7760000228881836\n"
     ]
    }
   ],
   "source": [
    "aug_score4 = model4.evaluate(X_test, Y_test, verbose = 0)\n",
    "print(aug_score4[1])"
   ]
  },
  {
   "cell_type": "code",
   "execution_count": null,
   "id": "15cf5973",
   "metadata": {},
   "outputs": [],
   "source": []
  },
  {
   "cell_type": "markdown",
   "id": "1ff2d7e2",
   "metadata": {},
   "source": [
    "#### We have a decent architecture above, but let's see if we can imporve on it by tuning the hyperparameters by using cross validation"
   ]
  },
  {
   "cell_type": "markdown",
   "id": "f514ad1c",
   "metadata": {},
   "source": [
    "#### Note that because we re passing a keras model to an sklearn function, there are a few extra steps, otherwise the model will not implement a 'get_params' function and will thus be incompatible with GridSearchCV. As a result we use a keras wrapper.\n",
    "\n"
   ]
  },
  {
   "cell_type": "code",
   "execution_count": 106,
   "id": "3da711c9",
   "metadata": {},
   "outputs": [],
   "source": [
    "parameters = {\n",
    "    'conv1_filters': [8, 16],\n",
    "    'conv1_kernel_size': [3, 5],\n",
    "    'conv2_filters': [8, 16],\n",
    "    'conv2_kernel_size': [3, 5],\n",
    "    'batch_size' : [None, 25, 50]\n",
    "}"
   ]
  },
  {
   "cell_type": "code",
   "execution_count": 107,
   "id": "ace35415",
   "metadata": {},
   "outputs": [],
   "source": [
    "def create_model(conv1_filters, conv1_kernel_size, conv2_filters, conv2_kernel_size):\n",
    "\n",
    " model6 = Sequential()\n",
    " model6.add(Conv2D(filters= conv1_filters,  \n",
    "                 kernel_size= conv1_kernel_size, \n",
    "                 strides=(2, 2), \n",
    "                 padding='same',\n",
    "                 activation='relu',\n",
    "                 name='conv1'))\n",
    " model6.add(MaxPool2D(pool_size=2, \n",
    "                    strides=(2, 2),\n",
    "                    padding= 'same',\n",
    "                    name='maxpool1'))\n",
    " model6.add(Conv2D(filters=conv2_filters,  \n",
    "                 kernel_size=conv2_kernel_size, \n",
    "                 strides=(2, 2), \n",
    "                 padding= 'same',\n",
    "                 activation='relu',\n",
    "                 name='conv2'))\n",
    " model6.add(MaxPool2D(pool_size=2, \n",
    "                    strides=(2, 2),\n",
    "                    padding='same',\n",
    "                    name='maxpool2'))\n",
    " model6.add(Flatten())\n",
    " model6.add(Dense(250, activation='relu', name='dense1'))\n",
    " model6.add(Dropout(0.3))\n",
    " model6.add(Dense(1, activation='sigmoid', name='dense2'))\n",
    " model6.compile(loss='binary_crossentropy', optimizer ='adam', metrics=['accuracy'] )\n",
    " return model6"
   ]
  },
  {
   "cell_type": "code",
   "execution_count": 108,
   "id": "7736dd3e",
   "metadata": {},
   "outputs": [
    {
     "name": "stderr",
     "output_type": "stream",
     "text": [
      "C:\\Users\\Laurence\\AppData\\Local\\Temp\\ipykernel_928\\4290163951.py:1: DeprecationWarning: KerasClassifier is deprecated, use Sci-Keras (https://github.com/adriangb/scikeras) instead. See https://www.adriangb.com/scikeras/stable/migration.html for help migrating.\n",
      "  model_cv = KerasClassifier(build_fn=create_model)\n"
     ]
    }
   ],
   "source": [
    "model_cv = KerasClassifier(build_fn=create_model)"
   ]
  },
  {
   "cell_type": "code",
   "execution_count": null,
   "id": "83649474",
   "metadata": {},
   "outputs": [],
   "source": []
  },
  {
   "cell_type": "code",
   "execution_count": 109,
   "id": "f746366d",
   "metadata": {},
   "outputs": [],
   "source": [
    "Grid = GridSearchCV(estimator= model_cv, param_grid = parameters, n_jobs=-1, scoring ='accuracy')"
   ]
  },
  {
   "cell_type": "code",
   "execution_count": 110,
   "id": "66127b2b",
   "metadata": {},
   "outputs": [
    {
     "name": "stdout",
     "output_type": "stream",
     "text": [
      "Epoch 1/50\n",
      "14/14 [==============================] - 2s 56ms/step - loss: 0.6830 - accuracy: 0.5544 - val_loss: 0.6810 - val_accuracy: 0.5371\n",
      "Epoch 2/50\n",
      "14/14 [==============================] - 0s 16ms/step - loss: 0.6696 - accuracy: 0.5602 - val_loss: 0.6718 - val_accuracy: 0.5314\n",
      "Epoch 3/50\n",
      "14/14 [==============================] - 0s 17ms/step - loss: 0.6550 - accuracy: 0.5788 - val_loss: 0.6577 - val_accuracy: 0.6229\n",
      "Epoch 4/50\n",
      "14/14 [==============================] - 0s 16ms/step - loss: 0.6324 - accuracy: 0.6232 - val_loss: 0.6573 - val_accuracy: 0.5943\n",
      "Epoch 5/50\n",
      "14/14 [==============================] - 0s 15ms/step - loss: 0.6153 - accuracy: 0.6504 - val_loss: 0.6303 - val_accuracy: 0.6629\n",
      "Epoch 6/50\n",
      "14/14 [==============================] - 0s 16ms/step - loss: 0.5844 - accuracy: 0.7149 - val_loss: 0.5949 - val_accuracy: 0.7029\n",
      "Epoch 7/50\n",
      "14/14 [==============================] - 0s 13ms/step - loss: 0.5513 - accuracy: 0.7536 - val_loss: 0.5602 - val_accuracy: 0.6800\n",
      "Epoch 8/50\n",
      "14/14 [==============================] - 0s 12ms/step - loss: 0.5212 - accuracy: 0.7607 - val_loss: 0.5096 - val_accuracy: 0.7886\n",
      "Epoch 9/50\n",
      "14/14 [==============================] - 0s 12ms/step - loss: 0.5170 - accuracy: 0.7507 - val_loss: 0.6729 - val_accuracy: 0.6971\n",
      "Epoch 10/50\n",
      "14/14 [==============================] - 0s 13ms/step - loss: 0.5483 - accuracy: 0.7307 - val_loss: 0.5767 - val_accuracy: 0.6514\n",
      "Epoch 11/50\n",
      "14/14 [==============================] - 0s 12ms/step - loss: 0.5139 - accuracy: 0.7607 - val_loss: 0.4864 - val_accuracy: 0.8229\n",
      "Epoch 12/50\n",
      "14/14 [==============================] - 0s 12ms/step - loss: 0.4510 - accuracy: 0.8123 - val_loss: 0.5714 - val_accuracy: 0.7429\n",
      "Epoch 13/50\n",
      "14/14 [==============================] - 0s 12ms/step - loss: 0.4450 - accuracy: 0.7908 - val_loss: 0.4503 - val_accuracy: 0.8171\n",
      "Epoch 14/50\n",
      "14/14 [==============================] - 0s 13ms/step - loss: 0.4012 - accuracy: 0.8438 - val_loss: 0.4360 - val_accuracy: 0.7829\n",
      "Epoch 15/50\n",
      "14/14 [==============================] - 0s 13ms/step - loss: 0.4059 - accuracy: 0.8195 - val_loss: 0.5252 - val_accuracy: 0.7543\n",
      "Epoch 16/50\n",
      "14/14 [==============================] - 0s 13ms/step - loss: 0.4403 - accuracy: 0.7865 - val_loss: 0.4580 - val_accuracy: 0.8171\n",
      "Epoch 17/50\n",
      "14/14 [==============================] - 0s 13ms/step - loss: 0.3987 - accuracy: 0.8295 - val_loss: 0.4297 - val_accuracy: 0.7486\n",
      "Epoch 18/50\n",
      "14/14 [==============================] - 0s 12ms/step - loss: 0.3760 - accuracy: 0.8367 - val_loss: 0.4161 - val_accuracy: 0.8286\n",
      "Epoch 19/50\n",
      "14/14 [==============================] - 0s 13ms/step - loss: 0.3374 - accuracy: 0.8696 - val_loss: 0.3895 - val_accuracy: 0.8286\n",
      "Epoch 20/50\n",
      "14/14 [==============================] - 0s 12ms/step - loss: 0.3343 - accuracy: 0.8668 - val_loss: 0.3853 - val_accuracy: 0.8400\n",
      "Epoch 21/50\n",
      "14/14 [==============================] - 0s 12ms/step - loss: 0.3348 - accuracy: 0.8625 - val_loss: 0.4373 - val_accuracy: 0.8286\n",
      "Epoch 22/50\n",
      "14/14 [==============================] - 0s 12ms/step - loss: 0.3233 - accuracy: 0.8524 - val_loss: 0.4087 - val_accuracy: 0.8171\n",
      "Epoch 23/50\n",
      "14/14 [==============================] - 0s 12ms/step - loss: 0.3141 - accuracy: 0.8668 - val_loss: 0.4077 - val_accuracy: 0.8171\n",
      "Epoch 24/50\n",
      "14/14 [==============================] - 0s 12ms/step - loss: 0.3120 - accuracy: 0.8582 - val_loss: 0.3862 - val_accuracy: 0.8514\n",
      "Epoch 25/50\n",
      "14/14 [==============================] - 0s 12ms/step - loss: 0.2988 - accuracy: 0.8711 - val_loss: 0.4279 - val_accuracy: 0.8343\n",
      "Epoch 26/50\n",
      "14/14 [==============================] - 0s 12ms/step - loss: 0.3028 - accuracy: 0.8768 - val_loss: 0.3988 - val_accuracy: 0.8286\n",
      "Epoch 27/50\n",
      "14/14 [==============================] - 0s 13ms/step - loss: 0.3092 - accuracy: 0.8668 - val_loss: 0.4456 - val_accuracy: 0.8229\n",
      "Epoch 28/50\n",
      "14/14 [==============================] - 0s 12ms/step - loss: 0.3342 - accuracy: 0.8510 - val_loss: 0.4599 - val_accuracy: 0.8057\n",
      "Epoch 29/50\n",
      "14/14 [==============================] - 0s 13ms/step - loss: 0.2945 - accuracy: 0.8768 - val_loss: 0.4305 - val_accuracy: 0.8286\n",
      "Epoch 30/50\n",
      "14/14 [==============================] - 0s 13ms/step - loss: 0.2860 - accuracy: 0.8768 - val_loss: 0.4227 - val_accuracy: 0.8229\n",
      "Epoch 31/50\n",
      "14/14 [==============================] - 0s 13ms/step - loss: 0.2728 - accuracy: 0.8782 - val_loss: 0.3847 - val_accuracy: 0.8400\n",
      "Epoch 32/50\n",
      "14/14 [==============================] - 0s 13ms/step - loss: 0.2655 - accuracy: 0.8854 - val_loss: 0.3941 - val_accuracy: 0.8057\n",
      "Epoch 33/50\n",
      "14/14 [==============================] - 0s 13ms/step - loss: 0.2635 - accuracy: 0.9011 - val_loss: 0.3824 - val_accuracy: 0.8686\n",
      "Epoch 34/50\n",
      "14/14 [==============================] - 0s 12ms/step - loss: 0.2423 - accuracy: 0.9083 - val_loss: 0.3908 - val_accuracy: 0.8286\n",
      "Epoch 35/50\n",
      "14/14 [==============================] - 0s 13ms/step - loss: 0.2531 - accuracy: 0.9011 - val_loss: 0.4366 - val_accuracy: 0.8229\n",
      "Epoch 36/50\n",
      "14/14 [==============================] - 0s 13ms/step - loss: 0.2807 - accuracy: 0.8854 - val_loss: 0.3830 - val_accuracy: 0.8457\n",
      "Epoch 37/50\n",
      "14/14 [==============================] - 0s 13ms/step - loss: 0.2474 - accuracy: 0.9112 - val_loss: 0.4602 - val_accuracy: 0.8343\n",
      "Epoch 38/50\n",
      "14/14 [==============================] - 0s 13ms/step - loss: 0.2640 - accuracy: 0.8940 - val_loss: 0.4620 - val_accuracy: 0.8286\n",
      "Epoch 39/50\n",
      "14/14 [==============================] - 0s 13ms/step - loss: 0.2704 - accuracy: 0.8854 - val_loss: 0.5173 - val_accuracy: 0.8171\n",
      "Epoch 40/50\n",
      "14/14 [==============================] - 0s 13ms/step - loss: 0.2360 - accuracy: 0.9097 - val_loss: 0.4212 - val_accuracy: 0.8343\n",
      "Epoch 41/50\n",
      "14/14 [==============================] - 0s 13ms/step - loss: 0.2242 - accuracy: 0.9054 - val_loss: 0.4163 - val_accuracy: 0.8400\n",
      "Epoch 42/50\n",
      "14/14 [==============================] - 0s 13ms/step - loss: 0.2165 - accuracy: 0.9183 - val_loss: 0.4888 - val_accuracy: 0.8457\n",
      "Epoch 43/50\n",
      "14/14 [==============================] - 0s 13ms/step - loss: 0.2450 - accuracy: 0.9011 - val_loss: 0.4325 - val_accuracy: 0.8343\n",
      "Epoch 44/50\n",
      "14/14 [==============================] - 0s 11ms/step - loss: 0.2180 - accuracy: 0.9169 - val_loss: 0.4354 - val_accuracy: 0.8343\n",
      "Epoch 45/50\n",
      "14/14 [==============================] - 0s 14ms/step - loss: 0.2171 - accuracy: 0.9183 - val_loss: 0.4956 - val_accuracy: 0.7486\n",
      "Epoch 46/50\n",
      "14/14 [==============================] - 0s 13ms/step - loss: 0.2189 - accuracy: 0.9155 - val_loss: 0.4075 - val_accuracy: 0.8057\n",
      "Epoch 47/50\n",
      "14/14 [==============================] - 0s 13ms/step - loss: 0.2486 - accuracy: 0.9011 - val_loss: 0.4640 - val_accuracy: 0.8343\n",
      "Epoch 48/50\n",
      "14/14 [==============================] - 0s 13ms/step - loss: 0.2248 - accuracy: 0.9040 - val_loss: 0.4330 - val_accuracy: 0.8457\n",
      "Epoch 49/50\n",
      "14/14 [==============================] - 0s 12ms/step - loss: 0.1808 - accuracy: 0.9456 - val_loss: 0.4129 - val_accuracy: 0.8400\n",
      "Epoch 50/50\n",
      "14/14 [==============================] - 0s 13ms/step - loss: 0.1865 - accuracy: 0.9341 - val_loss: 0.4280 - val_accuracy: 0.8114\n"
     ]
    },
    {
     "data": {
      "text/plain": [
       "GridSearchCV(estimator=<keras.wrappers.scikit_learn.KerasClassifier object at 0x0000022A69128AC0>,\n",
       "             n_jobs=-1,\n",
       "             param_grid={'batch_size': [None, 25, 50], 'conv1_filters': [8, 16],\n",
       "                         'conv1_kernel_size': [3, 5], 'conv2_filters': [8, 16],\n",
       "                         'conv2_kernel_size': [3, 5]},\n",
       "             scoring='accuracy')"
      ]
     },
     "execution_count": 110,
     "metadata": {},
     "output_type": "execute_result"
    }
   ],
   "source": [
    "Grid.fit(X_train, Y_train, epochs = 50, validation_data=(X_val, Y_val))"
   ]
  },
  {
   "cell_type": "code",
   "execution_count": 111,
   "id": "37921f07",
   "metadata": {},
   "outputs": [],
   "source": []
  },
  {
   "cell_type": "code",
   "execution_count": 112,
   "id": "775c5f38",
   "metadata": {},
   "outputs": [
    {
     "data": {
      "text/plain": [
       "{'batch_size': 50,\n",
       " 'conv1_filters': 16,\n",
       " 'conv1_kernel_size': 3,\n",
       " 'conv2_filters': 16,\n",
       " 'conv2_kernel_size': 3}"
      ]
     },
     "execution_count": 112,
     "metadata": {},
     "output_type": "execute_result"
    }
   ],
   "source": [
    "Grid.best_params_"
   ]
  },
  {
   "cell_type": "code",
   "execution_count": 132,
   "id": "eeb70fa9",
   "metadata": {},
   "outputs": [
    {
     "name": "stdout",
     "output_type": "stream",
     "text": [
      "12/12 [==============================] - 0s 5ms/step\n"
     ]
    }
   ],
   "source": [
    "Grid_preds = Grid.predict(X_test)\n",
    "Grid_preds[Grid_preds<0.5]=0\n",
    "Grid_preds[Grid_preds>=0.5]= 1"
   ]
  },
  {
   "cell_type": "code",
   "execution_count": 133,
   "id": "6019ac83",
   "metadata": {},
   "outputs": [],
   "source": [
    "Grid_accuracy = accuracy_score(Y_test, Grid_preds)"
   ]
  },
  {
   "cell_type": "code",
   "execution_count": 134,
   "id": "2405cb74",
   "metadata": {},
   "outputs": [
    {
     "data": {
      "text/plain": [
       "0.7946666666666666"
      ]
     },
     "execution_count": 134,
     "metadata": {},
     "output_type": "execute_result"
    }
   ],
   "source": [
    "Grid_accuracy"
   ]
  },
  {
   "cell_type": "code",
   "execution_count": 113,
   "id": "a19b5e28",
   "metadata": {},
   "outputs": [],
   "source": [
    "accuracy = Grid.cv_results_['mean_test_score']"
   ]
  },
  {
   "cell_type": "code",
   "execution_count": 114,
   "id": "ca5efd96",
   "metadata": {},
   "outputs": [
    {
     "data": {
      "image/png": "[encoded data removed]",
      "text/plain": [
       "<Figure size 432x288 with 1 Axes>"
      ]
     },
     "metadata": {
      "needs_background": "light"
     },
     "output_type": "display_data"
    }
   ],
   "source": [
    "# Plotting the accuracy and loss\n",
    "plt.plot(accuracy)\n",
    "#plt.plot(loss)\n",
    "#plt.legend(['accuracy', 'loss'], loc='upper right')\n",
    "plt.xlabel('Hyperparameter Combination')\n",
    "plt.ylabel('Accuracy')\n",
    "plt.show()"
   ]
  },
  {
   "cell_type": "markdown",
   "id": "d1c5a92c",
   "metadata": {},
   "source": [
    "#### The code above doesn't return a history of the accuracy scores across epochs in the way that a normal keras model does."
   ]
  },
  {
   "cell_type": "markdown",
   "id": "f3e30659",
   "metadata": {},
   "source": [
    "#### Below I run the model again with the best params returned, so that I can incorporate the best batch_size, plot the accuracy and loss history and use regularisation to ensure the tuned model is not overfitting to the training data"
   ]
  },
  {
   "cell_type": "code",
   "execution_count": null,
   "id": "27ad29a2",
   "metadata": {},
   "outputs": [],
   "source": []
  },
  {
   "cell_type": "code",
   "execution_count": 116,
   "id": "1709b6e9",
   "metadata": {},
   "outputs": [],
   "source": [
    "model5 = Sequential()\n",
    "model5.add(Conv2D(filters=Grid.best_params_['conv1_filters'],  \n",
    "                 kernel_size= Grid.best_params_['conv1_kernel_size'], \n",
    "                 strides=(2, 2), \n",
    "                 padding='same',\n",
    "                 activation='relu',\n",
    "                 name='conv1'))\n",
    "model5.add(MaxPool2D(pool_size=2, \n",
    "                    strides=(2, 2),\n",
    "                    padding= 'same',\n",
    "                    name='maxpool1'))\n",
    "model5.add(Conv2D(filters= Grid.best_params_['conv2_filters'],  \n",
    "                 kernel_size= Grid.best_params_['conv2_kernel_size'], \n",
    "                 strides=(2, 2), \n",
    "                 padding= 'same',\n",
    "                 activation='relu',\n",
    "                 name='conv2'))\n",
    "model5.add(MaxPool2D(pool_size=2, \n",
    "                    strides=(2, 2),\n",
    "                    padding= 'same',\n",
    "                    name='maxpool2'))\n",
    "model5.add(Flatten())\n",
    "model5.add(Dense(250, activation='relu', name='dense1', kernel_regularizer=l1(0.0015)))\n",
    "model5.add(Dropout(0.3))\n",
    "model5.add(Dense(1, activation='sigmoid', name='dense2'))"
   ]
  },
  {
   "cell_type": "code",
   "execution_count": 117,
   "id": "d21c8219",
   "metadata": {},
   "outputs": [
    {
     "name": "stdout",
     "output_type": "stream",
     "text": [
      "Epoch 1/50\n",
      "14/14 [==============================] - 1s 29ms/step - loss: 5.3240 - accuracy: 0.5444 - val_loss: 4.7009 - val_accuracy: 0.5371\n",
      "Epoch 2/50\n",
      "14/14 [==============================] - 0s 13ms/step - loss: 4.2001 - accuracy: 0.5630 - val_loss: 3.6711 - val_accuracy: 0.5371\n",
      "Epoch 3/50\n",
      "14/14 [==============================] - 0s 13ms/step - loss: 3.2411 - accuracy: 0.5645 - val_loss: 2.7915 - val_accuracy: 0.5371\n",
      "Epoch 4/50\n",
      "14/14 [==============================] - 0s 12ms/step - loss: 2.4327 - accuracy: 0.5602 - val_loss: 2.0785 - val_accuracy: 0.5371\n",
      "Epoch 5/50\n",
      "14/14 [==============================] - 0s 13ms/step - loss: 1.7883 - accuracy: 0.5587 - val_loss: 1.5119 - val_accuracy: 0.5143\n",
      "Epoch 6/50\n",
      "14/14 [==============================] - 0s 14ms/step - loss: 1.3024 - accuracy: 0.5831 - val_loss: 1.1142 - val_accuracy: 0.4857\n",
      "Epoch 7/50\n",
      "14/14 [==============================] - 0s 13ms/step - loss: 0.9714 - accuracy: 0.5745 - val_loss: 0.8661 - val_accuracy: 0.6686\n",
      "Epoch 8/50\n",
      "14/14 [==============================] - 0s 12ms/step - loss: 0.7988 - accuracy: 0.6433 - val_loss: 0.7793 - val_accuracy: 0.6743\n",
      "Epoch 9/50\n",
      "14/14 [==============================] - 0s 13ms/step - loss: 0.7327 - accuracy: 0.6805 - val_loss: 0.7789 - val_accuracy: 0.4800\n",
      "Epoch 10/50\n",
      "14/14 [==============================] - 0s 13ms/step - loss: 0.7234 - accuracy: 0.6418 - val_loss: 0.7420 - val_accuracy: 0.5600\n",
      "Epoch 11/50\n",
      "14/14 [==============================] - 0s 13ms/step - loss: 0.6935 - accuracy: 0.6791 - val_loss: 0.6963 - val_accuracy: 0.6857\n",
      "Epoch 12/50\n",
      "14/14 [==============================] - 0s 12ms/step - loss: 0.6763 - accuracy: 0.6977 - val_loss: 0.6949 - val_accuracy: 0.6857\n",
      "Epoch 13/50\n",
      "14/14 [==============================] - 0s 13ms/step - loss: 0.6598 - accuracy: 0.7106 - val_loss: 0.6806 - val_accuracy: 0.6629\n",
      "Epoch 14/50\n",
      "14/14 [==============================] - 0s 14ms/step - loss: 0.6538 - accuracy: 0.6963 - val_loss: 0.6781 - val_accuracy: 0.6514\n",
      "Epoch 15/50\n",
      "14/14 [==============================] - 0s 13ms/step - loss: 0.6523 - accuracy: 0.7034 - val_loss: 0.6713 - val_accuracy: 0.6914\n",
      "Epoch 16/50\n",
      "14/14 [==============================] - 0s 13ms/step - loss: 0.6566 - accuracy: 0.6920 - val_loss: 0.6707 - val_accuracy: 0.6514\n",
      "Epoch 17/50\n",
      "14/14 [==============================] - 0s 12ms/step - loss: 0.6435 - accuracy: 0.6977 - val_loss: 0.6638 - val_accuracy: 0.7086\n",
      "Epoch 18/50\n",
      "14/14 [==============================] - 0s 12ms/step - loss: 0.6366 - accuracy: 0.7077 - val_loss: 0.6644 - val_accuracy: 0.6571\n",
      "Epoch 19/50\n",
      "14/14 [==============================] - 0s 12ms/step - loss: 0.6320 - accuracy: 0.7106 - val_loss: 0.6560 - val_accuracy: 0.6971\n",
      "Epoch 20/50\n",
      "14/14 [==============================] - 0s 13ms/step - loss: 0.6361 - accuracy: 0.7034 - val_loss: 0.6597 - val_accuracy: 0.6743\n",
      "Epoch 21/50\n",
      "14/14 [==============================] - 0s 17ms/step - loss: 0.6290 - accuracy: 0.7163 - val_loss: 0.6533 - val_accuracy: 0.6743\n",
      "Epoch 22/50\n",
      "14/14 [==============================] - 0s 15ms/step - loss: 0.6304 - accuracy: 0.7221 - val_loss: 0.6550 - val_accuracy: 0.7086\n",
      "Epoch 23/50\n",
      "14/14 [==============================] - 0s 17ms/step - loss: 0.6215 - accuracy: 0.7249 - val_loss: 0.6508 - val_accuracy: 0.7086\n",
      "Epoch 24/50\n",
      "14/14 [==============================] - 0s 16ms/step - loss: 0.6200 - accuracy: 0.7221 - val_loss: 0.6466 - val_accuracy: 0.7200\n",
      "Epoch 25/50\n",
      "14/14 [==============================] - 0s 15ms/step - loss: 0.6219 - accuracy: 0.7292 - val_loss: 0.6493 - val_accuracy: 0.6743\n",
      "Epoch 26/50\n",
      "14/14 [==============================] - 0s 15ms/step - loss: 0.6206 - accuracy: 0.7163 - val_loss: 0.6460 - val_accuracy: 0.7143\n",
      "Epoch 27/50\n",
      "14/14 [==============================] - 0s 15ms/step - loss: 0.6241 - accuracy: 0.7249 - val_loss: 0.6481 - val_accuracy: 0.7143\n",
      "Epoch 28/50\n",
      "14/14 [==============================] - 0s 15ms/step - loss: 0.6155 - accuracy: 0.7221 - val_loss: 0.6365 - val_accuracy: 0.7257\n",
      "Epoch 29/50\n",
      "14/14 [==============================] - 0s 14ms/step - loss: 0.6098 - accuracy: 0.7350 - val_loss: 0.6264 - val_accuracy: 0.7257\n",
      "Epoch 30/50\n",
      "14/14 [==============================] - 0s 16ms/step - loss: 0.6076 - accuracy: 0.7335 - val_loss: 0.6176 - val_accuracy: 0.7314\n",
      "Epoch 31/50\n",
      "14/14 [==============================] - 0s 15ms/step - loss: 0.6004 - accuracy: 0.7292 - val_loss: 0.6583 - val_accuracy: 0.6114\n",
      "Epoch 32/50\n",
      "14/14 [==============================] - 0s 16ms/step - loss: 0.6032 - accuracy: 0.7292 - val_loss: 0.6264 - val_accuracy: 0.7200\n",
      "Epoch 33/50\n",
      "14/14 [==============================] - 0s 15ms/step - loss: 0.5977 - accuracy: 0.7364 - val_loss: 0.5936 - val_accuracy: 0.7371\n",
      "Epoch 34/50\n",
      "14/14 [==============================] - 0s 15ms/step - loss: 0.5755 - accuracy: 0.7479 - val_loss: 0.5875 - val_accuracy: 0.7486\n",
      "Epoch 35/50\n",
      "14/14 [==============================] - 0s 15ms/step - loss: 0.5711 - accuracy: 0.7436 - val_loss: 0.6213 - val_accuracy: 0.7371\n",
      "Epoch 36/50\n",
      "14/14 [==============================] - 0s 15ms/step - loss: 0.6032 - accuracy: 0.7178 - val_loss: 0.6112 - val_accuracy: 0.7314\n",
      "Epoch 37/50\n",
      "14/14 [==============================] - 0s 14ms/step - loss: 0.5813 - accuracy: 0.7407 - val_loss: 0.5904 - val_accuracy: 0.7486\n",
      "Epoch 38/50\n",
      "14/14 [==============================] - 0s 16ms/step - loss: 0.5708 - accuracy: 0.7450 - val_loss: 0.5881 - val_accuracy: 0.7314\n",
      "Epoch 39/50\n",
      "14/14 [==============================] - 0s 14ms/step - loss: 0.5726 - accuracy: 0.7421 - val_loss: 0.5754 - val_accuracy: 0.7543\n",
      "Epoch 40/50\n",
      "14/14 [==============================] - 0s 14ms/step - loss: 0.5547 - accuracy: 0.7593 - val_loss: 0.5556 - val_accuracy: 0.7943\n",
      "Epoch 41/50\n",
      "14/14 [==============================] - 0s 16ms/step - loss: 0.5448 - accuracy: 0.7765 - val_loss: 0.5499 - val_accuracy: 0.7943\n",
      "Epoch 42/50\n",
      "14/14 [==============================] - 0s 16ms/step - loss: 0.5251 - accuracy: 0.8123 - val_loss: 0.5590 - val_accuracy: 0.7943\n",
      "Epoch 43/50\n",
      "14/14 [==============================] - 0s 15ms/step - loss: 0.5405 - accuracy: 0.8009 - val_loss: 0.6133 - val_accuracy: 0.6857\n",
      "Epoch 44/50\n",
      "14/14 [==============================] - 0s 15ms/step - loss: 0.5407 - accuracy: 0.7880 - val_loss: 0.5353 - val_accuracy: 0.7886\n",
      "Epoch 45/50\n",
      "14/14 [==============================] - 0s 15ms/step - loss: 0.5055 - accuracy: 0.8367 - val_loss: 0.5216 - val_accuracy: 0.7886\n",
      "Epoch 46/50\n",
      "14/14 [==============================] - 0s 15ms/step - loss: 0.5055 - accuracy: 0.8381 - val_loss: 0.5105 - val_accuracy: 0.8171\n",
      "Epoch 47/50\n",
      "14/14 [==============================] - 0s 15ms/step - loss: 0.5015 - accuracy: 0.8252 - val_loss: 0.4921 - val_accuracy: 0.8114\n",
      "Epoch 48/50\n",
      "14/14 [==============================] - 0s 15ms/step - loss: 0.5084 - accuracy: 0.8138 - val_loss: 0.5447 - val_accuracy: 0.7886\n",
      "Epoch 49/50\n",
      "14/14 [==============================] - 0s 15ms/step - loss: 0.4957 - accuracy: 0.8209 - val_loss: 0.5363 - val_accuracy: 0.7943\n",
      "Epoch 50/50\n",
      "14/14 [==============================] - 0s 16ms/step - loss: 0.4651 - accuracy: 0.8395 - val_loss: 0.4710 - val_accuracy: 0.8229\n"
     ]
    },
    {
     "data": {
      "text/plain": [
       "<keras.callbacks.History at 0x22a5a981790>"
      ]
     },
     "execution_count": 117,
     "metadata": {},
     "output_type": "execute_result"
    }
   ],
   "source": [
    "model5.compile(loss='binary_crossentropy', optimizer ='adam', metrics=['accuracy'] )\n",
    "model5.fit(X_train, Y_train, epochs = 50, validation_data=(X_val, Y_val), batch_size=Grid.best_params_['batch_size'])"
   ]
  },
  {
   "cell_type": "code",
   "execution_count": 118,
   "id": "6d27b0e7",
   "metadata": {
    "scrolled": true
   },
   "outputs": [
    {
     "data": {
      "image/png": "[encoded data removed]",
      "text/plain": [
       "<Figure size 432x288 with 1 Axes>"
      ]
     },
     "metadata": {
      "needs_background": "light"
     },
     "output_type": "display_data"
    }
   ],
   "source": [
    "plt.plot(model5.history.history['accuracy'])\n",
    "plt.plot(model5.history.history['val_accuracy'])\n",
    "plt.legend(['accuracy', 'val_accuracy'], loc='upper left')\n",
    "plt.xlabel('Epoch')\n",
    "plt.ylabel('Accuracy')\n",
    "plt.show()"
   ]
  },
  {
   "cell_type": "code",
   "execution_count": 119,
   "id": "74aa2f09",
   "metadata": {},
   "outputs": [
    {
     "data": {
      "image/png": "[encoded data removed]",
      "text/plain": [
       "<Figure size 432x288 with 1 Axes>"
      ]
     },
     "metadata": {
      "needs_background": "light"
     },
     "output_type": "display_data"
    }
   ],
   "source": [
    "plt.plot(model5.history.history['loss'])\n",
    "plt.plot(model5.history.history['val_loss'])\n",
    "plt.legend(['loss', 'val_loss'], loc='upper right')\n",
    "plt.xlabel('Epoch')\n",
    "plt.ylabel('Loss')\n",
    "plt.show()"
   ]
  },
  {
   "cell_type": "code",
   "execution_count": 120,
   "id": "a63ad0e6",
   "metadata": {},
   "outputs": [
    {
     "name": "stdout",
     "output_type": "stream",
     "text": [
      "0.8266666531562805\n"
     ]
    }
   ],
   "source": [
    "score5 = model5.evaluate(X_test, Y_test, verbose = 0)\n",
    "print(score5[1])"
   ]
  },
  {
   "cell_type": "code",
   "execution_count": null,
   "id": "85400ae9",
   "metadata": {},
   "outputs": [],
   "source": []
  },
  {
   "cell_type": "code",
   "execution_count": 130,
   "id": "e50e2794",
   "metadata": {},
   "outputs": [],
   "source": [
    "results_list = [score_1[1], aug_score2[1], aug_score3[1] , aug_score4[1], Grid_accuracy, score5[1]]\n",
    "\n",
    "names_list = ['Model 1', 'Model 2', 'Model 3', 'Model 4', 'Model 5', 'Model 6']\n",
    "\n",
    "descriptions_list = ['Baseline model', 'Baseline model with augmented data', 'Extra convolutional layer', 'Extra Max Pooling layer', 'Model 5 with tuned hyperparameters', 'Tuned model with regularisation']\n",
    "\n",
    "Results = pd.DataFrame(list(zip(names_list, descriptions_list, results_list)), columns=['Model', 'Description', 'Accuracy Score'])"
   ]
  },
  {
   "cell_type": "code",
   "execution_count": 131,
   "id": "be6a0073",
   "metadata": {},
   "outputs": [
    {
     "data": {
      "text/html": [
       "<div>\n",
       "<style scoped>\n",
       "    .dataframe tbody tr th:only-of-type {\n",
       "        vertical-align: middle;\n",
       "    }\n",
       "\n",
       "    .dataframe tbody tr th {\n",
       "        vertical-align: top;\n",
       "    }\n",
       "\n",
       "    .dataframe thead th {\n",
       "        text-align: right;\n",
       "    }\n",
       "</style>\n",
       "<table border=\"1\" class=\"dataframe\">\n",
       "  <thead>\n",
       "    <tr style=\"text-align: right;\">\n",
       "      <th></th>\n",
       "      <th>Model</th>\n",
       "      <th>Description</th>\n",
       "      <th>Accuracy Score</th>\n",
       "    </tr>\n",
       "  </thead>\n",
       "  <tbody>\n",
       "    <tr>\n",
       "      <th>0</th>\n",
       "      <td>Model 1</td>\n",
       "      <td>Baseline model</td>\n",
       "      <td>0.706667</td>\n",
       "    </tr>\n",
       "    <tr>\n",
       "      <th>1</th>\n",
       "      <td>Model 2</td>\n",
       "      <td>Baseline model with augmented data</td>\n",
       "      <td>0.744000</td>\n",
       "    </tr>\n",
       "    <tr>\n",
       "      <th>2</th>\n",
       "      <td>Model 3</td>\n",
       "      <td>Extra convolutional layer</td>\n",
       "      <td>0.752000</td>\n",
       "    </tr>\n",
       "    <tr>\n",
       "      <th>3</th>\n",
       "      <td>Model 4</td>\n",
       "      <td>Extra Max Pooling layer</td>\n",
       "      <td>0.776000</td>\n",
       "    </tr>\n",
       "    <tr>\n",
       "      <th>4</th>\n",
       "      <td>Model 5</td>\n",
       "      <td>Model 5 with tuned hyperparameters</td>\n",
       "      <td>0.794667</td>\n",
       "    </tr>\n",
       "    <tr>\n",
       "      <th>5</th>\n",
       "      <td>Model 6</td>\n",
       "      <td>Tuned model with regularisation</td>\n",
       "      <td>0.826667</td>\n",
       "    </tr>\n",
       "  </tbody>\n",
       "</table>\n",
       "</div>"
      ],
      "text/plain": [
       "     Model                         Description  Accuracy Score\n",
       "0  Model 1                      Baseline model        0.706667\n",
       "1  Model 2  Baseline model with augmented data        0.744000\n",
       "2  Model 3           Extra convolutional layer        0.752000\n",
       "3  Model 4             Extra Max Pooling layer        0.776000\n",
       "4  Model 5  Model 5 with tuned hyperparameters        0.794667\n",
       "5  Model 6     Tuned model with regularisation        0.826667"
      ]
     },
     "execution_count": 131,
     "metadata": {},
     "output_type": "execute_result"
    }
   ],
   "source": [
    "Results"
   ]
  },
  {
   "cell_type": "code",
   "execution_count": 135,
   "id": "883e39e1",
   "metadata": {},
   "outputs": [
    {
     "name": "stdout",
     "output_type": "stream",
     "text": [
      "12/12 [==============================] - 0s 4ms/step\n"
     ]
    },
    {
     "data": {
      "text/plain": [
       "0.7854785478547854"
      ]
     },
     "execution_count": 135,
     "metadata": {},
     "output_type": "execute_result"
    }
   ],
   "source": [
    "preds = model5.predict(X_test)\n",
    "preds[preds<0.5]=0\n",
    "preds[preds>=0.5]= 1\n",
    "f1_score(Y_test, preds)"
   ]
  },
  {
   "cell_type": "code",
   "execution_count": null,
   "id": "7fba6b30",
   "metadata": {},
   "outputs": [],
   "source": []
  },
  {
   "cell_type": "markdown",
   "id": "95e80142",
   "metadata": {},
   "source": [
    "### Evaluation and Summary"
   ]
  },
  {
   "cell_type": "markdown",
   "id": "999cb386",
   "metadata": {},
   "source": [
    "#### In the previous section we've seen a lot of variations on a simple CNN model. We've augmented our data and experimented with several different architectures. We've indirectly experiemtned with hyperparameters - albeit GridSearchCV has done this on our behalf. \n",
    "\n",
    "#### Let's look at the performance of the different iterations of the model."
   ]
  },
  {
   "cell_type": "code",
   "execution_count": 136,
   "id": "8c3ecbac",
   "metadata": {},
   "outputs": [
    {
     "data": {
      "text/html": [
       "<div>\n",
       "<style scoped>\n",
       "    .dataframe tbody tr th:only-of-type {\n",
       "        vertical-align: middle;\n",
       "    }\n",
       "\n",
       "    .dataframe tbody tr th {\n",
       "        vertical-align: top;\n",
       "    }\n",
       "\n",
       "    .dataframe thead th {\n",
       "        text-align: right;\n",
       "    }\n",
       "</style>\n",
       "<table border=\"1\" class=\"dataframe\">\n",
       "  <thead>\n",
       "    <tr style=\"text-align: right;\">\n",
       "      <th></th>\n",
       "      <th>Model</th>\n",
       "      <th>Description</th>\n",
       "      <th>Accuracy Score</th>\n",
       "    </tr>\n",
       "  </thead>\n",
       "  <tbody>\n",
       "    <tr>\n",
       "      <th>0</th>\n",
       "      <td>Model 1</td>\n",
       "      <td>Baseline model</td>\n",
       "      <td>0.706667</td>\n",
       "    </tr>\n",
       "    <tr>\n",
       "      <th>1</th>\n",
       "      <td>Model 2</td>\n",
       "      <td>Baseline model with augmented data</td>\n",
       "      <td>0.744000</td>\n",
       "    </tr>\n",
       "    <tr>\n",
       "      <th>2</th>\n",
       "      <td>Model 3</td>\n",
       "      <td>Extra convolutional layer</td>\n",
       "      <td>0.752000</td>\n",
       "    </tr>\n",
       "    <tr>\n",
       "      <th>3</th>\n",
       "      <td>Model 4</td>\n",
       "      <td>Extra Max Pooling layer</td>\n",
       "      <td>0.776000</td>\n",
       "    </tr>\n",
       "    <tr>\n",
       "      <th>4</th>\n",
       "      <td>Model 5</td>\n",
       "      <td>Model 5 with tuned hyperparameters</td>\n",
       "      <td>0.794667</td>\n",
       "    </tr>\n",
       "    <tr>\n",
       "      <th>5</th>\n",
       "      <td>Model 6</td>\n",
       "      <td>Tuned model with regularisation</td>\n",
       "      <td>0.826667</td>\n",
       "    </tr>\n",
       "  </tbody>\n",
       "</table>\n",
       "</div>"
      ],
      "text/plain": [
       "     Model                         Description  Accuracy Score\n",
       "0  Model 1                      Baseline model        0.706667\n",
       "1  Model 2  Baseline model with augmented data        0.744000\n",
       "2  Model 3           Extra convolutional layer        0.752000\n",
       "3  Model 4             Extra Max Pooling layer        0.776000\n",
       "4  Model 5  Model 5 with tuned hyperparameters        0.794667\n",
       "5  Model 6     Tuned model with regularisation        0.826667"
      ]
     },
     "execution_count": 136,
     "metadata": {},
     "output_type": "execute_result"
    }
   ],
   "source": [
    "Results"
   ]
  },
  {
   "cell_type": "markdown",
   "id": "adb43a95",
   "metadata": {},
   "source": [
    "#### As we can see, the performance of the model has improved with each iteration of the model. By augmenting our data we were able to increase the amount of information contained in the dat set. Then by adding more convolutional and max pooling layers we were able to extract more of this information from the images. By using cross-validation and regularisation we were able to obtain the best hyperparameters for this model, but without overfitting to the training data, meaning that in the final iteration of the model it was possible to achieve an accuracy rate of 83% when attempting to predict the values in the test data.\n",
    "\n",
    "#### If we compare the performance of model 7 to some of other decent models, we can see that the validation loss / accuracy is nowhere near as volatile as for model 8, while it plateaus maybe 10 epochs later than model 6.\n",
    "\n",
    "#### Personally I am quite happy with model 6. It has an accuracy score of 0.83, meaning that it was able to predict 83% of labels in the test data correctly. In terms of application of the model, a quick googling brought up this article evaluating the performance of existing AI tools used to identify certain cancers.\n",
    "\n",
    "https://www.frontiersin.org/articles/10.3389/fmed.2022.1018937/full#:~:text=The%20sensitivity%20and%20specificity%20of,99.1)%20(Supplementary%20Figures).\n",
    "\n",
    "#### Although they look at sensitivity and specificity (and thus the ability to avoid false negative and false positives) rather than accuracy, the typical percentage scores they find are somewhere between the high 80's and low 90's. The result for model 6 is not far off of this, suggesting that if I were to apply it to the full data set the result might be clinically useful.\n"
   ]
  },
  {
   "cell_type": "code",
   "execution_count": null,
   "id": "c5f4b035",
   "metadata": {},
   "outputs": [],
   "source": []
  },
  {
   "cell_type": "code",
   "execution_count": null,
   "id": "616d4142",
   "metadata": {},
   "outputs": [],
   "source": []
  },
  {
   "cell_type": "code",
   "execution_count": null,
   "id": "e2693965",
   "metadata": {},
   "outputs": [],
   "source": []
  },
  {
   "cell_type": "code",
   "execution_count": null,
   "id": "2136d29a",
   "metadata": {},
   "outputs": [],
   "source": []
  }
 ],
 "metadata": {
  "kernelspec": {
   "display_name": "Python 3 (ipykernel)",
   "language": "python",
   "name": "python3"
  },
  "language_info": {
   "codemirror_mode": {
    "name": "ipython",
    "version": 3
   },
   "file_extension": ".py",
   "mimetype": "text/x-python",
   "name": "python",
   "nbconvert_exporter": "python",
   "pygments_lexer": "ipython3",
   "version": "3.9.12"
  }
 },
 "nbformat": 4,
 "nbformat_minor": 5
}
